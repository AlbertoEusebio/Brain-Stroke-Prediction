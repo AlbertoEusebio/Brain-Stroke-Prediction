{
  "cells": [
    {
      "cell_type": "markdown",
      "metadata": {},
      "source": [
        "# NAML project - Stroke prediction\n",
        "###  Cavallini - Eusebio"
      ]
    },
    {
      "cell_type": "code",
      "execution_count": 253,
      "metadata": {
        "id": "Hv1sRCBfy1xN"
      },
      "outputs": [],
      "source": [
        "import numpy as np\n",
        "import matplotlib.pyplot as plt\n",
        "import pandas as pd\n",
        "import seaborn as sns"
      ]
    },
    {
      "cell_type": "code",
      "execution_count": 254,
      "metadata": {
        "id": "gCkctsD-zCzv"
      },
      "outputs": [],
      "source": [
        "df = pd.read_csv('healthcare-dataset-stroke-data.csv')"
      ]
    },
    {
      "cell_type": "code",
      "execution_count": 255,
      "metadata": {
        "id": "afpQgdLRH-ls"
      },
      "outputs": [],
      "source": [
        "new_cols = [\"id\", \"gender\", \"age\", \"hypertension\", \"heart-disease\", \"ever-married\", \"work-type\", \"Residence-type\", \"avg-glucose-level\", \"bmi\", \"smoking-status\", \"stroke\"]\n",
        "\n",
        "cathegorical_features = ['work-type', 'smoking-status']\n",
        "binary_features = ['hypertension', 'heart-disease', 'gender', 'ever-married', 'Residence-type']\n",
        "numerical_features = ['age', 'avg-glucose-level', 'bmi']\n",
        "\n",
        "df.columns = new_cols"
      ]
    },
    {
      "cell_type": "code",
      "execution_count": 256,
      "metadata": {
        "colab": {
          "base_uri": "https://localhost:8080/",
          "height": 275
        },
        "id": "5LoG-19fzEmj",
        "outputId": "8870ecf9-5741-4f4c-c179-201310a26c43"
      },
      "outputs": [
        {
          "data": {
            "text/html": [
              "<div>\n",
              "<style scoped>\n",
              "    .dataframe tbody tr th:only-of-type {\n",
              "        vertical-align: middle;\n",
              "    }\n",
              "\n",
              "    .dataframe tbody tr th {\n",
              "        vertical-align: top;\n",
              "    }\n",
              "\n",
              "    .dataframe thead th {\n",
              "        text-align: right;\n",
              "    }\n",
              "</style>\n",
              "<table border=\"1\" class=\"dataframe\">\n",
              "  <thead>\n",
              "    <tr style=\"text-align: right;\">\n",
              "      <th></th>\n",
              "      <th>id</th>\n",
              "      <th>gender</th>\n",
              "      <th>age</th>\n",
              "      <th>hypertension</th>\n",
              "      <th>heart-disease</th>\n",
              "      <th>ever-married</th>\n",
              "      <th>work-type</th>\n",
              "      <th>Residence-type</th>\n",
              "      <th>avg-glucose-level</th>\n",
              "      <th>bmi</th>\n",
              "      <th>smoking-status</th>\n",
              "      <th>stroke</th>\n",
              "    </tr>\n",
              "  </thead>\n",
              "  <tbody>\n",
              "    <tr>\n",
              "      <th>0</th>\n",
              "      <td>9046</td>\n",
              "      <td>Male</td>\n",
              "      <td>67.0</td>\n",
              "      <td>0</td>\n",
              "      <td>1</td>\n",
              "      <td>Yes</td>\n",
              "      <td>Private</td>\n",
              "      <td>Urban</td>\n",
              "      <td>228.69</td>\n",
              "      <td>36.6</td>\n",
              "      <td>formerly smoked</td>\n",
              "      <td>1</td>\n",
              "    </tr>\n",
              "    <tr>\n",
              "      <th>1</th>\n",
              "      <td>51676</td>\n",
              "      <td>Female</td>\n",
              "      <td>61.0</td>\n",
              "      <td>0</td>\n",
              "      <td>0</td>\n",
              "      <td>Yes</td>\n",
              "      <td>Self-employed</td>\n",
              "      <td>Rural</td>\n",
              "      <td>202.21</td>\n",
              "      <td>NaN</td>\n",
              "      <td>never smoked</td>\n",
              "      <td>1</td>\n",
              "    </tr>\n",
              "    <tr>\n",
              "      <th>2</th>\n",
              "      <td>31112</td>\n",
              "      <td>Male</td>\n",
              "      <td>80.0</td>\n",
              "      <td>0</td>\n",
              "      <td>1</td>\n",
              "      <td>Yes</td>\n",
              "      <td>Private</td>\n",
              "      <td>Rural</td>\n",
              "      <td>105.92</td>\n",
              "      <td>32.5</td>\n",
              "      <td>never smoked</td>\n",
              "      <td>1</td>\n",
              "    </tr>\n",
              "    <tr>\n",
              "      <th>3</th>\n",
              "      <td>60182</td>\n",
              "      <td>Female</td>\n",
              "      <td>49.0</td>\n",
              "      <td>0</td>\n",
              "      <td>0</td>\n",
              "      <td>Yes</td>\n",
              "      <td>Private</td>\n",
              "      <td>Urban</td>\n",
              "      <td>171.23</td>\n",
              "      <td>34.4</td>\n",
              "      <td>smokes</td>\n",
              "      <td>1</td>\n",
              "    </tr>\n",
              "    <tr>\n",
              "      <th>4</th>\n",
              "      <td>1665</td>\n",
              "      <td>Female</td>\n",
              "      <td>79.0</td>\n",
              "      <td>1</td>\n",
              "      <td>0</td>\n",
              "      <td>Yes</td>\n",
              "      <td>Self-employed</td>\n",
              "      <td>Rural</td>\n",
              "      <td>174.12</td>\n",
              "      <td>24.0</td>\n",
              "      <td>never smoked</td>\n",
              "      <td>1</td>\n",
              "    </tr>\n",
              "  </tbody>\n",
              "</table>\n",
              "</div>"
            ],
            "text/plain": [
              "      id  gender   age  hypertension  heart-disease ever-married  \\\n",
              "0   9046    Male  67.0             0              1          Yes   \n",
              "1  51676  Female  61.0             0              0          Yes   \n",
              "2  31112    Male  80.0             0              1          Yes   \n",
              "3  60182  Female  49.0             0              0          Yes   \n",
              "4   1665  Female  79.0             1              0          Yes   \n",
              "\n",
              "       work-type Residence-type  avg-glucose-level   bmi   smoking-status  \\\n",
              "0        Private          Urban             228.69  36.6  formerly smoked   \n",
              "1  Self-employed          Rural             202.21   NaN     never smoked   \n",
              "2        Private          Rural             105.92  32.5     never smoked   \n",
              "3        Private          Urban             171.23  34.4           smokes   \n",
              "4  Self-employed          Rural             174.12  24.0     never smoked   \n",
              "\n",
              "   stroke  \n",
              "0       1  \n",
              "1       1  \n",
              "2       1  \n",
              "3       1  \n",
              "4       1  "
            ]
          },
          "execution_count": 256,
          "metadata": {},
          "output_type": "execute_result"
        }
      ],
      "source": [
        "df.head()"
      ]
    },
    {
      "cell_type": "code",
      "execution_count": 257,
      "metadata": {
        "id": "oUJ_OP1pzJUK"
      },
      "outputs": [],
      "source": [
        "df.drop('id', axis=1, inplace=True) # drop id column because it is not useful"
      ]
    },
    {
      "cell_type": "code",
      "execution_count": 258,
      "metadata": {
        "colab": {
          "base_uri": "https://localhost:8080/"
        },
        "id": "K7GfXpIozNmQ",
        "outputId": "97547163-783e-4377-c720-f0fb35a38ac7"
      },
      "outputs": [
        {
          "name": "stdout",
          "output_type": "stream",
          "text": [
            "<class 'pandas.core.frame.DataFrame'>\n",
            "RangeIndex: 5110 entries, 0 to 5109\n",
            "Data columns (total 11 columns):\n",
            " #   Column             Non-Null Count  Dtype  \n",
            "---  ------             --------------  -----  \n",
            " 0   gender             5110 non-null   object \n",
            " 1   age                5110 non-null   float64\n",
            " 2   hypertension       5110 non-null   int64  \n",
            " 3   heart-disease      5110 non-null   int64  \n",
            " 4   ever-married       5110 non-null   object \n",
            " 5   work-type          5110 non-null   object \n",
            " 6   Residence-type     5110 non-null   object \n",
            " 7   avg-glucose-level  5110 non-null   float64\n",
            " 8   bmi                4909 non-null   float64\n",
            " 9   smoking-status     5110 non-null   object \n",
            " 10  stroke             5110 non-null   int64  \n",
            "dtypes: float64(3), int64(3), object(5)\n",
            "memory usage: 439.3+ KB\n"
          ]
        }
      ],
      "source": [
        "df.info()"
      ]
    },
    {
      "cell_type": "markdown",
      "metadata": {},
      "source": [
        "## Data Pre-processing"
      ]
    },
    {
      "cell_type": "code",
      "execution_count": 259,
      "metadata": {
        "colab": {
          "base_uri": "https://localhost:8080/"
        },
        "id": "raw_WR4tzRsg",
        "outputId": "82bc93f4-292e-4ca4-df33-6d7da7bc6c95"
      },
      "outputs": [
        {
          "data": {
            "text/plain": [
              "gender                 0\n",
              "age                    0\n",
              "hypertension           0\n",
              "heart-disease          0\n",
              "ever-married           0\n",
              "work-type              0\n",
              "Residence-type         0\n",
              "avg-glucose-level      0\n",
              "bmi                  201\n",
              "smoking-status         0\n",
              "stroke                 0\n",
              "dtype: int64"
            ]
          },
          "execution_count": 259,
          "metadata": {},
          "output_type": "execute_result"
        }
      ],
      "source": [
        "df.isna().sum()"
      ]
    },
    {
      "cell_type": "code",
      "execution_count": 260,
      "metadata": {
        "colab": {
          "base_uri": "https://localhost:8080/"
        },
        "id": "J8sfLyX1zWcK",
        "outputId": "88c642cd-3c4a-4705-c0c7-599aadc5ad96"
      },
      "outputs": [
        {
          "data": {
            "text/plain": [
              "gender                 0\n",
              "age                    0\n",
              "hypertension           0\n",
              "heart-disease          0\n",
              "ever-married           0\n",
              "work-type              0\n",
              "Residence-type         0\n",
              "avg-glucose-level      0\n",
              "bmi                  201\n",
              "smoking-status         0\n",
              "stroke                 0\n",
              "dtype: int64"
            ]
          },
          "execution_count": 260,
          "metadata": {},
          "output_type": "execute_result"
        }
      ],
      "source": [
        "df.isnull().sum()"
      ]
    },
    {
      "cell_type": "code",
      "execution_count": 261,
      "metadata": {},
      "outputs": [
        {
          "name": "stdout",
          "output_type": "stream",
          "text": [
            "stroke\n",
            "0    161\n",
            "1     40\n",
            "Name: count, dtype: int64\n"
          ]
        }
      ],
      "source": [
        "bmi_strokes = df[df['bmi'].isnull()]['stroke'].value_counts()\n",
        "stroke_count = df['stroke'].value_counts()\n",
        "print(bmi_strokes)"
      ]
    },
    {
      "cell_type": "code",
      "execution_count": 262,
      "metadata": {},
      "outputs": [
        {
          "name": "stdout",
          "output_type": "stream",
          "text": [
            "Percent of null values accounting for strokes  16.06425702811245\n"
          ]
        }
      ],
      "source": [
        "print(\"Percent of null values accounting for strokes \", 100*bmi_strokes[1]/stroke_count[1])"
      ]
    },
    {
      "cell_type": "code",
      "execution_count": 263,
      "metadata": {},
      "outputs": [
        {
          "name": "stdout",
          "output_type": "stream",
          "text": [
            "<class 'pandas.core.frame.DataFrame'>\n",
            "Index: 4254 entries, 0 to 5109\n",
            "Data columns (total 11 columns):\n",
            " #   Column             Non-Null Count  Dtype  \n",
            "---  ------             --------------  -----  \n",
            " 0   gender             4254 non-null   object \n",
            " 1   age                4254 non-null   float64\n",
            " 2   hypertension       4254 non-null   int64  \n",
            " 3   heart-disease      4254 non-null   int64  \n",
            " 4   ever-married       4254 non-null   object \n",
            " 5   work-type          4254 non-null   object \n",
            " 6   Residence-type     4254 non-null   object \n",
            " 7   avg-glucose-level  4254 non-null   float64\n",
            " 8   bmi                4073 non-null   float64\n",
            " 9   smoking-status     4254 non-null   object \n",
            " 10  stroke             4254 non-null   int64  \n",
            "dtypes: float64(3), int64(3), object(5)\n",
            "memory usage: 398.8+ KB\n"
          ]
        }
      ],
      "source": [
        "df = df[df['age'] >= 18]\n",
        "df.info()"
      ]
    },
    {
      "cell_type": "markdown",
      "metadata": {},
      "source": [
        "The amount of strokes in the dataset is very low, so the BMI null values account for 20% of the dataset. Dropping is therefore not an option"
      ]
    },
    {
      "cell_type": "code",
      "execution_count": 264,
      "metadata": {},
      "outputs": [
        {
          "name": "stderr",
          "output_type": "stream",
          "text": [
            "C:\\Users\\hp\\AppData\\Local\\Temp\\ipykernel_10416\\2820060641.py:1: FutureWarning: A value is trying to be set on a copy of a DataFrame or Series through chained assignment using an inplace method.\n",
            "The behavior will change in pandas 3.0. This inplace method will never work because the intermediate object on which we are setting values always behaves as a copy.\n",
            "\n",
            "For example, when doing 'df[col].method(value, inplace=True)', try using 'df.method({col: value}, inplace=True)' or df[col] = df[col].method(value) instead, to perform the operation inplace on the original object.\n",
            "\n",
            "\n",
            "  df['bmi'].fillna(df['bmi'].mean(), inplace=True) # fill missing values in bmi column with the mean of the column\n"
          ]
        }
      ],
      "source": [
        "df['bmi'].fillna(df['bmi'].mean(), inplace=True) # fill missing values in bmi column with the mean of the column"
      ]
    },
    {
      "cell_type": "code",
      "execution_count": 265,
      "metadata": {},
      "outputs": [
        {
          "data": {
            "text/plain": [
              "smoking-status\n",
              "never smoked       1752\n",
              "Unknown             862\n",
              "formerly smoked     860\n",
              "smokes              780\n",
              "Name: count, dtype: int64"
            ]
          },
          "execution_count": 265,
          "metadata": {},
          "output_type": "execute_result"
        }
      ],
      "source": [
        "df['smoking-status'].value_counts()"
      ]
    },
    {
      "cell_type": "code",
      "execution_count": 266,
      "metadata": {},
      "outputs": [],
      "source": [
        "unknown_smokers_stroke = df[(df['smoking-status'] == 'Unknown') & (df['stroke'] == 1)].shape[0]\n",
        "stroke_count = df[df['stroke'] == 1].shape[0]"
      ]
    },
    {
      "cell_type": "code",
      "execution_count": 267,
      "metadata": {},
      "outputs": [
        {
          "name": "stdout",
          "output_type": "stream",
          "text": [
            "Number of unknown smoking status people who had a stroke: 18.22%\n"
          ]
        }
      ],
      "source": [
        "print(f\"Number of unknown smoking status people who had a stroke: {unknown_smokers_stroke/stroke_count*100:.2f}%\")"
      ]
    },
    {
      "cell_type": "markdown",
      "metadata": {},
      "source": [
        "Since the Unknown category in smoking-status is present in 13.46%, dropping it as it was done in the paper may lead to a significant loss of information. In this version we have decided to use a RandomForestClassifier to predict the missing values in the smoking-status column. We will use the other columns as features to predict the missing values. "
      ]
    },
    {
      "cell_type": "code",
      "execution_count": 268,
      "metadata": {},
      "outputs": [],
      "source": [
        "from sklearn.ensemble import RandomForestClassifier\n",
        "from sklearn.compose import ColumnTransformer\n",
        "from sklearn.pipeline import Pipeline\n",
        "from sklearn.preprocessing import OneHotEncoder, StandardScaler, OrdinalEncoder\n",
        "\n",
        "# Assume df contains other features that are useful for prediction\n",
        "# Separate known and unknown data\n",
        "df_known = df[df['smoking-status'] != 'Unknown'].drop('stroke', axis=1)\n",
        "df_unknown = df[df['smoking-status'] == 'Unknown'].drop('stroke', axis=1)\n",
        "\n",
        "# Prepare data for training\n",
        "X_known = df_known.drop('smoking-status', axis=1)  # Other features\n",
        "y_known = df_known['smoking-status']\n",
        "\n",
        "preprocessor = ColumnTransformer(\n",
        "    transformers=[\n",
        "        ('num', StandardScaler(), numerical_features),\n",
        "        ('cat', OneHotEncoder(), ['work-type']),\n",
        "        ('bin', OrdinalEncoder(), binary_features)\n",
        "    ])\n",
        "\n",
        "pipeline = Pipeline(steps=[\n",
        "    ('preprocessor', preprocessor),\n",
        "    ('classifier', RandomForestClassifier())\n",
        "    ])\n",
        "\n",
        "model = pipeline.fit(X_known, y_known)\n",
        "\n",
        "# Predict missing values\n",
        "X_unknown = df_unknown.drop('smoking-status', axis=1)\n",
        "df.loc[df['smoking-status'] == 'Unknown', 'smoking-status'] = model.predict(X_unknown)"
      ]
    },
    {
      "cell_type": "code",
      "execution_count": 269,
      "metadata": {},
      "outputs": [
        {
          "data": {
            "text/html": [
              "<div>\n",
              "<style scoped>\n",
              "    .dataframe tbody tr th:only-of-type {\n",
              "        vertical-align: middle;\n",
              "    }\n",
              "\n",
              "    .dataframe tbody tr th {\n",
              "        vertical-align: top;\n",
              "    }\n",
              "\n",
              "    .dataframe thead th {\n",
              "        text-align: right;\n",
              "    }\n",
              "</style>\n",
              "<table border=\"1\" class=\"dataframe\">\n",
              "  <thead>\n",
              "    <tr style=\"text-align: right;\">\n",
              "      <th></th>\n",
              "      <th>gender</th>\n",
              "      <th>age</th>\n",
              "      <th>hypertension</th>\n",
              "      <th>heart-disease</th>\n",
              "      <th>ever-married</th>\n",
              "      <th>work-type</th>\n",
              "      <th>Residence-type</th>\n",
              "      <th>avg-glucose-level</th>\n",
              "      <th>bmi</th>\n",
              "      <th>smoking-status</th>\n",
              "      <th>stroke</th>\n",
              "    </tr>\n",
              "  </thead>\n",
              "  <tbody>\n",
              "    <tr>\n",
              "      <th>0</th>\n",
              "      <td>Male</td>\n",
              "      <td>67.0</td>\n",
              "      <td>0</td>\n",
              "      <td>1</td>\n",
              "      <td>Yes</td>\n",
              "      <td>Private</td>\n",
              "      <td>Urban</td>\n",
              "      <td>228.69</td>\n",
              "      <td>36.600000</td>\n",
              "      <td>formerly smoked</td>\n",
              "      <td>1</td>\n",
              "    </tr>\n",
              "    <tr>\n",
              "      <th>1</th>\n",
              "      <td>Female</td>\n",
              "      <td>61.0</td>\n",
              "      <td>0</td>\n",
              "      <td>0</td>\n",
              "      <td>Yes</td>\n",
              "      <td>Self-employed</td>\n",
              "      <td>Rural</td>\n",
              "      <td>202.21</td>\n",
              "      <td>30.432752</td>\n",
              "      <td>never smoked</td>\n",
              "      <td>1</td>\n",
              "    </tr>\n",
              "    <tr>\n",
              "      <th>2</th>\n",
              "      <td>Male</td>\n",
              "      <td>80.0</td>\n",
              "      <td>0</td>\n",
              "      <td>1</td>\n",
              "      <td>Yes</td>\n",
              "      <td>Private</td>\n",
              "      <td>Rural</td>\n",
              "      <td>105.92</td>\n",
              "      <td>32.500000</td>\n",
              "      <td>never smoked</td>\n",
              "      <td>1</td>\n",
              "    </tr>\n",
              "    <tr>\n",
              "      <th>3</th>\n",
              "      <td>Female</td>\n",
              "      <td>49.0</td>\n",
              "      <td>0</td>\n",
              "      <td>0</td>\n",
              "      <td>Yes</td>\n",
              "      <td>Private</td>\n",
              "      <td>Urban</td>\n",
              "      <td>171.23</td>\n",
              "      <td>34.400000</td>\n",
              "      <td>smokes</td>\n",
              "      <td>1</td>\n",
              "    </tr>\n",
              "    <tr>\n",
              "      <th>4</th>\n",
              "      <td>Female</td>\n",
              "      <td>79.0</td>\n",
              "      <td>1</td>\n",
              "      <td>0</td>\n",
              "      <td>Yes</td>\n",
              "      <td>Self-employed</td>\n",
              "      <td>Rural</td>\n",
              "      <td>174.12</td>\n",
              "      <td>24.000000</td>\n",
              "      <td>never smoked</td>\n",
              "      <td>1</td>\n",
              "    </tr>\n",
              "  </tbody>\n",
              "</table>\n",
              "</div>"
            ],
            "text/plain": [
              "   gender   age  hypertension  heart-disease ever-married      work-type  \\\n",
              "0    Male  67.0             0              1          Yes        Private   \n",
              "1  Female  61.0             0              0          Yes  Self-employed   \n",
              "2    Male  80.0             0              1          Yes        Private   \n",
              "3  Female  49.0             0              0          Yes        Private   \n",
              "4  Female  79.0             1              0          Yes  Self-employed   \n",
              "\n",
              "  Residence-type  avg-glucose-level        bmi   smoking-status  stroke  \n",
              "0          Urban             228.69  36.600000  formerly smoked       1  \n",
              "1          Rural             202.21  30.432752     never smoked       1  \n",
              "2          Rural             105.92  32.500000     never smoked       1  \n",
              "3          Urban             171.23  34.400000           smokes       1  \n",
              "4          Rural             174.12  24.000000     never smoked       1  "
            ]
          },
          "execution_count": 269,
          "metadata": {},
          "output_type": "execute_result"
        }
      ],
      "source": [
        "df.head()"
      ]
    },
    {
      "cell_type": "code",
      "execution_count": 270,
      "metadata": {},
      "outputs": [
        {
          "data": {
            "text/html": [
              "<div>\n",
              "<style scoped>\n",
              "    .dataframe tbody tr th:only-of-type {\n",
              "        vertical-align: middle;\n",
              "    }\n",
              "\n",
              "    .dataframe tbody tr th {\n",
              "        vertical-align: top;\n",
              "    }\n",
              "\n",
              "    .dataframe thead th {\n",
              "        text-align: right;\n",
              "    }\n",
              "</style>\n",
              "<table border=\"1\" class=\"dataframe\">\n",
              "  <thead>\n",
              "    <tr style=\"text-align: right;\">\n",
              "      <th></th>\n",
              "      <th>age</th>\n",
              "      <th>hypertension</th>\n",
              "      <th>heart-disease</th>\n",
              "      <th>avg-glucose-level</th>\n",
              "      <th>bmi</th>\n",
              "      <th>stroke</th>\n",
              "    </tr>\n",
              "  </thead>\n",
              "  <tbody>\n",
              "    <tr>\n",
              "      <th>count</th>\n",
              "      <td>4254.000000</td>\n",
              "      <td>4254.000000</td>\n",
              "      <td>4254.000000</td>\n",
              "      <td>4254.000000</td>\n",
              "      <td>4254.000000</td>\n",
              "      <td>4254.000000</td>\n",
              "    </tr>\n",
              "    <tr>\n",
              "      <th>mean</th>\n",
              "      <td>50.202163</td>\n",
              "      <td>0.116831</td>\n",
              "      <td>0.064645</td>\n",
              "      <td>108.514394</td>\n",
              "      <td>30.432752</td>\n",
              "      <td>0.058063</td>\n",
              "    </tr>\n",
              "    <tr>\n",
              "      <th>std</th>\n",
              "      <td>17.829035</td>\n",
              "      <td>0.321257</td>\n",
              "      <td>0.245927</td>\n",
              "      <td>47.769400</td>\n",
              "      <td>7.079512</td>\n",
              "      <td>0.233890</td>\n",
              "    </tr>\n",
              "    <tr>\n",
              "      <th>min</th>\n",
              "      <td>18.000000</td>\n",
              "      <td>0.000000</td>\n",
              "      <td>0.000000</td>\n",
              "      <td>55.120000</td>\n",
              "      <td>11.300000</td>\n",
              "      <td>0.000000</td>\n",
              "    </tr>\n",
              "    <tr>\n",
              "      <th>25%</th>\n",
              "      <td>36.000000</td>\n",
              "      <td>0.000000</td>\n",
              "      <td>0.000000</td>\n",
              "      <td>77.482500</td>\n",
              "      <td>25.600000</td>\n",
              "      <td>0.000000</td>\n",
              "    </tr>\n",
              "    <tr>\n",
              "      <th>50%</th>\n",
              "      <td>50.500000</td>\n",
              "      <td>0.000000</td>\n",
              "      <td>0.000000</td>\n",
              "      <td>92.465000</td>\n",
              "      <td>29.600000</td>\n",
              "      <td>0.000000</td>\n",
              "    </tr>\n",
              "    <tr>\n",
              "      <th>75%</th>\n",
              "      <td>64.000000</td>\n",
              "      <td>0.000000</td>\n",
              "      <td>0.000000</td>\n",
              "      <td>116.135000</td>\n",
              "      <td>33.800000</td>\n",
              "      <td>0.000000</td>\n",
              "    </tr>\n",
              "    <tr>\n",
              "      <th>max</th>\n",
              "      <td>82.000000</td>\n",
              "      <td>1.000000</td>\n",
              "      <td>1.000000</td>\n",
              "      <td>271.740000</td>\n",
              "      <td>92.000000</td>\n",
              "      <td>1.000000</td>\n",
              "    </tr>\n",
              "  </tbody>\n",
              "</table>\n",
              "</div>"
            ],
            "text/plain": [
              "               age  hypertension  heart-disease  avg-glucose-level  \\\n",
              "count  4254.000000   4254.000000    4254.000000        4254.000000   \n",
              "mean     50.202163      0.116831       0.064645         108.514394   \n",
              "std      17.829035      0.321257       0.245927          47.769400   \n",
              "min      18.000000      0.000000       0.000000          55.120000   \n",
              "25%      36.000000      0.000000       0.000000          77.482500   \n",
              "50%      50.500000      0.000000       0.000000          92.465000   \n",
              "75%      64.000000      0.000000       0.000000         116.135000   \n",
              "max      82.000000      1.000000       1.000000         271.740000   \n",
              "\n",
              "               bmi       stroke  \n",
              "count  4254.000000  4254.000000  \n",
              "mean     30.432752     0.058063  \n",
              "std       7.079512     0.233890  \n",
              "min      11.300000     0.000000  \n",
              "25%      25.600000     0.000000  \n",
              "50%      29.600000     0.000000  \n",
              "75%      33.800000     0.000000  \n",
              "max      92.000000     1.000000  "
            ]
          },
          "execution_count": 270,
          "metadata": {},
          "output_type": "execute_result"
        }
      ],
      "source": [
        "df.describe()"
      ]
    },
    {
      "cell_type": "markdown",
      "metadata": {},
      "source": [
        "In the paper the missing nan values were removed, in this version a better practice would be to impute their values with the mean of the column. This is done in the following code."
      ]
    },
    {
      "cell_type": "code",
      "execution_count": 271,
      "metadata": {},
      "outputs": [
        {
          "data": {
            "text/plain": [
              "gender               0\n",
              "age                  0\n",
              "hypertension         0\n",
              "heart-disease        0\n",
              "ever-married         0\n",
              "work-type            0\n",
              "Residence-type       0\n",
              "avg-glucose-level    0\n",
              "bmi                  0\n",
              "smoking-status       0\n",
              "stroke               0\n",
              "dtype: int64"
            ]
          },
          "execution_count": 271,
          "metadata": {},
          "output_type": "execute_result"
        }
      ],
      "source": [
        "df.isnull().sum()"
      ]
    },
    {
      "cell_type": "markdown",
      "metadata": {},
      "source": [
        "In the paper is clearly stated that only the patients above 18 years old were considered. We have removed the patients below 18 years old."
      ]
    },
    {
      "cell_type": "code",
      "execution_count": 272,
      "metadata": {},
      "outputs": [
        {
          "data": {
            "text/plain": [
              "smoking-status\n",
              "never smoked       2393\n",
              "formerly smoked     989\n",
              "smokes              872\n",
              "Name: count, dtype: int64"
            ]
          },
          "execution_count": 272,
          "metadata": {},
          "output_type": "execute_result"
        }
      ],
      "source": [
        "df['smoking-status'].value_counts()"
      ]
    },
    {
      "cell_type": "code",
      "execution_count": 273,
      "metadata": {
        "colab": {
          "base_uri": "https://localhost:8080/"
        },
        "id": "zWG7JyxxzfXb",
        "outputId": "d420f0d4-f159-4d1b-d151-ad2962560394"
      },
      "outputs": [
        {
          "data": {
            "text/plain": [
              "gender\n",
              "Female    2577\n",
              "Male      1677\n",
              "Name: count, dtype: int64"
            ]
          },
          "execution_count": 273,
          "metadata": {},
          "output_type": "execute_result"
        }
      ],
      "source": [
        "df.loc[df['gender'] == 'Other', 'gender'] = 'Female'\n",
        "df['gender'].value_counts()"
      ]
    },
    {
      "cell_type": "markdown",
      "metadata": {},
      "source": [
        "In the paper the 'Other' label was removed, instead we have decided to impute the missing values with the most frequent value of the column."
      ]
    },
    {
      "cell_type": "code",
      "execution_count": 274,
      "metadata": {
        "colab": {
          "base_uri": "https://localhost:8080/"
        },
        "id": "u1AiUz3Jzhwc",
        "outputId": "2d6d220f-f377-40e7-d827-e902c7b4730f"
      },
      "outputs": [
        {
          "name": "stdout",
          "output_type": "stream",
          "text": [
            "<class 'pandas.core.frame.DataFrame'>\n",
            "Index: 4254 entries, 0 to 5109\n",
            "Data columns (total 11 columns):\n",
            " #   Column             Non-Null Count  Dtype  \n",
            "---  ------             --------------  -----  \n",
            " 0   gender             4254 non-null   object \n",
            " 1   age                4254 non-null   float64\n",
            " 2   hypertension       4254 non-null   int64  \n",
            " 3   heart-disease      4254 non-null   int64  \n",
            " 4   ever-married       4254 non-null   object \n",
            " 5   work-type          4254 non-null   object \n",
            " 6   Residence-type     4254 non-null   object \n",
            " 7   avg-glucose-level  4254 non-null   float64\n",
            " 8   bmi                4254 non-null   float64\n",
            " 9   smoking-status     4254 non-null   object \n",
            " 10  stroke             4254 non-null   int64  \n",
            "dtypes: float64(3), int64(3), object(5)\n",
            "memory usage: 398.8+ KB\n"
          ]
        }
      ],
      "source": [
        "df.drop_duplicates(inplace=True)\n",
        "df.info()"
      ]
    },
    {
      "cell_type": "markdown",
      "metadata": {},
      "source": [
        "We filter out also the patients whose gender and smoking status are unknown. This to reducce the uncertainty in the data."
      ]
    },
    {
      "cell_type": "code",
      "execution_count": 275,
      "metadata": {
        "colab": {
          "base_uri": "https://localhost:8080/",
          "height": 458
        },
        "id": "r1LGnBNmzkdd",
        "outputId": "1fbc303c-b896-444d-8ec0-7732ce00b8e7"
      },
      "outputs": [
        {
          "data": {
            "image/png": "[encoded data removed]",
            "text/plain": [
              "<Figure size 1500x500 with 3 Axes>"
            ]
          },
          "metadata": {},
          "output_type": "display_data"
        }
      ],
      "source": [
        "num_cols = ['age','bmi','avg-glucose-level']\n",
        "\n",
        "plt.figure(figsize=(15, 5))\n",
        "for i in range(3) :\n",
        "    plt.subplot(1,3,i+1)\n",
        "\n",
        "    sns.boxplot(x=df[num_cols[i]],color='#6DA59D')\n",
        "    plt.title(num_cols[i])\n",
        "plt.show()"
      ]
    },
    {
      "cell_type": "markdown",
      "metadata": {},
      "source": [
        "In the paper, the autors have removed the single lowest bmi value. We are going to filter the outliers using the inter-quartile method."
      ]
    },
    {
      "cell_type": "code",
      "execution_count": 276,
      "metadata": {
        "colab": {
          "base_uri": "https://localhost:8080/"
        },
        "id": "CXKI6RbJznFd",
        "outputId": "88e2fa39-05ab-476d-8d6f-541de625281d"
      },
      "outputs": [
        {
          "name": "stdout",
          "output_type": "stream",
          "text": [
            "<class 'pandas.core.frame.DataFrame'>\n",
            "Index: 3562 entries, 2 to 5109\n",
            "Data columns (total 11 columns):\n",
            " #   Column             Non-Null Count  Dtype  \n",
            "---  ------             --------------  -----  \n",
            " 0   gender             3562 non-null   object \n",
            " 1   age                3562 non-null   float64\n",
            " 2   hypertension       3562 non-null   int64  \n",
            " 3   heart-disease      3562 non-null   int64  \n",
            " 4   ever-married       3562 non-null   object \n",
            " 5   work-type          3562 non-null   object \n",
            " 6   Residence-type     3562 non-null   object \n",
            " 7   avg-glucose-level  3562 non-null   float64\n",
            " 8   bmi                3562 non-null   float64\n",
            " 9   smoking-status     3562 non-null   object \n",
            " 10  stroke             3562 non-null   int64  \n",
            "dtypes: float64(3), int64(3), object(5)\n",
            "memory usage: 333.9+ KB\n"
          ]
        }
      ],
      "source": [
        "for col in ['bmi', 'avg-glucose-level']:\n",
        "        Q1 = df[col].quantile(0.25)\n",
        "        Q3 = df[col].quantile(0.75)\n",
        "        IQR = Q3 - Q1\n",
        "        lower_bound = Q1 - 1.5 * IQR\n",
        "        upper_bound = Q3 + 1.5 * IQR\n",
        "        df = df[(df[col] >= lower_bound) & (df[col] <= upper_bound)]\n",
        "df.info()"
      ]
    },
    {
      "cell_type": "code",
      "execution_count": 278,
      "metadata": {},
      "outputs": [
        {
          "data": {
            "image/png": "[encoded data removed]",
            "text/plain": [
              "<Figure size 1500x500 with 3 Axes>"
            ]
          },
          "metadata": {},
          "output_type": "display_data"
        }
      ],
      "source": [
        "num_cols = ['age','bmi','avg-glucose-level']\n",
        "\n",
        "plt.figure(figsize=(15, 5))\n",
        "for i in range(3) :\n",
        "    plt.subplot(1,3,i+1)\n",
        "\n",
        "    sns.boxplot(x=df[num_cols[i]],color='#6DA59D')\n",
        "    plt.title(num_cols[i])\n",
        "plt.show()"
      ]
    },
    {
      "cell_type": "markdown",
      "metadata": {},
      "source": [
        "## Exploratory Data Analysis"
      ]
    },
    {
      "cell_type": "code",
      "execution_count": 279,
      "metadata": {
        "colab": {
          "base_uri": "https://localhost:8080/"
        },
        "id": "YJVLxuPxzuT6",
        "outputId": "9accc335-fad6-4494-df8f-02e62ffceb2a"
      },
      "outputs": [
        {
          "name": "stdout",
          "output_type": "stream",
          "text": [
            "Stroke percentage: 4.63%\n"
          ]
        }
      ],
      "source": [
        "stroke_count =df['stroke'].value_counts() # pandas serie, it contains the number of '1' (stroke) and the number of '0' (no stroke)\n",
        "print(\"Stroke percentage: {:.2f}%\".format(100 * (stroke_count[1] / (stroke_count[0] + stroke_count[1]))))"
      ]
    },
    {
      "cell_type": "code",
      "execution_count": 280,
      "metadata": {
        "colab": {
          "base_uri": "https://localhost:8080/"
        },
        "id": "VIe4YWAlzx2A",
        "outputId": "2443f8e4-ad7c-43f2-a289-5e9bcde8497b"
      },
      "outputs": [
        {
          "name": "stdout",
          "output_type": "stream",
          "text": [
            "Number of males:  1376\n",
            "Number of females:  2186\n"
          ]
        }
      ],
      "source": [
        "gender_count = df['gender'].value_counts()\n",
        "print('Number of males: ', gender_count['Male'])\n",
        "print('Number of females: ', gender_count['Female'])"
      ]
    },
    {
      "cell_type": "code",
      "execution_count": 281,
      "metadata": {
        "colab": {
          "base_uri": "https://localhost:8080/"
        },
        "id": "Ye7W233Cz2gI",
        "outputId": "98ae7f57-31b6-4bd4-8208-bc242398c061"
      },
      "outputs": [
        {
          "name": "stdout",
          "output_type": "stream",
          "text": [
            "Hypertension percentage: 9.21%\n"
          ]
        }
      ],
      "source": [
        "hypertension_count =df['hypertension'].value_counts()\n",
        "print(\"Hypertension percentage: {:.2f}%\".format(100 *( hypertension_count[1]/(hypertension_count[0]+hypertension_count[1]))))"
      ]
    },
    {
      "cell_type": "code",
      "execution_count": 282,
      "metadata": {
        "colab": {
          "base_uri": "https://localhost:8080/"
        },
        "id": "9VAbBsXrz54V",
        "outputId": "ef30e897-8bf8-4b30-d0f4-22bce71f27a4"
      },
      "outputs": [
        {
          "name": "stdout",
          "output_type": "stream",
          "text": [
            "Hearth disease percentage: 4.86%\n"
          ]
        }
      ],
      "source": [
        "heart_disease_count =df['heart-disease'].value_counts()\n",
        "print(\"Hearth disease percentage: {:.2f}%\".format(100 * (heart_disease_count[1]/(heart_disease_count[0]+heart_disease_count[1]))))"
      ]
    },
    {
      "cell_type": "code",
      "execution_count": 283,
      "metadata": {
        "colab": {
          "base_uri": "https://localhost:8080/"
        },
        "id": "F5H4h5-lz9Xj",
        "outputId": "c64475d3-d971-421d-a2ca-94a8b4b87eca"
      },
      "outputs": [
        {
          "name": "stdout",
          "output_type": "stream",
          "text": [
            "Married percentage: 76.92%\n"
          ]
        },
        {
          "name": "stderr",
          "output_type": "stream",
          "text": [
            "C:\\Users\\hp\\AppData\\Local\\Temp\\ipykernel_10416\\140164340.py:2: FutureWarning: Series.__getitem__ treating keys as positions is deprecated. In a future version, integer keys will always be treated as labels (consistent with DataFrame behavior). To access a value by position, use `ser.iloc[pos]`\n",
            "  print(\"Married percentage: {:.2f}%\".format(100 * (ever_married_count[0]/(ever_married_count[0]+ever_married_count[1]))))\n"
          ]
        }
      ],
      "source": [
        "ever_married_count =df['ever-married'].value_counts()\n",
        "print(\"Married percentage: {:.2f}%\".format(100 * (ever_married_count[0]/(ever_married_count[0]+ever_married_count[1]))))"
      ]
    },
    {
      "cell_type": "code",
      "execution_count": 284,
      "metadata": {
        "colab": {
          "base_uri": "https://localhost:8080/"
        },
        "id": "NXxnndg_0Bmt",
        "outputId": "c0361cb7-a97c-4b19-f848-4f5e5969af20"
      },
      "outputs": [
        {
          "name": "stdout",
          "output_type": "stream",
          "text": [
            "Private percentage: 66.25%\n",
            "Self-employed percentage: 18.30%\n",
            "Gov percentage: 15.30%\n",
            "Never Worked fraction: 0.1%\n"
          ]
        },
        {
          "name": "stderr",
          "output_type": "stream",
          "text": [
            "C:\\Users\\hp\\AppData\\Local\\Temp\\ipykernel_10416\\2819490883.py:2: FutureWarning: Series.__getitem__ treating keys as positions is deprecated. In a future version, integer keys will always be treated as labels (consistent with DataFrame behavior). To access a value by position, use `ser.iloc[pos]`\n",
            "  print(\"Private percentage: {:.2f}%\".format(100 * (work_type_count[0]/(work_type_count[0]+work_type_count[1]+work_type_count[2]+work_type_count[3]))))\n",
            "C:\\Users\\hp\\AppData\\Local\\Temp\\ipykernel_10416\\2819490883.py:3: FutureWarning: Series.__getitem__ treating keys as positions is deprecated. In a future version, integer keys will always be treated as labels (consistent with DataFrame behavior). To access a value by position, use `ser.iloc[pos]`\n",
            "  print(\"Self-employed percentage: {:.2f}%\".format(100 * (work_type_count[1]/(work_type_count[0]+work_type_count[1]+work_type_count[2]+work_type_count[3]))))\n",
            "C:\\Users\\hp\\AppData\\Local\\Temp\\ipykernel_10416\\2819490883.py:4: FutureWarning: Series.__getitem__ treating keys as positions is deprecated. In a future version, integer keys will always be treated as labels (consistent with DataFrame behavior). To access a value by position, use `ser.iloc[pos]`\n",
            "  print(\"Gov percentage: {:.2f}%\".format(100 * (work_type_count[2]/(work_type_count[0]+work_type_count[1]+work_type_count[2]+work_type_count[3]))))\n",
            "C:\\Users\\hp\\AppData\\Local\\Temp\\ipykernel_10416\\2819490883.py:5: FutureWarning: Series.__getitem__ treating keys as positions is deprecated. In a future version, integer keys will always be treated as labels (consistent with DataFrame behavior). To access a value by position, use `ser.iloc[pos]`\n",
            "  print(\"Never Worked fraction: {:.1f}%\".format(100 * (work_type_count[3]/(work_type_count[0]+work_type_count[1]+work_type_count[2]+work_type_count[3]))))\n"
          ]
        }
      ],
      "source": [
        "work_type_count =df['work-type'].value_counts()\n",
        "print(\"Private percentage: {:.2f}%\".format(100 * (work_type_count[0]/(work_type_count[0]+work_type_count[1]+work_type_count[2]+work_type_count[3]))))\n",
        "print(\"Self-employed percentage: {:.2f}%\".format(100 * (work_type_count[1]/(work_type_count[0]+work_type_count[1]+work_type_count[2]+work_type_count[3]))))\n",
        "print(\"Gov percentage: {:.2f}%\".format(100 * (work_type_count[2]/(work_type_count[0]+work_type_count[1]+work_type_count[2]+work_type_count[3]))))\n",
        "print(\"Never Worked fraction: {:.1f}%\".format(100 * (work_type_count[3]/(work_type_count[0]+work_type_count[1]+work_type_count[2]+work_type_count[3]))))"
      ]
    },
    {
      "cell_type": "code",
      "execution_count": 285,
      "metadata": {
        "colab": {
          "base_uri": "https://localhost:8080/"
        },
        "id": "Kyvi-6GA0FN8",
        "outputId": "427322d7-a2cb-45ef-8222-a997af0b4fcd"
      },
      "outputs": [
        {
          "name": "stdout",
          "output_type": "stream",
          "text": [
            "Urban percentage: 50.93%\n",
            "Rural pergentage: 49.07%\n"
          ]
        },
        {
          "name": "stderr",
          "output_type": "stream",
          "text": [
            "C:\\Users\\hp\\AppData\\Local\\Temp\\ipykernel_10416\\159459921.py:2: FutureWarning: Series.__getitem__ treating keys as positions is deprecated. In a future version, integer keys will always be treated as labels (consistent with DataFrame behavior). To access a value by position, use `ser.iloc[pos]`\n",
            "  print(\"Urban percentage: {:.2f}%\".format(100 * (residence_type_count[0]/(residence_type_count[0]+residence_type_count[1]))))\n",
            "C:\\Users\\hp\\AppData\\Local\\Temp\\ipykernel_10416\\159459921.py:3: FutureWarning: Series.__getitem__ treating keys as positions is deprecated. In a future version, integer keys will always be treated as labels (consistent with DataFrame behavior). To access a value by position, use `ser.iloc[pos]`\n",
            "  print(\"Rural pergentage: {:.2f}%\".format(100 * (residence_type_count[1]/(residence_type_count[0]+residence_type_count[1]))))\n"
          ]
        }
      ],
      "source": [
        "residence_type_count =df['Residence-type'].value_counts()\n",
        "print(\"Urban percentage: {:.2f}%\".format(100 * (residence_type_count[0]/(residence_type_count[0]+residence_type_count[1]))))\n",
        "print(\"Rural pergentage: {:.2f}%\".format(100 * (residence_type_count[1]/(residence_type_count[0]+residence_type_count[1]))))"
      ]
    },
    {
      "cell_type": "code",
      "execution_count": 286,
      "metadata": {
        "colab": {
          "base_uri": "https://localhost:8080/"
        },
        "id": "csXZWGum0JM3",
        "outputId": "bd674f8b-70c8-48e4-8a84-5624fb6e0560"
      },
      "outputs": [
        {
          "name": "stdout",
          "output_type": "stream",
          "text": [
            "Never Smoked fraction: 57.24%\n",
            "Formely Smoked fraction: 22.01%\n",
            "Smokes fraction: 20.75%\n"
          ]
        },
        {
          "name": "stderr",
          "output_type": "stream",
          "text": [
            "C:\\Users\\hp\\AppData\\Local\\Temp\\ipykernel_10416\\4037653718.py:2: FutureWarning: Series.__getitem__ treating keys as positions is deprecated. In a future version, integer keys will always be treated as labels (consistent with DataFrame behavior). To access a value by position, use `ser.iloc[pos]`\n",
            "  print(\"Never Smoked fraction: {:.2f}%\".format(100 * (smoking_status_count[0]/(smoking_status_count[0]+smoking_status_count[1]+smoking_status_count[2]))))\n",
            "C:\\Users\\hp\\AppData\\Local\\Temp\\ipykernel_10416\\4037653718.py:3: FutureWarning: Series.__getitem__ treating keys as positions is deprecated. In a future version, integer keys will always be treated as labels (consistent with DataFrame behavior). To access a value by position, use `ser.iloc[pos]`\n",
            "  print(\"Formely Smoked fraction: {:.2f}%\".format(100 * (smoking_status_count[1]/(smoking_status_count[0]+smoking_status_count[1]+smoking_status_count[2]))))\n",
            "C:\\Users\\hp\\AppData\\Local\\Temp\\ipykernel_10416\\4037653718.py:4: FutureWarning: Series.__getitem__ treating keys as positions is deprecated. In a future version, integer keys will always be treated as labels (consistent with DataFrame behavior). To access a value by position, use `ser.iloc[pos]`\n",
            "  print(\"Smokes fraction: {:.2f}%\".format(100 * (smoking_status_count[2]/(smoking_status_count[0]+smoking_status_count[1]+smoking_status_count[2]))))\n"
          ]
        }
      ],
      "source": [
        "smoking_status_count =df['smoking-status'].value_counts()\n",
        "print(\"Never Smoked fraction: {:.2f}%\".format(100 * (smoking_status_count[0]/(smoking_status_count[0]+smoking_status_count[1]+smoking_status_count[2]))))\n",
        "print(\"Formely Smoked fraction: {:.2f}%\".format(100 * (smoking_status_count[1]/(smoking_status_count[0]+smoking_status_count[1]+smoking_status_count[2]))))\n",
        "print(\"Smokes fraction: {:.2f}%\".format(100 * (smoking_status_count[2]/(smoking_status_count[0]+smoking_status_count[1]+smoking_status_count[2]))))"
      ]
    },
    {
      "cell_type": "markdown",
      "metadata": {},
      "source": [
        "The percentages showed above are exactly the same as the ones in the paper."
      ]
    },
    {
      "cell_type": "code",
      "execution_count": 287,
      "metadata": {
        "colab": {
          "base_uri": "https://localhost:8080/"
        },
        "id": "EFfrDTd00OJx",
        "outputId": "cae25ec7-b313-43b6-c6e6-f3a9680b3fb8"
      },
      "outputs": [
        {
          "name": "stdout",
          "output_type": "stream",
          "text": [
            "<class 'pandas.core.frame.DataFrame'>\n",
            "Index: 3562 entries, 2 to 5109\n",
            "Data columns (total 11 columns):\n",
            " #   Column             Non-Null Count  Dtype  \n",
            "---  ------             --------------  -----  \n",
            " 0   gender             3562 non-null   object \n",
            " 1   age                3562 non-null   float64\n",
            " 2   hypertension       3562 non-null   int64  \n",
            " 3   heart-disease      3562 non-null   int64  \n",
            " 4   ever-married       3562 non-null   object \n",
            " 5   work-type          3562 non-null   object \n",
            " 6   Residence-type     3562 non-null   object \n",
            " 7   avg-glucose-level  3562 non-null   float64\n",
            " 8   bmi                3562 non-null   float64\n",
            " 9   smoking-status     3562 non-null   object \n",
            " 10  stroke             3562 non-null   int64  \n",
            "dtypes: float64(3), int64(3), object(5)\n",
            "memory usage: 333.9+ KB\n"
          ]
        }
      ],
      "source": [
        "df.info()"
      ]
    },
    {
      "cell_type": "code",
      "execution_count": 288,
      "metadata": {
        "colab": {
          "base_uri": "https://localhost:8080/",
          "height": 206
        },
        "id": "60cwUb-A0R-h",
        "outputId": "2e4ff968-2f09-44a2-bc44-3b5d32f28123"
      },
      "outputs": [
        {
          "data": {
            "text/html": [
              "<div>\n",
              "<style scoped>\n",
              "    .dataframe tbody tr th:only-of-type {\n",
              "        vertical-align: middle;\n",
              "    }\n",
              "\n",
              "    .dataframe tbody tr th {\n",
              "        vertical-align: top;\n",
              "    }\n",
              "\n",
              "    .dataframe thead th {\n",
              "        text-align: right;\n",
              "    }\n",
              "</style>\n",
              "<table border=\"1\" class=\"dataframe\">\n",
              "  <thead>\n",
              "    <tr style=\"text-align: right;\">\n",
              "      <th></th>\n",
              "      <th>gender</th>\n",
              "      <th>age</th>\n",
              "      <th>hypertension</th>\n",
              "      <th>heart-disease</th>\n",
              "      <th>ever-married</th>\n",
              "      <th>work-type</th>\n",
              "      <th>Residence-type</th>\n",
              "      <th>avg-glucose-level</th>\n",
              "      <th>bmi</th>\n",
              "      <th>smoking-status</th>\n",
              "      <th>stroke</th>\n",
              "    </tr>\n",
              "  </thead>\n",
              "  <tbody>\n",
              "    <tr>\n",
              "      <th>2</th>\n",
              "      <td>Male</td>\n",
              "      <td>80.0</td>\n",
              "      <td>0</td>\n",
              "      <td>1</td>\n",
              "      <td>Yes</td>\n",
              "      <td>Private</td>\n",
              "      <td>Rural</td>\n",
              "      <td>105.92</td>\n",
              "      <td>32.500000</td>\n",
              "      <td>never smoked</td>\n",
              "      <td>1</td>\n",
              "    </tr>\n",
              "    <tr>\n",
              "      <th>3</th>\n",
              "      <td>Female</td>\n",
              "      <td>49.0</td>\n",
              "      <td>0</td>\n",
              "      <td>0</td>\n",
              "      <td>Yes</td>\n",
              "      <td>Private</td>\n",
              "      <td>Urban</td>\n",
              "      <td>171.23</td>\n",
              "      <td>34.400000</td>\n",
              "      <td>smokes</td>\n",
              "      <td>1</td>\n",
              "    </tr>\n",
              "    <tr>\n",
              "      <th>6</th>\n",
              "      <td>Male</td>\n",
              "      <td>74.0</td>\n",
              "      <td>1</td>\n",
              "      <td>1</td>\n",
              "      <td>Yes</td>\n",
              "      <td>Private</td>\n",
              "      <td>Rural</td>\n",
              "      <td>70.09</td>\n",
              "      <td>27.400000</td>\n",
              "      <td>never smoked</td>\n",
              "      <td>1</td>\n",
              "    </tr>\n",
              "    <tr>\n",
              "      <th>7</th>\n",
              "      <td>Female</td>\n",
              "      <td>69.0</td>\n",
              "      <td>0</td>\n",
              "      <td>0</td>\n",
              "      <td>No</td>\n",
              "      <td>Private</td>\n",
              "      <td>Urban</td>\n",
              "      <td>94.39</td>\n",
              "      <td>22.800000</td>\n",
              "      <td>never smoked</td>\n",
              "      <td>1</td>\n",
              "    </tr>\n",
              "    <tr>\n",
              "      <th>8</th>\n",
              "      <td>Female</td>\n",
              "      <td>59.0</td>\n",
              "      <td>0</td>\n",
              "      <td>0</td>\n",
              "      <td>Yes</td>\n",
              "      <td>Private</td>\n",
              "      <td>Rural</td>\n",
              "      <td>76.15</td>\n",
              "      <td>30.432752</td>\n",
              "      <td>formerly smoked</td>\n",
              "      <td>1</td>\n",
              "    </tr>\n",
              "  </tbody>\n",
              "</table>\n",
              "</div>"
            ],
            "text/plain": [
              "   gender   age  hypertension  heart-disease ever-married work-type  \\\n",
              "2    Male  80.0             0              1          Yes   Private   \n",
              "3  Female  49.0             0              0          Yes   Private   \n",
              "6    Male  74.0             1              1          Yes   Private   \n",
              "7  Female  69.0             0              0           No   Private   \n",
              "8  Female  59.0             0              0          Yes   Private   \n",
              "\n",
              "  Residence-type  avg-glucose-level        bmi   smoking-status  stroke  \n",
              "2          Rural             105.92  32.500000     never smoked       1  \n",
              "3          Urban             171.23  34.400000           smokes       1  \n",
              "6          Rural              70.09  27.400000     never smoked       1  \n",
              "7          Urban              94.39  22.800000     never smoked       1  \n",
              "8          Rural              76.15  30.432752  formerly smoked       1  "
            ]
          },
          "execution_count": 288,
          "metadata": {},
          "output_type": "execute_result"
        }
      ],
      "source": [
        "df.head()"
      ]
    },
    {
      "cell_type": "code",
      "execution_count": 289,
      "metadata": {},
      "outputs": [
        {
          "data": {
            "text/plain": [
              "<seaborn.axisgrid.FacetGrid at 0x284e265cf10>"
            ]
          },
          "execution_count": 289,
          "metadata": {},
          "output_type": "execute_result"
        },
        {
          "data": {
            "image/png": "[encoded data removed]",
            "text/plain": [
              "<Figure size 500x500 with 1 Axes>"
            ]
          },
          "metadata": {},
          "output_type": "display_data"
        }
      ],
      "source": [
        "sns.displot(df['age'], bins=20, kde=False, color='blue')"
      ]
    },
    {
      "cell_type": "code",
      "execution_count": 290,
      "metadata": {},
      "outputs": [
        {
          "data": {
            "text/plain": [
              "<seaborn.axisgrid.FacetGrid at 0x28503c9fee0>"
            ]
          },
          "execution_count": 290,
          "metadata": {},
          "output_type": "execute_result"
        },
        {
          "data": {
            "image/png": "[encoded data removed]",
            "text/plain": [
              "<Figure size 500x500 with 1 Axes>"
            ]
          },
          "metadata": {},
          "output_type": "display_data"
        }
      ],
      "source": [
        "sns.displot(df['avg-glucose-level'], bins=40, kde=False, color='blue')"
      ]
    },
    {
      "cell_type": "code",
      "execution_count": 291,
      "metadata": {},
      "outputs": [
        {
          "data": {
            "text/plain": [
              "<seaborn.axisgrid.FacetGrid at 0x2850c710ee0>"
            ]
          },
          "execution_count": 291,
          "metadata": {},
          "output_type": "execute_result"
        },
        {
          "data": {
            "image/png": "[encoded data removed]",
            "text/plain": [
              "<Figure size 500x500 with 1 Axes>"
            ]
          },
          "metadata": {},
          "output_type": "display_data"
        }
      ],
      "source": [
        "sns.displot(df['bmi'], bins=20, kde=False, color='blue')"
      ]
    },
    {
      "cell_type": "markdown",
      "metadata": {},
      "source": [
        "### Oversampling"
      ]
    },
    {
      "cell_type": "code",
      "execution_count": 292,
      "metadata": {
        "colab": {
          "base_uri": "https://localhost:8080/"
        },
        "id": "56h6QHZL0gZE",
        "outputId": "84bc41e2-c5b4-44e0-c327-dac928978394"
      },
      "outputs": [
        {
          "name": "stdout",
          "output_type": "stream",
          "text": [
            "['gender' 'age' 'hypertension' 'heart-disease' 'ever-married' 'work-type'\n",
            " 'Residence-type' 'avg-glucose-level' 'bmi' 'smoking-status']\n"
          ]
        }
      ],
      "source": [
        "features = np.array(df.columns[:-1])\n",
        "print(features)\n",
        "\n",
        "X = df.drop(['stroke'], axis = 1) # Data\n",
        "y = df['stroke'] # Target"
      ]
    },
    {
      "cell_type": "code",
      "execution_count": 293,
      "metadata": {
        "colab": {
          "base_uri": "https://localhost:8080/"
        },
        "id": "prSZVsXL0mC3",
        "outputId": "317ba341-26f2-40f4-9dd8-e0640c6a08ac"
      },
      "outputs": [
        {
          "data": {
            "text/plain": [
              "stroke\n",
              "0    3397\n",
              "1     165\n",
              "Name: count, dtype: int64"
            ]
          },
          "execution_count": 293,
          "metadata": {},
          "output_type": "execute_result"
        }
      ],
      "source": [
        "y.value_counts()"
      ]
    },
    {
      "cell_type": "code",
      "execution_count": 294,
      "metadata": {
        "colab": {
          "base_uri": "https://localhost:8080/",
          "height": 423
        },
        "id": "dvxryMPo0niT",
        "outputId": "510b0f2c-1eba-4516-d51c-e5288ea7c97d"
      },
      "outputs": [
        {
          "data": {
            "text/plain": [
              "<AxesSubplot:ylabel='count'>"
            ]
          },
          "execution_count": 294,
          "metadata": {},
          "output_type": "execute_result"
        },
        {
          "data": {
            "image/png": "[encoded data removed]",
            "text/plain": [
              "<Figure size 640x480 with 1 Axes>"
            ]
          },
          "metadata": {},
          "output_type": "display_data"
        }
      ],
      "source": [
        "y.value_counts().plot.pie(autopct = \"%.2f\")"
      ]
    },
    {
      "cell_type": "markdown",
      "metadata": {},
      "source": [
        "We can clearly see that there is a disproportion between the number of smokers and non-smokers. This is a problem because the model could be biased towards the non-smokers. We will try to balance the dataset by oversampling the smokers."
      ]
    },
    {
      "cell_type": "code",
      "execution_count": 295,
      "metadata": {},
      "outputs": [
        {
          "data": {
            "text/html": [
              "<div>\n",
              "<style scoped>\n",
              "    .dataframe tbody tr th:only-of-type {\n",
              "        vertical-align: middle;\n",
              "    }\n",
              "\n",
              "    .dataframe tbody tr th {\n",
              "        vertical-align: top;\n",
              "    }\n",
              "\n",
              "    .dataframe thead th {\n",
              "        text-align: right;\n",
              "    }\n",
              "</style>\n",
              "<table border=\"1\" class=\"dataframe\">\n",
              "  <thead>\n",
              "    <tr style=\"text-align: right;\">\n",
              "      <th></th>\n",
              "      <th>gender</th>\n",
              "      <th>age</th>\n",
              "      <th>hypertension</th>\n",
              "      <th>heart-disease</th>\n",
              "      <th>ever-married</th>\n",
              "      <th>work-type</th>\n",
              "      <th>Residence-type</th>\n",
              "      <th>avg-glucose-level</th>\n",
              "      <th>bmi</th>\n",
              "      <th>smoking-status</th>\n",
              "    </tr>\n",
              "  </thead>\n",
              "  <tbody>\n",
              "    <tr>\n",
              "      <th>2</th>\n",
              "      <td>Male</td>\n",
              "      <td>80.0</td>\n",
              "      <td>0</td>\n",
              "      <td>1</td>\n",
              "      <td>Yes</td>\n",
              "      <td>Private</td>\n",
              "      <td>Rural</td>\n",
              "      <td>105.92</td>\n",
              "      <td>32.500000</td>\n",
              "      <td>never smoked</td>\n",
              "    </tr>\n",
              "    <tr>\n",
              "      <th>3</th>\n",
              "      <td>Female</td>\n",
              "      <td>49.0</td>\n",
              "      <td>0</td>\n",
              "      <td>0</td>\n",
              "      <td>Yes</td>\n",
              "      <td>Private</td>\n",
              "      <td>Urban</td>\n",
              "      <td>171.23</td>\n",
              "      <td>34.400000</td>\n",
              "      <td>smokes</td>\n",
              "    </tr>\n",
              "    <tr>\n",
              "      <th>6</th>\n",
              "      <td>Male</td>\n",
              "      <td>74.0</td>\n",
              "      <td>1</td>\n",
              "      <td>1</td>\n",
              "      <td>Yes</td>\n",
              "      <td>Private</td>\n",
              "      <td>Rural</td>\n",
              "      <td>70.09</td>\n",
              "      <td>27.400000</td>\n",
              "      <td>never smoked</td>\n",
              "    </tr>\n",
              "    <tr>\n",
              "      <th>7</th>\n",
              "      <td>Female</td>\n",
              "      <td>69.0</td>\n",
              "      <td>0</td>\n",
              "      <td>0</td>\n",
              "      <td>No</td>\n",
              "      <td>Private</td>\n",
              "      <td>Urban</td>\n",
              "      <td>94.39</td>\n",
              "      <td>22.800000</td>\n",
              "      <td>never smoked</td>\n",
              "    </tr>\n",
              "    <tr>\n",
              "      <th>8</th>\n",
              "      <td>Female</td>\n",
              "      <td>59.0</td>\n",
              "      <td>0</td>\n",
              "      <td>0</td>\n",
              "      <td>Yes</td>\n",
              "      <td>Private</td>\n",
              "      <td>Rural</td>\n",
              "      <td>76.15</td>\n",
              "      <td>30.432752</td>\n",
              "      <td>formerly smoked</td>\n",
              "    </tr>\n",
              "  </tbody>\n",
              "</table>\n",
              "</div>"
            ],
            "text/plain": [
              "   gender   age  hypertension  heart-disease ever-married work-type  \\\n",
              "2    Male  80.0             0              1          Yes   Private   \n",
              "3  Female  49.0             0              0          Yes   Private   \n",
              "6    Male  74.0             1              1          Yes   Private   \n",
              "7  Female  69.0             0              0           No   Private   \n",
              "8  Female  59.0             0              0          Yes   Private   \n",
              "\n",
              "  Residence-type  avg-glucose-level        bmi   smoking-status  \n",
              "2          Rural             105.92  32.500000     never smoked  \n",
              "3          Urban             171.23  34.400000           smokes  \n",
              "6          Rural              70.09  27.400000     never smoked  \n",
              "7          Urban              94.39  22.800000     never smoked  \n",
              "8          Rural              76.15  30.432752  formerly smoked  "
            ]
          },
          "execution_count": 295,
          "metadata": {},
          "output_type": "execute_result"
        }
      ],
      "source": [
        "X.head()"
      ]
    },
    {
      "cell_type": "markdown",
      "metadata": {},
      "source": [
        "Train-Test Split\n",
        "\n",
        "It is usually recommended to perform the oversampling only on the train dataset, therefore we will split the dataset into train and test and then oversample the train dataset."
      ]
    },
    {
      "cell_type": "code",
      "execution_count": 296,
      "metadata": {
        "id": "UDcFJRwA2NWw"
      },
      "outputs": [],
      "source": [
        "from sklearn.model_selection import train_test_split\n",
        "\n",
        "X_train, X_test, y_train, y_test = train_test_split(X, y, test_size = 0.2) # the data is split into 80% training and 20% testing randomly"
      ]
    },
    {
      "cell_type": "code",
      "execution_count": 297,
      "metadata": {},
      "outputs": [
        {
          "data": {
            "text/html": [
              "<div>\n",
              "<style scoped>\n",
              "    .dataframe tbody tr th:only-of-type {\n",
              "        vertical-align: middle;\n",
              "    }\n",
              "\n",
              "    .dataframe tbody tr th {\n",
              "        vertical-align: top;\n",
              "    }\n",
              "\n",
              "    .dataframe thead th {\n",
              "        text-align: right;\n",
              "    }\n",
              "</style>\n",
              "<table border=\"1\" class=\"dataframe\">\n",
              "  <thead>\n",
              "    <tr style=\"text-align: right;\">\n",
              "      <th></th>\n",
              "      <th>gender</th>\n",
              "      <th>age</th>\n",
              "      <th>hypertension</th>\n",
              "      <th>heart-disease</th>\n",
              "      <th>ever-married</th>\n",
              "      <th>work-type</th>\n",
              "      <th>Residence-type</th>\n",
              "      <th>avg-glucose-level</th>\n",
              "      <th>bmi</th>\n",
              "      <th>smoking-status</th>\n",
              "    </tr>\n",
              "  </thead>\n",
              "  <tbody>\n",
              "    <tr>\n",
              "      <th>4608</th>\n",
              "      <td>Male</td>\n",
              "      <td>59.0</td>\n",
              "      <td>0</td>\n",
              "      <td>0</td>\n",
              "      <td>Yes</td>\n",
              "      <td>Private</td>\n",
              "      <td>Rural</td>\n",
              "      <td>69.37</td>\n",
              "      <td>26.9</td>\n",
              "      <td>formerly smoked</td>\n",
              "    </tr>\n",
              "    <tr>\n",
              "      <th>257</th>\n",
              "      <td>Female</td>\n",
              "      <td>32.0</td>\n",
              "      <td>0</td>\n",
              "      <td>0</td>\n",
              "      <td>Yes</td>\n",
              "      <td>Private</td>\n",
              "      <td>Rural</td>\n",
              "      <td>77.67</td>\n",
              "      <td>32.3</td>\n",
              "      <td>smokes</td>\n",
              "    </tr>\n",
              "    <tr>\n",
              "      <th>34</th>\n",
              "      <td>Male</td>\n",
              "      <td>48.0</td>\n",
              "      <td>0</td>\n",
              "      <td>0</td>\n",
              "      <td>No</td>\n",
              "      <td>Govt_job</td>\n",
              "      <td>Urban</td>\n",
              "      <td>84.20</td>\n",
              "      <td>29.7</td>\n",
              "      <td>never smoked</td>\n",
              "    </tr>\n",
              "    <tr>\n",
              "      <th>1743</th>\n",
              "      <td>Male</td>\n",
              "      <td>37.0</td>\n",
              "      <td>0</td>\n",
              "      <td>0</td>\n",
              "      <td>Yes</td>\n",
              "      <td>Private</td>\n",
              "      <td>Urban</td>\n",
              "      <td>79.56</td>\n",
              "      <td>25.2</td>\n",
              "      <td>never smoked</td>\n",
              "    </tr>\n",
              "    <tr>\n",
              "      <th>4478</th>\n",
              "      <td>Male</td>\n",
              "      <td>40.0</td>\n",
              "      <td>0</td>\n",
              "      <td>0</td>\n",
              "      <td>Yes</td>\n",
              "      <td>Self-employed</td>\n",
              "      <td>Rural</td>\n",
              "      <td>65.29</td>\n",
              "      <td>28.3</td>\n",
              "      <td>never smoked</td>\n",
              "    </tr>\n",
              "  </tbody>\n",
              "</table>\n",
              "</div>"
            ],
            "text/plain": [
              "      gender   age  hypertension  heart-disease ever-married      work-type  \\\n",
              "4608    Male  59.0             0              0          Yes        Private   \n",
              "257   Female  32.0             0              0          Yes        Private   \n",
              "34      Male  48.0             0              0           No       Govt_job   \n",
              "1743    Male  37.0             0              0          Yes        Private   \n",
              "4478    Male  40.0             0              0          Yes  Self-employed   \n",
              "\n",
              "     Residence-type  avg-glucose-level   bmi   smoking-status  \n",
              "4608          Rural              69.37  26.9  formerly smoked  \n",
              "257           Rural              77.67  32.3           smokes  \n",
              "34            Urban              84.20  29.7     never smoked  \n",
              "1743          Urban              79.56  25.2     never smoked  \n",
              "4478          Rural              65.29  28.3     never smoked  "
            ]
          },
          "execution_count": 297,
          "metadata": {},
          "output_type": "execute_result"
        }
      ],
      "source": [
        "X_train.head()"
      ]
    },
    {
      "cell_type": "markdown",
      "metadata": {},
      "source": [
        "Applying the oversampling SMOTE technique. In the paper the authors have oversampled the whole dataset, we will oversample only the train dataset.\n",
        "\n",
        "Moreover we will use a different version of SMOTE, the SMOTENC, which is more suitable for datasets with categorical features."
      ]
    },
    {
      "cell_type": "code",
      "execution_count": 298,
      "metadata": {
        "id": "kYrhnuzX-yYD"
      },
      "outputs": [
        {
          "data": {
            "text/html": [
              "<div>\n",
              "<style scoped>\n",
              "    .dataframe tbody tr th:only-of-type {\n",
              "        vertical-align: middle;\n",
              "    }\n",
              "\n",
              "    .dataframe tbody tr th {\n",
              "        vertical-align: top;\n",
              "    }\n",
              "\n",
              "    .dataframe thead th {\n",
              "        text-align: right;\n",
              "    }\n",
              "</style>\n",
              "<table border=\"1\" class=\"dataframe\">\n",
              "  <thead>\n",
              "    <tr style=\"text-align: right;\">\n",
              "      <th></th>\n",
              "      <th>age</th>\n",
              "      <th>hypertension</th>\n",
              "      <th>heart-disease</th>\n",
              "      <th>avg-glucose-level</th>\n",
              "      <th>bmi</th>\n",
              "    </tr>\n",
              "  </thead>\n",
              "  <tbody>\n",
              "    <tr>\n",
              "      <th>count</th>\n",
              "      <td>5430.000000</td>\n",
              "      <td>5430.000000</td>\n",
              "      <td>5430.000000</td>\n",
              "      <td>5430.000000</td>\n",
              "      <td>5430.000000</td>\n",
              "    </tr>\n",
              "    <tr>\n",
              "      <th>mean</th>\n",
              "      <td>57.455975</td>\n",
              "      <td>0.107735</td>\n",
              "      <td>0.028177</td>\n",
              "      <td>92.319657</td>\n",
              "      <td>29.136232</td>\n",
              "    </tr>\n",
              "    <tr>\n",
              "      <th>std</th>\n",
              "      <td>17.860374</td>\n",
              "      <td>0.310074</td>\n",
              "      <td>0.165493</td>\n",
              "      <td>24.122826</td>\n",
              "      <td>5.021596</td>\n",
              "    </tr>\n",
              "    <tr>\n",
              "      <th>min</th>\n",
              "      <td>18.000000</td>\n",
              "      <td>0.000000</td>\n",
              "      <td>0.000000</td>\n",
              "      <td>55.120000</td>\n",
              "      <td>16.000000</td>\n",
              "    </tr>\n",
              "    <tr>\n",
              "      <th>25%</th>\n",
              "      <td>45.000000</td>\n",
              "      <td>0.000000</td>\n",
              "      <td>0.000000</td>\n",
              "      <td>74.832516</td>\n",
              "      <td>25.803433</td>\n",
              "    </tr>\n",
              "    <tr>\n",
              "      <th>50%</th>\n",
              "      <td>59.000000</td>\n",
              "      <td>0.000000</td>\n",
              "      <td>0.000000</td>\n",
              "      <td>88.808646</td>\n",
              "      <td>28.900000</td>\n",
              "    </tr>\n",
              "    <tr>\n",
              "      <th>75%</th>\n",
              "      <td>74.460315</td>\n",
              "      <td>0.000000</td>\n",
              "      <td>0.000000</td>\n",
              "      <td>104.878763</td>\n",
              "      <td>31.603143</td>\n",
              "    </tr>\n",
              "    <tr>\n",
              "      <th>max</th>\n",
              "      <td>82.000000</td>\n",
              "      <td>1.000000</td>\n",
              "      <td>1.000000</td>\n",
              "      <td>173.140000</td>\n",
              "      <td>46.000000</td>\n",
              "    </tr>\n",
              "  </tbody>\n",
              "</table>\n",
              "</div>"
            ],
            "text/plain": [
              "               age  hypertension  heart-disease  avg-glucose-level  \\\n",
              "count  5430.000000   5430.000000    5430.000000        5430.000000   \n",
              "mean     57.455975      0.107735       0.028177          92.319657   \n",
              "std      17.860374      0.310074       0.165493          24.122826   \n",
              "min      18.000000      0.000000       0.000000          55.120000   \n",
              "25%      45.000000      0.000000       0.000000          74.832516   \n",
              "50%      59.000000      0.000000       0.000000          88.808646   \n",
              "75%      74.460315      0.000000       0.000000         104.878763   \n",
              "max      82.000000      1.000000       1.000000         173.140000   \n",
              "\n",
              "               bmi  \n",
              "count  5430.000000  \n",
              "mean     29.136232  \n",
              "std       5.021596  \n",
              "min      16.000000  \n",
              "25%      25.803433  \n",
              "50%      28.900000  \n",
              "75%      31.603143  \n",
              "max      46.000000  "
            ]
          },
          "execution_count": 298,
          "metadata": {},
          "output_type": "execute_result"
        }
      ],
      "source": [
        "from imblearn.over_sampling import SMOTE, SMOTENC\n",
        "from sklearn.preprocessing import OrdinalEncoder, RobustScaler\n",
        "\n",
        "X_tmp = X_train.copy()\n",
        "y_tmp = y_train.copy()\n",
        "\n",
        "# Apply SMOTE\n",
        "smote = SMOTENC(sampling_strategy='minority', categorical_features=['work-type', 'smoking-status', 'gender', 'ever-married', 'Residence-type', 'hypertension', 'heart-disease'])\n",
        "X_smote, y_smote = smote.fit_resample(X_tmp, y_tmp)\n",
        "\n",
        "X_smote.describe()"
      ]
    },
    {
      "cell_type": "code",
      "execution_count": 299,
      "metadata": {},
      "outputs": [
        {
          "data": {
            "text/plain": [
              "work-type\n",
              "Private          3766\n",
              "Self-employed    1108\n",
              "Govt_job          552\n",
              "Never_worked        4\n",
              "Name: count, dtype: int64"
            ]
          },
          "execution_count": 299,
          "metadata": {},
          "output_type": "execute_result"
        }
      ],
      "source": [
        "X_smote['work-type'].value_counts()"
      ]
    },
    {
      "cell_type": "code",
      "execution_count": 300,
      "metadata": {},
      "outputs": [
        {
          "data": {
            "text/html": [
              "<div>\n",
              "<style scoped>\n",
              "    .dataframe tbody tr th:only-of-type {\n",
              "        vertical-align: middle;\n",
              "    }\n",
              "\n",
              "    .dataframe tbody tr th {\n",
              "        vertical-align: top;\n",
              "    }\n",
              "\n",
              "    .dataframe thead th {\n",
              "        text-align: right;\n",
              "    }\n",
              "</style>\n",
              "<table border=\"1\" class=\"dataframe\">\n",
              "  <thead>\n",
              "    <tr style=\"text-align: right;\">\n",
              "      <th></th>\n",
              "      <th>gender</th>\n",
              "      <th>age</th>\n",
              "      <th>hypertension</th>\n",
              "      <th>heart-disease</th>\n",
              "      <th>ever-married</th>\n",
              "      <th>work-type</th>\n",
              "      <th>Residence-type</th>\n",
              "      <th>avg-glucose-level</th>\n",
              "      <th>bmi</th>\n",
              "      <th>smoking-status</th>\n",
              "    </tr>\n",
              "  </thead>\n",
              "  <tbody>\n",
              "    <tr>\n",
              "      <th>0</th>\n",
              "      <td>Male</td>\n",
              "      <td>59.0</td>\n",
              "      <td>0</td>\n",
              "      <td>0</td>\n",
              "      <td>Yes</td>\n",
              "      <td>Private</td>\n",
              "      <td>Rural</td>\n",
              "      <td>69.37</td>\n",
              "      <td>26.9</td>\n",
              "      <td>formerly smoked</td>\n",
              "    </tr>\n",
              "    <tr>\n",
              "      <th>1</th>\n",
              "      <td>Female</td>\n",
              "      <td>32.0</td>\n",
              "      <td>0</td>\n",
              "      <td>0</td>\n",
              "      <td>Yes</td>\n",
              "      <td>Private</td>\n",
              "      <td>Rural</td>\n",
              "      <td>77.67</td>\n",
              "      <td>32.3</td>\n",
              "      <td>smokes</td>\n",
              "    </tr>\n",
              "    <tr>\n",
              "      <th>2</th>\n",
              "      <td>Male</td>\n",
              "      <td>48.0</td>\n",
              "      <td>0</td>\n",
              "      <td>0</td>\n",
              "      <td>No</td>\n",
              "      <td>Govt_job</td>\n",
              "      <td>Urban</td>\n",
              "      <td>84.20</td>\n",
              "      <td>29.7</td>\n",
              "      <td>never smoked</td>\n",
              "    </tr>\n",
              "    <tr>\n",
              "      <th>3</th>\n",
              "      <td>Male</td>\n",
              "      <td>37.0</td>\n",
              "      <td>0</td>\n",
              "      <td>0</td>\n",
              "      <td>Yes</td>\n",
              "      <td>Private</td>\n",
              "      <td>Urban</td>\n",
              "      <td>79.56</td>\n",
              "      <td>25.2</td>\n",
              "      <td>never smoked</td>\n",
              "    </tr>\n",
              "    <tr>\n",
              "      <th>4</th>\n",
              "      <td>Male</td>\n",
              "      <td>40.0</td>\n",
              "      <td>0</td>\n",
              "      <td>0</td>\n",
              "      <td>Yes</td>\n",
              "      <td>Self-employed</td>\n",
              "      <td>Rural</td>\n",
              "      <td>65.29</td>\n",
              "      <td>28.3</td>\n",
              "      <td>never smoked</td>\n",
              "    </tr>\n",
              "  </tbody>\n",
              "</table>\n",
              "</div>"
            ],
            "text/plain": [
              "   gender   age  hypertension  heart-disease ever-married      work-type  \\\n",
              "0    Male  59.0             0              0          Yes        Private   \n",
              "1  Female  32.0             0              0          Yes        Private   \n",
              "2    Male  48.0             0              0           No       Govt_job   \n",
              "3    Male  37.0             0              0          Yes        Private   \n",
              "4    Male  40.0             0              0          Yes  Self-employed   \n",
              "\n",
              "  Residence-type  avg-glucose-level   bmi   smoking-status  \n",
              "0          Rural              69.37  26.9  formerly smoked  \n",
              "1          Rural              77.67  32.3           smokes  \n",
              "2          Urban              84.20  29.7     never smoked  \n",
              "3          Urban              79.56  25.2     never smoked  \n",
              "4          Rural              65.29  28.3     never smoked  "
            ]
          },
          "execution_count": 300,
          "metadata": {},
          "output_type": "execute_result"
        }
      ],
      "source": [
        "X_smote.head()"
      ]
    },
    {
      "cell_type": "code",
      "execution_count": 301,
      "metadata": {
        "colab": {
          "base_uri": "https://localhost:8080/"
        },
        "id": "cUiVKZBiDOuA",
        "outputId": "e26c1e0e-1d90-4721-9683-e44e527a8fb6"
      },
      "outputs": [],
      "source": [
        "X_balanced = X_smote.copy()\n",
        "y_balanced = y_smote.copy()\n",
        "\n",
        "X_train = X_smote.copy()\n",
        "y_train = y_smote.copy()\n",
        "\n",
        "# after oversampling the hypertension and heart-disease cathegory have become of type 'object'\n",
        "X_train['hypertension'] = X_train['hypertension'].astype(int)\n",
        "X_train['heart-disease'] = X_train['heart-disease'].astype(int)"
      ]
    },
    {
      "cell_type": "code",
      "execution_count": 302,
      "metadata": {
        "id": "vpbjjt6TS2x_"
      },
      "outputs": [
        {
          "data": {
            "text/html": [
              "<div>\n",
              "<style scoped>\n",
              "    .dataframe tbody tr th:only-of-type {\n",
              "        vertical-align: middle;\n",
              "    }\n",
              "\n",
              "    .dataframe tbody tr th {\n",
              "        vertical-align: top;\n",
              "    }\n",
              "\n",
              "    .dataframe thead th {\n",
              "        text-align: right;\n",
              "    }\n",
              "</style>\n",
              "<table border=\"1\" class=\"dataframe\">\n",
              "  <thead>\n",
              "    <tr style=\"text-align: right;\">\n",
              "      <th></th>\n",
              "      <th>gender</th>\n",
              "      <th>age</th>\n",
              "      <th>hypertension</th>\n",
              "      <th>heart-disease</th>\n",
              "      <th>ever-married</th>\n",
              "      <th>work-type</th>\n",
              "      <th>Residence-type</th>\n",
              "      <th>avg-glucose-level</th>\n",
              "      <th>bmi</th>\n",
              "      <th>smoking-status</th>\n",
              "      <th>stroke</th>\n",
              "    </tr>\n",
              "  </thead>\n",
              "  <tbody>\n",
              "    <tr>\n",
              "      <th>0</th>\n",
              "      <td>Male</td>\n",
              "      <td>59.0</td>\n",
              "      <td>0</td>\n",
              "      <td>0</td>\n",
              "      <td>Yes</td>\n",
              "      <td>Private</td>\n",
              "      <td>Rural</td>\n",
              "      <td>69.37</td>\n",
              "      <td>26.9</td>\n",
              "      <td>formerly smoked</td>\n",
              "      <td>0</td>\n",
              "    </tr>\n",
              "    <tr>\n",
              "      <th>1</th>\n",
              "      <td>Female</td>\n",
              "      <td>32.0</td>\n",
              "      <td>0</td>\n",
              "      <td>0</td>\n",
              "      <td>Yes</td>\n",
              "      <td>Private</td>\n",
              "      <td>Rural</td>\n",
              "      <td>77.67</td>\n",
              "      <td>32.3</td>\n",
              "      <td>smokes</td>\n",
              "      <td>0</td>\n",
              "    </tr>\n",
              "    <tr>\n",
              "      <th>2</th>\n",
              "      <td>Male</td>\n",
              "      <td>48.0</td>\n",
              "      <td>0</td>\n",
              "      <td>0</td>\n",
              "      <td>No</td>\n",
              "      <td>Govt_job</td>\n",
              "      <td>Urban</td>\n",
              "      <td>84.20</td>\n",
              "      <td>29.7</td>\n",
              "      <td>never smoked</td>\n",
              "      <td>1</td>\n",
              "    </tr>\n",
              "    <tr>\n",
              "      <th>3</th>\n",
              "      <td>Male</td>\n",
              "      <td>37.0</td>\n",
              "      <td>0</td>\n",
              "      <td>0</td>\n",
              "      <td>Yes</td>\n",
              "      <td>Private</td>\n",
              "      <td>Urban</td>\n",
              "      <td>79.56</td>\n",
              "      <td>25.2</td>\n",
              "      <td>never smoked</td>\n",
              "      <td>0</td>\n",
              "    </tr>\n",
              "    <tr>\n",
              "      <th>4</th>\n",
              "      <td>Male</td>\n",
              "      <td>40.0</td>\n",
              "      <td>0</td>\n",
              "      <td>0</td>\n",
              "      <td>Yes</td>\n",
              "      <td>Self-employed</td>\n",
              "      <td>Rural</td>\n",
              "      <td>65.29</td>\n",
              "      <td>28.3</td>\n",
              "      <td>never smoked</td>\n",
              "      <td>0</td>\n",
              "    </tr>\n",
              "  </tbody>\n",
              "</table>\n",
              "</div>"
            ],
            "text/plain": [
              "   gender   age  hypertension  heart-disease ever-married      work-type  \\\n",
              "0    Male  59.0             0              0          Yes        Private   \n",
              "1  Female  32.0             0              0          Yes        Private   \n",
              "2    Male  48.0             0              0           No       Govt_job   \n",
              "3    Male  37.0             0              0          Yes        Private   \n",
              "4    Male  40.0             0              0          Yes  Self-employed   \n",
              "\n",
              "  Residence-type  avg-glucose-level   bmi   smoking-status  stroke  \n",
              "0          Rural              69.37  26.9  formerly smoked       0  \n",
              "1          Rural              77.67  32.3           smokes       0  \n",
              "2          Urban              84.20  29.7     never smoked       1  \n",
              "3          Urban              79.56  25.2     never smoked       0  \n",
              "4          Rural              65.29  28.3     never smoked       0  "
            ]
          },
          "execution_count": 302,
          "metadata": {},
          "output_type": "execute_result"
        }
      ],
      "source": [
        "df_balanced = X_balanced\n",
        "df_balanced['stroke'] = y_balanced\n",
        "df_balanced.head()"
      ]
    },
    {
      "cell_type": "code",
      "execution_count": 303,
      "metadata": {},
      "outputs": [
        {
          "data": {
            "text/html": [
              "<div>\n",
              "<style scoped>\n",
              "    .dataframe tbody tr th:only-of-type {\n",
              "        vertical-align: middle;\n",
              "    }\n",
              "\n",
              "    .dataframe tbody tr th {\n",
              "        vertical-align: top;\n",
              "    }\n",
              "\n",
              "    .dataframe thead th {\n",
              "        text-align: right;\n",
              "    }\n",
              "</style>\n",
              "<table border=\"1\" class=\"dataframe\">\n",
              "  <thead>\n",
              "    <tr style=\"text-align: right;\">\n",
              "      <th></th>\n",
              "      <th>age</th>\n",
              "      <th>hypertension</th>\n",
              "      <th>heart-disease</th>\n",
              "      <th>avg-glucose-level</th>\n",
              "      <th>bmi</th>\n",
              "      <th>stroke</th>\n",
              "    </tr>\n",
              "  </thead>\n",
              "  <tbody>\n",
              "    <tr>\n",
              "      <th>count</th>\n",
              "      <td>5430.000000</td>\n",
              "      <td>5430.000000</td>\n",
              "      <td>5430.000000</td>\n",
              "      <td>5430.000000</td>\n",
              "      <td>5430.000000</td>\n",
              "      <td>5430.000000</td>\n",
              "    </tr>\n",
              "    <tr>\n",
              "      <th>mean</th>\n",
              "      <td>57.455975</td>\n",
              "      <td>0.107735</td>\n",
              "      <td>0.028177</td>\n",
              "      <td>92.319657</td>\n",
              "      <td>29.136232</td>\n",
              "      <td>0.500000</td>\n",
              "    </tr>\n",
              "    <tr>\n",
              "      <th>std</th>\n",
              "      <td>17.860374</td>\n",
              "      <td>0.310074</td>\n",
              "      <td>0.165493</td>\n",
              "      <td>24.122826</td>\n",
              "      <td>5.021596</td>\n",
              "      <td>0.500046</td>\n",
              "    </tr>\n",
              "    <tr>\n",
              "      <th>min</th>\n",
              "      <td>18.000000</td>\n",
              "      <td>0.000000</td>\n",
              "      <td>0.000000</td>\n",
              "      <td>55.120000</td>\n",
              "      <td>16.000000</td>\n",
              "      <td>0.000000</td>\n",
              "    </tr>\n",
              "    <tr>\n",
              "      <th>25%</th>\n",
              "      <td>45.000000</td>\n",
              "      <td>0.000000</td>\n",
              "      <td>0.000000</td>\n",
              "      <td>74.832516</td>\n",
              "      <td>25.803433</td>\n",
              "      <td>0.000000</td>\n",
              "    </tr>\n",
              "    <tr>\n",
              "      <th>50%</th>\n",
              "      <td>59.000000</td>\n",
              "      <td>0.000000</td>\n",
              "      <td>0.000000</td>\n",
              "      <td>88.808646</td>\n",
              "      <td>28.900000</td>\n",
              "      <td>0.500000</td>\n",
              "    </tr>\n",
              "    <tr>\n",
              "      <th>75%</th>\n",
              "      <td>74.460315</td>\n",
              "      <td>0.000000</td>\n",
              "      <td>0.000000</td>\n",
              "      <td>104.878763</td>\n",
              "      <td>31.603143</td>\n",
              "      <td>1.000000</td>\n",
              "    </tr>\n",
              "    <tr>\n",
              "      <th>max</th>\n",
              "      <td>82.000000</td>\n",
              "      <td>1.000000</td>\n",
              "      <td>1.000000</td>\n",
              "      <td>173.140000</td>\n",
              "      <td>46.000000</td>\n",
              "      <td>1.000000</td>\n",
              "    </tr>\n",
              "  </tbody>\n",
              "</table>\n",
              "</div>"
            ],
            "text/plain": [
              "               age  hypertension  heart-disease  avg-glucose-level  \\\n",
              "count  5430.000000   5430.000000    5430.000000        5430.000000   \n",
              "mean     57.455975      0.107735       0.028177          92.319657   \n",
              "std      17.860374      0.310074       0.165493          24.122826   \n",
              "min      18.000000      0.000000       0.000000          55.120000   \n",
              "25%      45.000000      0.000000       0.000000          74.832516   \n",
              "50%      59.000000      0.000000       0.000000          88.808646   \n",
              "75%      74.460315      0.000000       0.000000         104.878763   \n",
              "max      82.000000      1.000000       1.000000         173.140000   \n",
              "\n",
              "               bmi       stroke  \n",
              "count  5430.000000  5430.000000  \n",
              "mean     29.136232     0.500000  \n",
              "std       5.021596     0.500046  \n",
              "min      16.000000     0.000000  \n",
              "25%      25.803433     0.000000  \n",
              "50%      28.900000     0.500000  \n",
              "75%      31.603143     1.000000  \n",
              "max      46.000000     1.000000  "
            ]
          },
          "execution_count": 303,
          "metadata": {},
          "output_type": "execute_result"
        }
      ],
      "source": [
        "df_balanced.describe()"
      ]
    },
    {
      "cell_type": "markdown",
      "metadata": {},
      "source": [
        "### Graphs"
      ]
    },
    {
      "cell_type": "code",
      "execution_count": 304,
      "metadata": {
        "colab": {
          "base_uri": "https://localhost:8080/",
          "height": 898
        },
        "id": "hYsZoOkATl9t",
        "outputId": "c4536f6f-e670-4a0b-c863-0b56d9acaecb"
      },
      "outputs": [
        {
          "data": {
            "text/plain": [
              "<AxesSubplot:xlabel='stroke', ylabel='count'>"
            ]
          },
          "execution_count": 304,
          "metadata": {},
          "output_type": "execute_result"
        },
        {
          "data": {
            "image/png": "[encoded data removed]",
            "text/plain": [
              "<Figure size 640x480 with 1 Axes>"
            ]
          },
          "metadata": {},
          "output_type": "display_data"
        },
        {
          "data": {
            "image/png": "[encoded data removed]",
            "text/plain": [
              "<Figure size 640x480 with 1 Axes>"
            ]
          },
          "metadata": {},
          "output_type": "display_data"
        }
      ],
      "source": [
        "sns.countplot(x='stroke', data=df)\n",
        "plt.figure()\n",
        "sns.countplot(x='stroke', data=df_balanced)"
      ]
    },
    {
      "cell_type": "markdown",
      "metadata": {},
      "source": [
        "We can clearly see that the dataset is now balanced. The stroke and non-stroke patients are now equally represented in the train dataset."
      ]
    },
    {
      "cell_type": "code",
      "execution_count": 305,
      "metadata": {
        "colab": {
          "base_uri": "https://localhost:8080/",
          "height": 467
        },
        "id": "ijDCoMCCVzUC",
        "outputId": "e6850e62-a123-4086-fa8c-a5ee567d4d7c"
      },
      "outputs": [
        {
          "data": {
            "text/plain": [
              "<AxesSubplot:xlabel='age_bucket', ylabel='percent'>"
            ]
          },
          "execution_count": 305,
          "metadata": {},
          "output_type": "execute_result"
        },
        {
          "data": {
            "image/png": "[encoded data removed]",
            "text/plain": [
              "<Figure size 640x480 with 1 Axes>"
            ]
          },
          "metadata": {},
          "output_type": "display_data"
        }
      ],
      "source": [
        "plt.grid()\n",
        "age_labels = ['18-24', '25-29', '30-34', '35-39', '40-44', '45-49', '50-54', '55-59', '60-64', '65-69', '70-74', '75+']\n",
        "dataset_bal_copy = df_balanced.copy()\n",
        "dataset_bal_copy['age_bucket'] = pd.cut(dataset_bal_copy['age'], bins=[17, 24, 29, 34, 39, 44, 49, 54, 59, 64, 69, 74, 100], labels=age_labels)\n",
        "sns.countplot(x='age_bucket', hue='stroke', order=age_labels, data=dataset_bal_copy, stat='percent')"
      ]
    },
    {
      "cell_type": "markdown",
      "metadata": {},
      "source": [
        "As also observed in the paper, the number of elderly patients who had a stroke is higher than the number of young patients who had a stroke. This is a common observation in the medical field."
      ]
    },
    {
      "cell_type": "code",
      "execution_count": 306,
      "metadata": {
        "colab": {
          "base_uri": "https://localhost:8080/",
          "height": 466
        },
        "id": "e55ZUaX5Yqgn",
        "outputId": "b429ccf5-b1eb-4456-aa1a-e0c5477d7cc8"
      },
      "outputs": [
        {
          "data": {
            "text/plain": [
              "<AxesSubplot:xlabel='hypertension', ylabel='percent'>"
            ]
          },
          "execution_count": 306,
          "metadata": {},
          "output_type": "execute_result"
        },
        {
          "data": {
            "image/png": "[encoded data removed]",
            "text/plain": [
              "<Figure size 640x480 with 1 Axes>"
            ]
          },
          "metadata": {},
          "output_type": "display_data"
        }
      ],
      "source": [
        "sns.countplot(x='hypertension', hue='stroke', data=df_balanced, stat='percent')"
      ]
    },
    {
      "cell_type": "code",
      "execution_count": 307,
      "metadata": {
        "colab": {
          "base_uri": "https://localhost:8080/",
          "height": 466
        },
        "id": "Fw18CXJAY_zU",
        "outputId": "7b5c26f7-8196-45e3-ddec-2490c84eca1a"
      },
      "outputs": [
        {
          "data": {
            "text/plain": [
              "<AxesSubplot:xlabel='heart-disease', ylabel='percent'>"
            ]
          },
          "execution_count": 307,
          "metadata": {},
          "output_type": "execute_result"
        },
        {
          "data": {
            "image/png": "[encoded data removed]",
            "text/plain": [
              "<Figure size 640x480 with 1 Axes>"
            ]
          },
          "metadata": {},
          "output_type": "display_data"
        }
      ],
      "source": [
        "sns.countplot(x='heart-disease', hue='stroke', data=df_balanced, stat='percent')"
      ]
    },
    {
      "cell_type": "markdown",
      "metadata": {},
      "source": [
        "The fact that the heart disesase class seem not to contribute significantly to the model is also observed in the paper. The authors explain it as a possible consequence of the lack of screening. When hearth diseases are not found, they can not be acted on."
      ]
    },
    {
      "cell_type": "code",
      "execution_count": 308,
      "metadata": {
        "colab": {
          "base_uri": "https://localhost:8080/",
          "height": 466
        },
        "id": "N0DUH92OZoo-",
        "outputId": "c0c31bc3-76b9-45ed-ae70-c55d2cfb066b"
      },
      "outputs": [
        {
          "data": {
            "text/plain": [
              "<AxesSubplot:xlabel='smoking-status', ylabel='percent'>"
            ]
          },
          "execution_count": 308,
          "metadata": {},
          "output_type": "execute_result"
        },
        {
          "data": {
            "image/png": "[encoded data removed]",
            "text/plain": [
              "<Figure size 640x480 with 1 Axes>"
            ]
          },
          "metadata": {},
          "output_type": "display_data"
        }
      ],
      "source": [
        "sns.countplot(x='smoking-status', hue='stroke', data=df_balanced, stat='percent')"
      ]
    },
    {
      "cell_type": "code",
      "execution_count": 309,
      "metadata": {
        "colab": {
          "base_uri": "https://localhost:8080/",
          "height": 467
        },
        "id": "W_9l00XaZ7dm",
        "outputId": "060d7b80-c92a-4528-b312-9b73f6011238"
      },
      "outputs": [
        {
          "data": {
            "text/plain": [
              "<AxesSubplot:xlabel='bmi_bucket', ylabel='percent'>"
            ]
          },
          "execution_count": 309,
          "metadata": {},
          "output_type": "execute_result"
        },
        {
          "data": {
            "image/png": "[encoded data removed]",
            "text/plain": [
              "<Figure size 640x480 with 1 Axes>"
            ]
          },
          "metadata": {},
          "output_type": "display_data"
        }
      ],
      "source": [
        "bmi_labels = ['Underweight', 'Normal', 'Overweight', 'Obese I', 'Obese II', 'Obese III']\n",
        "dataset_bal_copy['bmi_bucket'] = pd.cut(dataset_bal_copy['bmi'], bins=[0, 18.5, 24.9, 29.9, 34.9, 39.9, 100], labels=bmi_labels)\n",
        "sns.countplot(x='bmi_bucket', hue='stroke',order=bmi_labels,  data=dataset_bal_copy, stat='percent')"
      ]
    },
    {
      "cell_type": "code",
      "execution_count": 310,
      "metadata": {
        "colab": {
          "base_uri": "https://localhost:8080/",
          "height": 466
        },
        "id": "_lD7I_9Had1x",
        "outputId": "80658de1-3dd5-45c8-9408-d244ae72336b"
      },
      "outputs": [
        {
          "data": {
            "text/plain": [
              "<AxesSubplot:xlabel='Residence-type', ylabel='percent'>"
            ]
          },
          "execution_count": 310,
          "metadata": {},
          "output_type": "execute_result"
        },
        {
          "data": {
            "image/png": "[encoded data removed]",
            "text/plain": [
              "<Figure size 640x480 with 1 Axes>"
            ]
          },
          "metadata": {},
          "output_type": "display_data"
        }
      ],
      "source": [
        "sns.countplot(x='Residence-type', hue='stroke', data=df_balanced, stat='percent')"
      ]
    },
    {
      "cell_type": "code",
      "execution_count": 311,
      "metadata": {
        "colab": {
          "base_uri": "https://localhost:8080/",
          "height": 467
        },
        "id": "RpYPpv-IazF5",
        "outputId": "269729d6-0ef6-4078-86f9-0b2536ae5af5"
      },
      "outputs": [
        {
          "data": {
            "text/plain": [
              "<AxesSubplot:xlabel='work-type', ylabel='percent'>"
            ]
          },
          "execution_count": 311,
          "metadata": {},
          "output_type": "execute_result"
        },
        {
          "data": {
            "image/png": "[encoded data removed]",
            "text/plain": [
              "<Figure size 640x480 with 1 Axes>"
            ]
          },
          "metadata": {},
          "output_type": "display_data"
        }
      ],
      "source": [
        "sns.countplot(x='work-type', hue='stroke', data=df_balanced, stat='percent')"
      ]
    },
    {
      "cell_type": "markdown",
      "metadata": {},
      "source": [
        "The private sector seems to have a higher number of stroke patients."
      ]
    },
    {
      "cell_type": "code",
      "execution_count": 312,
      "metadata": {
        "colab": {
          "base_uri": "https://localhost:8080/",
          "height": 466
        },
        "id": "0eMLYbzYa8t_",
        "outputId": "9f582e4f-291a-488d-f3f4-11a7aed6c661"
      },
      "outputs": [
        {
          "data": {
            "text/plain": [
              "<AxesSubplot:xlabel='gender', ylabel='percent'>"
            ]
          },
          "execution_count": 312,
          "metadata": {},
          "output_type": "execute_result"
        },
        {
          "data": {
            "image/png": "[encoded data removed]",
            "text/plain": [
              "<Figure size 640x480 with 1 Axes>"
            ]
          },
          "metadata": {},
          "output_type": "display_data"
        }
      ],
      "source": [
        "sns.countplot(x='gender', hue='stroke', data=df_balanced, stat='percent')"
      ]
    },
    {
      "cell_type": "markdown",
      "metadata": {},
      "source": [
        "Before proceding, we may also visualize the features correlation with a heatmap"
      ]
    },
    {
      "cell_type": "code",
      "execution_count": 313,
      "metadata": {},
      "outputs": [
        {
          "data": {
            "text/html": [
              "<div>\n",
              "<style scoped>\n",
              "    .dataframe tbody tr th:only-of-type {\n",
              "        vertical-align: middle;\n",
              "    }\n",
              "\n",
              "    .dataframe tbody tr th {\n",
              "        vertical-align: top;\n",
              "    }\n",
              "\n",
              "    .dataframe thead th {\n",
              "        text-align: right;\n",
              "    }\n",
              "</style>\n",
              "<table border=\"1\" class=\"dataframe\">\n",
              "  <thead>\n",
              "    <tr style=\"text-align: right;\">\n",
              "      <th></th>\n",
              "      <th>gender</th>\n",
              "      <th>age</th>\n",
              "      <th>hypertension</th>\n",
              "      <th>heart-disease</th>\n",
              "      <th>ever-married</th>\n",
              "      <th>work-type</th>\n",
              "      <th>Residence-type</th>\n",
              "      <th>avg-glucose-level</th>\n",
              "      <th>bmi</th>\n",
              "      <th>smoking-status</th>\n",
              "      <th>stroke</th>\n",
              "    </tr>\n",
              "  </thead>\n",
              "  <tbody>\n",
              "    <tr>\n",
              "      <th>0</th>\n",
              "      <td>Male</td>\n",
              "      <td>59.0</td>\n",
              "      <td>0</td>\n",
              "      <td>0</td>\n",
              "      <td>Yes</td>\n",
              "      <td>Private</td>\n",
              "      <td>Rural</td>\n",
              "      <td>69.37</td>\n",
              "      <td>26.9</td>\n",
              "      <td>formerly smoked</td>\n",
              "      <td>0</td>\n",
              "    </tr>\n",
              "    <tr>\n",
              "      <th>1</th>\n",
              "      <td>Female</td>\n",
              "      <td>32.0</td>\n",
              "      <td>0</td>\n",
              "      <td>0</td>\n",
              "      <td>Yes</td>\n",
              "      <td>Private</td>\n",
              "      <td>Rural</td>\n",
              "      <td>77.67</td>\n",
              "      <td>32.3</td>\n",
              "      <td>smokes</td>\n",
              "      <td>0</td>\n",
              "    </tr>\n",
              "    <tr>\n",
              "      <th>2</th>\n",
              "      <td>Male</td>\n",
              "      <td>48.0</td>\n",
              "      <td>0</td>\n",
              "      <td>0</td>\n",
              "      <td>No</td>\n",
              "      <td>Govt_job</td>\n",
              "      <td>Urban</td>\n",
              "      <td>84.20</td>\n",
              "      <td>29.7</td>\n",
              "      <td>never smoked</td>\n",
              "      <td>1</td>\n",
              "    </tr>\n",
              "    <tr>\n",
              "      <th>3</th>\n",
              "      <td>Male</td>\n",
              "      <td>37.0</td>\n",
              "      <td>0</td>\n",
              "      <td>0</td>\n",
              "      <td>Yes</td>\n",
              "      <td>Private</td>\n",
              "      <td>Urban</td>\n",
              "      <td>79.56</td>\n",
              "      <td>25.2</td>\n",
              "      <td>never smoked</td>\n",
              "      <td>0</td>\n",
              "    </tr>\n",
              "    <tr>\n",
              "      <th>4</th>\n",
              "      <td>Male</td>\n",
              "      <td>40.0</td>\n",
              "      <td>0</td>\n",
              "      <td>0</td>\n",
              "      <td>Yes</td>\n",
              "      <td>Self-employed</td>\n",
              "      <td>Rural</td>\n",
              "      <td>65.29</td>\n",
              "      <td>28.3</td>\n",
              "      <td>never smoked</td>\n",
              "      <td>0</td>\n",
              "    </tr>\n",
              "  </tbody>\n",
              "</table>\n",
              "</div>"
            ],
            "text/plain": [
              "   gender   age  hypertension  heart-disease ever-married      work-type  \\\n",
              "0    Male  59.0             0              0          Yes        Private   \n",
              "1  Female  32.0             0              0          Yes        Private   \n",
              "2    Male  48.0             0              0           No       Govt_job   \n",
              "3    Male  37.0             0              0          Yes        Private   \n",
              "4    Male  40.0             0              0          Yes  Self-employed   \n",
              "\n",
              "  Residence-type  avg-glucose-level   bmi   smoking-status  stroke  \n",
              "0          Rural              69.37  26.9  formerly smoked       0  \n",
              "1          Rural              77.67  32.3           smokes       0  \n",
              "2          Urban              84.20  29.7     never smoked       1  \n",
              "3          Urban              79.56  25.2     never smoked       0  \n",
              "4          Rural              65.29  28.3     never smoked       0  "
            ]
          },
          "execution_count": 313,
          "metadata": {},
          "output_type": "execute_result"
        }
      ],
      "source": [
        "df_balanced.head()"
      ]
    },
    {
      "cell_type": "markdown",
      "metadata": {},
      "source": [
        "By plotting the correlation between the features, we can see that there is no strong correlation between the features. This is good because it means that the features are independent of each other."
      ]
    },
    {
      "cell_type": "markdown",
      "metadata": {},
      "source": [
        "## Feature Ranking"
      ]
    },
    {
      "cell_type": "code",
      "execution_count": 314,
      "metadata": {},
      "outputs": [
        {
          "data": {
            "text/html": [
              "<div>\n",
              "<style scoped>\n",
              "    .dataframe tbody tr th:only-of-type {\n",
              "        vertical-align: middle;\n",
              "    }\n",
              "\n",
              "    .dataframe tbody tr th {\n",
              "        vertical-align: top;\n",
              "    }\n",
              "\n",
              "    .dataframe thead th {\n",
              "        text-align: right;\n",
              "    }\n",
              "</style>\n",
              "<table border=\"1\" class=\"dataframe\">\n",
              "  <thead>\n",
              "    <tr style=\"text-align: right;\">\n",
              "      <th></th>\n",
              "      <th>gender</th>\n",
              "      <th>age</th>\n",
              "      <th>hypertension</th>\n",
              "      <th>heart-disease</th>\n",
              "      <th>ever-married</th>\n",
              "      <th>work-type</th>\n",
              "      <th>Residence-type</th>\n",
              "      <th>avg-glucose-level</th>\n",
              "      <th>bmi</th>\n",
              "      <th>smoking-status</th>\n",
              "    </tr>\n",
              "  </thead>\n",
              "  <tbody>\n",
              "    <tr>\n",
              "      <th>0</th>\n",
              "      <td>Male</td>\n",
              "      <td>59.0</td>\n",
              "      <td>0</td>\n",
              "      <td>0</td>\n",
              "      <td>Yes</td>\n",
              "      <td>Private</td>\n",
              "      <td>Rural</td>\n",
              "      <td>69.37</td>\n",
              "      <td>26.9</td>\n",
              "      <td>formerly smoked</td>\n",
              "    </tr>\n",
              "    <tr>\n",
              "      <th>1</th>\n",
              "      <td>Female</td>\n",
              "      <td>32.0</td>\n",
              "      <td>0</td>\n",
              "      <td>0</td>\n",
              "      <td>Yes</td>\n",
              "      <td>Private</td>\n",
              "      <td>Rural</td>\n",
              "      <td>77.67</td>\n",
              "      <td>32.3</td>\n",
              "      <td>smokes</td>\n",
              "    </tr>\n",
              "    <tr>\n",
              "      <th>2</th>\n",
              "      <td>Male</td>\n",
              "      <td>48.0</td>\n",
              "      <td>0</td>\n",
              "      <td>0</td>\n",
              "      <td>No</td>\n",
              "      <td>Govt_job</td>\n",
              "      <td>Urban</td>\n",
              "      <td>84.20</td>\n",
              "      <td>29.7</td>\n",
              "      <td>never smoked</td>\n",
              "    </tr>\n",
              "    <tr>\n",
              "      <th>3</th>\n",
              "      <td>Male</td>\n",
              "      <td>37.0</td>\n",
              "      <td>0</td>\n",
              "      <td>0</td>\n",
              "      <td>Yes</td>\n",
              "      <td>Private</td>\n",
              "      <td>Urban</td>\n",
              "      <td>79.56</td>\n",
              "      <td>25.2</td>\n",
              "      <td>never smoked</td>\n",
              "    </tr>\n",
              "    <tr>\n",
              "      <th>4</th>\n",
              "      <td>Male</td>\n",
              "      <td>40.0</td>\n",
              "      <td>0</td>\n",
              "      <td>0</td>\n",
              "      <td>Yes</td>\n",
              "      <td>Self-employed</td>\n",
              "      <td>Rural</td>\n",
              "      <td>65.29</td>\n",
              "      <td>28.3</td>\n",
              "      <td>never smoked</td>\n",
              "    </tr>\n",
              "  </tbody>\n",
              "</table>\n",
              "</div>"
            ],
            "text/plain": [
              "   gender   age  hypertension  heart-disease ever-married      work-type  \\\n",
              "0    Male  59.0             0              0          Yes        Private   \n",
              "1  Female  32.0             0              0          Yes        Private   \n",
              "2    Male  48.0             0              0           No       Govt_job   \n",
              "3    Male  37.0             0              0          Yes        Private   \n",
              "4    Male  40.0             0              0          Yes  Self-employed   \n",
              "\n",
              "  Residence-type  avg-glucose-level   bmi   smoking-status  \n",
              "0          Rural              69.37  26.9  formerly smoked  \n",
              "1          Rural              77.67  32.3           smokes  \n",
              "2          Urban              84.20  29.7     never smoked  \n",
              "3          Urban              79.56  25.2     never smoked  \n",
              "4          Rural              65.29  28.3     never smoked  "
            ]
          },
          "execution_count": 314,
          "metadata": {},
          "output_type": "execute_result"
        }
      ],
      "source": [
        "X_train.head()"
      ]
    },
    {
      "cell_type": "code",
      "execution_count": 315,
      "metadata": {},
      "outputs": [
        {
          "data": {
            "text/plain": [
              "<AxesSubplot:xlabel='stroke', ylabel='count'>"
            ]
          },
          "execution_count": 315,
          "metadata": {},
          "output_type": "execute_result"
        },
        {
          "data": {
            "image/png": "[encoded data removed]",
            "text/plain": [
              "<Figure size 640x480 with 1 Axes>"
            ]
          },
          "metadata": {},
          "output_type": "display_data"
        }
      ],
      "source": [
        "df_train = X_train.copy()\n",
        "df_train['stroke'] = y_train\n",
        "\n",
        "sns.countplot(x='stroke', data=df_train)"
      ]
    },
    {
      "cell_type": "markdown",
      "metadata": {},
      "source": [
        "### Apply the random forest classifier to select the most important features"
      ]
    },
    {
      "cell_type": "markdown",
      "metadata": {},
      "source": [
        "We start with the preprocessing part"
      ]
    },
    {
      "cell_type": "code",
      "execution_count": 316,
      "metadata": {},
      "outputs": [],
      "source": [
        "X_tmp = X_train.copy()\n",
        "y_tmp = y_train.copy()\n",
        "\n",
        "# Apply one hot encoding to cathegorical features\n",
        "dummies = pd.get_dummies(X_tmp[cathegorical_features]) \n",
        "X_tmp = X_tmp.drop(cathegorical_features, axis=1)\n",
        "X_tmp = pd.concat([X_tmp, dummies], axis=1)\n",
        "\n",
        "tmp_features = X_tmp.columns\n",
        "\n",
        "# Apply ordinal encoding to binary features\n",
        "oe = OrdinalEncoder()\n",
        "X_tmp[binary_features] = oe.fit_transform(X_tmp[binary_features])\n",
        "\n",
        "# Normalize the data\n",
        "scaler = RobustScaler()\n",
        "X_tmp = scaler.fit_transform(X_tmp)"
      ]
    },
    {
      "cell_type": "markdown",
      "metadata": {},
      "source": [
        "We procede training the random forest classifier"
      ]
    },
    {
      "cell_type": "code",
      "execution_count": 317,
      "metadata": {},
      "outputs": [
        {
          "name": "stdout",
          "output_type": "stream",
          "text": [
            "{'heart-disease': 0.017614480093820037, 'hypertension': 0.020840119298845997, 'gender': 0.028237003155267473, 'Residence-type': 0.032749138322165, 'smoking-status': 0.041419921324024556, 'work-type': 0.052211442911743754, 'ever-married': 0.0523970284642608, 'bmi': 0.15162870531812192, 'avg-glucose-level': 0.20632669956630598, 'age': 0.39657546154544465}\n"
          ]
        },
        {
          "data": {
            "text/plain": [
              "<BarContainer object of 10 artists>"
            ]
          },
          "execution_count": 317,
          "metadata": {},
          "output_type": "execute_result"
        },
        {
          "data": {
            "image/png": "[encoded data removed]",
            "text/plain": [
              "<Figure size 640x480 with 1 Axes>"
            ]
          },
          "metadata": {},
          "output_type": "display_data"
        }
      ],
      "source": [
        "from sklearn.ensemble import RandomForestClassifier\n",
        "\n",
        "dataset_features = df.columns[:-1]\n",
        "\n",
        "rf_classifier = RandomForestClassifier(random_state=42)\n",
        "\n",
        "importances = dict()\n",
        "for f in dataset_features:\n",
        "    importances[f] = 0\n",
        "\n",
        "rf_classifier.fit(X_tmp, y_train)\n",
        "\n",
        "feature_importance = list(zip(tmp_features, rf_classifier.feature_importances_))\n",
        "\n",
        "for f in dataset_features:\n",
        "    for f2, imp in feature_importance:\n",
        "        if f in f2:\n",
        "            importances[f] += imp\n",
        "    \n",
        "\n",
        "importances = dict(sorted(importances.items(), key=lambda item: item[1]))\n",
        "print(importances)    \n",
        "plt.barh([k for k, _ in importances.items()],[v for _, v in importances.items()])"
      ]
    },
    {
      "cell_type": "markdown",
      "metadata": {},
      "source": [
        "We continue with the feature ranking"
      ]
    },
    {
      "cell_type": "code",
      "execution_count": 318,
      "metadata": {},
      "outputs": [
        {
          "name": "stdout",
          "output_type": "stream",
          "text": [
            "{'hypertension': 0.0, 'Residence-type': 0.0003209266967276747, 'gender': 0.001453726674587763, 'heart-disease': 0.016870228739164883, 'smoking-status': 0.017287587817683248, 'work-type': 0.03441825657301245, 'avg-glucose-level': 0.044407383006991985, 'ever-married': 0.06195996232036838, 'bmi': 0.4307600376556333, 'age': 0.5197169071347214}\n"
          ]
        },
        {
          "data": {
            "image/png": "[encoded data removed]",
            "text/plain": [
              "<Figure size 640x480 with 1 Axes>"
            ]
          },
          "metadata": {},
          "output_type": "display_data"
        }
      ],
      "source": [
        "from sklearn.feature_selection import mutual_info_classif\n",
        "\n",
        "mi = mutual_info_classif(X_tmp, y_tmp, random_state=42)\n",
        "\n",
        "feature_importance = list(zip(tmp_features, mi))\n",
        "importances = dict()\n",
        "for f in dataset_features:\n",
        "    importances[f] = 0\n",
        "\n",
        "for f in dataset_features:\n",
        "    for f2, imp in feature_importance:\n",
        "        if f in f2:\n",
        "            importances[f] += imp\n",
        "\n",
        "\n",
        "importances = dict(sorted(importances.items(), key=lambda item: item[1]))            \n",
        "plt.barh([k for k, _ in importances.items()],[v for _, v in importances.items()])\n",
        "print(importances)"
      ]
    },
    {
      "cell_type": "markdown",
      "metadata": {},
      "source": [
        "Both models predict Age to be the the most influent feature in the prediction of stroke. This is consistent with the paper. Also hypertension is among the least important features in both models. This is also consistent with the paper."
      ]
    },
    {
      "cell_type": "markdown",
      "metadata": {},
      "source": [
        "## Model training\n",
        "\n",
        "In this section we will train each model, as specified by the paper and we will compute the specified metrics."
      ]
    },
    {
      "cell_type": "code",
      "execution_count": 319,
      "metadata": {},
      "outputs": [],
      "source": [
        "# metrics list\n",
        "confusion_matrices = dict()\n",
        "cross_val_scores_mean = dict()\n",
        "accuracy = dict()\n",
        "precision = dict()\n",
        "recall = dict()\n",
        "\n",
        "F_metric = dict()\n",
        "auc_score = dict()"
      ]
    },
    {
      "cell_type": "code",
      "execution_count": 320,
      "metadata": {},
      "outputs": [
        {
          "name": "stdout",
          "output_type": "stream",
          "text": [
            "(5430, 10)\n"
          ]
        },
        {
          "data": {
            "text/html": [
              "<div>\n",
              "<style scoped>\n",
              "    .dataframe tbody tr th:only-of-type {\n",
              "        vertical-align: middle;\n",
              "    }\n",
              "\n",
              "    .dataframe tbody tr th {\n",
              "        vertical-align: top;\n",
              "    }\n",
              "\n",
              "    .dataframe thead th {\n",
              "        text-align: right;\n",
              "    }\n",
              "</style>\n",
              "<table border=\"1\" class=\"dataframe\">\n",
              "  <thead>\n",
              "    <tr style=\"text-align: right;\">\n",
              "      <th></th>\n",
              "      <th>gender</th>\n",
              "      <th>age</th>\n",
              "      <th>hypertension</th>\n",
              "      <th>heart-disease</th>\n",
              "      <th>ever-married</th>\n",
              "      <th>work-type</th>\n",
              "      <th>Residence-type</th>\n",
              "      <th>avg-glucose-level</th>\n",
              "      <th>bmi</th>\n",
              "      <th>smoking-status</th>\n",
              "    </tr>\n",
              "  </thead>\n",
              "  <tbody>\n",
              "    <tr>\n",
              "      <th>0</th>\n",
              "      <td>Male</td>\n",
              "      <td>59.0</td>\n",
              "      <td>0</td>\n",
              "      <td>0</td>\n",
              "      <td>Yes</td>\n",
              "      <td>Private</td>\n",
              "      <td>Rural</td>\n",
              "      <td>69.37</td>\n",
              "      <td>26.9</td>\n",
              "      <td>formerly smoked</td>\n",
              "    </tr>\n",
              "    <tr>\n",
              "      <th>1</th>\n",
              "      <td>Female</td>\n",
              "      <td>32.0</td>\n",
              "      <td>0</td>\n",
              "      <td>0</td>\n",
              "      <td>Yes</td>\n",
              "      <td>Private</td>\n",
              "      <td>Rural</td>\n",
              "      <td>77.67</td>\n",
              "      <td>32.3</td>\n",
              "      <td>smokes</td>\n",
              "    </tr>\n",
              "    <tr>\n",
              "      <th>2</th>\n",
              "      <td>Male</td>\n",
              "      <td>48.0</td>\n",
              "      <td>0</td>\n",
              "      <td>0</td>\n",
              "      <td>No</td>\n",
              "      <td>Govt_job</td>\n",
              "      <td>Urban</td>\n",
              "      <td>84.20</td>\n",
              "      <td>29.7</td>\n",
              "      <td>never smoked</td>\n",
              "    </tr>\n",
              "    <tr>\n",
              "      <th>3</th>\n",
              "      <td>Male</td>\n",
              "      <td>37.0</td>\n",
              "      <td>0</td>\n",
              "      <td>0</td>\n",
              "      <td>Yes</td>\n",
              "      <td>Private</td>\n",
              "      <td>Urban</td>\n",
              "      <td>79.56</td>\n",
              "      <td>25.2</td>\n",
              "      <td>never smoked</td>\n",
              "    </tr>\n",
              "    <tr>\n",
              "      <th>4</th>\n",
              "      <td>Male</td>\n",
              "      <td>40.0</td>\n",
              "      <td>0</td>\n",
              "      <td>0</td>\n",
              "      <td>Yes</td>\n",
              "      <td>Self-employed</td>\n",
              "      <td>Rural</td>\n",
              "      <td>65.29</td>\n",
              "      <td>28.3</td>\n",
              "      <td>never smoked</td>\n",
              "    </tr>\n",
              "  </tbody>\n",
              "</table>\n",
              "</div>"
            ],
            "text/plain": [
              "   gender   age  hypertension  heart-disease ever-married      work-type  \\\n",
              "0    Male  59.0             0              0          Yes        Private   \n",
              "1  Female  32.0             0              0          Yes        Private   \n",
              "2    Male  48.0             0              0           No       Govt_job   \n",
              "3    Male  37.0             0              0          Yes        Private   \n",
              "4    Male  40.0             0              0          Yes  Self-employed   \n",
              "\n",
              "  Residence-type  avg-glucose-level   bmi   smoking-status  \n",
              "0          Rural              69.37  26.9  formerly smoked  \n",
              "1          Rural              77.67  32.3           smokes  \n",
              "2          Urban              84.20  29.7     never smoked  \n",
              "3          Urban              79.56  25.2     never smoked  \n",
              "4          Rural              65.29  28.3     never smoked  "
            ]
          },
          "execution_count": 320,
          "metadata": {},
          "output_type": "execute_result"
        }
      ],
      "source": [
        "print(X_train.shape)\n",
        "X_train.head()"
      ]
    },
    {
      "cell_type": "code",
      "execution_count": 321,
      "metadata": {},
      "outputs": [
        {
          "name": "stdout",
          "output_type": "stream",
          "text": [
            "(713, 10)\n"
          ]
        },
        {
          "data": {
            "text/html": [
              "<div>\n",
              "<style scoped>\n",
              "    .dataframe tbody tr th:only-of-type {\n",
              "        vertical-align: middle;\n",
              "    }\n",
              "\n",
              "    .dataframe tbody tr th {\n",
              "        vertical-align: top;\n",
              "    }\n",
              "\n",
              "    .dataframe thead th {\n",
              "        text-align: right;\n",
              "    }\n",
              "</style>\n",
              "<table border=\"1\" class=\"dataframe\">\n",
              "  <thead>\n",
              "    <tr style=\"text-align: right;\">\n",
              "      <th></th>\n",
              "      <th>gender</th>\n",
              "      <th>age</th>\n",
              "      <th>hypertension</th>\n",
              "      <th>heart-disease</th>\n",
              "      <th>ever-married</th>\n",
              "      <th>work-type</th>\n",
              "      <th>Residence-type</th>\n",
              "      <th>avg-glucose-level</th>\n",
              "      <th>bmi</th>\n",
              "      <th>smoking-status</th>\n",
              "    </tr>\n",
              "  </thead>\n",
              "  <tbody>\n",
              "    <tr>\n",
              "      <th>3330</th>\n",
              "      <td>Female</td>\n",
              "      <td>56.0</td>\n",
              "      <td>0</td>\n",
              "      <td>0</td>\n",
              "      <td>Yes</td>\n",
              "      <td>Private</td>\n",
              "      <td>Urban</td>\n",
              "      <td>80.08</td>\n",
              "      <td>25.6</td>\n",
              "      <td>never smoked</td>\n",
              "    </tr>\n",
              "    <tr>\n",
              "      <th>1291</th>\n",
              "      <td>Female</td>\n",
              "      <td>50.0</td>\n",
              "      <td>0</td>\n",
              "      <td>0</td>\n",
              "      <td>Yes</td>\n",
              "      <td>Govt_job</td>\n",
              "      <td>Urban</td>\n",
              "      <td>74.72</td>\n",
              "      <td>28.5</td>\n",
              "      <td>never smoked</td>\n",
              "    </tr>\n",
              "    <tr>\n",
              "      <th>2275</th>\n",
              "      <td>Female</td>\n",
              "      <td>82.0</td>\n",
              "      <td>0</td>\n",
              "      <td>0</td>\n",
              "      <td>Yes</td>\n",
              "      <td>Self-employed</td>\n",
              "      <td>Rural</td>\n",
              "      <td>117.75</td>\n",
              "      <td>29.8</td>\n",
              "      <td>never smoked</td>\n",
              "    </tr>\n",
              "    <tr>\n",
              "      <th>1677</th>\n",
              "      <td>Female</td>\n",
              "      <td>54.0</td>\n",
              "      <td>0</td>\n",
              "      <td>0</td>\n",
              "      <td>Yes</td>\n",
              "      <td>Private</td>\n",
              "      <td>Urban</td>\n",
              "      <td>75.09</td>\n",
              "      <td>38.9</td>\n",
              "      <td>formerly smoked</td>\n",
              "    </tr>\n",
              "    <tr>\n",
              "      <th>1566</th>\n",
              "      <td>Male</td>\n",
              "      <td>76.0</td>\n",
              "      <td>0</td>\n",
              "      <td>1</td>\n",
              "      <td>Yes</td>\n",
              "      <td>Self-employed</td>\n",
              "      <td>Rural</td>\n",
              "      <td>101.43</td>\n",
              "      <td>29.1</td>\n",
              "      <td>never smoked</td>\n",
              "    </tr>\n",
              "  </tbody>\n",
              "</table>\n",
              "</div>"
            ],
            "text/plain": [
              "      gender   age  hypertension  heart-disease ever-married      work-type  \\\n",
              "3330  Female  56.0             0              0          Yes        Private   \n",
              "1291  Female  50.0             0              0          Yes       Govt_job   \n",
              "2275  Female  82.0             0              0          Yes  Self-employed   \n",
              "1677  Female  54.0             0              0          Yes        Private   \n",
              "1566    Male  76.0             0              1          Yes  Self-employed   \n",
              "\n",
              "     Residence-type  avg-glucose-level   bmi   smoking-status  \n",
              "3330          Urban              80.08  25.6     never smoked  \n",
              "1291          Urban              74.72  28.5     never smoked  \n",
              "2275          Rural             117.75  29.8     never smoked  \n",
              "1677          Urban              75.09  38.9  formerly smoked  \n",
              "1566          Rural             101.43  29.1     never smoked  "
            ]
          },
          "execution_count": 321,
          "metadata": {},
          "output_type": "execute_result"
        }
      ],
      "source": [
        "print(X_test.shape)\n",
        "X_test.head()"
      ]
    },
    {
      "cell_type": "code",
      "execution_count": 322,
      "metadata": {},
      "outputs": [
        {
          "name": "stdout",
          "output_type": "stream",
          "text": [
            "Best accuracy score - cross validated: 0.70 (std: 0.02)\n",
            "Best precision score - cross validated: 0.64 (std: 0.01)\n",
            "Best recall score - cross validated: 0.93 (std: 0.04)\n",
            "Best f1 score - cross validated: 0.75 (std: 0.02)\n",
            "Best roc_auc score - cross validated: 0.70 (std: 0.02)\n",
            "Best Parameters :  {'var_smoothing': 1e-06}\n",
            "\n",
            "10-fold cross validation score:  0.6961118949424787\n",
            "Accuracy:  0.4670406732117812\n",
            "Precision:  0.05141388174807198\n",
            "Recall:  0.6451612903225806\n",
            "F1 score:  0.09523809523809523\n",
            "AUC:  0.5520527859237536\n",
            "\n",
            "              precision    recall  f1-score   support\n",
            "\n",
            "           0       0.97      0.46      0.62       682\n",
            "           1       0.05      0.65      0.10        31\n",
            "\n",
            "    accuracy                           0.47       713\n",
            "   macro avg       0.51      0.55      0.36       713\n",
            "weighted avg       0.93      0.47      0.60       713\n",
            "\n",
            "----------------\n",
            "\n",
            "Best accuracy score - cross validated: 0.77 (std: 0.02)\n",
            "Best precision score - cross validated: 0.75 (std: 0.01)\n",
            "Best recall score - cross validated: 0.80 (std: 0.05)\n",
            "Best f1 score - cross validated: 0.77 (std: 0.02)\n",
            "Best roc_auc score - cross validated: 0.77 (std: 0.02)\n",
            "Best Parameters :  {'C': 0.5, 'max_iter': 1000, 'random_state': 0, 'solver': 'newton-cg'}\n",
            "\n",
            "10-fold cross validation score:  0.7671939439982636\n",
            "Accuracy:  0.7026647966339411\n",
            "Precision:  0.0867579908675799\n",
            "Recall:  0.6129032258064516\n",
            "F1 score:  0.152\n",
            "AUC:  0.6598240469208211\n",
            "\n",
            "              precision    recall  f1-score   support\n",
            "\n",
            "           0       0.98      0.71      0.82       682\n",
            "           1       0.09      0.61      0.15        31\n",
            "\n",
            "    accuracy                           0.70       713\n",
            "   macro avg       0.53      0.66      0.49       713\n",
            "weighted avg       0.94      0.70      0.79       713\n",
            "\n",
            "----------------\n",
            "\n",
            "Best accuracy score - cross validated: 0.76 (std: 0.02)\n",
            "Best precision score - cross validated: 0.77 (std: 0.03)\n",
            "Best recall score - cross validated: 0.91 (std: 0.04)\n",
            "Best f1 score - cross validated: 0.79 (std: 0.02)\n",
            "Best roc_auc score - cross validated: 0.76 (std: 0.02)\n",
            "Best Parameters :  {'alpha': 0.0001, 'loss': 'modified_huber', 'penalty': 'l1'}\n",
            "\n",
            "10-fold cross validation score:  0.7620679129585413\n",
            "Accuracy:  0.876577840112202\n",
            "Precision:  0.09859154929577464\n",
            "Recall:  0.22580645161290322\n",
            "F1 score:  0.13725490196078433\n",
            "AUC:  0.5659824046920822\n",
            "\n",
            "              precision    recall  f1-score   support\n",
            "\n",
            "           0       0.96      0.91      0.93       682\n",
            "           1       0.10      0.23      0.14        31\n",
            "\n",
            "    accuracy                           0.88       713\n",
            "   macro avg       0.53      0.57      0.54       713\n",
            "weighted avg       0.93      0.88      0.90       713\n",
            "\n",
            "----------------\n",
            "\n",
            "Best accuracy score - cross validated: 0.88 (std: 0.01)\n",
            "Best precision score - cross validated: 0.89 (std: 0.02)\n",
            "Best recall score - cross validated: 0.98 (std: 0.01)\n",
            "Best f1 score - cross validated: 0.89 (std: 0.01)\n",
            "Best roc_auc score - cross validated: 0.88 (std: 0.01)\n",
            "Best Parameters :  {'metric': 'manhattan', 'n_neighbors': 3, 'weights': 'distance'}\n",
            "\n",
            "10-fold cross validation score:  0.8753269481224224\n",
            "Accuracy:  0.7531556802244039\n",
            "Precision:  0.09497206703910614\n",
            "Recall:  0.5483870967741935\n",
            "F1 score:  0.1619047619047619\n",
            "AUC:  0.655425219941349\n",
            "\n",
            "              precision    recall  f1-score   support\n",
            "\n",
            "           0       0.97      0.76      0.86       682\n",
            "           1       0.09      0.55      0.16        31\n",
            "\n",
            "    accuracy                           0.75       713\n",
            "   macro avg       0.53      0.66      0.51       713\n",
            "weighted avg       0.94      0.75      0.83       713\n",
            "\n",
            "----------------\n",
            "\n",
            "Best accuracy score - cross validated: 0.91 (std: 0.03)\n",
            "Best precision score - cross validated: 0.90 (std: 0.02)\n",
            "Best recall score - cross validated: 0.92 (std: 0.06)\n",
            "Best f1 score - cross validated: 0.91 (std: 0.03)\n",
            "Best roc_auc score - cross validated: 0.91 (std: 0.03)\n",
            "Best Parameters :  {'criterion': 'entropy', 'random_state': 0}\n",
            "\n",
            "10-fold cross validation score:  0.9053322389841545\n",
            "Accuracy:  0.8751753155680224\n",
            "Precision:  0.08571428571428572\n",
            "Recall:  0.1935483870967742\n",
            "F1 score:  0.1188118811881188\n",
            "AUC:  0.5498533724340177\n",
            "\n",
            "              precision    recall  f1-score   support\n",
            "\n",
            "           0       0.96      0.91      0.93       682\n",
            "           1       0.09      0.19      0.12        31\n",
            "\n",
            "    accuracy                           0.88       713\n",
            "   macro avg       0.52      0.55      0.53       713\n",
            "weighted avg       0.92      0.88      0.90       713\n",
            "\n",
            "----------------\n",
            "\n",
            "Best accuracy score - cross validated: 0.94 (std: 0.03)\n",
            "Best precision score - cross validated: 0.93 (std: 0.01)\n",
            "Best recall score - cross validated: 0.96 (std: 0.06)\n",
            "Best f1 score - cross validated: 0.94 (std: 0.03)\n",
            "Best roc_auc score - cross validated: 0.94 (std: 0.03)\n",
            "Best Parameters :  {'criterion': 'entropy', 'n_estimators': 150, 'random_state': 0}\n",
            "\n",
            "10-fold cross validation score:  0.94362722487519\n",
            "Accuracy:  0.8892005610098177\n",
            "Precision:  0.05555555555555555\n",
            "Recall:  0.0967741935483871\n",
            "F1 score:  0.07058823529411765\n",
            "AUC:  0.5109970674486802\n",
            "\n",
            "              precision    recall  f1-score   support\n",
            "\n",
            "           0       0.96      0.93      0.94       682\n",
            "           1       0.06      0.10      0.07        31\n",
            "\n",
            "    accuracy                           0.89       713\n",
            "   macro avg       0.51      0.51      0.51       713\n",
            "weighted avg       0.92      0.89      0.90       713\n",
            "\n",
            "----------------\n",
            "\n",
            "Best accuracy score - cross validated: 0.88 (std: 0.03)\n",
            "Best precision score - cross validated: 0.85 (std: 0.02)\n",
            "Best recall score - cross validated: 0.92 (std: 0.06)\n",
            "Best f1 score - cross validated: 0.88 (std: 0.03)\n",
            "Best roc_auc score - cross validated: 0.88 (std: 0.03)\n",
            "Best Parameters :  {'activation': 'tanh', 'hidden_layer_sizes': (25,), 'learning_rate': 'constant', 'learning_rate_init': 0.003, 'max_iter': 500, 'momentum': 0.2}\n",
            "\n",
            "10-fold cross validation score:  0.8751132787063165\n",
            "Accuracy:  0.8078541374474053\n",
            "Precision:  0.07936507936507936\n",
            "Recall:  0.3225806451612903\n",
            "F1 score:  0.12738853503184713\n",
            "AUC:  0.5762463343108505\n",
            "\n",
            "              precision    recall  f1-score   support\n",
            "\n",
            "           0       0.96      0.83      0.89       682\n",
            "           1       0.08      0.32      0.13        31\n",
            "\n",
            "    accuracy                           0.81       713\n",
            "   macro avg       0.52      0.58      0.51       713\n",
            "weighted avg       0.93      0.81      0.86       713\n",
            "\n",
            "----------------\n",
            "\n"
          ]
        }
      ],
      "source": [
        "from sklearn.model_selection import GridSearchCV, GroupShuffleSplit\n",
        "from sklearn.metrics import classification_report\n",
        "from sklearn.metrics import accuracy_score, precision_score, recall_score, f1_score, roc_auc_score, confusion_matrix\n",
        "from sklearn.model_selection import cross_val_score\n",
        "from sklearn.linear_model import LogisticRegression, SGDClassifier\n",
        "from sklearn.naive_bayes import GaussianNB\n",
        "from sklearn.neighbors import KNeighborsClassifier\n",
        "from sklearn.neural_network import MLPClassifier\n",
        "from sklearn.pipeline import Pipeline\n",
        "from sklearn.preprocessing import OneHotEncoder, OrdinalEncoder, StandardScaler\n",
        "from sklearn.compose import ColumnTransformer\n",
        "from sklearn.tree import DecisionTreeClassifier\n",
        "from sklearn.ensemble import RandomForestClassifier, StackingClassifier, VotingClassifier\n",
        "from sklearn.metrics import make_scorer\n",
        "\n",
        "processor = ColumnTransformer(\n",
        "    transformers=[\n",
        "        ('num', 'passthrough', numerical_features),\n",
        "        ('bool', OneHotEncoder(categories=[[0, 1], [0, 1], ['Male', 'Female'], ['Yes', 'No'], ['Urban', 'Rural']]), binary_features),\n",
        "        ('cat', OneHotEncoder(categories=[['Private', 'Self-employed', 'Govt_job', 'Never_worked'], ['smokes', 'never smoked', 'formerly smoked']]), cathegorical_features)])\n",
        "\n",
        "scaler = ColumnTransformer(\n",
        "    transformers=[\n",
        "        ('num_scale', StandardScaler(), [1, 7, 8])\n",
        "    ],\n",
        "    remainder='passthrough')\n",
        "\n",
        "grid_models = [\n",
        "               ('Naive Bayes', GaussianNB(),[{'var_smoothing': [1e-08, 1e-07, 1e-06]}]),\n",
        "               ('Logistic Regression', LogisticRegression(),[{'C':[0.25,0.5,0.75,1],'random_state':[0], 'solver': ['newton-cg', 'lbfgs', 'liblinear'], 'max_iter':[1000]}]),\n",
        "               ('SGD', SGDClassifier(), [{'loss': ['hinge', 'log_loss', 'modified_huber'],'penalty': ['l2', 'l1', 'elasticnet'],'alpha': [0.0001, 0.001, 0.01, 0.1]}]),\n",
        "               ('KNN', KNeighborsClassifier(),[{'n_neighbors':[3,5,7,8,10], 'metric': ['euclidean', 'manhattan', 'chebyshev', 'minkowski'], 'weights': ['uniform', 'distance']}]), \n",
        "               ('Decision Tree', DecisionTreeClassifier(),[{'criterion':['gini','entropy'],'random_state':[0]}]), \n",
        "               ('Random Forest', RandomForestClassifier(),[{'n_estimators':[100,150,200],'criterion':['gini','entropy'],'random_state':[0]}]),\n",
        "               ('MLP', MLPClassifier(),[{'hidden_layer_sizes':[(10,),(20,), (25,)],'max_iter':[500],'learning_rate':['constant'], 'learning_rate_init':[0.003, 0.03, 0.3], 'momentum':[0.02,0.2], 'activation': ['relu', 'tanh']}])\n",
        "               ]\n",
        "\n",
        "# The scoring metrics\n",
        "scoring = {\n",
        "    'accuracy': make_scorer(accuracy_score),\n",
        "    'precision': make_scorer(precision_score, zero_division=0),\n",
        "    'recall': make_scorer(recall_score),\n",
        "    'f1': make_scorer(f1_score),\n",
        "    'roc_auc': make_scorer(roc_auc_score)\n",
        "}\n",
        "# dictionary to store the trained models, with the best hyperparameters\n",
        "models = dict()\n",
        "\n",
        "for k, m, param_grid in grid_models:\n",
        "    grid = GridSearchCV(estimator=m, param_grid = param_grid, scoring = scoring, cv = 10, refit='roc_auc') # f1 score is used as scoring metric, because it is the harmonic mean of precision and recall\n",
        "\n",
        "    pipeline = Pipeline([\n",
        "        ('processor', processor),\n",
        "        ('scaler', scaler),\n",
        "        ('model', grid)\n",
        "    ])\n",
        "\n",
        "    pipeline.fit(X_train, y_train)\n",
        "    y_pred = pipeline.predict(X_test)\n",
        "\n",
        "    results = grid.cv_results_\n",
        "    best_accuracy = grid.best_score_\n",
        "    best_param = grid.best_params_\n",
        "\n",
        "\n",
        "    for scorer in scoring:\n",
        "        best_index = results['rank_test_' + scorer].argmin()\n",
        "        print(f\"Best {scorer} score - cross validated: {results['mean_test_' + scorer][best_index]:.2f} (std: {results['std_test_' + scorer][best_index]:.2f})\")\n",
        "\n",
        "    cross_val_scores_mean[k] = best_accuracy\n",
        "\n",
        "    confusion_matrices[k] = confusion_matrix(y_test, y_pred)\n",
        "    accuracy[k] = accuracy_score(y_test, y_pred)\n",
        "    precision[k] = precision_score(y_test, y_pred)\n",
        "    recall[k] = recall_score(y_test, y_pred)\n",
        "    F_metric[k] = f1_score(y_test, y_pred)\n",
        "    auc_score[k] = roc_auc_score(y_test, y_pred)\n",
        "\n",
        "    models[k] = pipeline  # save the model with the best hyperparameters\n",
        "    \n",
        "    print('Best Parameters : ',best_param)\n",
        "    print('')\n",
        "    \n",
        "    print(\"10-fold cross validation score: \", cross_val_scores_mean[k])\n",
        "    print(\"Accuracy: \", accuracy[k])\n",
        "    print(\"Precision: \", precision[k])\n",
        "    print(\"Recall: \", recall[k])\n",
        "    print(\"F1 score: \", F_metric[k])\n",
        "    print(\"AUC: \", auc_score[k])\n",
        "    print('')\n",
        "    print(classification_report(y_test, y_pred))\n",
        "    print('----------------')\n",
        "    print('')"
      ]
    },
    {
      "cell_type": "code",
      "execution_count": 323,
      "metadata": {},
      "outputs": [],
      "source": [
        "models_optimal = {\n",
        "    'Naive Bayes': GaussianNB(var_smoothing=1e-07),\n",
        "    'Logistic Regression': LogisticRegression(C=0.25, random_state=0, solver='liblinear', max_iter=1000),\n",
        "    'SGD': SGDClassifier(alpha=0.1, loss='hinge', penalty='l2'),\n",
        "    'KNN': KNeighborsClassifier(metric='manhattan', n_neighbors=3, weights='distance'),\n",
        "    'Decision Tree': DecisionTreeClassifier(criterion='entropy', random_state=0),\n",
        "    'Random Forest': RandomForestClassifier(random_state=0, criterion='entropy', n_estimators=200),\n",
        "    'MLP': MLPClassifier(learning_rate='constant', learning_rate_init=0.003, momentum=0.2, activation='tanh', max_iter=500, hidden_layer_sizes=(25,))\n",
        "}"
      ]
    },
    {
      "cell_type": "code",
      "execution_count": 324,
      "metadata": {},
      "outputs": [
        {
          "name": "stdout",
          "output_type": "stream",
          "text": [
            "Model: Stacking\n",
            "10-fold cross validation score:  0.9486187845303867\n",
            "Accuracy:  0.9144460028050491\n",
            "Precision:  0.058823529411764705\n",
            "Recall:  0.06451612903225806\n",
            "F1 score:  0.06153846153846154\n",
            "AUC:  0.5087976539589443\n",
            "---------------------------------------------\n",
            "\n",
            "Model: Majority Voting\n",
            "10-fold cross validation score:  0.9302025782688765\n",
            "Accuracy:  0.8920056100981767\n",
            "Precision:  0.057692307692307696\n",
            "Recall:  0.0967741935483871\n",
            "F1 score:  0.07228915662650602\n",
            "AUC:  0.5124633431085043\n"
          ]
        }
      ],
      "source": [
        "# define the base models\n",
        "base_models_stacking = [\n",
        "    ('rf', RandomForestClassifier(criterion='gini', n_estimators=200, random_state=0)),\n",
        "    ('nb', GaussianNB(var_smoothing=1e-07)),\n",
        "    ('dt1', DecisionTreeClassifier(criterion='gini', random_state=0)),\n",
        "    ('dt2', DecisionTreeClassifier(criterion='entropy', random_state=0)),\n",
        "]\n",
        "base_models_voting = [\n",
        "    ('rf', RandomForestClassifier(criterion='gini', n_estimators=200, random_state=0)),\n",
        "    ('dt1', DecisionTreeClassifier(criterion='gini', random_state=0)),\n",
        "    ('dt2', DecisionTreeClassifier(criterion='entropy', random_state=0)),\n",
        "]\n",
        "\n",
        "# Define the meta-model for stacking\n",
        "meta_model = LogisticRegression(C=0.75, random_state=0, solver='lbfgs', max_iter=500)\n",
        "\n",
        "stacking = StackingClassifier(estimators=base_models_stacking, final_estimator=meta_model, cv=10)\n",
        "voting = VotingClassifier(estimators=base_models_voting, voting='hard') # in the paper the voting is hard\n",
        "\n",
        "pipeline_stack = Pipeline([\n",
        "        ('processor', processor),\n",
        "        ('scaler', scaler),\n",
        "        ('model', stacking)\n",
        "    ])\n",
        "\n",
        "pipeline_vote = Pipeline([\n",
        "        ('processor', processor),\n",
        "        ('scaler', scaler),\n",
        "        ('model', voting)\n",
        "    ])\n",
        "\n",
        "\n",
        "# Evaluating the stacking method\n",
        "models['stacking'] = pipeline_stack.fit(X_train, y_train)\n",
        "\n",
        "y_pred = pipeline_stack.predict(X_test)\n",
        "\n",
        "cross_val_scores_mean['stacking'] = cross_val_score(pipeline_stack, X_train, y_train, cv=10).mean()\n",
        "\n",
        "confusion_matrices['stacking'] = confusion_matrix(y_test, y_pred)\n",
        "accuracy['stacking'] = accuracy_score(y_test, y_pred)\n",
        "precision['stacking'] = precision_score(y_test, y_pred)\n",
        "recall['stacking'] = recall_score(y_test, y_pred)\n",
        "F_metric['stacking'] = f1_score(y_test, y_pred)\n",
        "auc_score['stacking'] = roc_auc_score(y_test, y_pred)\n",
        "\n",
        "print(\"Model: Stacking\")\n",
        "print(\"10-fold cross validation score: \", cross_val_scores_mean['stacking'])\n",
        "print(\"Accuracy: \", accuracy['stacking'])\n",
        "print(\"Precision: \", precision['stacking'])\n",
        "print(\"Recall: \", recall['stacking'])\n",
        "print(\"F1 score: \", F_metric['stacking'])\n",
        "print(\"AUC: \", auc_score['stacking'])\n",
        "\n",
        "\n",
        "# Evaluating the Majority voting\n",
        "models['voting'] = pipeline_vote.fit(X_train, y_train)\n",
        "\n",
        "y_pred = pipeline_vote.predict(X_test)\n",
        "\n",
        "cross_val_scores_mean['voting'] = cross_val_score(pipeline_vote, X_train, y_train, cv=10).mean()\n",
        "\n",
        "confusion_matrices['voting'] = confusion_matrix(y_test, y_pred)\n",
        "accuracy['voting'] = accuracy_score(y_test, y_pred)\n",
        "precision['voting'] = precision_score(y_test, y_pred)\n",
        "recall['voting'] = recall_score(y_test, y_pred)\n",
        "F_metric['voting'] = f1_score(y_test, y_pred)\n",
        "auc_score['voting'] = roc_auc_score(y_test, y_pred)\n",
        "print('---------------------------------------------')\n",
        "print('')\n",
        "print(\"Model: Majority Voting\")\n",
        "print(\"10-fold cross validation score: \", cross_val_scores_mean['voting'])\n",
        "print(\"Accuracy: \", accuracy['voting'])\n",
        "print(\"Precision: \", precision['voting'])\n",
        "print(\"Recall: \", recall['voting'])\n",
        "print(\"F1 score: \", F_metric['voting'])\n",
        "print(\"AUC: \", auc_score['voting'])"
      ]
    },
    {
      "cell_type": "code",
      "execution_count": 325,
      "metadata": {},
      "outputs": [
        {
          "data": {
            "image/png": "[encoded data removed]",
            "text/plain": [
              "<Figure size 640x480 with 2 Axes>"
            ]
          },
          "metadata": {},
          "output_type": "display_data"
        },
        {
          "data": {
            "image/png": "[encoded data removed]",
            "text/plain": [
              "<Figure size 640x480 with 2 Axes>"
            ]
          },
          "metadata": {},
          "output_type": "display_data"
        },
        {
          "data": {
            "image/png": "[encoded data removed]",
            "text/plain": [
              "<Figure size 640x480 with 2 Axes>"
            ]
          },
          "metadata": {},
          "output_type": "display_data"
        },
        {
          "data": {
            "image/png": "[encoded data removed]",
            "text/plain": [
              "<Figure size 640x480 with 2 Axes>"
            ]
          },
          "metadata": {},
          "output_type": "display_data"
        },
        {
          "data": {
            "image/png": "[encoded data removed]",
            "text/plain": [
              "<Figure size 640x480 with 2 Axes>"
            ]
          },
          "metadata": {},
          "output_type": "display_data"
        },
        {
          "data": {
            "image/png": "[encoded data removed]",
            "text/plain": [
              "<Figure size 640x480 with 2 Axes>"
            ]
          },
          "metadata": {},
          "output_type": "display_data"
        },
        {
          "data": {
            "image/png": "[encoded data removed]",
            "text/plain": [
              "<Figure size 640x480 with 2 Axes>"
            ]
          },
          "metadata": {},
          "output_type": "display_data"
        },
        {
          "data": {
            "image/png": "[encoded data removed]",
            "text/plain": [
              "<Figure size 640x480 with 2 Axes>"
            ]
          },
          "metadata": {},
          "output_type": "display_data"
        },
        {
          "data": {
            "image/png": "[encoded data removed]",
            "text/plain": [
              "<Figure size 640x480 with 2 Axes>"
            ]
          },
          "metadata": {},
          "output_type": "display_data"
        }
      ],
      "source": [
        "for k, m in confusion_matrices.items():\n",
        "    plt.figure()\n",
        "    plt.title(k)\n",
        "    sns.heatmap(m, annot=True, fmt='d', cmap='Blues')"
      ]
    },
    {
      "cell_type": "markdown",
      "metadata": {},
      "source": [
        "The following confusion matrices make us realize that the models are not performing well. This is because the dataset that we have been using is imbalanced, and while we have balanced it for the training phase, in the prediction phase, when the data used for testing remains unbalanced, the models are not able to predict the stroke cases correctly and produce many false negatives."
      ]
    },
    {
      "cell_type": "code",
      "execution_count": 326,
      "metadata": {},
      "outputs": [
        {
          "data": {
            "text/plain": [
              "Text(0.5, 1.0, 'AUC')"
            ]
          },
          "execution_count": 326,
          "metadata": {},
          "output_type": "execute_result"
        },
        {
          "data": {
            "image/png": "[encoded data removed]",
            "text/plain": [
              "<Figure size 640x480 with 1 Axes>"
            ]
          },
          "metadata": {},
          "output_type": "display_data"
        },
        {
          "data": {
            "image/png": "[encoded data removed]",
            "text/plain": [
              "<Figure size 640x480 with 1 Axes>"
            ]
          },
          "metadata": {},
          "output_type": "display_data"
        },
        {
          "data": {
            "image/png": "[encoded data removed]",
            "text/plain": [
              "<Figure size 640x480 with 1 Axes>"
            ]
          },
          "metadata": {},
          "output_type": "display_data"
        },
        {
          "data": {
            "image/png": "[encoded data removed]",
            "text/plain": [
              "<Figure size 640x480 with 1 Axes>"
            ]
          },
          "metadata": {},
          "output_type": "display_data"
        },
        {
          "data": {
            "image/png": "[encoded data removed]",
            "text/plain": [
              "<Figure size 640x480 with 1 Axes>"
            ]
          },
          "metadata": {},
          "output_type": "display_data"
        }
      ],
      "source": [
        "## Accuracy\n",
        "plt.figure()\n",
        "i=1\n",
        "for k, v in accuracy.items():\n",
        "    plt.bar(i, v, label = k)\n",
        "    i+=1\n",
        "\n",
        "plt.legend()\n",
        "plt.title(\"Accuracy\")\n",
        "\n",
        "## Recall\n",
        "plt.figure()\n",
        "i=1\n",
        "for k, v in recall.items():\n",
        "    plt.bar(i, v, label = k)\n",
        "    i+=1\n",
        "\n",
        "plt.legend()\n",
        "plt.title(\"Recall\")\n",
        "\n",
        "## Precision\n",
        "plt.figure()\n",
        "i=1\n",
        "for k, v in precision.items():\n",
        "    plt.bar(i, v, label = k)\n",
        "    i+=1\n",
        "\n",
        "plt.legend()\n",
        "plt.title(\"Precision\")\n",
        "\n",
        "## F score\n",
        "plt.figure()\n",
        "i=1\n",
        "for k, v in F_metric.items():\n",
        "    plt.bar(i, v, label = k)\n",
        "    i+=1\n",
        "\n",
        "plt.legend()\n",
        "plt.title(\"F score\")\n",
        "\n",
        "## AUC\n",
        "plt.figure()\n",
        "i=1\n",
        "for k, v in auc_score.items():\n",
        "    plt.bar(i, v, label = k)\n",
        "    i+=1\n",
        "\n",
        "plt.legend()\n",
        "plt.title(\"AUC\")"
      ]
    },
    {
      "cell_type": "code",
      "execution_count": 327,
      "metadata": {},
      "outputs": [
        {
          "data": {
            "text/plain": [
              "<AxesSubplot:>"
            ]
          },
          "execution_count": 327,
          "metadata": {},
          "output_type": "execute_result"
        },
        {
          "data": {
            "image/png": "[encoded data removed]",
            "text/plain": [
              "<Figure size 640x480 with 2 Axes>"
            ]
          },
          "metadata": {},
          "output_type": "display_data"
        }
      ],
      "source": [
        "model_matrix = dict()\n",
        "\n",
        "for k in models.keys():\n",
        "    model_matrix[k] = list()\n",
        "    model_matrix[k].append(cross_val_scores_mean[k])\n",
        "    model_matrix[k].append(accuracy[k])\n",
        "    model_matrix[k].append(precision[k])\n",
        "    model_matrix[k].append(recall[k])\n",
        "    model_matrix[k].append(F_metric[k])\n",
        "    model_matrix[k].append(auc_score[k])\n",
        "\n",
        "\n",
        "matrix = pd.DataFrame(model_matrix, index=['cross validation', 'accuracy', 'precision', 'recall', 'F1 score', 'AUC']).T\n",
        "\n",
        "sns.heatmap(matrix, annot = True, vmin=0, vmax=1, cmap='Blues')"
      ]
    }
  ],
  "metadata": {
    "colab": {
      "provenance": []
    },
    "kernelspec": {
      "display_name": "Python 3",
      "name": "python3"
    },
    "language_info": {
      "codemirror_mode": {
        "name": "ipython",
        "version": 3
      },
      "file_extension": ".py",
      "mimetype": "text/x-python",
      "name": "python",
      "nbconvert_exporter": "python",
      "pygments_lexer": "ipython3",
      "version": "3.10.11"
    }
  },
  "nbformat": 4,
  "nbformat_minor": 0
}
