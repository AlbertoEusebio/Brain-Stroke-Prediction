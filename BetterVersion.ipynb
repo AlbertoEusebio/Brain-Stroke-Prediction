{
  "nbformat": 4,
  "nbformat_minor": 0,
  "metadata": {
    "colab": {
      "provenance": []
    },
    "kernelspec": {
      "name": "python3",
      "display_name": "Python 3"
    },
    "language_info": {
      "name": "python"
    }
  },
  "cells": [
    {
      "cell_type": "code",
      "execution_count": null,
      "metadata": {
        "id": "Hv1sRCBfy1xN"
      },
      "outputs": [],
      "source": [
        "import numpy as np\n",
        "import matplotlib.pyplot as plt\n",
        "import pandas as pd\n",
        "import seaborn as sns\n",
        "from sklearn.model_selection import train_test_split # preprocessing\n",
        "from imblearn.over_sampling import SMOTE  # preprocessing\n",
        "from sklearn.preprocessing import RobustScaler"
      ]
    },
    {
      "cell_type": "code",
      "source": [
        "df = pd.read_csv('healthcare-dataset-stroke-data.csv')"
      ],
      "metadata": {
        "id": "gCkctsD-zCzv"
      },
      "execution_count": null,
      "outputs": []
    },
    {
      "cell_type": "code",
      "source": [
        "new_cols = [\"id\", \"gender\", \"age\", \"hypertension\", \"heart-disease\", \"ever-married\", \"work-type\", \"Residence-type\", \"avg-glucose-level\", \"bmi\", \"smoking-status\", \"stroke\"]\n",
        "\n",
        "df.columns = new_cols"
      ],
      "metadata": {
        "id": "afpQgdLRH-ls"
      },
      "execution_count": null,
      "outputs": []
    },
    {
      "cell_type": "code",
      "source": [
        "df.head()"
      ],
      "metadata": {
        "colab": {
          "base_uri": "https://localhost:8080/",
          "height": 275
        },
        "id": "5LoG-19fzEmj",
        "outputId": "8870ecf9-5741-4f4c-c179-201310a26c43"
      },
      "execution_count": null,
      "outputs": [
        {
          "output_type": "execute_result",
          "data": {
            "text/plain": [
              "      id  gender   age  hypertension  heart-disease ever-married  \\\n",
              "0   9046    Male  67.0             0              1          Yes   \n",
              "1  51676  Female  61.0             0              0          Yes   \n",
              "2  31112    Male  80.0             0              1          Yes   \n",
              "3  60182  Female  49.0             0              0          Yes   \n",
              "4   1665  Female  79.0             1              0          Yes   \n",
              "\n",
              "       work-type Residence-type  avg-glucose-level   bmi   smoking-status  \\\n",
              "0        Private          Urban             228.69  36.6  formerly smoked   \n",
              "1  Self-employed          Rural             202.21   NaN     never smoked   \n",
              "2        Private          Rural             105.92  32.5     never smoked   \n",
              "3        Private          Urban             171.23  34.4           smokes   \n",
              "4  Self-employed          Rural             174.12  24.0     never smoked   \n",
              "\n",
              "   stroke  \n",
              "0       1  \n",
              "1       1  \n",
              "2       1  \n",
              "3       1  \n",
              "4       1  "
            ],
            "text/html": [
              "\n",
              "  <div id=\"df-8e6be63c-516b-4d8c-95eb-61cfed4b2c98\" class=\"colab-df-container\">\n",
              "    <div>\n",
              "<style scoped>\n",
              "    .dataframe tbody tr th:only-of-type {\n",
              "        vertical-align: middle;\n",
              "    }\n",
              "\n",
              "    .dataframe tbody tr th {\n",
              "        vertical-align: top;\n",
              "    }\n",
              "\n",
              "    .dataframe thead th {\n",
              "        text-align: right;\n",
              "    }\n",
              "</style>\n",
              "<table border=\"1\" class=\"dataframe\">\n",
              "  <thead>\n",
              "    <tr style=\"text-align: right;\">\n",
              "      <th></th>\n",
              "      <th>id</th>\n",
              "      <th>gender</th>\n",
              "      <th>age</th>\n",
              "      <th>hypertension</th>\n",
              "      <th>heart-disease</th>\n",
              "      <th>ever-married</th>\n",
              "      <th>work-type</th>\n",
              "      <th>Residence-type</th>\n",
              "      <th>avg-glucose-level</th>\n",
              "      <th>bmi</th>\n",
              "      <th>smoking-status</th>\n",
              "      <th>stroke</th>\n",
              "    </tr>\n",
              "  </thead>\n",
              "  <tbody>\n",
              "    <tr>\n",
              "      <th>0</th>\n",
              "      <td>9046</td>\n",
              "      <td>Male</td>\n",
              "      <td>67.0</td>\n",
              "      <td>0</td>\n",
              "      <td>1</td>\n",
              "      <td>Yes</td>\n",
              "      <td>Private</td>\n",
              "      <td>Urban</td>\n",
              "      <td>228.69</td>\n",
              "      <td>36.6</td>\n",
              "      <td>formerly smoked</td>\n",
              "      <td>1</td>\n",
              "    </tr>\n",
              "    <tr>\n",
              "      <th>1</th>\n",
              "      <td>51676</td>\n",
              "      <td>Female</td>\n",
              "      <td>61.0</td>\n",
              "      <td>0</td>\n",
              "      <td>0</td>\n",
              "      <td>Yes</td>\n",
              "      <td>Self-employed</td>\n",
              "      <td>Rural</td>\n",
              "      <td>202.21</td>\n",
              "      <td>NaN</td>\n",
              "      <td>never smoked</td>\n",
              "      <td>1</td>\n",
              "    </tr>\n",
              "    <tr>\n",
              "      <th>2</th>\n",
              "      <td>31112</td>\n",
              "      <td>Male</td>\n",
              "      <td>80.0</td>\n",
              "      <td>0</td>\n",
              "      <td>1</td>\n",
              "      <td>Yes</td>\n",
              "      <td>Private</td>\n",
              "      <td>Rural</td>\n",
              "      <td>105.92</td>\n",
              "      <td>32.5</td>\n",
              "      <td>never smoked</td>\n",
              "      <td>1</td>\n",
              "    </tr>\n",
              "    <tr>\n",
              "      <th>3</th>\n",
              "      <td>60182</td>\n",
              "      <td>Female</td>\n",
              "      <td>49.0</td>\n",
              "      <td>0</td>\n",
              "      <td>0</td>\n",
              "      <td>Yes</td>\n",
              "      <td>Private</td>\n",
              "      <td>Urban</td>\n",
              "      <td>171.23</td>\n",
              "      <td>34.4</td>\n",
              "      <td>smokes</td>\n",
              "      <td>1</td>\n",
              "    </tr>\n",
              "    <tr>\n",
              "      <th>4</th>\n",
              "      <td>1665</td>\n",
              "      <td>Female</td>\n",
              "      <td>79.0</td>\n",
              "      <td>1</td>\n",
              "      <td>0</td>\n",
              "      <td>Yes</td>\n",
              "      <td>Self-employed</td>\n",
              "      <td>Rural</td>\n",
              "      <td>174.12</td>\n",
              "      <td>24.0</td>\n",
              "      <td>never smoked</td>\n",
              "      <td>1</td>\n",
              "    </tr>\n",
              "  </tbody>\n",
              "</table>\n",
              "</div>\n",
              "    <div class=\"colab-df-buttons\">\n",
              "\n",
              "  <div class=\"colab-df-container\">\n",
              "    <button class=\"colab-df-convert\" onclick=\"convertToInteractive('df-8e6be63c-516b-4d8c-95eb-61cfed4b2c98')\"\n",
              "            title=\"Convert this dataframe to an interactive table.\"\n",
              "            style=\"display:none;\">\n",
              "\n",
              "  <svg xmlns=\"http://www.w3.org/2000/svg\" height=\"24px\" viewBox=\"0 -960 960 960\">\n",
              "    <path d=\"M120-120v-720h720v720H120Zm60-500h600v-160H180v160Zm220 220h160v-160H400v160Zm0 220h160v-160H400v160ZM180-400h160v-160H180v160Zm440 0h160v-160H620v160ZM180-180h160v-160H180v160Zm440 0h160v-160H620v160Z\"/>\n",
              "  </svg>\n",
              "    </button>\n",
              "\n",
              "  <style>\n",
              "    .colab-df-container {\n",
              "      display:flex;\n",
              "      gap: 12px;\n",
              "    }\n",
              "\n",
              "    .colab-df-convert {\n",
              "      background-color: #E8F0FE;\n",
              "      border: none;\n",
              "      border-radius: 50%;\n",
              "      cursor: pointer;\n",
              "      display: none;\n",
              "      fill: #1967D2;\n",
              "      height: 32px;\n",
              "      padding: 0 0 0 0;\n",
              "      width: 32px;\n",
              "    }\n",
              "\n",
              "    .colab-df-convert:hover {\n",
              "      background-color: #E2EBFA;\n",
              "      box-shadow: 0px 1px 2px rgba(60, 64, 67, 0.3), 0px 1px 3px 1px rgba(60, 64, 67, 0.15);\n",
              "      fill: #174EA6;\n",
              "    }\n",
              "\n",
              "    .colab-df-buttons div {\n",
              "      margin-bottom: 4px;\n",
              "    }\n",
              "\n",
              "    [theme=dark] .colab-df-convert {\n",
              "      background-color: #3B4455;\n",
              "      fill: #D2E3FC;\n",
              "    }\n",
              "\n",
              "    [theme=dark] .colab-df-convert:hover {\n",
              "      background-color: #434B5C;\n",
              "      box-shadow: 0px 1px 3px 1px rgba(0, 0, 0, 0.15);\n",
              "      filter: drop-shadow(0px 1px 2px rgba(0, 0, 0, 0.3));\n",
              "      fill: #FFFFFF;\n",
              "    }\n",
              "  </style>\n",
              "\n",
              "    <script>\n",
              "      const buttonEl =\n",
              "        document.querySelector('#df-8e6be63c-516b-4d8c-95eb-61cfed4b2c98 button.colab-df-convert');\n",
              "      buttonEl.style.display =\n",
              "        google.colab.kernel.accessAllowed ? 'block' : 'none';\n",
              "\n",
              "      async function convertToInteractive(key) {\n",
              "        const element = document.querySelector('#df-8e6be63c-516b-4d8c-95eb-61cfed4b2c98');\n",
              "        const dataTable =\n",
              "          await google.colab.kernel.invokeFunction('convertToInteractive',\n",
              "                                                    [key], {});\n",
              "        if (!dataTable) return;\n",
              "\n",
              "        const docLinkHtml = 'Like what you see? Visit the ' +\n",
              "          '<a target=\"_blank\" href=https://colab.research.google.com/notebooks/data_table.ipynb>data table notebook</a>'\n",
              "          + ' to learn more about interactive tables.';\n",
              "        element.innerHTML = '';\n",
              "        dataTable['output_type'] = 'display_data';\n",
              "        await google.colab.output.renderOutput(dataTable, element);\n",
              "        const docLink = document.createElement('div');\n",
              "        docLink.innerHTML = docLinkHtml;\n",
              "        element.appendChild(docLink);\n",
              "      }\n",
              "    </script>\n",
              "  </div>\n",
              "\n",
              "\n",
              "<div id=\"df-08c98716-1e2c-4b9c-888d-9f275b09f88b\">\n",
              "  <button class=\"colab-df-quickchart\" onclick=\"quickchart('df-08c98716-1e2c-4b9c-888d-9f275b09f88b')\"\n",
              "            title=\"Suggest charts\"\n",
              "            style=\"display:none;\">\n",
              "\n",
              "<svg xmlns=\"http://www.w3.org/2000/svg\" height=\"24px\"viewBox=\"0 0 24 24\"\n",
              "     width=\"24px\">\n",
              "    <g>\n",
              "        <path d=\"M19 3H5c-1.1 0-2 .9-2 2v14c0 1.1.9 2 2 2h14c1.1 0 2-.9 2-2V5c0-1.1-.9-2-2-2zM9 17H7v-7h2v7zm4 0h-2V7h2v10zm4 0h-2v-4h2v4z\"/>\n",
              "    </g>\n",
              "</svg>\n",
              "  </button>\n",
              "\n",
              "<style>\n",
              "  .colab-df-quickchart {\n",
              "      --bg-color: #E8F0FE;\n",
              "      --fill-color: #1967D2;\n",
              "      --hover-bg-color: #E2EBFA;\n",
              "      --hover-fill-color: #174EA6;\n",
              "      --disabled-fill-color: #AAA;\n",
              "      --disabled-bg-color: #DDD;\n",
              "  }\n",
              "\n",
              "  [theme=dark] .colab-df-quickchart {\n",
              "      --bg-color: #3B4455;\n",
              "      --fill-color: #D2E3FC;\n",
              "      --hover-bg-color: #434B5C;\n",
              "      --hover-fill-color: #FFFFFF;\n",
              "      --disabled-bg-color: #3B4455;\n",
              "      --disabled-fill-color: #666;\n",
              "  }\n",
              "\n",
              "  .colab-df-quickchart {\n",
              "    background-color: var(--bg-color);\n",
              "    border: none;\n",
              "    border-radius: 50%;\n",
              "    cursor: pointer;\n",
              "    display: none;\n",
              "    fill: var(--fill-color);\n",
              "    height: 32px;\n",
              "    padding: 0;\n",
              "    width: 32px;\n",
              "  }\n",
              "\n",
              "  .colab-df-quickchart:hover {\n",
              "    background-color: var(--hover-bg-color);\n",
              "    box-shadow: 0 1px 2px rgba(60, 64, 67, 0.3), 0 1px 3px 1px rgba(60, 64, 67, 0.15);\n",
              "    fill: var(--button-hover-fill-color);\n",
              "  }\n",
              "\n",
              "  .colab-df-quickchart-complete:disabled,\n",
              "  .colab-df-quickchart-complete:disabled:hover {\n",
              "    background-color: var(--disabled-bg-color);\n",
              "    fill: var(--disabled-fill-color);\n",
              "    box-shadow: none;\n",
              "  }\n",
              "\n",
              "  .colab-df-spinner {\n",
              "    border: 2px solid var(--fill-color);\n",
              "    border-color: transparent;\n",
              "    border-bottom-color: var(--fill-color);\n",
              "    animation:\n",
              "      spin 1s steps(1) infinite;\n",
              "  }\n",
              "\n",
              "  @keyframes spin {\n",
              "    0% {\n",
              "      border-color: transparent;\n",
              "      border-bottom-color: var(--fill-color);\n",
              "      border-left-color: var(--fill-color);\n",
              "    }\n",
              "    20% {\n",
              "      border-color: transparent;\n",
              "      border-left-color: var(--fill-color);\n",
              "      border-top-color: var(--fill-color);\n",
              "    }\n",
              "    30% {\n",
              "      border-color: transparent;\n",
              "      border-left-color: var(--fill-color);\n",
              "      border-top-color: var(--fill-color);\n",
              "      border-right-color: var(--fill-color);\n",
              "    }\n",
              "    40% {\n",
              "      border-color: transparent;\n",
              "      border-right-color: var(--fill-color);\n",
              "      border-top-color: var(--fill-color);\n",
              "    }\n",
              "    60% {\n",
              "      border-color: transparent;\n",
              "      border-right-color: var(--fill-color);\n",
              "    }\n",
              "    80% {\n",
              "      border-color: transparent;\n",
              "      border-right-color: var(--fill-color);\n",
              "      border-bottom-color: var(--fill-color);\n",
              "    }\n",
              "    90% {\n",
              "      border-color: transparent;\n",
              "      border-bottom-color: var(--fill-color);\n",
              "    }\n",
              "  }\n",
              "</style>\n",
              "\n",
              "  <script>\n",
              "    async function quickchart(key) {\n",
              "      const quickchartButtonEl =\n",
              "        document.querySelector('#' + key + ' button');\n",
              "      quickchartButtonEl.disabled = true;  // To prevent multiple clicks.\n",
              "      quickchartButtonEl.classList.add('colab-df-spinner');\n",
              "      try {\n",
              "        const charts = await google.colab.kernel.invokeFunction(\n",
              "            'suggestCharts', [key], {});\n",
              "      } catch (error) {\n",
              "        console.error('Error during call to suggestCharts:', error);\n",
              "      }\n",
              "      quickchartButtonEl.classList.remove('colab-df-spinner');\n",
              "      quickchartButtonEl.classList.add('colab-df-quickchart-complete');\n",
              "    }\n",
              "    (() => {\n",
              "      let quickchartButtonEl =\n",
              "        document.querySelector('#df-08c98716-1e2c-4b9c-888d-9f275b09f88b button');\n",
              "      quickchartButtonEl.style.display =\n",
              "        google.colab.kernel.accessAllowed ? 'block' : 'none';\n",
              "    })();\n",
              "  </script>\n",
              "</div>\n",
              "    </div>\n",
              "  </div>\n"
            ],
            "application/vnd.google.colaboratory.intrinsic+json": {
              "type": "dataframe",
              "variable_name": "df",
              "summary": "{\n  \"name\": \"df\",\n  \"rows\": 5110,\n  \"fields\": [\n    {\n      \"column\": \"id\",\n      \"properties\": {\n        \"dtype\": \"number\",\n        \"std\": 21161,\n        \"min\": 67,\n        \"max\": 72940,\n        \"num_unique_values\": 5110,\n        \"samples\": [\n          40041,\n          55244,\n          70992\n        ],\n        \"semantic_type\": \"\",\n        \"description\": \"\"\n      }\n    },\n    {\n      \"column\": \"gender\",\n      \"properties\": {\n        \"dtype\": \"category\",\n        \"num_unique_values\": 3,\n        \"samples\": [\n          \"Male\",\n          \"Female\",\n          \"Other\"\n        ],\n        \"semantic_type\": \"\",\n        \"description\": \"\"\n      }\n    },\n    {\n      \"column\": \"age\",\n      \"properties\": {\n        \"dtype\": \"number\",\n        \"std\": 22.61264672311349,\n        \"min\": 0.08,\n        \"max\": 82.0,\n        \"num_unique_values\": 104,\n        \"samples\": [\n          45.0,\n          24.0,\n          33.0\n        ],\n        \"semantic_type\": \"\",\n        \"description\": \"\"\n      }\n    },\n    {\n      \"column\": \"hypertension\",\n      \"properties\": {\n        \"dtype\": \"number\",\n        \"std\": 0,\n        \"min\": 0,\n        \"max\": 1,\n        \"num_unique_values\": 2,\n        \"samples\": [\n          1,\n          0\n        ],\n        \"semantic_type\": \"\",\n        \"description\": \"\"\n      }\n    },\n    {\n      \"column\": \"heart-disease\",\n      \"properties\": {\n        \"dtype\": \"number\",\n        \"std\": 0,\n        \"min\": 0,\n        \"max\": 1,\n        \"num_unique_values\": 2,\n        \"samples\": [\n          0,\n          1\n        ],\n        \"semantic_type\": \"\",\n        \"description\": \"\"\n      }\n    },\n    {\n      \"column\": \"ever-married\",\n      \"properties\": {\n        \"dtype\": \"category\",\n        \"num_unique_values\": 2,\n        \"samples\": [\n          \"No\",\n          \"Yes\"\n        ],\n        \"semantic_type\": \"\",\n        \"description\": \"\"\n      }\n    },\n    {\n      \"column\": \"work-type\",\n      \"properties\": {\n        \"dtype\": \"category\",\n        \"num_unique_values\": 5,\n        \"samples\": [\n          \"Self-employed\",\n          \"Never_worked\"\n        ],\n        \"semantic_type\": \"\",\n        \"description\": \"\"\n      }\n    },\n    {\n      \"column\": \"Residence-type\",\n      \"properties\": {\n        \"dtype\": \"category\",\n        \"num_unique_values\": 2,\n        \"samples\": [\n          \"Rural\",\n          \"Urban\"\n        ],\n        \"semantic_type\": \"\",\n        \"description\": \"\"\n      }\n    },\n    {\n      \"column\": \"avg-glucose-level\",\n      \"properties\": {\n        \"dtype\": \"number\",\n        \"std\": 45.28356015058198,\n        \"min\": 55.12,\n        \"max\": 271.74,\n        \"num_unique_values\": 3979,\n        \"samples\": [\n          178.29,\n          156.69\n        ],\n        \"semantic_type\": \"\",\n        \"description\": \"\"\n      }\n    },\n    {\n      \"column\": \"bmi\",\n      \"properties\": {\n        \"dtype\": \"number\",\n        \"std\": 7.854066729680164,\n        \"min\": 10.3,\n        \"max\": 97.6,\n        \"num_unique_values\": 418,\n        \"samples\": [\n          49.5,\n          18.5\n        ],\n        \"semantic_type\": \"\",\n        \"description\": \"\"\n      }\n    },\n    {\n      \"column\": \"smoking-status\",\n      \"properties\": {\n        \"dtype\": \"category\",\n        \"num_unique_values\": 4,\n        \"samples\": [\n          \"never smoked\",\n          \"Unknown\"\n        ],\n        \"semantic_type\": \"\",\n        \"description\": \"\"\n      }\n    },\n    {\n      \"column\": \"stroke\",\n      \"properties\": {\n        \"dtype\": \"number\",\n        \"std\": 0,\n        \"min\": 0,\n        \"max\": 1,\n        \"num_unique_values\": 2,\n        \"samples\": [\n          0,\n          1\n        ],\n        \"semantic_type\": \"\",\n        \"description\": \"\"\n      }\n    }\n  ]\n}"
            }
          },
          "metadata": {},
          "execution_count": 343
        }
      ]
    },
    {
      "cell_type": "code",
      "source": [
        "df.drop('id', axis=1, inplace=True)"
      ],
      "metadata": {
        "id": "oUJ_OP1pzJUK"
      },
      "execution_count": null,
      "outputs": []
    },
    {
      "cell_type": "code",
      "source": [
        "df.info()"
      ],
      "metadata": {
        "colab": {
          "base_uri": "https://localhost:8080/"
        },
        "id": "K7GfXpIozNmQ",
        "outputId": "97547163-783e-4377-c720-f0fb35a38ac7"
      },
      "execution_count": null,
      "outputs": [
        {
          "output_type": "stream",
          "name": "stdout",
          "text": [
            "<class 'pandas.core.frame.DataFrame'>\n",
            "RangeIndex: 5110 entries, 0 to 5109\n",
            "Data columns (total 11 columns):\n",
            " #   Column             Non-Null Count  Dtype  \n",
            "---  ------             --------------  -----  \n",
            " 0   gender             5110 non-null   object \n",
            " 1   age                5110 non-null   float64\n",
            " 2   hypertension       5110 non-null   int64  \n",
            " 3   heart-disease      5110 non-null   int64  \n",
            " 4   ever-married       5110 non-null   object \n",
            " 5   work-type          5110 non-null   object \n",
            " 6   Residence-type     5110 non-null   object \n",
            " 7   avg-glucose-level  5110 non-null   float64\n",
            " 8   bmi                4909 non-null   float64\n",
            " 9   smoking-status     5110 non-null   object \n",
            " 10  stroke             5110 non-null   int64  \n",
            "dtypes: float64(3), int64(3), object(5)\n",
            "memory usage: 439.3+ KB\n"
          ]
        }
      ]
    },
    {
      "cell_type": "code",
      "source": [
        "df.isna().sum()"
      ],
      "metadata": {
        "colab": {
          "base_uri": "https://localhost:8080/"
        },
        "id": "raw_WR4tzRsg",
        "outputId": "82bc93f4-292e-4ca4-df33-6d7da7bc6c95"
      },
      "execution_count": null,
      "outputs": [
        {
          "output_type": "execute_result",
          "data": {
            "text/plain": [
              "gender                 0\n",
              "age                    0\n",
              "hypertension           0\n",
              "heart-disease          0\n",
              "ever-married           0\n",
              "work-type              0\n",
              "Residence-type         0\n",
              "avg-glucose-level      0\n",
              "bmi                  201\n",
              "smoking-status         0\n",
              "stroke                 0\n",
              "dtype: int64"
            ]
          },
          "metadata": {},
          "execution_count": 346
        }
      ]
    },
    {
      "cell_type": "code",
      "source": [
        "df.dropna(inplace=True)"
      ],
      "metadata": {
        "id": "7Whn1MgmzUM6"
      },
      "execution_count": null,
      "outputs": []
    },
    {
      "cell_type": "code",
      "source": [
        "df.isnull().sum()"
      ],
      "metadata": {
        "colab": {
          "base_uri": "https://localhost:8080/"
        },
        "id": "J8sfLyX1zWcK",
        "outputId": "88c642cd-3c4a-4705-c0c7-599aadc5ad96"
      },
      "execution_count": null,
      "outputs": [
        {
          "output_type": "execute_result",
          "data": {
            "text/plain": [
              "gender               0\n",
              "age                  0\n",
              "hypertension         0\n",
              "heart-disease        0\n",
              "ever-married         0\n",
              "work-type            0\n",
              "Residence-type       0\n",
              "avg-glucose-level    0\n",
              "bmi                  0\n",
              "smoking-status       0\n",
              "stroke               0\n",
              "dtype: int64"
            ]
          },
          "metadata": {},
          "execution_count": 348
        }
      ]
    },
    {
      "cell_type": "code",
      "source": [
        "df = df[df['age'] >= 18]\n",
        "df.info()"
      ],
      "metadata": {
        "colab": {
          "base_uri": "https://localhost:8080/"
        },
        "id": "09tdkMnszag_",
        "outputId": "18dec795-acf9-4008-8275-dbdc58c22d0e"
      },
      "execution_count": null,
      "outputs": [
        {
          "output_type": "stream",
          "name": "stdout",
          "text": [
            "<class 'pandas.core.frame.DataFrame'>\n",
            "Index: 4073 entries, 0 to 5109\n",
            "Data columns (total 11 columns):\n",
            " #   Column             Non-Null Count  Dtype  \n",
            "---  ------             --------------  -----  \n",
            " 0   gender             4073 non-null   object \n",
            " 1   age                4073 non-null   float64\n",
            " 2   hypertension       4073 non-null   int64  \n",
            " 3   heart-disease      4073 non-null   int64  \n",
            " 4   ever-married       4073 non-null   object \n",
            " 5   work-type          4073 non-null   object \n",
            " 6   Residence-type     4073 non-null   object \n",
            " 7   avg-glucose-level  4073 non-null   float64\n",
            " 8   bmi                4073 non-null   float64\n",
            " 9   smoking-status     4073 non-null   object \n",
            " 10  stroke             4073 non-null   int64  \n",
            "dtypes: float64(3), int64(3), object(5)\n",
            "memory usage: 381.8+ KB\n"
          ]
        }
      ]
    },
    {
      "cell_type": "code",
      "source": [
        "df = df[df['smoking-status'] != 'Unknown']\n",
        "df.info()"
      ],
      "metadata": {
        "colab": {
          "base_uri": "https://localhost:8080/"
        },
        "id": "EoBAT7BXzdGY",
        "outputId": "94cd9525-7e0c-4158-e3d8-acaa0a0119ff"
      },
      "execution_count": null,
      "outputs": [
        {
          "output_type": "stream",
          "name": "stdout",
          "text": [
            "<class 'pandas.core.frame.DataFrame'>\n",
            "Index: 3256 entries, 0 to 5108\n",
            "Data columns (total 11 columns):\n",
            " #   Column             Non-Null Count  Dtype  \n",
            "---  ------             --------------  -----  \n",
            " 0   gender             3256 non-null   object \n",
            " 1   age                3256 non-null   float64\n",
            " 2   hypertension       3256 non-null   int64  \n",
            " 3   heart-disease      3256 non-null   int64  \n",
            " 4   ever-married       3256 non-null   object \n",
            " 5   work-type          3256 non-null   object \n",
            " 6   Residence-type     3256 non-null   object \n",
            " 7   avg-glucose-level  3256 non-null   float64\n",
            " 8   bmi                3256 non-null   float64\n",
            " 9   smoking-status     3256 non-null   object \n",
            " 10  stroke             3256 non-null   int64  \n",
            "dtypes: float64(3), int64(3), object(5)\n",
            "memory usage: 305.2+ KB\n"
          ]
        }
      ]
    },
    {
      "cell_type": "code",
      "source": [
        "df = df[df['gender'] != 'Other']\n",
        "df.info()"
      ],
      "metadata": {
        "colab": {
          "base_uri": "https://localhost:8080/"
        },
        "id": "zWG7JyxxzfXb",
        "outputId": "d420f0d4-f159-4d1b-d151-ad2962560394"
      },
      "execution_count": null,
      "outputs": [
        {
          "output_type": "stream",
          "name": "stdout",
          "text": [
            "<class 'pandas.core.frame.DataFrame'>\n",
            "Index: 3255 entries, 0 to 5108\n",
            "Data columns (total 11 columns):\n",
            " #   Column             Non-Null Count  Dtype  \n",
            "---  ------             --------------  -----  \n",
            " 0   gender             3255 non-null   object \n",
            " 1   age                3255 non-null   float64\n",
            " 2   hypertension       3255 non-null   int64  \n",
            " 3   heart-disease      3255 non-null   int64  \n",
            " 4   ever-married       3255 non-null   object \n",
            " 5   work-type          3255 non-null   object \n",
            " 6   Residence-type     3255 non-null   object \n",
            " 7   avg-glucose-level  3255 non-null   float64\n",
            " 8   bmi                3255 non-null   float64\n",
            " 9   smoking-status     3255 non-null   object \n",
            " 10  stroke             3255 non-null   int64  \n",
            "dtypes: float64(3), int64(3), object(5)\n",
            "memory usage: 305.2+ KB\n"
          ]
        }
      ]
    },
    {
      "cell_type": "code",
      "source": [
        "df.drop_duplicates(inplace=True)\n",
        "df.info()"
      ],
      "metadata": {
        "colab": {
          "base_uri": "https://localhost:8080/"
        },
        "id": "u1AiUz3Jzhwc",
        "outputId": "2d6d220f-f377-40e7-d827-e902c7b4730f"
      },
      "execution_count": null,
      "outputs": [
        {
          "output_type": "stream",
          "name": "stdout",
          "text": [
            "<class 'pandas.core.frame.DataFrame'>\n",
            "Index: 3255 entries, 0 to 5108\n",
            "Data columns (total 11 columns):\n",
            " #   Column             Non-Null Count  Dtype  \n",
            "---  ------             --------------  -----  \n",
            " 0   gender             3255 non-null   object \n",
            " 1   age                3255 non-null   float64\n",
            " 2   hypertension       3255 non-null   int64  \n",
            " 3   heart-disease      3255 non-null   int64  \n",
            " 4   ever-married       3255 non-null   object \n",
            " 5   work-type          3255 non-null   object \n",
            " 6   Residence-type     3255 non-null   object \n",
            " 7   avg-glucose-level  3255 non-null   float64\n",
            " 8   bmi                3255 non-null   float64\n",
            " 9   smoking-status     3255 non-null   object \n",
            " 10  stroke             3255 non-null   int64  \n",
            "dtypes: float64(3), int64(3), object(5)\n",
            "memory usage: 305.2+ KB\n"
          ]
        }
      ]
    },
    {
      "cell_type": "code",
      "source": [
        "num_cols = ['age','bmi','avg-glucose-level']\n",
        "\n",
        "plt.figure(figsize=(15, 5))\n",
        "for i in range(3) :\n",
        "    plt.subplot(1,3,i+1)\n",
        "\n",
        "    sns.boxplot(x=df[num_cols[i]],color='#6DA59D')\n",
        "    plt.title(num_cols[i])\n",
        "plt.show()"
      ],
      "metadata": {
        "colab": {
          "base_uri": "https://localhost:8080/",
          "height": 458
        },
        "id": "r1LGnBNmzkdd",
        "outputId": "1fbc303c-b896-444d-8ec0-7732ce00b8e7"
      },
      "execution_count": null,
      "outputs": [
        {
          "output_type": "display_data",
          "data": {
            "text/plain": [
              "<Figure size 1500x500 with 3 Axes>"
            ],
            "image/png": "[encoded data removed]"
          },
          "metadata": {}
        }
      ]
    },
    {
      "cell_type": "code",
      "source": [
        "df = df[df['bmi'] < 90]\n",
        "df.info()"
      ],
      "metadata": {
        "colab": {
          "base_uri": "https://localhost:8080/"
        },
        "id": "CXKI6RbJznFd",
        "outputId": "88e2fa39-05ab-476d-8d6f-541de625281d"
      },
      "execution_count": null,
      "outputs": [
        {
          "output_type": "stream",
          "name": "stdout",
          "text": [
            "<class 'pandas.core.frame.DataFrame'>\n",
            "Index: 3254 entries, 0 to 5108\n",
            "Data columns (total 11 columns):\n",
            " #   Column             Non-Null Count  Dtype  \n",
            "---  ------             --------------  -----  \n",
            " 0   gender             3254 non-null   object \n",
            " 1   age                3254 non-null   float64\n",
            " 2   hypertension       3254 non-null   int64  \n",
            " 3   heart-disease      3254 non-null   int64  \n",
            " 4   ever-married       3254 non-null   object \n",
            " 5   work-type          3254 non-null   object \n",
            " 6   Residence-type     3254 non-null   object \n",
            " 7   avg-glucose-level  3254 non-null   float64\n",
            " 8   bmi                3254 non-null   float64\n",
            " 9   smoking-status     3254 non-null   object \n",
            " 10  stroke             3254 non-null   int64  \n",
            "dtypes: float64(3), int64(3), object(5)\n",
            "memory usage: 305.1+ KB\n"
          ]
        }
      ]
    },
    {
      "cell_type": "code",
      "source": [
        "stroke_count =df['stroke'].value_counts() # pandas serie, it contains the number of '1' (stroke) and the number of '0' (no stroke)\n",
        "print(\"Stroke percentage: {:.2f}%\".format(100 * (stroke_count[1] / (stroke_count[0] + stroke_count[1]))))"
      ],
      "metadata": {
        "colab": {
          "base_uri": "https://localhost:8080/"
        },
        "id": "YJVLxuPxzuT6",
        "outputId": "9accc335-fad6-4494-df8f-02e62ffceb2a"
      },
      "execution_count": null,
      "outputs": [
        {
          "output_type": "stream",
          "name": "stdout",
          "text": [
            "Stroke percentage: 5.53%\n"
          ]
        }
      ]
    },
    {
      "cell_type": "code",
      "source": [
        "gender_count = df['gender'].value_counts()\n",
        "print('Number of males: ', gender_count['Male'])\n",
        "print('Number of females: ', gender_count['Female'])"
      ],
      "metadata": {
        "colab": {
          "base_uri": "https://localhost:8080/"
        },
        "id": "VIe4YWAlzx2A",
        "outputId": "2443f8e4-ad7c-43f2-a289-5e9bcde8497b"
      },
      "execution_count": null,
      "outputs": [
        {
          "output_type": "stream",
          "name": "stdout",
          "text": [
            "Number of males:  1260\n",
            "Number of females:  1994\n"
          ]
        }
      ]
    },
    {
      "cell_type": "code",
      "source": [
        "hypertension_count =df['hypertension'].value_counts()\n",
        "print(\"Hypertension percentage: {:.2f}%\".format(100 *( hypertension_count[1]/(hypertension_count[0]+hypertension_count[1]))))"
      ],
      "metadata": {
        "colab": {
          "base_uri": "https://localhost:8080/"
        },
        "id": "Ye7W233Cz2gI",
        "outputId": "98ae7f57-31b6-4bd4-8208-bc242398c061"
      },
      "execution_count": null,
      "outputs": [
        {
          "output_type": "stream",
          "name": "stdout",
          "text": [
            "Hypertension percentage: 12.51%\n"
          ]
        }
      ]
    },
    {
      "cell_type": "code",
      "source": [
        "heart_disease_count =df['heart-disease'].value_counts()\n",
        "print(\"Hearth disease percentage: {:.2f}%\".format(100 * (heart_disease_count[1]/(heart_disease_count[0]+heart_disease_count[1]))))"
      ],
      "metadata": {
        "colab": {
          "base_uri": "https://localhost:8080/"
        },
        "id": "9VAbBsXrz54V",
        "outputId": "ef30e897-8bf8-4b30-d0f4-22bce71f27a4"
      },
      "execution_count": null,
      "outputs": [
        {
          "output_type": "stream",
          "name": "stdout",
          "text": [
            "Hearth disease percentage: 6.33%\n"
          ]
        }
      ]
    },
    {
      "cell_type": "code",
      "source": [
        "ever_married_count =df['ever-married'].value_counts()\n",
        "print(\"Married percentage: {:.2f}%\".format(100 * (ever_married_count[0]/(ever_married_count[0]+ever_married_count[1]))))"
      ],
      "metadata": {
        "colab": {
          "base_uri": "https://localhost:8080/"
        },
        "id": "F5H4h5-lz9Xj",
        "outputId": "c64475d3-d971-421d-a2ca-94a8b4b87eca"
      },
      "execution_count": null,
      "outputs": [
        {
          "output_type": "stream",
          "name": "stdout",
          "text": [
            "Married percentage: 79.84%\n"
          ]
        }
      ]
    },
    {
      "cell_type": "code",
      "source": [
        "work_type_count =df['work-type'].value_counts()\n",
        "print(\"Private percentage: {:.2f}%\".format(100 * (work_type_count[0]/(work_type_count[0]+work_type_count[1]+work_type_count[2]+work_type_count[3]))))\n",
        "print(\"Self-employed percentage: {:.2f}%\".format(100 * (work_type_count[1]/(work_type_count[0]+work_type_count[1]+work_type_count[2]+work_type_count[3]))))\n",
        "print(\"Gov percentage: {:.2f}%\".format(100 * (work_type_count[2]/(work_type_count[0]+work_type_count[1]+work_type_count[2]+work_type_count[3]))))\n",
        "print(\"Never Worked fraction: {:.1f}%\".format(100 * (work_type_count[3]/(work_type_count[0]+work_type_count[1]+work_type_count[2]+work_type_count[3]))))"
      ],
      "metadata": {
        "colab": {
          "base_uri": "https://localhost:8080/"
        },
        "id": "NXxnndg_0Bmt",
        "outputId": "c0361cb7-a97c-4b19-f848-4f5e5969af20"
      },
      "execution_count": null,
      "outputs": [
        {
          "output_type": "stream",
          "name": "stdout",
          "text": [
            "Private percentage: 65.03%\n",
            "Self-employed percentage: 19.21%\n",
            "Gov percentage: 15.67%\n",
            "Never Worked fraction: 0.1%\n"
          ]
        }
      ]
    },
    {
      "cell_type": "code",
      "source": [
        "residence_type_count =df['Residence-type'].value_counts()\n",
        "print(\"Urban percentage: {:.2f}%\".format(100 * (residence_type_count[0]/(residence_type_count[0]+residence_type_count[1]))))\n",
        "print(\"Rural pergentage: {:.2f}%\".format(100 * (residence_type_count[1]/(residence_type_count[0]+residence_type_count[1]))))"
      ],
      "metadata": {
        "colab": {
          "base_uri": "https://localhost:8080/"
        },
        "id": "Kyvi-6GA0FN8",
        "outputId": "427322d7-a2cb-45ef-8222-a997af0b4fcd"
      },
      "execution_count": null,
      "outputs": [
        {
          "output_type": "stream",
          "name": "stdout",
          "text": [
            "Urban percentage: 51.14%\n",
            "Rural pergentage: 48.86%\n"
          ]
        }
      ]
    },
    {
      "cell_type": "code",
      "source": [
        "smoking_status_count =df['smoking-status'].value_counts()\n",
        "print(\"Never Smoked fraction: {:.2f}%\".format(100 * (smoking_status_count[0]/(smoking_status_count[0]+smoking_status_count[1]+smoking_status_count[2]))))\n",
        "print(\"Formely Smoked fraction: {:.2f}%\".format(100 * (smoking_status_count[1]/(smoking_status_count[0]+smoking_status_count[1]+smoking_status_count[2]))))\n",
        "print(\"Smokes fraction: {:.2f}%\".format(100 * (smoking_status_count[2]/(smoking_status_count[0]+smoking_status_count[1]+smoking_status_count[2]))))"
      ],
      "metadata": {
        "colab": {
          "base_uri": "https://localhost:8080/"
        },
        "id": "csXZWGum0JM3",
        "outputId": "bd674f8b-70c8-48e4-8a84-5624fb6e0560"
      },
      "execution_count": null,
      "outputs": [
        {
          "output_type": "stream",
          "name": "stdout",
          "text": [
            "Never Smoked fraction: 52.64%\n",
            "Formely Smoked fraction: 24.98%\n",
            "Smokes fraction: 22.37%\n"
          ]
        }
      ]
    },
    {
      "cell_type": "code",
      "source": [
        "df.info()"
      ],
      "metadata": {
        "colab": {
          "base_uri": "https://localhost:8080/"
        },
        "id": "EFfrDTd00OJx",
        "outputId": "cae25ec7-b313-43b6-c6e6-f3a9680b3fb8"
      },
      "execution_count": null,
      "outputs": [
        {
          "output_type": "stream",
          "name": "stdout",
          "text": [
            "<class 'pandas.core.frame.DataFrame'>\n",
            "Index: 3254 entries, 0 to 5108\n",
            "Data columns (total 11 columns):\n",
            " #   Column             Non-Null Count  Dtype  \n",
            "---  ------             --------------  -----  \n",
            " 0   gender             3254 non-null   object \n",
            " 1   age                3254 non-null   float64\n",
            " 2   hypertension       3254 non-null   int64  \n",
            " 3   heart-disease      3254 non-null   int64  \n",
            " 4   ever-married       3254 non-null   object \n",
            " 5   work-type          3254 non-null   object \n",
            " 6   Residence-type     3254 non-null   object \n",
            " 7   avg-glucose-level  3254 non-null   float64\n",
            " 8   bmi                3254 non-null   float64\n",
            " 9   smoking-status     3254 non-null   object \n",
            " 10  stroke             3254 non-null   int64  \n",
            "dtypes: float64(3), int64(3), object(5)\n",
            "memory usage: 305.1+ KB\n"
          ]
        }
      ]
    },
    {
      "cell_type": "code",
      "source": [
        "df.head()"
      ],
      "metadata": {
        "colab": {
          "base_uri": "https://localhost:8080/",
          "height": 206
        },
        "id": "60cwUb-A0R-h",
        "outputId": "2e4ff968-2f09-44a2-bc44-3b5d32f28123"
      },
      "execution_count": null,
      "outputs": [
        {
          "output_type": "execute_result",
          "data": {
            "text/plain": [
              "   gender   age  hypertension  heart-disease ever-married      work-type  \\\n",
              "0    Male  67.0             0              1          Yes        Private   \n",
              "2    Male  80.0             0              1          Yes        Private   \n",
              "3  Female  49.0             0              0          Yes        Private   \n",
              "4  Female  79.0             1              0          Yes  Self-employed   \n",
              "5    Male  81.0             0              0          Yes        Private   \n",
              "\n",
              "  Residence-type  avg-glucose-level   bmi   smoking-status  stroke  \n",
              "0          Urban             228.69  36.6  formerly smoked       1  \n",
              "2          Rural             105.92  32.5     never smoked       1  \n",
              "3          Urban             171.23  34.4           smokes       1  \n",
              "4          Rural             174.12  24.0     never smoked       1  \n",
              "5          Urban             186.21  29.0  formerly smoked       1  "
            ],
            "text/html": [
              "\n",
              "  <div id=\"df-8c409b3a-b67b-4ae4-8045-171cfba09b6b\" class=\"colab-df-container\">\n",
              "    <div>\n",
              "<style scoped>\n",
              "    .dataframe tbody tr th:only-of-type {\n",
              "        vertical-align: middle;\n",
              "    }\n",
              "\n",
              "    .dataframe tbody tr th {\n",
              "        vertical-align: top;\n",
              "    }\n",
              "\n",
              "    .dataframe thead th {\n",
              "        text-align: right;\n",
              "    }\n",
              "</style>\n",
              "<table border=\"1\" class=\"dataframe\">\n",
              "  <thead>\n",
              "    <tr style=\"text-align: right;\">\n",
              "      <th></th>\n",
              "      <th>gender</th>\n",
              "      <th>age</th>\n",
              "      <th>hypertension</th>\n",
              "      <th>heart-disease</th>\n",
              "      <th>ever-married</th>\n",
              "      <th>work-type</th>\n",
              "      <th>Residence-type</th>\n",
              "      <th>avg-glucose-level</th>\n",
              "      <th>bmi</th>\n",
              "      <th>smoking-status</th>\n",
              "      <th>stroke</th>\n",
              "    </tr>\n",
              "  </thead>\n",
              "  <tbody>\n",
              "    <tr>\n",
              "      <th>0</th>\n",
              "      <td>Male</td>\n",
              "      <td>67.0</td>\n",
              "      <td>0</td>\n",
              "      <td>1</td>\n",
              "      <td>Yes</td>\n",
              "      <td>Private</td>\n",
              "      <td>Urban</td>\n",
              "      <td>228.69</td>\n",
              "      <td>36.6</td>\n",
              "      <td>formerly smoked</td>\n",
              "      <td>1</td>\n",
              "    </tr>\n",
              "    <tr>\n",
              "      <th>2</th>\n",
              "      <td>Male</td>\n",
              "      <td>80.0</td>\n",
              "      <td>0</td>\n",
              "      <td>1</td>\n",
              "      <td>Yes</td>\n",
              "      <td>Private</td>\n",
              "      <td>Rural</td>\n",
              "      <td>105.92</td>\n",
              "      <td>32.5</td>\n",
              "      <td>never smoked</td>\n",
              "      <td>1</td>\n",
              "    </tr>\n",
              "    <tr>\n",
              "      <th>3</th>\n",
              "      <td>Female</td>\n",
              "      <td>49.0</td>\n",
              "      <td>0</td>\n",
              "      <td>0</td>\n",
              "      <td>Yes</td>\n",
              "      <td>Private</td>\n",
              "      <td>Urban</td>\n",
              "      <td>171.23</td>\n",
              "      <td>34.4</td>\n",
              "      <td>smokes</td>\n",
              "      <td>1</td>\n",
              "    </tr>\n",
              "    <tr>\n",
              "      <th>4</th>\n",
              "      <td>Female</td>\n",
              "      <td>79.0</td>\n",
              "      <td>1</td>\n",
              "      <td>0</td>\n",
              "      <td>Yes</td>\n",
              "      <td>Self-employed</td>\n",
              "      <td>Rural</td>\n",
              "      <td>174.12</td>\n",
              "      <td>24.0</td>\n",
              "      <td>never smoked</td>\n",
              "      <td>1</td>\n",
              "    </tr>\n",
              "    <tr>\n",
              "      <th>5</th>\n",
              "      <td>Male</td>\n",
              "      <td>81.0</td>\n",
              "      <td>0</td>\n",
              "      <td>0</td>\n",
              "      <td>Yes</td>\n",
              "      <td>Private</td>\n",
              "      <td>Urban</td>\n",
              "      <td>186.21</td>\n",
              "      <td>29.0</td>\n",
              "      <td>formerly smoked</td>\n",
              "      <td>1</td>\n",
              "    </tr>\n",
              "  </tbody>\n",
              "</table>\n",
              "</div>\n",
              "    <div class=\"colab-df-buttons\">\n",
              "\n",
              "  <div class=\"colab-df-container\">\n",
              "    <button class=\"colab-df-convert\" onclick=\"convertToInteractive('df-8c409b3a-b67b-4ae4-8045-171cfba09b6b')\"\n",
              "            title=\"Convert this dataframe to an interactive table.\"\n",
              "            style=\"display:none;\">\n",
              "\n",
              "  <svg xmlns=\"http://www.w3.org/2000/svg\" height=\"24px\" viewBox=\"0 -960 960 960\">\n",
              "    <path d=\"M120-120v-720h720v720H120Zm60-500h600v-160H180v160Zm220 220h160v-160H400v160Zm0 220h160v-160H400v160ZM180-400h160v-160H180v160Zm440 0h160v-160H620v160ZM180-180h160v-160H180v160Zm440 0h160v-160H620v160Z\"/>\n",
              "  </svg>\n",
              "    </button>\n",
              "\n",
              "  <style>\n",
              "    .colab-df-container {\n",
              "      display:flex;\n",
              "      gap: 12px;\n",
              "    }\n",
              "\n",
              "    .colab-df-convert {\n",
              "      background-color: #E8F0FE;\n",
              "      border: none;\n",
              "      border-radius: 50%;\n",
              "      cursor: pointer;\n",
              "      display: none;\n",
              "      fill: #1967D2;\n",
              "      height: 32px;\n",
              "      padding: 0 0 0 0;\n",
              "      width: 32px;\n",
              "    }\n",
              "\n",
              "    .colab-df-convert:hover {\n",
              "      background-color: #E2EBFA;\n",
              "      box-shadow: 0px 1px 2px rgba(60, 64, 67, 0.3), 0px 1px 3px 1px rgba(60, 64, 67, 0.15);\n",
              "      fill: #174EA6;\n",
              "    }\n",
              "\n",
              "    .colab-df-buttons div {\n",
              "      margin-bottom: 4px;\n",
              "    }\n",
              "\n",
              "    [theme=dark] .colab-df-convert {\n",
              "      background-color: #3B4455;\n",
              "      fill: #D2E3FC;\n",
              "    }\n",
              "\n",
              "    [theme=dark] .colab-df-convert:hover {\n",
              "      background-color: #434B5C;\n",
              "      box-shadow: 0px 1px 3px 1px rgba(0, 0, 0, 0.15);\n",
              "      filter: drop-shadow(0px 1px 2px rgba(0, 0, 0, 0.3));\n",
              "      fill: #FFFFFF;\n",
              "    }\n",
              "  </style>\n",
              "\n",
              "    <script>\n",
              "      const buttonEl =\n",
              "        document.querySelector('#df-8c409b3a-b67b-4ae4-8045-171cfba09b6b button.colab-df-convert');\n",
              "      buttonEl.style.display =\n",
              "        google.colab.kernel.accessAllowed ? 'block' : 'none';\n",
              "\n",
              "      async function convertToInteractive(key) {\n",
              "        const element = document.querySelector('#df-8c409b3a-b67b-4ae4-8045-171cfba09b6b');\n",
              "        const dataTable =\n",
              "          await google.colab.kernel.invokeFunction('convertToInteractive',\n",
              "                                                    [key], {});\n",
              "        if (!dataTable) return;\n",
              "\n",
              "        const docLinkHtml = 'Like what you see? Visit the ' +\n",
              "          '<a target=\"_blank\" href=https://colab.research.google.com/notebooks/data_table.ipynb>data table notebook</a>'\n",
              "          + ' to learn more about interactive tables.';\n",
              "        element.innerHTML = '';\n",
              "        dataTable['output_type'] = 'display_data';\n",
              "        await google.colab.output.renderOutput(dataTable, element);\n",
              "        const docLink = document.createElement('div');\n",
              "        docLink.innerHTML = docLinkHtml;\n",
              "        element.appendChild(docLink);\n",
              "      }\n",
              "    </script>\n",
              "  </div>\n",
              "\n",
              "\n",
              "<div id=\"df-10bd6206-0ea4-425f-83a5-bd303a775985\">\n",
              "  <button class=\"colab-df-quickchart\" onclick=\"quickchart('df-10bd6206-0ea4-425f-83a5-bd303a775985')\"\n",
              "            title=\"Suggest charts\"\n",
              "            style=\"display:none;\">\n",
              "\n",
              "<svg xmlns=\"http://www.w3.org/2000/svg\" height=\"24px\"viewBox=\"0 0 24 24\"\n",
              "     width=\"24px\">\n",
              "    <g>\n",
              "        <path d=\"M19 3H5c-1.1 0-2 .9-2 2v14c0 1.1.9 2 2 2h14c1.1 0 2-.9 2-2V5c0-1.1-.9-2-2-2zM9 17H7v-7h2v7zm4 0h-2V7h2v10zm4 0h-2v-4h2v4z\"/>\n",
              "    </g>\n",
              "</svg>\n",
              "  </button>\n",
              "\n",
              "<style>\n",
              "  .colab-df-quickchart {\n",
              "      --bg-color: #E8F0FE;\n",
              "      --fill-color: #1967D2;\n",
              "      --hover-bg-color: #E2EBFA;\n",
              "      --hover-fill-color: #174EA6;\n",
              "      --disabled-fill-color: #AAA;\n",
              "      --disabled-bg-color: #DDD;\n",
              "  }\n",
              "\n",
              "  [theme=dark] .colab-df-quickchart {\n",
              "      --bg-color: #3B4455;\n",
              "      --fill-color: #D2E3FC;\n",
              "      --hover-bg-color: #434B5C;\n",
              "      --hover-fill-color: #FFFFFF;\n",
              "      --disabled-bg-color: #3B4455;\n",
              "      --disabled-fill-color: #666;\n",
              "  }\n",
              "\n",
              "  .colab-df-quickchart {\n",
              "    background-color: var(--bg-color);\n",
              "    border: none;\n",
              "    border-radius: 50%;\n",
              "    cursor: pointer;\n",
              "    display: none;\n",
              "    fill: var(--fill-color);\n",
              "    height: 32px;\n",
              "    padding: 0;\n",
              "    width: 32px;\n",
              "  }\n",
              "\n",
              "  .colab-df-quickchart:hover {\n",
              "    background-color: var(--hover-bg-color);\n",
              "    box-shadow: 0 1px 2px rgba(60, 64, 67, 0.3), 0 1px 3px 1px rgba(60, 64, 67, 0.15);\n",
              "    fill: var(--button-hover-fill-color);\n",
              "  }\n",
              "\n",
              "  .colab-df-quickchart-complete:disabled,\n",
              "  .colab-df-quickchart-complete:disabled:hover {\n",
              "    background-color: var(--disabled-bg-color);\n",
              "    fill: var(--disabled-fill-color);\n",
              "    box-shadow: none;\n",
              "  }\n",
              "\n",
              "  .colab-df-spinner {\n",
              "    border: 2px solid var(--fill-color);\n",
              "    border-color: transparent;\n",
              "    border-bottom-color: var(--fill-color);\n",
              "    animation:\n",
              "      spin 1s steps(1) infinite;\n",
              "  }\n",
              "\n",
              "  @keyframes spin {\n",
              "    0% {\n",
              "      border-color: transparent;\n",
              "      border-bottom-color: var(--fill-color);\n",
              "      border-left-color: var(--fill-color);\n",
              "    }\n",
              "    20% {\n",
              "      border-color: transparent;\n",
              "      border-left-color: var(--fill-color);\n",
              "      border-top-color: var(--fill-color);\n",
              "    }\n",
              "    30% {\n",
              "      border-color: transparent;\n",
              "      border-left-color: var(--fill-color);\n",
              "      border-top-color: var(--fill-color);\n",
              "      border-right-color: var(--fill-color);\n",
              "    }\n",
              "    40% {\n",
              "      border-color: transparent;\n",
              "      border-right-color: var(--fill-color);\n",
              "      border-top-color: var(--fill-color);\n",
              "    }\n",
              "    60% {\n",
              "      border-color: transparent;\n",
              "      border-right-color: var(--fill-color);\n",
              "    }\n",
              "    80% {\n",
              "      border-color: transparent;\n",
              "      border-right-color: var(--fill-color);\n",
              "      border-bottom-color: var(--fill-color);\n",
              "    }\n",
              "    90% {\n",
              "      border-color: transparent;\n",
              "      border-bottom-color: var(--fill-color);\n",
              "    }\n",
              "  }\n",
              "</style>\n",
              "\n",
              "  <script>\n",
              "    async function quickchart(key) {\n",
              "      const quickchartButtonEl =\n",
              "        document.querySelector('#' + key + ' button');\n",
              "      quickchartButtonEl.disabled = true;  // To prevent multiple clicks.\n",
              "      quickchartButtonEl.classList.add('colab-df-spinner');\n",
              "      try {\n",
              "        const charts = await google.colab.kernel.invokeFunction(\n",
              "            'suggestCharts', [key], {});\n",
              "      } catch (error) {\n",
              "        console.error('Error during call to suggestCharts:', error);\n",
              "      }\n",
              "      quickchartButtonEl.classList.remove('colab-df-spinner');\n",
              "      quickchartButtonEl.classList.add('colab-df-quickchart-complete');\n",
              "    }\n",
              "    (() => {\n",
              "      let quickchartButtonEl =\n",
              "        document.querySelector('#df-10bd6206-0ea4-425f-83a5-bd303a775985 button');\n",
              "      quickchartButtonEl.style.display =\n",
              "        google.colab.kernel.accessAllowed ? 'block' : 'none';\n",
              "    })();\n",
              "  </script>\n",
              "</div>\n",
              "    </div>\n",
              "  </div>\n"
            ],
            "application/vnd.google.colaboratory.intrinsic+json": {
              "type": "dataframe",
              "variable_name": "df",
              "summary": "{\n  \"name\": \"df\",\n  \"rows\": 3254,\n  \"fields\": [\n    {\n      \"column\": \"gender\",\n      \"properties\": {\n        \"dtype\": \"category\",\n        \"num_unique_values\": 2,\n        \"samples\": [\n          \"Female\",\n          \"Male\"\n        ],\n        \"semantic_type\": \"\",\n        \"description\": \"\"\n      }\n    },\n    {\n      \"column\": \"age\",\n      \"properties\": {\n        \"dtype\": \"number\",\n        \"std\": 17.57530225788687,\n        \"min\": 18.0,\n        \"max\": 82.0,\n        \"num_unique_values\": 65,\n        \"samples\": [\n          18.0,\n          31.0\n        ],\n        \"semantic_type\": \"\",\n        \"description\": \"\"\n      }\n    },\n    {\n      \"column\": \"hypertension\",\n      \"properties\": {\n        \"dtype\": \"number\",\n        \"std\": 0,\n        \"min\": 0,\n        \"max\": 1,\n        \"num_unique_values\": 2,\n        \"samples\": [\n          1,\n          0\n        ],\n        \"semantic_type\": \"\",\n        \"description\": \"\"\n      }\n    },\n    {\n      \"column\": \"heart-disease\",\n      \"properties\": {\n        \"dtype\": \"number\",\n        \"std\": 0,\n        \"min\": 0,\n        \"max\": 1,\n        \"num_unique_values\": 2,\n        \"samples\": [\n          0,\n          1\n        ],\n        \"semantic_type\": \"\",\n        \"description\": \"\"\n      }\n    },\n    {\n      \"column\": \"ever-married\",\n      \"properties\": {\n        \"dtype\": \"category\",\n        \"num_unique_values\": 2,\n        \"samples\": [\n          \"No\",\n          \"Yes\"\n        ],\n        \"semantic_type\": \"\",\n        \"description\": \"\"\n      }\n    },\n    {\n      \"column\": \"work-type\",\n      \"properties\": {\n        \"dtype\": \"category\",\n        \"num_unique_values\": 4,\n        \"samples\": [\n          \"Self-employed\",\n          \"Never_worked\"\n        ],\n        \"semantic_type\": \"\",\n        \"description\": \"\"\n      }\n    },\n    {\n      \"column\": \"Residence-type\",\n      \"properties\": {\n        \"dtype\": \"category\",\n        \"num_unique_values\": 2,\n        \"samples\": [\n          \"Rural\",\n          \"Urban\"\n        ],\n        \"semantic_type\": \"\",\n        \"description\": \"\"\n      }\n    },\n    {\n      \"column\": \"avg-glucose-level\",\n      \"properties\": {\n        \"dtype\": \"number\",\n        \"std\": 48.32948943697734,\n        \"min\": 55.12,\n        \"max\": 271.74,\n        \"num_unique_values\": 2788,\n        \"samples\": [\n          112.79,\n          138.51\n        ],\n        \"semantic_type\": \"\",\n        \"description\": \"\"\n      }\n    },\n    {\n      \"column\": \"bmi\",\n      \"properties\": {\n        \"dtype\": \"number\",\n        \"std\": 7.143181407181635,\n        \"min\": 11.5,\n        \"max\": 78.0,\n        \"num_unique_values\": 362,\n        \"samples\": [\n          29.2,\n          38.6\n        ],\n        \"semantic_type\": \"\",\n        \"description\": \"\"\n      }\n    },\n    {\n      \"column\": \"smoking-status\",\n      \"properties\": {\n        \"dtype\": \"category\",\n        \"num_unique_values\": 3,\n        \"samples\": [\n          \"formerly smoked\",\n          \"never smoked\"\n        ],\n        \"semantic_type\": \"\",\n        \"description\": \"\"\n      }\n    },\n    {\n      \"column\": \"stroke\",\n      \"properties\": {\n        \"dtype\": \"number\",\n        \"std\": 0,\n        \"min\": 0,\n        \"max\": 1,\n        \"num_unique_values\": 2,\n        \"samples\": [\n          0,\n          1\n        ],\n        \"semantic_type\": \"\",\n        \"description\": \"\"\n      }\n    }\n  ]\n}"
            }
          },
          "metadata": {},
          "execution_count": 364
        }
      ]
    },
    {
      "cell_type": "code",
      "source": [
        "from sklearn.model_selection import train_test_split\n",
        "\n",
        "features = np.array(df.columns[:-1])\n",
        "print(features)\n",
        "X = df.drop(['stroke'], axis = 1) # Set di caratteristiche\n",
        "y = df['stroke'] # Target da prevedere"
      ],
      "metadata": {
        "colab": {
          "base_uri": "https://localhost:8080/"
        },
        "id": "56h6QHZL0gZE",
        "outputId": "84bc41e2-c5b4-44e0-c327-dac928978394"
      },
      "execution_count": null,
      "outputs": [
        {
          "output_type": "stream",
          "name": "stdout",
          "text": [
            "['gender' 'age' 'hypertension' 'heart-disease' 'ever-married' 'work-type'\n",
            " 'Residence-type' 'avg-glucose-level' 'bmi' 'smoking-status']\n"
          ]
        }
      ]
    },
    {
      "cell_type": "code",
      "source": [
        "y.value_counts()"
      ],
      "metadata": {
        "colab": {
          "base_uri": "https://localhost:8080/"
        },
        "id": "prSZVsXL0mC3",
        "outputId": "317ba341-26f2-40f4-9dd8-e0640c6a08ac"
      },
      "execution_count": null,
      "outputs": [
        {
          "output_type": "execute_result",
          "data": {
            "text/plain": [
              "stroke\n",
              "0    3074\n",
              "1     180\n",
              "Name: count, dtype: int64"
            ]
          },
          "metadata": {},
          "execution_count": 366
        }
      ]
    },
    {
      "cell_type": "code",
      "source": [
        "y.value_counts().plot.pie(autopct = \"%.2f\")"
      ],
      "metadata": {
        "colab": {
          "base_uri": "https://localhost:8080/",
          "height": 423
        },
        "id": "dvxryMPo0niT",
        "outputId": "510b0f2c-1eba-4516-d51c-e5288ea7c97d"
      },
      "execution_count": null,
      "outputs": [
        {
          "output_type": "execute_result",
          "data": {
            "text/plain": [
              "<Axes: ylabel='count'>"
            ]
          },
          "metadata": {},
          "execution_count": 367
        },
        {
          "output_type": "display_data",
          "data": {
            "text/plain": [
              "<Figure size 640x480 with 1 Axes>"
            ],
            "image/png": "[encoded data removed]"
          },
          "metadata": {}
        }
      ]
    },
    {
      "cell_type": "code",
      "source": [
        "print(X)"
      ],
      "metadata": {
        "colab": {
          "base_uri": "https://localhost:8080/"
        },
        "id": "jpMjG4xu0sCD",
        "outputId": "47d72f1a-3bcd-48cb-e276-3d9db56b2920"
      },
      "execution_count": null,
      "outputs": [
        {
          "output_type": "stream",
          "name": "stdout",
          "text": [
            "      gender   age  hypertension  heart-disease ever-married      work-type  \\\n",
            "0       Male  67.0             0              1          Yes        Private   \n",
            "2       Male  80.0             0              1          Yes        Private   \n",
            "3     Female  49.0             0              0          Yes        Private   \n",
            "4     Female  79.0             1              0          Yes  Self-employed   \n",
            "5       Male  81.0             0              0          Yes        Private   \n",
            "...      ...   ...           ...            ...          ...            ...   \n",
            "5100    Male  82.0             1              0          Yes  Self-employed   \n",
            "5102  Female  57.0             0              0          Yes        Private   \n",
            "5106  Female  81.0             0              0          Yes  Self-employed   \n",
            "5107  Female  35.0             0              0          Yes  Self-employed   \n",
            "5108    Male  51.0             0              0          Yes        Private   \n",
            "\n",
            "     Residence-type  avg-glucose-level   bmi   smoking-status  \n",
            "0             Urban             228.69  36.6  formerly smoked  \n",
            "2             Rural             105.92  32.5     never smoked  \n",
            "3             Urban             171.23  34.4           smokes  \n",
            "4             Rural             174.12  24.0     never smoked  \n",
            "5             Urban             186.21  29.0  formerly smoked  \n",
            "...             ...                ...   ...              ...  \n",
            "5100          Rural              71.97  28.3     never smoked  \n",
            "5102          Rural              77.93  21.7     never smoked  \n",
            "5106          Urban             125.20  40.0     never smoked  \n",
            "5107          Rural              82.99  30.6     never smoked  \n",
            "5108          Rural             166.29  25.6  formerly smoked  \n",
            "\n",
            "[3254 rows x 10 columns]\n"
          ]
        }
      ]
    },
    {
      "cell_type": "code",
      "source": [
        "X_train, X_test, y_train, y_test = train_test_split(X, y, test_size = 0.2)"
      ],
      "metadata": {
        "id": "UDcFJRwA2NWw"
      },
      "execution_count": null,
      "outputs": []
    },
    {
      "cell_type": "code",
      "source": [
        "print(X_train)"
      ],
      "metadata": {
        "colab": {
          "base_uri": "https://localhost:8080/"
        },
        "id": "Ha1Nze7N2Sna",
        "outputId": "ab62b6d9-e720-4d40-e074-86a0f94cec08"
      },
      "execution_count": null,
      "outputs": [
        {
          "output_type": "stream",
          "name": "stdout",
          "text": [
            "      gender   age  hypertension  heart-disease ever-married      work-type  \\\n",
            "2270  Female  32.0             0              0          Yes        Private   \n",
            "1986  Female  25.0             0              0          Yes        Private   \n",
            "501   Female  60.0             0              0          Yes        Private   \n",
            "4767  Female  44.0             0              0          Yes       Govt_job   \n",
            "1964  Female  29.0             0              0          Yes  Self-employed   \n",
            "...      ...   ...           ...            ...          ...            ...   \n",
            "737     Male  42.0             0              0          Yes        Private   \n",
            "4388  Female  40.0             0              0          Yes  Self-employed   \n",
            "3773  Female  38.0             0              0          Yes       Govt_job   \n",
            "4138  Female  80.0             0              0          Yes  Self-employed   \n",
            "2557    Male  27.0             0              0          Yes        Private   \n",
            "\n",
            "     Residence-type  avg-glucose-level   bmi   smoking-status  \n",
            "2270          Rural              61.83  31.3     never smoked  \n",
            "1986          Urban              65.60  33.5     never smoked  \n",
            "501           Urban              65.38  41.2  formerly smoked  \n",
            "4767          Rural              70.48  20.2     never smoked  \n",
            "1964          Rural              74.33  29.9           smokes  \n",
            "...             ...                ...   ...              ...  \n",
            "737           Urban              78.49  31.8           smokes  \n",
            "4388          Urban             106.76  24.1  formerly smoked  \n",
            "3773          Rural              93.93  21.5     never smoked  \n",
            "4138          Urban              73.87  33.7     never smoked  \n",
            "2557          Urban             150.10  25.3     never smoked  \n",
            "\n",
            "[2603 rows x 10 columns]\n"
          ]
        }
      ]
    },
    {
      "cell_type": "code",
      "source": [
        "print(X_test)"
      ],
      "metadata": {
        "colab": {
          "base_uri": "https://localhost:8080/"
        },
        "id": "rc-f7MyO2j7A",
        "outputId": "b89896ad-81a2-478e-9a41-02e462bff2de"
      },
      "execution_count": null,
      "outputs": [
        {
          "output_type": "stream",
          "name": "stdout",
          "text": [
            "      gender   age  hypertension  heart-disease ever-married work-type  \\\n",
            "1433    Male  54.0             0              0          Yes   Private   \n",
            "3540  Female  20.0             0              0           No   Private   \n",
            "415   Female  33.0             0              0          Yes   Private   \n",
            "2943  Female  27.0             0              0           No   Private   \n",
            "4318  Female  70.0             0              0          Yes   Private   \n",
            "...      ...   ...           ...            ...          ...       ...   \n",
            "862   Female  31.0             0              0          Yes   Private   \n",
            "3793  Female  24.0             0              0           No   Private   \n",
            "418   Female  22.0             0              0           No   Private   \n",
            "4188  Female  27.0             0              0          Yes   Private   \n",
            "2811    Male  20.0             0              0           No   Private   \n",
            "\n",
            "     Residence-type  avg-glucose-level   bmi   smoking-status  \n",
            "1433          Urban              86.26  35.1  formerly smoked  \n",
            "3540          Rural              84.07  27.6           smokes  \n",
            "415           Rural              71.16  46.5           smokes  \n",
            "2943          Rural              80.22  21.6     never smoked  \n",
            "4318          Urban              77.77  33.8           smokes  \n",
            "...             ...                ...   ...              ...  \n",
            "862           Urban             125.38  24.4           smokes  \n",
            "3793          Urban              65.44  23.6     never smoked  \n",
            "418           Rural              82.00  26.4     never smoked  \n",
            "4188          Rural              57.96  64.4     never smoked  \n",
            "2811          Rural              88.47  28.1           smokes  \n",
            "\n",
            "[651 rows x 10 columns]\n"
          ]
        }
      ]
    },
    {
      "cell_type": "code",
      "source": [
        "gender = pd.get_dummies(X_train[\"gender\"], prefix=\"gender\")\n",
        "married = pd.get_dummies(X_train[\"ever-married\"], prefix=\"ever-married\")\n",
        "work = pd.get_dummies(X_train[\"work-type\"], prefix=\"work-type\")\n",
        "residence = pd.get_dummies(X_train[\"Residence-type\"], prefix=\"Residence-type\")\n",
        "smoking = pd.get_dummies(X_train[\"smoking-status\"], prefix=\"smoking-status\")\n",
        "\n",
        "# the features that are one hot encoded\n",
        "one_hot_features = [\"gender\", \"ever-married\", \"work-type\", \"Residence-type\", \"smoking-status\"]\n",
        "X_train.drop(columns=one_hot_features, inplace=True)\n",
        "\n",
        "\n",
        "X_tmp_0 = pd.concat([gender, married, work, residence, smoking], axis=1)\n",
        "dummies_columns = X_tmp_0.columns\n",
        "\n",
        "X_train = pd.concat([X_train, X_tmp_0], axis=1)"
      ],
      "metadata": {
        "id": "fX17vM1W20Rk"
      },
      "execution_count": null,
      "outputs": []
    },
    {
      "cell_type": "code",
      "source": [
        "from sklearn.preprocessing import OrdinalEncoder\n",
        "\n",
        "features_to_encode = [\"gender_Female\", \"gender_Male\", \"ever-married_No\", \"ever-married_Yes\", \"work-type_Govt_job\", \"work-type_Never_worked\", \"work-type_Private\", \"work-type_Self-employed\",\"Residence-type_Rural\", \"Residence-type_Urban\",\"smoking-status_formerly smoked\", \"smoking-status_never smoked\", \"smoking-status_smokes\"]\n",
        "\n",
        "encoder = OrdinalEncoder()\n",
        "\n",
        "X_train[features_to_encode] = encoder.fit_transform(X_train[features_to_encode])"
      ],
      "metadata": {
        "id": "qk1KmDnQ7Bjp"
      },
      "execution_count": null,
      "outputs": []
    },
    {
      "cell_type": "code",
      "source": [
        "print(X_train)"
      ],
      "metadata": {
        "colab": {
          "base_uri": "https://localhost:8080/"
        },
        "id": "aPj2ZB1G-OXh",
        "outputId": "e0469b79-b4a6-46f5-f265-8698bc3817b1"
      },
      "execution_count": null,
      "outputs": [
        {
          "output_type": "stream",
          "name": "stdout",
          "text": [
            "       age  hypertension  heart-disease  avg-glucose-level   bmi  \\\n",
            "2270  32.0             0              0              61.83  31.3   \n",
            "1986  25.0             0              0              65.60  33.5   \n",
            "501   60.0             0              0              65.38  41.2   \n",
            "4767  44.0             0              0              70.48  20.2   \n",
            "1964  29.0             0              0              74.33  29.9   \n",
            "...    ...           ...            ...                ...   ...   \n",
            "737   42.0             0              0              78.49  31.8   \n",
            "4388  40.0             0              0             106.76  24.1   \n",
            "3773  38.0             0              0              93.93  21.5   \n",
            "4138  80.0             0              0              73.87  33.7   \n",
            "2557  27.0             0              0             150.10  25.3   \n",
            "\n",
            "      gender_Female  gender_Male  ever-married_No  ever-married_Yes  \\\n",
            "2270            1.0          0.0              0.0               1.0   \n",
            "1986            1.0          0.0              0.0               1.0   \n",
            "501             1.0          0.0              0.0               1.0   \n",
            "4767            1.0          0.0              0.0               1.0   \n",
            "1964            1.0          0.0              0.0               1.0   \n",
            "...             ...          ...              ...               ...   \n",
            "737             0.0          1.0              0.0               1.0   \n",
            "4388            1.0          0.0              0.0               1.0   \n",
            "3773            1.0          0.0              0.0               1.0   \n",
            "4138            1.0          0.0              0.0               1.0   \n",
            "2557            0.0          1.0              0.0               1.0   \n",
            "\n",
            "      work-type_Govt_job  work-type_Never_worked  work-type_Private  \\\n",
            "2270                 0.0                     0.0                1.0   \n",
            "1986                 0.0                     0.0                1.0   \n",
            "501                  0.0                     0.0                1.0   \n",
            "4767                 1.0                     0.0                0.0   \n",
            "1964                 0.0                     0.0                0.0   \n",
            "...                  ...                     ...                ...   \n",
            "737                  0.0                     0.0                1.0   \n",
            "4388                 0.0                     0.0                0.0   \n",
            "3773                 1.0                     0.0                0.0   \n",
            "4138                 0.0                     0.0                0.0   \n",
            "2557                 0.0                     0.0                1.0   \n",
            "\n",
            "      work-type_Self-employed  Residence-type_Rural  Residence-type_Urban  \\\n",
            "2270                      0.0                   1.0                   0.0   \n",
            "1986                      0.0                   0.0                   1.0   \n",
            "501                       0.0                   0.0                   1.0   \n",
            "4767                      0.0                   1.0                   0.0   \n",
            "1964                      1.0                   1.0                   0.0   \n",
            "...                       ...                   ...                   ...   \n",
            "737                       0.0                   0.0                   1.0   \n",
            "4388                      1.0                   0.0                   1.0   \n",
            "3773                      0.0                   1.0                   0.0   \n",
            "4138                      1.0                   0.0                   1.0   \n",
            "2557                      0.0                   0.0                   1.0   \n",
            "\n",
            "      smoking-status_formerly smoked  smoking-status_never smoked  \\\n",
            "2270                             0.0                          1.0   \n",
            "1986                             0.0                          1.0   \n",
            "501                              1.0                          0.0   \n",
            "4767                             0.0                          1.0   \n",
            "1964                             0.0                          0.0   \n",
            "...                              ...                          ...   \n",
            "737                              0.0                          0.0   \n",
            "4388                             1.0                          0.0   \n",
            "3773                             0.0                          1.0   \n",
            "4138                             0.0                          1.0   \n",
            "2557                             0.0                          1.0   \n",
            "\n",
            "      smoking-status_smokes  \n",
            "2270                    0.0  \n",
            "1986                    0.0  \n",
            "501                     0.0  \n",
            "4767                    0.0  \n",
            "1964                    1.0  \n",
            "...                     ...  \n",
            "737                     1.0  \n",
            "4388                    0.0  \n",
            "3773                    0.0  \n",
            "4138                    0.0  \n",
            "2557                    0.0  \n",
            "\n",
            "[2603 rows x 18 columns]\n"
          ]
        }
      ]
    },
    {
      "cell_type": "code",
      "source": [
        "tmp_features = X_train.columns\n",
        "print(tmp_features)"
      ],
      "metadata": {
        "colab": {
          "base_uri": "https://localhost:8080/"
        },
        "id": "dLsoS789-n3m",
        "outputId": "64e447dd-fc01-42a4-c3f1-7b2e415ee262"
      },
      "execution_count": null,
      "outputs": [
        {
          "output_type": "stream",
          "name": "stdout",
          "text": [
            "Index(['age', 'hypertension', 'heart-disease', 'avg-glucose-level', 'bmi',\n",
            "       'gender_Female', 'gender_Male', 'ever-married_No', 'ever-married_Yes',\n",
            "       'work-type_Govt_job', 'work-type_Never_worked', 'work-type_Private',\n",
            "       'work-type_Self-employed', 'Residence-type_Rural',\n",
            "       'Residence-type_Urban', 'smoking-status_formerly smoked',\n",
            "       'smoking-status_never smoked', 'smoking-status_smokes'],\n",
            "      dtype='object')\n"
          ]
        }
      ]
    },
    {
      "cell_type": "code",
      "source": [
        "# Apply SMOTE\n",
        "smote = SMOTE(sampling_strategy='minority')\n",
        "X_smote, y_smote = smote.fit_resample(X_train, y_train)"
      ],
      "metadata": {
        "id": "kYrhnuzX-yYD"
      },
      "execution_count": null,
      "outputs": []
    },
    {
      "cell_type": "code",
      "source": [
        "# convert to dataframe\n",
        "X_smote = pd.DataFrame(X_smote, columns=tmp_features)\n",
        "print(X_smote)"
      ],
      "metadata": {
        "colab": {
          "base_uri": "https://localhost:8080/"
        },
        "id": "gsCzKek8_Dph",
        "outputId": "ef565741-c121-401e-af80-da7372c630aa"
      },
      "execution_count": null,
      "outputs": [
        {
          "output_type": "stream",
          "name": "stdout",
          "text": [
            "            age  hypertension  heart-disease  avg-glucose-level        bmi  \\\n",
            "0     32.000000             0              0          61.830000  31.300000   \n",
            "1     25.000000             0              0          65.600000  33.500000   \n",
            "2     60.000000             0              0          65.380000  41.200000   \n",
            "3     44.000000             0              0          70.480000  20.200000   \n",
            "4     29.000000             0              0          74.330000  29.900000   \n",
            "...         ...           ...            ...                ...        ...   \n",
            "4915  79.593520             0              0          74.017939  24.720174   \n",
            "4916  73.021588             1              0         219.138477  28.322475   \n",
            "4917  33.750525             0              0          77.924288  28.178651   \n",
            "4918  57.484821             0              0          63.749601  30.524377   \n",
            "4919  79.000000             0              0          94.521733  23.637365   \n",
            "\n",
            "      gender_Female  gender_Male  ever-married_No  ever-married_Yes  \\\n",
            "0           1.00000      0.00000         0.000000          1.000000   \n",
            "1           1.00000      0.00000         0.000000          1.000000   \n",
            "2           1.00000      0.00000         0.000000          1.000000   \n",
            "3           1.00000      0.00000         0.000000          1.000000   \n",
            "4           1.00000      0.00000         0.000000          1.000000   \n",
            "...             ...          ...              ...               ...   \n",
            "4915        0.59352      0.40648         0.000000          1.000000   \n",
            "4916        0.00000      1.00000         0.494603          0.505397   \n",
            "4917        1.00000      0.00000         0.291754          0.708246   \n",
            "4918        1.00000      0.00000         0.000000          1.000000   \n",
            "4919        1.00000      0.00000         0.296123          0.703877   \n",
            "\n",
            "      work-type_Govt_job  work-type_Never_worked  work-type_Private  \\\n",
            "0               0.000000                     0.0           1.000000   \n",
            "1               0.000000                     0.0           1.000000   \n",
            "2               0.000000                     0.0           1.000000   \n",
            "3               1.000000                     0.0           0.000000   \n",
            "4               0.000000                     0.0           0.000000   \n",
            "...                  ...                     ...                ...   \n",
            "4915            0.000000                     0.0           1.000000   \n",
            "4916            0.494603                     0.0           0.505397   \n",
            "4917            0.000000                     0.0           0.708246   \n",
            "4918            0.515179                     0.0           0.484821   \n",
            "4919            0.296123                     0.0           0.703877   \n",
            "\n",
            "      work-type_Self-employed  Residence-type_Rural  Residence-type_Urban  \\\n",
            "0                    0.000000              1.000000              0.000000   \n",
            "1                    0.000000              0.000000              1.000000   \n",
            "2                    0.000000              0.000000              1.000000   \n",
            "3                    0.000000              1.000000              0.000000   \n",
            "4                    1.000000              1.000000              0.000000   \n",
            "...                       ...                   ...                   ...   \n",
            "4915                 0.000000              1.000000              0.000000   \n",
            "4916                 0.000000              0.494603              0.505397   \n",
            "4917                 0.291754              0.708246              0.291754   \n",
            "4918                 0.000000              1.000000              0.000000   \n",
            "4919                 0.000000              0.703877              0.296123   \n",
            "\n",
            "      smoking-status_formerly smoked  smoking-status_never smoked  \\\n",
            "0                           0.000000                     1.000000   \n",
            "1                           0.000000                     1.000000   \n",
            "2                           1.000000                     0.000000   \n",
            "3                           0.000000                     1.000000   \n",
            "4                           0.000000                     0.000000   \n",
            "...                              ...                          ...   \n",
            "4915                        0.000000                     1.000000   \n",
            "4916                        0.000000                     0.494603   \n",
            "4917                        0.291754                     0.000000   \n",
            "4918                        0.484821                     0.515179   \n",
            "4919                        0.296123                     0.703877   \n",
            "\n",
            "      smoking-status_smokes  \n",
            "0                  0.000000  \n",
            "1                  0.000000  \n",
            "2                  0.000000  \n",
            "3                  0.000000  \n",
            "4                  1.000000  \n",
            "...                     ...  \n",
            "4915               0.000000  \n",
            "4916               0.505397  \n",
            "4917               0.708246  \n",
            "4918               0.000000  \n",
            "4919               0.000000  \n",
            "\n",
            "[4920 rows x 18 columns]\n"
          ]
        }
      ]
    },
    {
      "cell_type": "code",
      "source": [
        "X_smote = np.round(X_smote)\n",
        "X_smote[features_to_encode] = encoder.inverse_transform(X_smote[features_to_encode])\n",
        "print(X_smote)"
      ],
      "metadata": {
        "colab": {
          "base_uri": "https://localhost:8080/"
        },
        "id": "cUiVKZBiDOuA",
        "outputId": "e26c1e0e-1d90-4721-9683-e44e527a8fb6"
      },
      "execution_count": null,
      "outputs": [
        {
          "output_type": "stream",
          "name": "stdout",
          "text": [
            "       age  hypertension  heart-disease  avg-glucose-level   bmi  \\\n",
            "0     32.0             0              0               62.0  31.0   \n",
            "1     25.0             0              0               66.0  34.0   \n",
            "2     60.0             0              0               65.0  41.0   \n",
            "3     44.0             0              0               70.0  20.0   \n",
            "4     29.0             0              0               74.0  30.0   \n",
            "...    ...           ...            ...                ...   ...   \n",
            "4915  80.0             0              0               74.0  25.0   \n",
            "4916  73.0             1              0              219.0  28.0   \n",
            "4917  34.0             0              0               78.0  28.0   \n",
            "4918  57.0             0              0               64.0  31.0   \n",
            "4919  79.0             0              0               95.0  24.0   \n",
            "\n",
            "      gender_Female  gender_Male  ever-married_No  ever-married_Yes  \\\n",
            "0              True        False            False              True   \n",
            "1              True        False            False              True   \n",
            "2              True        False            False              True   \n",
            "3              True        False            False              True   \n",
            "4              True        False            False              True   \n",
            "...             ...          ...              ...               ...   \n",
            "4915           True        False            False              True   \n",
            "4916          False         True            False              True   \n",
            "4917           True        False            False              True   \n",
            "4918           True        False            False              True   \n",
            "4919           True        False            False              True   \n",
            "\n",
            "      work-type_Govt_job  work-type_Never_worked  work-type_Private  \\\n",
            "0                  False                   False               True   \n",
            "1                  False                   False               True   \n",
            "2                  False                   False               True   \n",
            "3                   True                   False              False   \n",
            "4                  False                   False              False   \n",
            "...                  ...                     ...                ...   \n",
            "4915               False                   False               True   \n",
            "4916               False                   False               True   \n",
            "4917               False                   False               True   \n",
            "4918                True                   False              False   \n",
            "4919               False                   False               True   \n",
            "\n",
            "      work-type_Self-employed  Residence-type_Rural  Residence-type_Urban  \\\n",
            "0                       False                  True                 False   \n",
            "1                       False                 False                  True   \n",
            "2                       False                 False                  True   \n",
            "3                       False                  True                 False   \n",
            "4                        True                  True                 False   \n",
            "...                       ...                   ...                   ...   \n",
            "4915                    False                  True                 False   \n",
            "4916                    False                 False                  True   \n",
            "4917                    False                  True                 False   \n",
            "4918                    False                  True                 False   \n",
            "4919                    False                  True                 False   \n",
            "\n",
            "      smoking-status_formerly smoked  smoking-status_never smoked  \\\n",
            "0                              False                         True   \n",
            "1                              False                         True   \n",
            "2                               True                        False   \n",
            "3                              False                         True   \n",
            "4                              False                        False   \n",
            "...                              ...                          ...   \n",
            "4915                           False                         True   \n",
            "4916                           False                        False   \n",
            "4917                           False                        False   \n",
            "4918                           False                         True   \n",
            "4919                           False                         True   \n",
            "\n",
            "      smoking-status_smokes  \n",
            "0                     False  \n",
            "1                     False  \n",
            "2                     False  \n",
            "3                     False  \n",
            "4                      True  \n",
            "...                     ...  \n",
            "4915                  False  \n",
            "4916                   True  \n",
            "4917                   True  \n",
            "4918                  False  \n",
            "4919                  False  \n",
            "\n",
            "[4920 rows x 18 columns]\n"
          ]
        }
      ]
    },
    {
      "cell_type": "code",
      "source": [
        "dummies = pd.from_dummies(X_smote[dummies_columns], sep='_')\n",
        "print(dummies)"
      ],
      "metadata": {
        "colab": {
          "base_uri": "https://localhost:8080/"
        },
        "id": "cLSC0U7iChm4",
        "outputId": "8350279f-0aac-406c-e67b-24537629dff9"
      },
      "execution_count": null,
      "outputs": [
        {
          "output_type": "stream",
          "name": "stdout",
          "text": [
            "      gender ever-married      work-type Residence-type   smoking-status\n",
            "0     Female          Yes        Private          Rural     never smoked\n",
            "1     Female          Yes        Private          Urban     never smoked\n",
            "2     Female          Yes        Private          Urban  formerly smoked\n",
            "3     Female          Yes       Govt_job          Rural     never smoked\n",
            "4     Female          Yes  Self-employed          Rural           smokes\n",
            "...      ...          ...            ...            ...              ...\n",
            "4915  Female          Yes        Private          Rural     never smoked\n",
            "4916    Male          Yes        Private          Urban           smokes\n",
            "4917  Female          Yes        Private          Rural           smokes\n",
            "4918  Female          Yes       Govt_job          Rural     never smoked\n",
            "4919  Female          Yes        Private          Rural     never smoked\n",
            "\n",
            "[4920 rows x 5 columns]\n"
          ]
        }
      ]
    },
    {
      "cell_type": "code",
      "source": [
        "print(X_smote)"
      ],
      "metadata": {
        "colab": {
          "base_uri": "https://localhost:8080/"
        },
        "id": "wj8Ltw5lLBsy",
        "outputId": "a6a4d2ef-2733-43f7-c635-c1650db297b1"
      },
      "execution_count": null,
      "outputs": [
        {
          "output_type": "stream",
          "name": "stdout",
          "text": [
            "       age  hypertension  heart-disease  avg-glucose-level   bmi  \\\n",
            "0     32.0             0              0               62.0  31.0   \n",
            "1     25.0             0              0               66.0  34.0   \n",
            "2     60.0             0              0               65.0  41.0   \n",
            "3     44.0             0              0               70.0  20.0   \n",
            "4     29.0             0              0               74.0  30.0   \n",
            "...    ...           ...            ...                ...   ...   \n",
            "4915  80.0             0              0               74.0  25.0   \n",
            "4916  73.0             1              0              219.0  28.0   \n",
            "4917  34.0             0              0               78.0  28.0   \n",
            "4918  57.0             0              0               64.0  31.0   \n",
            "4919  79.0             0              0               95.0  24.0   \n",
            "\n",
            "      gender_Female  gender_Male  ever-married_No  ever-married_Yes  \\\n",
            "0              True        False            False              True   \n",
            "1              True        False            False              True   \n",
            "2              True        False            False              True   \n",
            "3              True        False            False              True   \n",
            "4              True        False            False              True   \n",
            "...             ...          ...              ...               ...   \n",
            "4915           True        False            False              True   \n",
            "4916          False         True            False              True   \n",
            "4917           True        False            False              True   \n",
            "4918           True        False            False              True   \n",
            "4919           True        False            False              True   \n",
            "\n",
            "      work-type_Govt_job  work-type_Never_worked  work-type_Private  \\\n",
            "0                  False                   False               True   \n",
            "1                  False                   False               True   \n",
            "2                  False                   False               True   \n",
            "3                   True                   False              False   \n",
            "4                  False                   False              False   \n",
            "...                  ...                     ...                ...   \n",
            "4915               False                   False               True   \n",
            "4916               False                   False               True   \n",
            "4917               False                   False               True   \n",
            "4918                True                   False              False   \n",
            "4919               False                   False               True   \n",
            "\n",
            "      work-type_Self-employed  Residence-type_Rural  Residence-type_Urban  \\\n",
            "0                       False                  True                 False   \n",
            "1                       False                 False                  True   \n",
            "2                       False                 False                  True   \n",
            "3                       False                  True                 False   \n",
            "4                        True                  True                 False   \n",
            "...                       ...                   ...                   ...   \n",
            "4915                    False                  True                 False   \n",
            "4916                    False                 False                  True   \n",
            "4917                    False                  True                 False   \n",
            "4918                    False                  True                 False   \n",
            "4919                    False                  True                 False   \n",
            "\n",
            "      smoking-status_formerly smoked  smoking-status_never smoked  \\\n",
            "0                              False                         True   \n",
            "1                              False                         True   \n",
            "2                               True                        False   \n",
            "3                              False                         True   \n",
            "4                              False                        False   \n",
            "...                              ...                          ...   \n",
            "4915                           False                         True   \n",
            "4916                           False                        False   \n",
            "4917                           False                        False   \n",
            "4918                           False                         True   \n",
            "4919                           False                         True   \n",
            "\n",
            "      smoking-status_smokes  \n",
            "0                     False  \n",
            "1                     False  \n",
            "2                     False  \n",
            "3                     False  \n",
            "4                      True  \n",
            "...                     ...  \n",
            "4915                  False  \n",
            "4916                   True  \n",
            "4917                   True  \n",
            "4918                  False  \n",
            "4919                  False  \n",
            "\n",
            "[4920 rows x 18 columns]\n"
          ]
        }
      ]
    },
    {
      "cell_type": "code",
      "source": [
        "X_smote.drop(columns=dummies_columns, inplace=True)\n",
        "X_smote = pd.concat([X_smote, dummies], axis=1)\n",
        "\n",
        "print(X_smote)"
      ],
      "metadata": {
        "colab": {
          "base_uri": "https://localhost:8080/"
        },
        "id": "vlkqsL3VKxOO",
        "outputId": "7f652929-3a8a-4ffe-e251-d2dc9727d265"
      },
      "execution_count": null,
      "outputs": [
        {
          "output_type": "stream",
          "name": "stdout",
          "text": [
            "       age  hypertension  heart-disease  avg-glucose-level   bmi  gender  \\\n",
            "0     32.0             0              0               62.0  31.0  Female   \n",
            "1     25.0             0              0               66.0  34.0  Female   \n",
            "2     60.0             0              0               65.0  41.0  Female   \n",
            "3     44.0             0              0               70.0  20.0  Female   \n",
            "4     29.0             0              0               74.0  30.0  Female   \n",
            "...    ...           ...            ...                ...   ...     ...   \n",
            "4915  80.0             0              0               74.0  25.0  Female   \n",
            "4916  73.0             1              0              219.0  28.0    Male   \n",
            "4917  34.0             0              0               78.0  28.0  Female   \n",
            "4918  57.0             0              0               64.0  31.0  Female   \n",
            "4919  79.0             0              0               95.0  24.0  Female   \n",
            "\n",
            "     ever-married      work-type Residence-type   smoking-status  \n",
            "0             Yes        Private          Rural     never smoked  \n",
            "1             Yes        Private          Urban     never smoked  \n",
            "2             Yes        Private          Urban  formerly smoked  \n",
            "3             Yes       Govt_job          Rural     never smoked  \n",
            "4             Yes  Self-employed          Rural           smokes  \n",
            "...           ...            ...            ...              ...  \n",
            "4915          Yes        Private          Rural     never smoked  \n",
            "4916          Yes        Private          Urban           smokes  \n",
            "4917          Yes        Private          Rural           smokes  \n",
            "4918          Yes       Govt_job          Rural     never smoked  \n",
            "4919          Yes        Private          Rural     never smoked  \n",
            "\n",
            "[4920 rows x 10 columns]\n"
          ]
        }
      ]
    },
    {
      "cell_type": "code",
      "source": [
        "X_train = X_smote\n",
        "y_train = y_smote"
      ],
      "metadata": {
        "id": "HH0Lcw8QTAcg"
      },
      "execution_count": null,
      "outputs": []
    },
    {
      "cell_type": "code",
      "source": [
        "df_balanced = pd.DataFrame(X_train, columns=features)\n",
        "df_balanced['stroke'] = y_train"
      ],
      "metadata": {
        "id": "vpbjjt6TS2x_"
      },
      "execution_count": null,
      "outputs": []
    },
    {
      "cell_type": "code",
      "source": [
        "df_balanced.shape"
      ],
      "metadata": {
        "colab": {
          "base_uri": "https://localhost:8080/"
        },
        "id": "1vt3cf-KTVLm",
        "outputId": "d3a39dbb-a919-4868-ca6d-df83570f5025"
      },
      "execution_count": null,
      "outputs": [
        {
          "output_type": "execute_result",
          "data": {
            "text/plain": [
              "(4920, 11)"
            ]
          },
          "metadata": {},
          "execution_count": 385
        }
      ]
    },
    {
      "cell_type": "code",
      "source": [
        "sns.countplot(x='stroke', data=df)\n",
        "plt.figure()\n",
        "sns.countplot(x='stroke', data=df_balanced)"
      ],
      "metadata": {
        "colab": {
          "base_uri": "https://localhost:8080/",
          "height": 898
        },
        "id": "hYsZoOkATl9t",
        "outputId": "c4536f6f-e670-4a0b-c863-0b56d9acaecb"
      },
      "execution_count": null,
      "outputs": [
        {
          "output_type": "execute_result",
          "data": {
            "text/plain": [
              "<Axes: xlabel='stroke', ylabel='count'>"
            ]
          },
          "metadata": {},
          "execution_count": 386
        },
        {
          "output_type": "display_data",
          "data": {
            "text/plain": [
              "<Figure size 640x480 with 1 Axes>"
            ],
            "image/png": "[encoded data removed]"
          },
          "metadata": {}
        },
        {
          "output_type": "display_data",
          "data": {
            "text/plain": [
              "<Figure size 640x480 with 1 Axes>"
            ],
            "image/png": "[encoded data removed]"
          },
          "metadata": {}
        }
      ]
    },
    {
      "cell_type": "code",
      "source": [
        "plt.grid()\n",
        "age_labels = ['18-24', '25-29', '30-34', '35-39', '40-44', '45-49', '50-54', '55-59', '60-64', '65-69', '70-74', '75+']\n",
        "dataset_bal_copy = df_balanced.copy()\n",
        "dataset_bal_copy['age_bucket'] = pd.cut(dataset_bal_copy['age'], bins=[17, 24, 29, 34, 39, 44, 49, 54, 59, 64, 69, 74, 100], labels=age_labels)\n",
        "sns.countplot(x='age_bucket', hue='stroke', order=age_labels, data=dataset_bal_copy, stat='percent')"
      ],
      "metadata": {
        "colab": {
          "base_uri": "https://localhost:8080/",
          "height": 467
        },
        "id": "ijDCoMCCVzUC",
        "outputId": "e6850e62-a123-4086-fa8c-a5ee567d4d7c"
      },
      "execution_count": null,
      "outputs": [
        {
          "output_type": "execute_result",
          "data": {
            "text/plain": [
              "<Axes: xlabel='age_bucket', ylabel='percent'>"
            ]
          },
          "metadata": {},
          "execution_count": 388
        },
        {
          "output_type": "display_data",
          "data": {
            "text/plain": [
              "<Figure size 640x480 with 1 Axes>"
            ],
            "image/png": "[encoded data removed]"
          },
          "metadata": {}
        }
      ]
    },
    {
      "cell_type": "code",
      "source": [
        "sns.countplot(x='hypertension', hue='stroke', data=df_balanced, stat='percent')"
      ],
      "metadata": {
        "colab": {
          "base_uri": "https://localhost:8080/",
          "height": 466
        },
        "id": "e55ZUaX5Yqgn",
        "outputId": "b429ccf5-b1eb-4456-aa1a-e0c5477d7cc8"
      },
      "execution_count": null,
      "outputs": [
        {
          "output_type": "execute_result",
          "data": {
            "text/plain": [
              "<Axes: xlabel='hypertension', ylabel='percent'>"
            ]
          },
          "metadata": {},
          "execution_count": 390
        },
        {
          "output_type": "display_data",
          "data": {
            "text/plain": [
              "<Figure size 640x480 with 1 Axes>"
            ],
            "image/png": "[encoded data removed]"
          },
          "metadata": {}
        }
      ]
    },
    {
      "cell_type": "code",
      "source": [
        "sns.countplot(x='heart-disease', hue='stroke', data=df_balanced, stat='percent')"
      ],
      "metadata": {
        "colab": {
          "base_uri": "https://localhost:8080/",
          "height": 466
        },
        "id": "Fw18CXJAY_zU",
        "outputId": "7b5c26f7-8196-45e3-ddec-2490c84eca1a"
      },
      "execution_count": null,
      "outputs": [
        {
          "output_type": "execute_result",
          "data": {
            "text/plain": [
              "<Axes: xlabel='heart-disease', ylabel='percent'>"
            ]
          },
          "metadata": {},
          "execution_count": 391
        },
        {
          "output_type": "display_data",
          "data": {
            "text/plain": [
              "<Figure size 640x480 with 1 Axes>"
            ],
            "image/png": "[encoded data removed]"
          },
          "metadata": {}
        }
      ]
    },
    {
      "cell_type": "code",
      "source": [
        "sns.countplot(x='smoking-status', hue='stroke', data=df_balanced, stat='percent')"
      ],
      "metadata": {
        "colab": {
          "base_uri": "https://localhost:8080/",
          "height": 466
        },
        "id": "N0DUH92OZoo-",
        "outputId": "c0c31bc3-76b9-45ed-ae70-c55d2cfb066b"
      },
      "execution_count": null,
      "outputs": [
        {
          "output_type": "execute_result",
          "data": {
            "text/plain": [
              "<Axes: xlabel='smoking-status', ylabel='percent'>"
            ]
          },
          "metadata": {},
          "execution_count": 394
        },
        {
          "output_type": "display_data",
          "data": {
            "text/plain": [
              "<Figure size 640x480 with 1 Axes>"
            ],
            "image/png": "[encoded data removed]"
          },
          "metadata": {}
        }
      ]
    },
    {
      "cell_type": "code",
      "source": [
        "bmi_labels = ['Underweight', 'Normal', 'Overweight', 'Obese I', 'Obese II', 'Obese III']\n",
        "dataset_bal_copy['bmi_bucket'] = pd.cut(dataset_bal_copy['bmi'], bins=[0, 18.5, 24.9, 29.9, 34.9, 39.9, 100], labels=bmi_labels)\n",
        "sns.countplot(x='bmi_bucket', hue='stroke',order=bmi_labels,  data=dataset_bal_copy, stat='percent')"
      ],
      "metadata": {
        "colab": {
          "base_uri": "https://localhost:8080/",
          "height": 467
        },
        "id": "W_9l00XaZ7dm",
        "outputId": "060d7b80-c92a-4528-b312-9b73f6011238"
      },
      "execution_count": null,
      "outputs": [
        {
          "output_type": "execute_result",
          "data": {
            "text/plain": [
              "<Axes: xlabel='bmi_bucket', ylabel='percent'>"
            ]
          },
          "metadata": {},
          "execution_count": 395
        },
        {
          "output_type": "display_data",
          "data": {
            "text/plain": [
              "<Figure size 640x480 with 1 Axes>"
            ],
            "image/png": "[encoded data removed]"
          },
          "metadata": {}
        }
      ]
    },
    {
      "cell_type": "code",
      "source": [
        "sns.countplot(x='Residence-type', hue='stroke', data=df_balanced, stat='percent')"
      ],
      "metadata": {
        "colab": {
          "base_uri": "https://localhost:8080/",
          "height": 466
        },
        "id": "_lD7I_9Had1x",
        "outputId": "80658de1-3dd5-45c8-9408-d244ae72336b"
      },
      "execution_count": null,
      "outputs": [
        {
          "output_type": "execute_result",
          "data": {
            "text/plain": [
              "<Axes: xlabel='Residence-type', ylabel='percent'>"
            ]
          },
          "metadata": {},
          "execution_count": 396
        },
        {
          "output_type": "display_data",
          "data": {
            "text/plain": [
              "<Figure size 640x480 with 1 Axes>"
            ],
            "image/png": "[encoded data removed]"
          },
          "metadata": {}
        }
      ]
    },
    {
      "cell_type": "code",
      "source": [
        "sns.countplot(x='work-type', hue='stroke', data=df_balanced, stat='percent')"
      ],
      "metadata": {
        "colab": {
          "base_uri": "https://localhost:8080/",
          "height": 467
        },
        "id": "RpYPpv-IazF5",
        "outputId": "269729d6-0ef6-4078-86f9-0b2536ae5af5"
      },
      "execution_count": null,
      "outputs": [
        {
          "output_type": "execute_result",
          "data": {
            "text/plain": [
              "<Axes: xlabel='work-type', ylabel='percent'>"
            ]
          },
          "metadata": {},
          "execution_count": 397
        },
        {
          "output_type": "display_data",
          "data": {
            "text/plain": [
              "<Figure size 640x480 with 1 Axes>"
            ],
            "image/png": "[encoded data removed]"
          },
          "metadata": {}
        }
      ]
    },
    {
      "cell_type": "code",
      "source": [
        "sns.countplot(x='gender', hue='stroke', data=df_balanced, stat='percent')"
      ],
      "metadata": {
        "colab": {
          "base_uri": "https://localhost:8080/",
          "height": 466
        },
        "id": "0eMLYbzYa8t_",
        "outputId": "9f582e4f-291a-488d-f3f4-11a7aed6c661"
      },
      "execution_count": null,
      "outputs": [
        {
          "output_type": "execute_result",
          "data": {
            "text/plain": [
              "<Axes: xlabel='gender', ylabel='percent'>"
            ]
          },
          "metadata": {},
          "execution_count": 398
        },
        {
          "output_type": "display_data",
          "data": {
            "text/plain": [
              "<Figure size 640x480 with 1 Axes>"
            ],
            "image/png": "[encoded data removed]"
          },
          "metadata": {}
        }
      ]
    }
  ]
}