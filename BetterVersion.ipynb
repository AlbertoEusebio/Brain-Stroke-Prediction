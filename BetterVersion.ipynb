{
  "cells": [
    {
      "cell_type": "code",
      "execution_count": 2260,
      "metadata": {
        "id": "Hv1sRCBfy1xN"
      },
      "outputs": [],
      "source": [
        "import numpy as np\n",
        "import matplotlib.pyplot as plt\n",
        "import pandas as pd\n",
        "import seaborn as sns\n",
        "from sklearn.model_selection import train_test_split # preprocessing\n",
        "from imblearn.over_sampling import SMOTE  # preprocessing\n",
        "from sklearn.preprocessing import RobustScaler"
      ]
    },
    {
      "cell_type": "code",
      "execution_count": 2261,
      "metadata": {
        "id": "gCkctsD-zCzv"
      },
      "outputs": [],
      "source": [
        "df = pd.read_csv('healthcare-dataset-stroke-data.csv')"
      ]
    },
    {
      "cell_type": "code",
      "execution_count": 2262,
      "metadata": {
        "id": "afpQgdLRH-ls"
      },
      "outputs": [],
      "source": [
        "new_cols = [\"id\", \"gender\", \"age\", \"hypertension\", \"heart-disease\", \"ever-married\", \"work-type\", \"Residence-type\", \"avg-glucose-level\", \"bmi\", \"smoking-status\", \"stroke\"]\n",
        "\n",
        "df.columns = new_cols"
      ]
    },
    {
      "cell_type": "code",
      "execution_count": 2263,
      "metadata": {
        "colab": {
          "base_uri": "https://localhost:8080/",
          "height": 275
        },
        "id": "5LoG-19fzEmj",
        "outputId": "8870ecf9-5741-4f4c-c179-201310a26c43"
      },
      "outputs": [
        {
          "data": {
            "text/html": [
              "<div>\n",
              "<style scoped>\n",
              "    .dataframe tbody tr th:only-of-type {\n",
              "        vertical-align: middle;\n",
              "    }\n",
              "\n",
              "    .dataframe tbody tr th {\n",
              "        vertical-align: top;\n",
              "    }\n",
              "\n",
              "    .dataframe thead th {\n",
              "        text-align: right;\n",
              "    }\n",
              "</style>\n",
              "<table border=\"1\" class=\"dataframe\">\n",
              "  <thead>\n",
              "    <tr style=\"text-align: right;\">\n",
              "      <th></th>\n",
              "      <th>id</th>\n",
              "      <th>gender</th>\n",
              "      <th>age</th>\n",
              "      <th>hypertension</th>\n",
              "      <th>heart-disease</th>\n",
              "      <th>ever-married</th>\n",
              "      <th>work-type</th>\n",
              "      <th>Residence-type</th>\n",
              "      <th>avg-glucose-level</th>\n",
              "      <th>bmi</th>\n",
              "      <th>smoking-status</th>\n",
              "      <th>stroke</th>\n",
              "    </tr>\n",
              "  </thead>\n",
              "  <tbody>\n",
              "    <tr>\n",
              "      <th>0</th>\n",
              "      <td>9046</td>\n",
              "      <td>Male</td>\n",
              "      <td>67.0</td>\n",
              "      <td>0</td>\n",
              "      <td>1</td>\n",
              "      <td>Yes</td>\n",
              "      <td>Private</td>\n",
              "      <td>Urban</td>\n",
              "      <td>228.69</td>\n",
              "      <td>36.6</td>\n",
              "      <td>formerly smoked</td>\n",
              "      <td>1</td>\n",
              "    </tr>\n",
              "    <tr>\n",
              "      <th>1</th>\n",
              "      <td>51676</td>\n",
              "      <td>Female</td>\n",
              "      <td>61.0</td>\n",
              "      <td>0</td>\n",
              "      <td>0</td>\n",
              "      <td>Yes</td>\n",
              "      <td>Self-employed</td>\n",
              "      <td>Rural</td>\n",
              "      <td>202.21</td>\n",
              "      <td>NaN</td>\n",
              "      <td>never smoked</td>\n",
              "      <td>1</td>\n",
              "    </tr>\n",
              "    <tr>\n",
              "      <th>2</th>\n",
              "      <td>31112</td>\n",
              "      <td>Male</td>\n",
              "      <td>80.0</td>\n",
              "      <td>0</td>\n",
              "      <td>1</td>\n",
              "      <td>Yes</td>\n",
              "      <td>Private</td>\n",
              "      <td>Rural</td>\n",
              "      <td>105.92</td>\n",
              "      <td>32.5</td>\n",
              "      <td>never smoked</td>\n",
              "      <td>1</td>\n",
              "    </tr>\n",
              "    <tr>\n",
              "      <th>3</th>\n",
              "      <td>60182</td>\n",
              "      <td>Female</td>\n",
              "      <td>49.0</td>\n",
              "      <td>0</td>\n",
              "      <td>0</td>\n",
              "      <td>Yes</td>\n",
              "      <td>Private</td>\n",
              "      <td>Urban</td>\n",
              "      <td>171.23</td>\n",
              "      <td>34.4</td>\n",
              "      <td>smokes</td>\n",
              "      <td>1</td>\n",
              "    </tr>\n",
              "    <tr>\n",
              "      <th>4</th>\n",
              "      <td>1665</td>\n",
              "      <td>Female</td>\n",
              "      <td>79.0</td>\n",
              "      <td>1</td>\n",
              "      <td>0</td>\n",
              "      <td>Yes</td>\n",
              "      <td>Self-employed</td>\n",
              "      <td>Rural</td>\n",
              "      <td>174.12</td>\n",
              "      <td>24.0</td>\n",
              "      <td>never smoked</td>\n",
              "      <td>1</td>\n",
              "    </tr>\n",
              "  </tbody>\n",
              "</table>\n",
              "</div>"
            ],
            "text/plain": [
              "      id  gender   age  hypertension  heart-disease ever-married  \\\n",
              "0   9046    Male  67.0             0              1          Yes   \n",
              "1  51676  Female  61.0             0              0          Yes   \n",
              "2  31112    Male  80.0             0              1          Yes   \n",
              "3  60182  Female  49.0             0              0          Yes   \n",
              "4   1665  Female  79.0             1              0          Yes   \n",
              "\n",
              "       work-type Residence-type  avg-glucose-level   bmi   smoking-status  \\\n",
              "0        Private          Urban             228.69  36.6  formerly smoked   \n",
              "1  Self-employed          Rural             202.21   NaN     never smoked   \n",
              "2        Private          Rural             105.92  32.5     never smoked   \n",
              "3        Private          Urban             171.23  34.4           smokes   \n",
              "4  Self-employed          Rural             174.12  24.0     never smoked   \n",
              "\n",
              "   stroke  \n",
              "0       1  \n",
              "1       1  \n",
              "2       1  \n",
              "3       1  \n",
              "4       1  "
            ]
          },
          "execution_count": 2263,
          "metadata": {},
          "output_type": "execute_result"
        }
      ],
      "source": [
        "df.head()"
      ]
    },
    {
      "cell_type": "code",
      "execution_count": 2264,
      "metadata": {
        "id": "oUJ_OP1pzJUK"
      },
      "outputs": [],
      "source": [
        "df.drop('id', axis=1, inplace=True) # drop id column because it is not useful"
      ]
    },
    {
      "cell_type": "code",
      "execution_count": 2265,
      "metadata": {
        "colab": {
          "base_uri": "https://localhost:8080/"
        },
        "id": "K7GfXpIozNmQ",
        "outputId": "97547163-783e-4377-c720-f0fb35a38ac7"
      },
      "outputs": [
        {
          "name": "stdout",
          "output_type": "stream",
          "text": [
            "<class 'pandas.core.frame.DataFrame'>\n",
            "RangeIndex: 5110 entries, 0 to 5109\n",
            "Data columns (total 11 columns):\n",
            " #   Column             Non-Null Count  Dtype  \n",
            "---  ------             --------------  -----  \n",
            " 0   gender             5110 non-null   object \n",
            " 1   age                5110 non-null   float64\n",
            " 2   hypertension       5110 non-null   int64  \n",
            " 3   heart-disease      5110 non-null   int64  \n",
            " 4   ever-married       5110 non-null   object \n",
            " 5   work-type          5110 non-null   object \n",
            " 6   Residence-type     5110 non-null   object \n",
            " 7   avg-glucose-level  5110 non-null   float64\n",
            " 8   bmi                4909 non-null   float64\n",
            " 9   smoking-status     5110 non-null   object \n",
            " 10  stroke             5110 non-null   int64  \n",
            "dtypes: float64(3), int64(3), object(5)\n",
            "memory usage: 439.3+ KB\n"
          ]
        }
      ],
      "source": [
        "df.info()"
      ]
    },
    {
      "cell_type": "markdown",
      "metadata": {},
      "source": [
        "## Data Cleaning"
      ]
    },
    {
      "cell_type": "code",
      "execution_count": 2266,
      "metadata": {
        "colab": {
          "base_uri": "https://localhost:8080/"
        },
        "id": "raw_WR4tzRsg",
        "outputId": "82bc93f4-292e-4ca4-df33-6d7da7bc6c95"
      },
      "outputs": [
        {
          "data": {
            "text/plain": [
              "gender                 0\n",
              "age                    0\n",
              "hypertension           0\n",
              "heart-disease          0\n",
              "ever-married           0\n",
              "work-type              0\n",
              "Residence-type         0\n",
              "avg-glucose-level      0\n",
              "bmi                  201\n",
              "smoking-status         0\n",
              "stroke                 0\n",
              "dtype: int64"
            ]
          },
          "execution_count": 2266,
          "metadata": {},
          "output_type": "execute_result"
        }
      ],
      "source": [
        "df.isna().sum()"
      ]
    },
    {
      "cell_type": "code",
      "execution_count": 2267,
      "metadata": {
        "id": "7Whn1MgmzUM6"
      },
      "outputs": [],
      "source": [
        "df.dropna(inplace=True)"
      ]
    },
    {
      "cell_type": "code",
      "execution_count": 2268,
      "metadata": {
        "colab": {
          "base_uri": "https://localhost:8080/"
        },
        "id": "J8sfLyX1zWcK",
        "outputId": "88c642cd-3c4a-4705-c0c7-599aadc5ad96"
      },
      "outputs": [
        {
          "data": {
            "text/plain": [
              "gender               0\n",
              "age                  0\n",
              "hypertension         0\n",
              "heart-disease        0\n",
              "ever-married         0\n",
              "work-type            0\n",
              "Residence-type       0\n",
              "avg-glucose-level    0\n",
              "bmi                  0\n",
              "smoking-status       0\n",
              "stroke               0\n",
              "dtype: int64"
            ]
          },
          "execution_count": 2268,
          "metadata": {},
          "output_type": "execute_result"
        }
      ],
      "source": [
        "df.isnull().sum()"
      ]
    },
    {
      "cell_type": "markdown",
      "metadata": {},
      "source": [
        "As we can clearly see the BMI column presents some N/A values that we have removed. "
      ]
    },
    {
      "cell_type": "code",
      "execution_count": 2269,
      "metadata": {
        "colab": {
          "base_uri": "https://localhost:8080/"
        },
        "id": "09tdkMnszag_",
        "outputId": "18dec795-acf9-4008-8275-dbdc58c22d0e"
      },
      "outputs": [
        {
          "name": "stdout",
          "output_type": "stream",
          "text": [
            "<class 'pandas.core.frame.DataFrame'>\n",
            "Index: 4073 entries, 0 to 5109\n",
            "Data columns (total 11 columns):\n",
            " #   Column             Non-Null Count  Dtype  \n",
            "---  ------             --------------  -----  \n",
            " 0   gender             4073 non-null   object \n",
            " 1   age                4073 non-null   float64\n",
            " 2   hypertension       4073 non-null   int64  \n",
            " 3   heart-disease      4073 non-null   int64  \n",
            " 4   ever-married       4073 non-null   object \n",
            " 5   work-type          4073 non-null   object \n",
            " 6   Residence-type     4073 non-null   object \n",
            " 7   avg-glucose-level  4073 non-null   float64\n",
            " 8   bmi                4073 non-null   float64\n",
            " 9   smoking-status     4073 non-null   object \n",
            " 10  stroke             4073 non-null   int64  \n",
            "dtypes: float64(3), int64(3), object(5)\n",
            "memory usage: 381.8+ KB\n"
          ]
        }
      ],
      "source": [
        "df = df[df['age'] >= 18]\n",
        "df.info()"
      ]
    },
    {
      "cell_type": "markdown",
      "metadata": {},
      "source": [
        "In the paper is clearly stated that only the patients above 18 years old were considered. We have removed the patients below 18 years old."
      ]
    },
    {
      "cell_type": "code",
      "execution_count": 2270,
      "metadata": {
        "colab": {
          "base_uri": "https://localhost:8080/"
        },
        "id": "EoBAT7BXzdGY",
        "outputId": "94cd9525-7e0c-4158-e3d8-acaa0a0119ff"
      },
      "outputs": [
        {
          "name": "stdout",
          "output_type": "stream",
          "text": [
            "<class 'pandas.core.frame.DataFrame'>\n",
            "Index: 3256 entries, 0 to 5108\n",
            "Data columns (total 11 columns):\n",
            " #   Column             Non-Null Count  Dtype  \n",
            "---  ------             --------------  -----  \n",
            " 0   gender             3256 non-null   object \n",
            " 1   age                3256 non-null   float64\n",
            " 2   hypertension       3256 non-null   int64  \n",
            " 3   heart-disease      3256 non-null   int64  \n",
            " 4   ever-married       3256 non-null   object \n",
            " 5   work-type          3256 non-null   object \n",
            " 6   Residence-type     3256 non-null   object \n",
            " 7   avg-glucose-level  3256 non-null   float64\n",
            " 8   bmi                3256 non-null   float64\n",
            " 9   smoking-status     3256 non-null   object \n",
            " 10  stroke             3256 non-null   int64  \n",
            "dtypes: float64(3), int64(3), object(5)\n",
            "memory usage: 305.2+ KB\n"
          ]
        }
      ],
      "source": [
        "df = df[df['smoking-status'] != 'Unknown']\n",
        "df.info()"
      ]
    },
    {
      "cell_type": "code",
      "execution_count": 2271,
      "metadata": {
        "colab": {
          "base_uri": "https://localhost:8080/"
        },
        "id": "zWG7JyxxzfXb",
        "outputId": "d420f0d4-f159-4d1b-d151-ad2962560394"
      },
      "outputs": [
        {
          "name": "stdout",
          "output_type": "stream",
          "text": [
            "<class 'pandas.core.frame.DataFrame'>\n",
            "Index: 3255 entries, 0 to 5108\n",
            "Data columns (total 11 columns):\n",
            " #   Column             Non-Null Count  Dtype  \n",
            "---  ------             --------------  -----  \n",
            " 0   gender             3255 non-null   object \n",
            " 1   age                3255 non-null   float64\n",
            " 2   hypertension       3255 non-null   int64  \n",
            " 3   heart-disease      3255 non-null   int64  \n",
            " 4   ever-married       3255 non-null   object \n",
            " 5   work-type          3255 non-null   object \n",
            " 6   Residence-type     3255 non-null   object \n",
            " 7   avg-glucose-level  3255 non-null   float64\n",
            " 8   bmi                3255 non-null   float64\n",
            " 9   smoking-status     3255 non-null   object \n",
            " 10  stroke             3255 non-null   int64  \n",
            "dtypes: float64(3), int64(3), object(5)\n",
            "memory usage: 305.2+ KB\n"
          ]
        }
      ],
      "source": [
        "df = df[df['gender'] != 'Other']\n",
        "df.info()"
      ]
    },
    {
      "cell_type": "code",
      "execution_count": 2272,
      "metadata": {
        "colab": {
          "base_uri": "https://localhost:8080/"
        },
        "id": "u1AiUz3Jzhwc",
        "outputId": "2d6d220f-f377-40e7-d827-e902c7b4730f"
      },
      "outputs": [
        {
          "name": "stdout",
          "output_type": "stream",
          "text": [
            "<class 'pandas.core.frame.DataFrame'>\n",
            "Index: 3255 entries, 0 to 5108\n",
            "Data columns (total 11 columns):\n",
            " #   Column             Non-Null Count  Dtype  \n",
            "---  ------             --------------  -----  \n",
            " 0   gender             3255 non-null   object \n",
            " 1   age                3255 non-null   float64\n",
            " 2   hypertension       3255 non-null   int64  \n",
            " 3   heart-disease      3255 non-null   int64  \n",
            " 4   ever-married       3255 non-null   object \n",
            " 5   work-type          3255 non-null   object \n",
            " 6   Residence-type     3255 non-null   object \n",
            " 7   avg-glucose-level  3255 non-null   float64\n",
            " 8   bmi                3255 non-null   float64\n",
            " 9   smoking-status     3255 non-null   object \n",
            " 10  stroke             3255 non-null   int64  \n",
            "dtypes: float64(3), int64(3), object(5)\n",
            "memory usage: 305.2+ KB\n"
          ]
        }
      ],
      "source": [
        "df.drop_duplicates(inplace=True)\n",
        "df.info()"
      ]
    },
    {
      "cell_type": "markdown",
      "metadata": {},
      "source": [
        "We filter out also the patients whose gender and smoking status are unknown. This to reducce the uncertainty in the data."
      ]
    },
    {
      "cell_type": "code",
      "execution_count": 2273,
      "metadata": {
        "colab": {
          "base_uri": "https://localhost:8080/",
          "height": 458
        },
        "id": "r1LGnBNmzkdd",
        "outputId": "1fbc303c-b896-444d-8ec0-7732ce00b8e7"
      },
      "outputs": [
        {
          "data": {
            "image/png": "[encoded data removed]",
            "text/plain": [
              "<Figure size 1500x500 with 3 Axes>"
            ]
          },
          "metadata": {},
          "output_type": "display_data"
        }
      ],
      "source": [
        "num_cols = ['age','bmi','avg-glucose-level']\n",
        "\n",
        "plt.figure(figsize=(15, 5))\n",
        "for i in range(3) :\n",
        "    plt.subplot(1,3,i+1)\n",
        "\n",
        "    sns.boxplot(x=df[num_cols[i]],color='#6DA59D')\n",
        "    plt.title(num_cols[i])\n",
        "plt.show()"
      ]
    },
    {
      "cell_type": "code",
      "execution_count": 2274,
      "metadata": {},
      "outputs": [
        {
          "name": "stdout",
          "output_type": "stream",
          "text": [
            "     gender   age  hypertension  heart-disease ever-married work-type  \\\n",
            "2187   Male  40.0             0              0          Yes   Private   \n",
            "\n",
            "     Residence-type  avg-glucose-level   bmi smoking-status  stroke  \n",
            "2187          Rural              60.96  11.5   never smoked       0  \n"
          ]
        }
      ],
      "source": [
        "print(df[df['bmi'] < 12])"
      ]
    },
    {
      "cell_type": "markdown",
      "metadata": {},
      "source": [
        "In the paper, the autors have removed the single lowest bmi value. We have done the same."
      ]
    },
    {
      "cell_type": "code",
      "execution_count": 2275,
      "metadata": {
        "colab": {
          "base_uri": "https://localhost:8080/"
        },
        "id": "CXKI6RbJznFd",
        "outputId": "88e2fa39-05ab-476d-8d6f-541de625281d"
      },
      "outputs": [
        {
          "name": "stdout",
          "output_type": "stream",
          "text": [
            "<class 'pandas.core.frame.DataFrame'>\n",
            "Index: 3254 entries, 0 to 5108\n",
            "Data columns (total 11 columns):\n",
            " #   Column             Non-Null Count  Dtype  \n",
            "---  ------             --------------  -----  \n",
            " 0   gender             3254 non-null   object \n",
            " 1   age                3254 non-null   float64\n",
            " 2   hypertension       3254 non-null   int64  \n",
            " 3   heart-disease      3254 non-null   int64  \n",
            " 4   ever-married       3254 non-null   object \n",
            " 5   work-type          3254 non-null   object \n",
            " 6   Residence-type     3254 non-null   object \n",
            " 7   avg-glucose-level  3254 non-null   float64\n",
            " 8   bmi                3254 non-null   float64\n",
            " 9   smoking-status     3254 non-null   object \n",
            " 10  stroke             3254 non-null   int64  \n",
            "dtypes: float64(3), int64(3), object(5)\n",
            "memory usage: 305.1+ KB\n"
          ]
        }
      ],
      "source": [
        "df = df[df['bmi'] > 12]\n",
        "df.info()"
      ]
    },
    {
      "cell_type": "code",
      "execution_count": 2276,
      "metadata": {
        "colab": {
          "base_uri": "https://localhost:8080/"
        },
        "id": "YJVLxuPxzuT6",
        "outputId": "9accc335-fad6-4494-df8f-02e62ffceb2a"
      },
      "outputs": [
        {
          "name": "stdout",
          "output_type": "stream",
          "text": [
            "Stroke percentage: 5.53%\n"
          ]
        }
      ],
      "source": [
        "stroke_count =df['stroke'].value_counts() # pandas serie, it contains the number of '1' (stroke) and the number of '0' (no stroke)\n",
        "print(\"Stroke percentage: {:.2f}%\".format(100 * (stroke_count[1] / (stroke_count[0] + stroke_count[1]))))"
      ]
    },
    {
      "cell_type": "code",
      "execution_count": 2277,
      "metadata": {
        "colab": {
          "base_uri": "https://localhost:8080/"
        },
        "id": "VIe4YWAlzx2A",
        "outputId": "2443f8e4-ad7c-43f2-a289-5e9bcde8497b"
      },
      "outputs": [
        {
          "name": "stdout",
          "output_type": "stream",
          "text": [
            "Number of males:  1260\n",
            "Number of females:  1994\n"
          ]
        }
      ],
      "source": [
        "gender_count = df['gender'].value_counts()\n",
        "print('Number of males: ', gender_count['Male'])\n",
        "print('Number of females: ', gender_count['Female'])"
      ]
    },
    {
      "cell_type": "code",
      "execution_count": 2278,
      "metadata": {
        "colab": {
          "base_uri": "https://localhost:8080/"
        },
        "id": "Ye7W233Cz2gI",
        "outputId": "98ae7f57-31b6-4bd4-8208-bc242398c061"
      },
      "outputs": [
        {
          "name": "stdout",
          "output_type": "stream",
          "text": [
            "Hypertension percentage: 12.54%\n"
          ]
        }
      ],
      "source": [
        "hypertension_count =df['hypertension'].value_counts()\n",
        "print(\"Hypertension percentage: {:.2f}%\".format(100 *( hypertension_count[1]/(hypertension_count[0]+hypertension_count[1]))))"
      ]
    },
    {
      "cell_type": "code",
      "execution_count": 2279,
      "metadata": {
        "colab": {
          "base_uri": "https://localhost:8080/"
        },
        "id": "9VAbBsXrz54V",
        "outputId": "ef30e897-8bf8-4b30-d0f4-22bce71f27a4"
      },
      "outputs": [
        {
          "name": "stdout",
          "output_type": "stream",
          "text": [
            "Hearth disease percentage: 6.33%\n"
          ]
        }
      ],
      "source": [
        "heart_disease_count =df['heart-disease'].value_counts()\n",
        "print(\"Hearth disease percentage: {:.2f}%\".format(100 * (heart_disease_count[1]/(heart_disease_count[0]+heart_disease_count[1]))))"
      ]
    },
    {
      "cell_type": "code",
      "execution_count": 2280,
      "metadata": {
        "colab": {
          "base_uri": "https://localhost:8080/"
        },
        "id": "F5H4h5-lz9Xj",
        "outputId": "c64475d3-d971-421d-a2ca-94a8b4b87eca"
      },
      "outputs": [
        {
          "name": "stdout",
          "output_type": "stream",
          "text": [
            "Married percentage: 79.84%\n"
          ]
        },
        {
          "name": "stderr",
          "output_type": "stream",
          "text": [
            "C:\\Users\\hp\\AppData\\Local\\Temp\\ipykernel_7772\\140164340.py:2: FutureWarning: Series.__getitem__ treating keys as positions is deprecated. In a future version, integer keys will always be treated as labels (consistent with DataFrame behavior). To access a value by position, use `ser.iloc[pos]`\n",
            "  print(\"Married percentage: {:.2f}%\".format(100 * (ever_married_count[0]/(ever_married_count[0]+ever_married_count[1]))))\n"
          ]
        }
      ],
      "source": [
        "ever_married_count =df['ever-married'].value_counts()\n",
        "print(\"Married percentage: {:.2f}%\".format(100 * (ever_married_count[0]/(ever_married_count[0]+ever_married_count[1]))))"
      ]
    },
    {
      "cell_type": "code",
      "execution_count": 2281,
      "metadata": {
        "colab": {
          "base_uri": "https://localhost:8080/"
        },
        "id": "NXxnndg_0Bmt",
        "outputId": "c0361cb7-a97c-4b19-f848-4f5e5969af20"
      },
      "outputs": [
        {
          "name": "stdout",
          "output_type": "stream",
          "text": [
            "Private percentage: 65.03%\n",
            "Self-employed percentage: 19.21%\n",
            "Gov percentage: 15.67%\n",
            "Never Worked fraction: 0.1%\n"
          ]
        },
        {
          "name": "stderr",
          "output_type": "stream",
          "text": [
            "C:\\Users\\hp\\AppData\\Local\\Temp\\ipykernel_7772\\2819490883.py:2: FutureWarning: Series.__getitem__ treating keys as positions is deprecated. In a future version, integer keys will always be treated as labels (consistent with DataFrame behavior). To access a value by position, use `ser.iloc[pos]`\n",
            "  print(\"Private percentage: {:.2f}%\".format(100 * (work_type_count[0]/(work_type_count[0]+work_type_count[1]+work_type_count[2]+work_type_count[3]))))\n",
            "C:\\Users\\hp\\AppData\\Local\\Temp\\ipykernel_7772\\2819490883.py:3: FutureWarning: Series.__getitem__ treating keys as positions is deprecated. In a future version, integer keys will always be treated as labels (consistent with DataFrame behavior). To access a value by position, use `ser.iloc[pos]`\n",
            "  print(\"Self-employed percentage: {:.2f}%\".format(100 * (work_type_count[1]/(work_type_count[0]+work_type_count[1]+work_type_count[2]+work_type_count[3]))))\n",
            "C:\\Users\\hp\\AppData\\Local\\Temp\\ipykernel_7772\\2819490883.py:4: FutureWarning: Series.__getitem__ treating keys as positions is deprecated. In a future version, integer keys will always be treated as labels (consistent with DataFrame behavior). To access a value by position, use `ser.iloc[pos]`\n",
            "  print(\"Gov percentage: {:.2f}%\".format(100 * (work_type_count[2]/(work_type_count[0]+work_type_count[1]+work_type_count[2]+work_type_count[3]))))\n",
            "C:\\Users\\hp\\AppData\\Local\\Temp\\ipykernel_7772\\2819490883.py:5: FutureWarning: Series.__getitem__ treating keys as positions is deprecated. In a future version, integer keys will always be treated as labels (consistent with DataFrame behavior). To access a value by position, use `ser.iloc[pos]`\n",
            "  print(\"Never Worked fraction: {:.1f}%\".format(100 * (work_type_count[3]/(work_type_count[0]+work_type_count[1]+work_type_count[2]+work_type_count[3]))))\n"
          ]
        }
      ],
      "source": [
        "work_type_count =df['work-type'].value_counts()\n",
        "print(\"Private percentage: {:.2f}%\".format(100 * (work_type_count[0]/(work_type_count[0]+work_type_count[1]+work_type_count[2]+work_type_count[3]))))\n",
        "print(\"Self-employed percentage: {:.2f}%\".format(100 * (work_type_count[1]/(work_type_count[0]+work_type_count[1]+work_type_count[2]+work_type_count[3]))))\n",
        "print(\"Gov percentage: {:.2f}%\".format(100 * (work_type_count[2]/(work_type_count[0]+work_type_count[1]+work_type_count[2]+work_type_count[3]))))\n",
        "print(\"Never Worked fraction: {:.1f}%\".format(100 * (work_type_count[3]/(work_type_count[0]+work_type_count[1]+work_type_count[2]+work_type_count[3]))))"
      ]
    },
    {
      "cell_type": "code",
      "execution_count": 2282,
      "metadata": {
        "colab": {
          "base_uri": "https://localhost:8080/"
        },
        "id": "Kyvi-6GA0FN8",
        "outputId": "427322d7-a2cb-45ef-8222-a997af0b4fcd"
      },
      "outputs": [
        {
          "name": "stdout",
          "output_type": "stream",
          "text": [
            "Urban percentage: 51.14%\n",
            "Rural pergentage: 48.86%\n"
          ]
        },
        {
          "name": "stderr",
          "output_type": "stream",
          "text": [
            "C:\\Users\\hp\\AppData\\Local\\Temp\\ipykernel_7772\\159459921.py:2: FutureWarning: Series.__getitem__ treating keys as positions is deprecated. In a future version, integer keys will always be treated as labels (consistent with DataFrame behavior). To access a value by position, use `ser.iloc[pos]`\n",
            "  print(\"Urban percentage: {:.2f}%\".format(100 * (residence_type_count[0]/(residence_type_count[0]+residence_type_count[1]))))\n",
            "C:\\Users\\hp\\AppData\\Local\\Temp\\ipykernel_7772\\159459921.py:3: FutureWarning: Series.__getitem__ treating keys as positions is deprecated. In a future version, integer keys will always be treated as labels (consistent with DataFrame behavior). To access a value by position, use `ser.iloc[pos]`\n",
            "  print(\"Rural pergentage: {:.2f}%\".format(100 * (residence_type_count[1]/(residence_type_count[0]+residence_type_count[1]))))\n"
          ]
        }
      ],
      "source": [
        "residence_type_count =df['Residence-type'].value_counts()\n",
        "print(\"Urban percentage: {:.2f}%\".format(100 * (residence_type_count[0]/(residence_type_count[0]+residence_type_count[1]))))\n",
        "print(\"Rural pergentage: {:.2f}%\".format(100 * (residence_type_count[1]/(residence_type_count[0]+residence_type_count[1]))))"
      ]
    },
    {
      "cell_type": "code",
      "execution_count": 2283,
      "metadata": {
        "colab": {
          "base_uri": "https://localhost:8080/"
        },
        "id": "csXZWGum0JM3",
        "outputId": "bd674f8b-70c8-48e4-8a84-5624fb6e0560"
      },
      "outputs": [
        {
          "name": "stdout",
          "output_type": "stream",
          "text": [
            "Never Smoked fraction: 52.64%\n",
            "Formely Smoked fraction: 24.98%\n",
            "Smokes fraction: 22.37%\n"
          ]
        },
        {
          "name": "stderr",
          "output_type": "stream",
          "text": [
            "C:\\Users\\hp\\AppData\\Local\\Temp\\ipykernel_7772\\4037653718.py:2: FutureWarning: Series.__getitem__ treating keys as positions is deprecated. In a future version, integer keys will always be treated as labels (consistent with DataFrame behavior). To access a value by position, use `ser.iloc[pos]`\n",
            "  print(\"Never Smoked fraction: {:.2f}%\".format(100 * (smoking_status_count[0]/(smoking_status_count[0]+smoking_status_count[1]+smoking_status_count[2]))))\n",
            "C:\\Users\\hp\\AppData\\Local\\Temp\\ipykernel_7772\\4037653718.py:3: FutureWarning: Series.__getitem__ treating keys as positions is deprecated. In a future version, integer keys will always be treated as labels (consistent with DataFrame behavior). To access a value by position, use `ser.iloc[pos]`\n",
            "  print(\"Formely Smoked fraction: {:.2f}%\".format(100 * (smoking_status_count[1]/(smoking_status_count[0]+smoking_status_count[1]+smoking_status_count[2]))))\n",
            "C:\\Users\\hp\\AppData\\Local\\Temp\\ipykernel_7772\\4037653718.py:4: FutureWarning: Series.__getitem__ treating keys as positions is deprecated. In a future version, integer keys will always be treated as labels (consistent with DataFrame behavior). To access a value by position, use `ser.iloc[pos]`\n",
            "  print(\"Smokes fraction: {:.2f}%\".format(100 * (smoking_status_count[2]/(smoking_status_count[0]+smoking_status_count[1]+smoking_status_count[2]))))\n"
          ]
        }
      ],
      "source": [
        "smoking_status_count =df['smoking-status'].value_counts()\n",
        "print(\"Never Smoked fraction: {:.2f}%\".format(100 * (smoking_status_count[0]/(smoking_status_count[0]+smoking_status_count[1]+smoking_status_count[2]))))\n",
        "print(\"Formely Smoked fraction: {:.2f}%\".format(100 * (smoking_status_count[1]/(smoking_status_count[0]+smoking_status_count[1]+smoking_status_count[2]))))\n",
        "print(\"Smokes fraction: {:.2f}%\".format(100 * (smoking_status_count[2]/(smoking_status_count[0]+smoking_status_count[1]+smoking_status_count[2]))))"
      ]
    },
    {
      "cell_type": "markdown",
      "metadata": {},
      "source": [
        "The percentages showed above are exactly the same as the ones in the paper."
      ]
    },
    {
      "cell_type": "code",
      "execution_count": 2284,
      "metadata": {
        "colab": {
          "base_uri": "https://localhost:8080/"
        },
        "id": "EFfrDTd00OJx",
        "outputId": "cae25ec7-b313-43b6-c6e6-f3a9680b3fb8"
      },
      "outputs": [
        {
          "name": "stdout",
          "output_type": "stream",
          "text": [
            "<class 'pandas.core.frame.DataFrame'>\n",
            "Index: 3254 entries, 0 to 5108\n",
            "Data columns (total 11 columns):\n",
            " #   Column             Non-Null Count  Dtype  \n",
            "---  ------             --------------  -----  \n",
            " 0   gender             3254 non-null   object \n",
            " 1   age                3254 non-null   float64\n",
            " 2   hypertension       3254 non-null   int64  \n",
            " 3   heart-disease      3254 non-null   int64  \n",
            " 4   ever-married       3254 non-null   object \n",
            " 5   work-type          3254 non-null   object \n",
            " 6   Residence-type     3254 non-null   object \n",
            " 7   avg-glucose-level  3254 non-null   float64\n",
            " 8   bmi                3254 non-null   float64\n",
            " 9   smoking-status     3254 non-null   object \n",
            " 10  stroke             3254 non-null   int64  \n",
            "dtypes: float64(3), int64(3), object(5)\n",
            "memory usage: 305.1+ KB\n"
          ]
        }
      ],
      "source": [
        "df.info()"
      ]
    },
    {
      "cell_type": "code",
      "execution_count": 2285,
      "metadata": {
        "colab": {
          "base_uri": "https://localhost:8080/",
          "height": 206
        },
        "id": "60cwUb-A0R-h",
        "outputId": "2e4ff968-2f09-44a2-bc44-3b5d32f28123"
      },
      "outputs": [
        {
          "data": {
            "text/html": [
              "<div>\n",
              "<style scoped>\n",
              "    .dataframe tbody tr th:only-of-type {\n",
              "        vertical-align: middle;\n",
              "    }\n",
              "\n",
              "    .dataframe tbody tr th {\n",
              "        vertical-align: top;\n",
              "    }\n",
              "\n",
              "    .dataframe thead th {\n",
              "        text-align: right;\n",
              "    }\n",
              "</style>\n",
              "<table border=\"1\" class=\"dataframe\">\n",
              "  <thead>\n",
              "    <tr style=\"text-align: right;\">\n",
              "      <th></th>\n",
              "      <th>gender</th>\n",
              "      <th>age</th>\n",
              "      <th>hypertension</th>\n",
              "      <th>heart-disease</th>\n",
              "      <th>ever-married</th>\n",
              "      <th>work-type</th>\n",
              "      <th>Residence-type</th>\n",
              "      <th>avg-glucose-level</th>\n",
              "      <th>bmi</th>\n",
              "      <th>smoking-status</th>\n",
              "      <th>stroke</th>\n",
              "    </tr>\n",
              "  </thead>\n",
              "  <tbody>\n",
              "    <tr>\n",
              "      <th>0</th>\n",
              "      <td>Male</td>\n",
              "      <td>67.0</td>\n",
              "      <td>0</td>\n",
              "      <td>1</td>\n",
              "      <td>Yes</td>\n",
              "      <td>Private</td>\n",
              "      <td>Urban</td>\n",
              "      <td>228.69</td>\n",
              "      <td>36.6</td>\n",
              "      <td>formerly smoked</td>\n",
              "      <td>1</td>\n",
              "    </tr>\n",
              "    <tr>\n",
              "      <th>2</th>\n",
              "      <td>Male</td>\n",
              "      <td>80.0</td>\n",
              "      <td>0</td>\n",
              "      <td>1</td>\n",
              "      <td>Yes</td>\n",
              "      <td>Private</td>\n",
              "      <td>Rural</td>\n",
              "      <td>105.92</td>\n",
              "      <td>32.5</td>\n",
              "      <td>never smoked</td>\n",
              "      <td>1</td>\n",
              "    </tr>\n",
              "    <tr>\n",
              "      <th>3</th>\n",
              "      <td>Female</td>\n",
              "      <td>49.0</td>\n",
              "      <td>0</td>\n",
              "      <td>0</td>\n",
              "      <td>Yes</td>\n",
              "      <td>Private</td>\n",
              "      <td>Urban</td>\n",
              "      <td>171.23</td>\n",
              "      <td>34.4</td>\n",
              "      <td>smokes</td>\n",
              "      <td>1</td>\n",
              "    </tr>\n",
              "    <tr>\n",
              "      <th>4</th>\n",
              "      <td>Female</td>\n",
              "      <td>79.0</td>\n",
              "      <td>1</td>\n",
              "      <td>0</td>\n",
              "      <td>Yes</td>\n",
              "      <td>Self-employed</td>\n",
              "      <td>Rural</td>\n",
              "      <td>174.12</td>\n",
              "      <td>24.0</td>\n",
              "      <td>never smoked</td>\n",
              "      <td>1</td>\n",
              "    </tr>\n",
              "    <tr>\n",
              "      <th>5</th>\n",
              "      <td>Male</td>\n",
              "      <td>81.0</td>\n",
              "      <td>0</td>\n",
              "      <td>0</td>\n",
              "      <td>Yes</td>\n",
              "      <td>Private</td>\n",
              "      <td>Urban</td>\n",
              "      <td>186.21</td>\n",
              "      <td>29.0</td>\n",
              "      <td>formerly smoked</td>\n",
              "      <td>1</td>\n",
              "    </tr>\n",
              "  </tbody>\n",
              "</table>\n",
              "</div>"
            ],
            "text/plain": [
              "   gender   age  hypertension  heart-disease ever-married      work-type  \\\n",
              "0    Male  67.0             0              1          Yes        Private   \n",
              "2    Male  80.0             0              1          Yes        Private   \n",
              "3  Female  49.0             0              0          Yes        Private   \n",
              "4  Female  79.0             1              0          Yes  Self-employed   \n",
              "5    Male  81.0             0              0          Yes        Private   \n",
              "\n",
              "  Residence-type  avg-glucose-level   bmi   smoking-status  stroke  \n",
              "0          Urban             228.69  36.6  formerly smoked       1  \n",
              "2          Rural             105.92  32.5     never smoked       1  \n",
              "3          Urban             171.23  34.4           smokes       1  \n",
              "4          Rural             174.12  24.0     never smoked       1  \n",
              "5          Urban             186.21  29.0  formerly smoked       1  "
            ]
          },
          "execution_count": 2285,
          "metadata": {},
          "output_type": "execute_result"
        }
      ],
      "source": [
        "df.head()"
      ]
    },
    {
      "cell_type": "markdown",
      "metadata": {},
      "source": [
        "### Oversampling"
      ]
    },
    {
      "cell_type": "code",
      "execution_count": 2286,
      "metadata": {
        "colab": {
          "base_uri": "https://localhost:8080/"
        },
        "id": "56h6QHZL0gZE",
        "outputId": "84bc41e2-c5b4-44e0-c327-dac928978394"
      },
      "outputs": [
        {
          "name": "stdout",
          "output_type": "stream",
          "text": [
            "['gender' 'age' 'hypertension' 'heart-disease' 'ever-married' 'work-type'\n",
            " 'Residence-type' 'avg-glucose-level' 'bmi' 'smoking-status']\n"
          ]
        }
      ],
      "source": [
        "from sklearn.model_selection import train_test_split\n",
        "import random\n",
        "\n",
        "\n",
        "features = np.array(df.columns[:-1])\n",
        "print(features)\n",
        "\n",
        "X = df.drop(['stroke'], axis = 1) # Data\n",
        "y = df['stroke'] # Target"
      ]
    },
    {
      "cell_type": "code",
      "execution_count": 2287,
      "metadata": {
        "colab": {
          "base_uri": "https://localhost:8080/"
        },
        "id": "prSZVsXL0mC3",
        "outputId": "317ba341-26f2-40f4-9dd8-e0640c6a08ac"
      },
      "outputs": [
        {
          "data": {
            "text/plain": [
              "stroke\n",
              "0    3074\n",
              "1     180\n",
              "Name: count, dtype: int64"
            ]
          },
          "execution_count": 2287,
          "metadata": {},
          "output_type": "execute_result"
        }
      ],
      "source": [
        "y.value_counts()"
      ]
    },
    {
      "cell_type": "code",
      "execution_count": 2288,
      "metadata": {
        "colab": {
          "base_uri": "https://localhost:8080/",
          "height": 423
        },
        "id": "dvxryMPo0niT",
        "outputId": "510b0f2c-1eba-4516-d51c-e5288ea7c97d"
      },
      "outputs": [
        {
          "data": {
            "text/plain": [
              "<AxesSubplot:ylabel='count'>"
            ]
          },
          "execution_count": 2288,
          "metadata": {},
          "output_type": "execute_result"
        },
        {
          "data": {
            "image/png": "[encoded data removed]",
            "text/plain": [
              "<Figure size 640x480 with 1 Axes>"
            ]
          },
          "metadata": {},
          "output_type": "display_data"
        }
      ],
      "source": [
        "y.value_counts().plot.pie(autopct = \"%.2f\")"
      ]
    },
    {
      "cell_type": "markdown",
      "metadata": {},
      "source": [
        "We can clearly see that there is a disproportion between the number of smokers and non-smokers. This is a problem because the model could be biased towards the non-smokers. We will try to balance the dataset by oversampling the smokers."
      ]
    },
    {
      "cell_type": "code",
      "execution_count": 2289,
      "metadata": {
        "colab": {
          "base_uri": "https://localhost:8080/"
        },
        "id": "jpMjG4xu0sCD",
        "outputId": "47d72f1a-3bcd-48cb-e276-3d9db56b2920"
      },
      "outputs": [
        {
          "name": "stdout",
          "output_type": "stream",
          "text": [
            "      gender   age  hypertension  heart-disease ever-married      work-type  \\\n",
            "0       Male  67.0             0              1          Yes        Private   \n",
            "2       Male  80.0             0              1          Yes        Private   \n",
            "3     Female  49.0             0              0          Yes        Private   \n",
            "4     Female  79.0             1              0          Yes  Self-employed   \n",
            "5       Male  81.0             0              0          Yes        Private   \n",
            "...      ...   ...           ...            ...          ...            ...   \n",
            "5100    Male  82.0             1              0          Yes  Self-employed   \n",
            "5102  Female  57.0             0              0          Yes        Private   \n",
            "5106  Female  81.0             0              0          Yes  Self-employed   \n",
            "5107  Female  35.0             0              0          Yes  Self-employed   \n",
            "5108    Male  51.0             0              0          Yes        Private   \n",
            "\n",
            "     Residence-type  avg-glucose-level   bmi   smoking-status  \n",
            "0             Urban             228.69  36.6  formerly smoked  \n",
            "2             Rural             105.92  32.5     never smoked  \n",
            "3             Urban             171.23  34.4           smokes  \n",
            "4             Rural             174.12  24.0     never smoked  \n",
            "5             Urban             186.21  29.0  formerly smoked  \n",
            "...             ...                ...   ...              ...  \n",
            "5100          Rural              71.97  28.3     never smoked  \n",
            "5102          Rural              77.93  21.7     never smoked  \n",
            "5106          Urban             125.20  40.0     never smoked  \n",
            "5107          Rural              82.99  30.6     never smoked  \n",
            "5108          Rural             166.29  25.6  formerly smoked  \n",
            "\n",
            "[3254 rows x 10 columns]\n"
          ]
        }
      ],
      "source": [
        "print(X)"
      ]
    },
    {
      "cell_type": "markdown",
      "metadata": {},
      "source": [
        "#### Encoding the categorical variables\n",
        "\n",
        "In the dataset, we have some categorical variables that we need to encode. We will use the one-hot encoding technique."
      ]
    },
    {
      "cell_type": "code",
      "execution_count": 2290,
      "metadata": {},
      "outputs": [],
      "source": [
        "gender = pd.get_dummies(X[\"gender\"], prefix=\"gender\")\n",
        "married = pd.get_dummies(X[\"ever-married\"], prefix=\"ever-married\")\n",
        "work = pd.get_dummies(X[\"work-type\"], prefix=\"work-type\")\n",
        "residence = pd.get_dummies(X[\"Residence-type\"], prefix=\"Residence-type\")\n",
        "smoking = pd.get_dummies(X[\"smoking-status\"], prefix=\"smoking-status\")\n",
        "\n",
        "# the features that are one hot encoded\n",
        "one_hot_features = [\"gender\", \"ever-married\", \"work-type\", \"Residence-type\", \"smoking-status\"]\n",
        "\n",
        "# drop the categorical columns from X\n",
        "X.drop(columns=one_hot_features, inplace=True)\n",
        "\n",
        "# creates a dataframe with the one hot encoded features\n",
        "X_tmp_0 = pd.concat([gender, married, work, residence, smoking], axis=1)\n",
        "features_to_encode = X_tmp_0.columns\n",
        "\n",
        "# concatenate the one hot encoded features to the original X\n",
        "X = pd.concat([X, X_tmp_0], axis=1)"
      ]
    },
    {
      "cell_type": "code",
      "execution_count": 2291,
      "metadata": {},
      "outputs": [],
      "source": [
        "from sklearn.preprocessing import OrdinalEncoder\n",
        "\n",
        "encoder = OrdinalEncoder()\n",
        "\n",
        "X[features_to_encode] = encoder.fit_transform(X[features_to_encode])"
      ]
    },
    {
      "cell_type": "markdown",
      "metadata": {},
      "source": [
        "Since the algorithms we will be using operate on numerical values, we must use an ordinal encoder to convert the True/Fale values to 1/0."
      ]
    },
    {
      "cell_type": "code",
      "execution_count": 2292,
      "metadata": {},
      "outputs": [
        {
          "data": {
            "text/html": [
              "<div>\n",
              "<style scoped>\n",
              "    .dataframe tbody tr th:only-of-type {\n",
              "        vertical-align: middle;\n",
              "    }\n",
              "\n",
              "    .dataframe tbody tr th {\n",
              "        vertical-align: top;\n",
              "    }\n",
              "\n",
              "    .dataframe thead th {\n",
              "        text-align: right;\n",
              "    }\n",
              "</style>\n",
              "<table border=\"1\" class=\"dataframe\">\n",
              "  <thead>\n",
              "    <tr style=\"text-align: right;\">\n",
              "      <th></th>\n",
              "      <th>age</th>\n",
              "      <th>hypertension</th>\n",
              "      <th>heart-disease</th>\n",
              "      <th>avg-glucose-level</th>\n",
              "      <th>bmi</th>\n",
              "      <th>gender_Female</th>\n",
              "      <th>gender_Male</th>\n",
              "      <th>ever-married_No</th>\n",
              "      <th>ever-married_Yes</th>\n",
              "      <th>work-type_Govt_job</th>\n",
              "      <th>work-type_Never_worked</th>\n",
              "      <th>work-type_Private</th>\n",
              "      <th>work-type_Self-employed</th>\n",
              "      <th>Residence-type_Rural</th>\n",
              "      <th>Residence-type_Urban</th>\n",
              "      <th>smoking-status_formerly smoked</th>\n",
              "      <th>smoking-status_never smoked</th>\n",
              "      <th>smoking-status_smokes</th>\n",
              "    </tr>\n",
              "  </thead>\n",
              "  <tbody>\n",
              "    <tr>\n",
              "      <th>0</th>\n",
              "      <td>67.0</td>\n",
              "      <td>0</td>\n",
              "      <td>1</td>\n",
              "      <td>228.69</td>\n",
              "      <td>36.6</td>\n",
              "      <td>0.0</td>\n",
              "      <td>1.0</td>\n",
              "      <td>0.0</td>\n",
              "      <td>1.0</td>\n",
              "      <td>0.0</td>\n",
              "      <td>0.0</td>\n",
              "      <td>1.0</td>\n",
              "      <td>0.0</td>\n",
              "      <td>0.0</td>\n",
              "      <td>1.0</td>\n",
              "      <td>1.0</td>\n",
              "      <td>0.0</td>\n",
              "      <td>0.0</td>\n",
              "    </tr>\n",
              "    <tr>\n",
              "      <th>2</th>\n",
              "      <td>80.0</td>\n",
              "      <td>0</td>\n",
              "      <td>1</td>\n",
              "      <td>105.92</td>\n",
              "      <td>32.5</td>\n",
              "      <td>0.0</td>\n",
              "      <td>1.0</td>\n",
              "      <td>0.0</td>\n",
              "      <td>1.0</td>\n",
              "      <td>0.0</td>\n",
              "      <td>0.0</td>\n",
              "      <td>1.0</td>\n",
              "      <td>0.0</td>\n",
              "      <td>1.0</td>\n",
              "      <td>0.0</td>\n",
              "      <td>0.0</td>\n",
              "      <td>1.0</td>\n",
              "      <td>0.0</td>\n",
              "    </tr>\n",
              "    <tr>\n",
              "      <th>3</th>\n",
              "      <td>49.0</td>\n",
              "      <td>0</td>\n",
              "      <td>0</td>\n",
              "      <td>171.23</td>\n",
              "      <td>34.4</td>\n",
              "      <td>1.0</td>\n",
              "      <td>0.0</td>\n",
              "      <td>0.0</td>\n",
              "      <td>1.0</td>\n",
              "      <td>0.0</td>\n",
              "      <td>0.0</td>\n",
              "      <td>1.0</td>\n",
              "      <td>0.0</td>\n",
              "      <td>0.0</td>\n",
              "      <td>1.0</td>\n",
              "      <td>0.0</td>\n",
              "      <td>0.0</td>\n",
              "      <td>1.0</td>\n",
              "    </tr>\n",
              "    <tr>\n",
              "      <th>4</th>\n",
              "      <td>79.0</td>\n",
              "      <td>1</td>\n",
              "      <td>0</td>\n",
              "      <td>174.12</td>\n",
              "      <td>24.0</td>\n",
              "      <td>1.0</td>\n",
              "      <td>0.0</td>\n",
              "      <td>0.0</td>\n",
              "      <td>1.0</td>\n",
              "      <td>0.0</td>\n",
              "      <td>0.0</td>\n",
              "      <td>0.0</td>\n",
              "      <td>1.0</td>\n",
              "      <td>1.0</td>\n",
              "      <td>0.0</td>\n",
              "      <td>0.0</td>\n",
              "      <td>1.0</td>\n",
              "      <td>0.0</td>\n",
              "    </tr>\n",
              "    <tr>\n",
              "      <th>5</th>\n",
              "      <td>81.0</td>\n",
              "      <td>0</td>\n",
              "      <td>0</td>\n",
              "      <td>186.21</td>\n",
              "      <td>29.0</td>\n",
              "      <td>0.0</td>\n",
              "      <td>1.0</td>\n",
              "      <td>0.0</td>\n",
              "      <td>1.0</td>\n",
              "      <td>0.0</td>\n",
              "      <td>0.0</td>\n",
              "      <td>1.0</td>\n",
              "      <td>0.0</td>\n",
              "      <td>0.0</td>\n",
              "      <td>1.0</td>\n",
              "      <td>1.0</td>\n",
              "      <td>0.0</td>\n",
              "      <td>0.0</td>\n",
              "    </tr>\n",
              "  </tbody>\n",
              "</table>\n",
              "</div>"
            ],
            "text/plain": [
              "    age  hypertension  heart-disease  avg-glucose-level   bmi  gender_Female  \\\n",
              "0  67.0             0              1             228.69  36.6            0.0   \n",
              "2  80.0             0              1             105.92  32.5            0.0   \n",
              "3  49.0             0              0             171.23  34.4            1.0   \n",
              "4  79.0             1              0             174.12  24.0            1.0   \n",
              "5  81.0             0              0             186.21  29.0            0.0   \n",
              "\n",
              "   gender_Male  ever-married_No  ever-married_Yes  work-type_Govt_job  \\\n",
              "0          1.0              0.0               1.0                 0.0   \n",
              "2          1.0              0.0               1.0                 0.0   \n",
              "3          0.0              0.0               1.0                 0.0   \n",
              "4          0.0              0.0               1.0                 0.0   \n",
              "5          1.0              0.0               1.0                 0.0   \n",
              "\n",
              "   work-type_Never_worked  work-type_Private  work-type_Self-employed  \\\n",
              "0                     0.0                1.0                      0.0   \n",
              "2                     0.0                1.0                      0.0   \n",
              "3                     0.0                1.0                      0.0   \n",
              "4                     0.0                0.0                      1.0   \n",
              "5                     0.0                1.0                      0.0   \n",
              "\n",
              "   Residence-type_Rural  Residence-type_Urban  smoking-status_formerly smoked  \\\n",
              "0                   0.0                   1.0                             1.0   \n",
              "2                   1.0                   0.0                             0.0   \n",
              "3                   0.0                   1.0                             0.0   \n",
              "4                   1.0                   0.0                             0.0   \n",
              "5                   0.0                   1.0                             1.0   \n",
              "\n",
              "   smoking-status_never smoked  smoking-status_smokes  \n",
              "0                          0.0                    0.0  \n",
              "2                          1.0                    0.0  \n",
              "3                          0.0                    1.0  \n",
              "4                          1.0                    0.0  \n",
              "5                          0.0                    0.0  "
            ]
          },
          "execution_count": 2292,
          "metadata": {},
          "output_type": "execute_result"
        }
      ],
      "source": [
        "X.head()"
      ]
    },
    {
      "cell_type": "markdown",
      "metadata": {},
      "source": [
        "#### Train-Test Split\n",
        "\n",
        "It is usually recommended to perform the oversampling only on the train dataset, therefore we will split the dataset into train and test and then oversample the train dataset."
      ]
    },
    {
      "cell_type": "code",
      "execution_count": 2293,
      "metadata": {
        "id": "UDcFJRwA2NWw"
      },
      "outputs": [],
      "source": [
        "X_train, X_test, y_train, y_test = train_test_split(X, y, test_size = 0.2) # the data is split into 80% training and 20% testing randomly"
      ]
    },
    {
      "cell_type": "markdown",
      "metadata": {},
      "source": [
        "#### Applying the oversampling SMOTE technique"
      ]
    },
    {
      "cell_type": "code",
      "execution_count": 2294,
      "metadata": {
        "id": "kYrhnuzX-yYD"
      },
      "outputs": [
        {
          "data": {
            "text/html": [
              "<div>\n",
              "<style scoped>\n",
              "    .dataframe tbody tr th:only-of-type {\n",
              "        vertical-align: middle;\n",
              "    }\n",
              "\n",
              "    .dataframe tbody tr th {\n",
              "        vertical-align: top;\n",
              "    }\n",
              "\n",
              "    .dataframe thead th {\n",
              "        text-align: right;\n",
              "    }\n",
              "</style>\n",
              "<table border=\"1\" class=\"dataframe\">\n",
              "  <thead>\n",
              "    <tr style=\"text-align: right;\">\n",
              "      <th></th>\n",
              "      <th>age</th>\n",
              "      <th>hypertension</th>\n",
              "      <th>heart-disease</th>\n",
              "      <th>avg-glucose-level</th>\n",
              "      <th>bmi</th>\n",
              "      <th>gender_Female</th>\n",
              "      <th>gender_Male</th>\n",
              "      <th>ever-married_No</th>\n",
              "      <th>ever-married_Yes</th>\n",
              "      <th>work-type_Govt_job</th>\n",
              "      <th>work-type_Never_worked</th>\n",
              "      <th>work-type_Private</th>\n",
              "      <th>work-type_Self-employed</th>\n",
              "      <th>Residence-type_Rural</th>\n",
              "      <th>Residence-type_Urban</th>\n",
              "      <th>smoking-status_formerly smoked</th>\n",
              "      <th>smoking-status_never smoked</th>\n",
              "      <th>smoking-status_smokes</th>\n",
              "    </tr>\n",
              "  </thead>\n",
              "  <tbody>\n",
              "    <tr>\n",
              "      <th>0</th>\n",
              "      <td>72.0</td>\n",
              "      <td>0</td>\n",
              "      <td>0</td>\n",
              "      <td>92.59</td>\n",
              "      <td>24.6</td>\n",
              "      <td>0.0</td>\n",
              "      <td>1.0</td>\n",
              "      <td>0.0</td>\n",
              "      <td>1.0</td>\n",
              "      <td>0.0</td>\n",
              "      <td>0.0</td>\n",
              "      <td>1.0</td>\n",
              "      <td>0.0</td>\n",
              "      <td>0.0</td>\n",
              "      <td>1.0</td>\n",
              "      <td>1.0</td>\n",
              "      <td>0.0</td>\n",
              "      <td>0.0</td>\n",
              "    </tr>\n",
              "    <tr>\n",
              "      <th>1</th>\n",
              "      <td>36.0</td>\n",
              "      <td>0</td>\n",
              "      <td>0</td>\n",
              "      <td>91.34</td>\n",
              "      <td>29.9</td>\n",
              "      <td>1.0</td>\n",
              "      <td>0.0</td>\n",
              "      <td>0.0</td>\n",
              "      <td>1.0</td>\n",
              "      <td>0.0</td>\n",
              "      <td>0.0</td>\n",
              "      <td>1.0</td>\n",
              "      <td>0.0</td>\n",
              "      <td>0.0</td>\n",
              "      <td>1.0</td>\n",
              "      <td>0.0</td>\n",
              "      <td>1.0</td>\n",
              "      <td>0.0</td>\n",
              "    </tr>\n",
              "    <tr>\n",
              "      <th>2</th>\n",
              "      <td>53.0</td>\n",
              "      <td>0</td>\n",
              "      <td>0</td>\n",
              "      <td>85.17</td>\n",
              "      <td>29.2</td>\n",
              "      <td>0.0</td>\n",
              "      <td>1.0</td>\n",
              "      <td>0.0</td>\n",
              "      <td>1.0</td>\n",
              "      <td>1.0</td>\n",
              "      <td>0.0</td>\n",
              "      <td>0.0</td>\n",
              "      <td>0.0</td>\n",
              "      <td>0.0</td>\n",
              "      <td>1.0</td>\n",
              "      <td>0.0</td>\n",
              "      <td>1.0</td>\n",
              "      <td>0.0</td>\n",
              "    </tr>\n",
              "    <tr>\n",
              "      <th>3</th>\n",
              "      <td>40.0</td>\n",
              "      <td>0</td>\n",
              "      <td>0</td>\n",
              "      <td>78.04</td>\n",
              "      <td>32.4</td>\n",
              "      <td>1.0</td>\n",
              "      <td>0.0</td>\n",
              "      <td>1.0</td>\n",
              "      <td>0.0</td>\n",
              "      <td>0.0</td>\n",
              "      <td>0.0</td>\n",
              "      <td>1.0</td>\n",
              "      <td>0.0</td>\n",
              "      <td>0.0</td>\n",
              "      <td>1.0</td>\n",
              "      <td>0.0</td>\n",
              "      <td>0.0</td>\n",
              "      <td>1.0</td>\n",
              "    </tr>\n",
              "    <tr>\n",
              "      <th>4</th>\n",
              "      <td>19.0</td>\n",
              "      <td>0</td>\n",
              "      <td>0</td>\n",
              "      <td>56.85</td>\n",
              "      <td>21.1</td>\n",
              "      <td>1.0</td>\n",
              "      <td>0.0</td>\n",
              "      <td>1.0</td>\n",
              "      <td>0.0</td>\n",
              "      <td>0.0</td>\n",
              "      <td>0.0</td>\n",
              "      <td>1.0</td>\n",
              "      <td>0.0</td>\n",
              "      <td>1.0</td>\n",
              "      <td>0.0</td>\n",
              "      <td>0.0</td>\n",
              "      <td>1.0</td>\n",
              "      <td>0.0</td>\n",
              "    </tr>\n",
              "  </tbody>\n",
              "</table>\n",
              "</div>"
            ],
            "text/plain": [
              "    age  hypertension  heart-disease  avg-glucose-level   bmi  gender_Female  \\\n",
              "0  72.0             0              0              92.59  24.6            0.0   \n",
              "1  36.0             0              0              91.34  29.9            1.0   \n",
              "2  53.0             0              0              85.17  29.2            0.0   \n",
              "3  40.0             0              0              78.04  32.4            1.0   \n",
              "4  19.0             0              0              56.85  21.1            1.0   \n",
              "\n",
              "   gender_Male  ever-married_No  ever-married_Yes  work-type_Govt_job  \\\n",
              "0          1.0              0.0               1.0                 0.0   \n",
              "1          0.0              0.0               1.0                 0.0   \n",
              "2          1.0              0.0               1.0                 1.0   \n",
              "3          0.0              1.0               0.0                 0.0   \n",
              "4          0.0              1.0               0.0                 0.0   \n",
              "\n",
              "   work-type_Never_worked  work-type_Private  work-type_Self-employed  \\\n",
              "0                     0.0                1.0                      0.0   \n",
              "1                     0.0                1.0                      0.0   \n",
              "2                     0.0                0.0                      0.0   \n",
              "3                     0.0                1.0                      0.0   \n",
              "4                     0.0                1.0                      0.0   \n",
              "\n",
              "   Residence-type_Rural  Residence-type_Urban  smoking-status_formerly smoked  \\\n",
              "0                   0.0                   1.0                             1.0   \n",
              "1                   0.0                   1.0                             0.0   \n",
              "2                   0.0                   1.0                             0.0   \n",
              "3                   0.0                   1.0                             0.0   \n",
              "4                   1.0                   0.0                             0.0   \n",
              "\n",
              "   smoking-status_never smoked  smoking-status_smokes  \n",
              "0                          0.0                    0.0  \n",
              "1                          1.0                    0.0  \n",
              "2                          1.0                    0.0  \n",
              "3                          0.0                    1.0  \n",
              "4                          1.0                    0.0  "
            ]
          },
          "execution_count": 2294,
          "metadata": {},
          "output_type": "execute_result"
        }
      ],
      "source": [
        "# Apply SMOTE\n",
        "smote = SMOTE(random_state=42)\n",
        "\n",
        "X_smote, y_smote = smote.fit_resample(X_train, y_train)\n",
        "X_smote = pd.DataFrame(X_smote, columns=X.columns)\n",
        "X_smote.head()"
      ]
    },
    {
      "cell_type": "code",
      "execution_count": 2295,
      "metadata": {
        "colab": {
          "base_uri": "https://localhost:8080/"
        },
        "id": "cUiVKZBiDOuA",
        "outputId": "e26c1e0e-1d90-4721-9683-e44e527a8fb6"
      },
      "outputs": [
        {
          "name": "stdout",
          "output_type": "stream",
          "text": [
            "       age  hypertension  heart-disease  avg-glucose-level   bmi  gender  \\\n",
            "0     72.0             0              0               93.0  25.0    Male   \n",
            "1     36.0             0              0               91.0  30.0  Female   \n",
            "2     53.0             0              0               85.0  29.0    Male   \n",
            "3     40.0             0              0               78.0  32.0  Female   \n",
            "4     19.0             0              0               57.0  21.0  Female   \n",
            "...    ...           ...            ...                ...   ...     ...   \n",
            "4915  63.0             0              0              140.0  31.0    Male   \n",
            "4916  79.0             0              0              109.0  28.0  Female   \n",
            "4917  51.0             0              0              105.0  33.0    Male   \n",
            "4918  74.0             1              0               70.0  23.0  Female   \n",
            "4919  78.0             0              0              131.0  24.0    Male   \n",
            "\n",
            "     ever-married      work-type Residence-type   smoking-status  \n",
            "0             Yes        Private          Urban  formerly smoked  \n",
            "1             Yes        Private          Urban     never smoked  \n",
            "2             Yes       Govt_job          Urban     never smoked  \n",
            "3              No        Private          Urban           smokes  \n",
            "4              No        Private          Rural     never smoked  \n",
            "...           ...            ...            ...              ...  \n",
            "4915          Yes        Private          Rural  formerly smoked  \n",
            "4916          Yes        Private          Urban  formerly smoked  \n",
            "4917           No        Private          Rural           smokes  \n",
            "4918          Yes        Private          Urban     never smoked  \n",
            "4919          Yes  Self-employed          Urban  formerly smoked  \n",
            "\n",
            "[4920 rows x 10 columns]\n"
          ]
        }
      ],
      "source": [
        "X_balanced = np.round(X_smote)\n",
        "y_balanced = y_smote\n",
        "\n",
        "# update the training data with the SMOTE data already one-hot encoded\n",
        "X_train = X_balanced.copy()\n",
        "y_train = y_balanced.copy()\n",
        "\n",
        "X_balanced[features_to_encode] = encoder.inverse_transform(X_balanced[features_to_encode])\n",
        "dummies = pd.from_dummies(X_balanced[features_to_encode], sep='_')\n",
        "X_balanced.drop(columns=features_to_encode, inplace=True)\n",
        "X_balanced = pd.concat([X_balanced, dummies], axis=1)\n",
        "\n",
        "print(X_balanced)"
      ]
    },
    {
      "cell_type": "code",
      "execution_count": 2296,
      "metadata": {
        "id": "vpbjjt6TS2x_"
      },
      "outputs": [],
      "source": [
        "df_balanced = pd.DataFrame(X_balanced, columns=features)\n",
        "df_balanced['stroke'] = y_balanced\n"
      ]
    },
    {
      "cell_type": "code",
      "execution_count": 2297,
      "metadata": {
        "colab": {
          "base_uri": "https://localhost:8080/"
        },
        "id": "1vt3cf-KTVLm",
        "outputId": "d3a39dbb-a919-4868-ca6d-df83570f5025"
      },
      "outputs": [
        {
          "data": {
            "text/html": [
              "<div>\n",
              "<style scoped>\n",
              "    .dataframe tbody tr th:only-of-type {\n",
              "        vertical-align: middle;\n",
              "    }\n",
              "\n",
              "    .dataframe tbody tr th {\n",
              "        vertical-align: top;\n",
              "    }\n",
              "\n",
              "    .dataframe thead th {\n",
              "        text-align: right;\n",
              "    }\n",
              "</style>\n",
              "<table border=\"1\" class=\"dataframe\">\n",
              "  <thead>\n",
              "    <tr style=\"text-align: right;\">\n",
              "      <th></th>\n",
              "      <th>gender</th>\n",
              "      <th>age</th>\n",
              "      <th>hypertension</th>\n",
              "      <th>heart-disease</th>\n",
              "      <th>ever-married</th>\n",
              "      <th>work-type</th>\n",
              "      <th>Residence-type</th>\n",
              "      <th>avg-glucose-level</th>\n",
              "      <th>bmi</th>\n",
              "      <th>smoking-status</th>\n",
              "      <th>stroke</th>\n",
              "    </tr>\n",
              "  </thead>\n",
              "  <tbody>\n",
              "    <tr>\n",
              "      <th>0</th>\n",
              "      <td>Male</td>\n",
              "      <td>72.0</td>\n",
              "      <td>0</td>\n",
              "      <td>0</td>\n",
              "      <td>Yes</td>\n",
              "      <td>Private</td>\n",
              "      <td>Urban</td>\n",
              "      <td>93.0</td>\n",
              "      <td>25.0</td>\n",
              "      <td>formerly smoked</td>\n",
              "      <td>0</td>\n",
              "    </tr>\n",
              "    <tr>\n",
              "      <th>1</th>\n",
              "      <td>Female</td>\n",
              "      <td>36.0</td>\n",
              "      <td>0</td>\n",
              "      <td>0</td>\n",
              "      <td>Yes</td>\n",
              "      <td>Private</td>\n",
              "      <td>Urban</td>\n",
              "      <td>91.0</td>\n",
              "      <td>30.0</td>\n",
              "      <td>never smoked</td>\n",
              "      <td>0</td>\n",
              "    </tr>\n",
              "    <tr>\n",
              "      <th>2</th>\n",
              "      <td>Male</td>\n",
              "      <td>53.0</td>\n",
              "      <td>0</td>\n",
              "      <td>0</td>\n",
              "      <td>Yes</td>\n",
              "      <td>Govt_job</td>\n",
              "      <td>Urban</td>\n",
              "      <td>85.0</td>\n",
              "      <td>29.0</td>\n",
              "      <td>never smoked</td>\n",
              "      <td>0</td>\n",
              "    </tr>\n",
              "    <tr>\n",
              "      <th>3</th>\n",
              "      <td>Female</td>\n",
              "      <td>40.0</td>\n",
              "      <td>0</td>\n",
              "      <td>0</td>\n",
              "      <td>No</td>\n",
              "      <td>Private</td>\n",
              "      <td>Urban</td>\n",
              "      <td>78.0</td>\n",
              "      <td>32.0</td>\n",
              "      <td>smokes</td>\n",
              "      <td>0</td>\n",
              "    </tr>\n",
              "    <tr>\n",
              "      <th>4</th>\n",
              "      <td>Female</td>\n",
              "      <td>19.0</td>\n",
              "      <td>0</td>\n",
              "      <td>0</td>\n",
              "      <td>No</td>\n",
              "      <td>Private</td>\n",
              "      <td>Rural</td>\n",
              "      <td>57.0</td>\n",
              "      <td>21.0</td>\n",
              "      <td>never smoked</td>\n",
              "      <td>0</td>\n",
              "    </tr>\n",
              "  </tbody>\n",
              "</table>\n",
              "</div>"
            ],
            "text/plain": [
              "   gender   age  hypertension  heart-disease ever-married work-type  \\\n",
              "0    Male  72.0             0              0          Yes   Private   \n",
              "1  Female  36.0             0              0          Yes   Private   \n",
              "2    Male  53.0             0              0          Yes  Govt_job   \n",
              "3  Female  40.0             0              0           No   Private   \n",
              "4  Female  19.0             0              0           No   Private   \n",
              "\n",
              "  Residence-type  avg-glucose-level   bmi   smoking-status  stroke  \n",
              "0          Urban               93.0  25.0  formerly smoked       0  \n",
              "1          Urban               91.0  30.0     never smoked       0  \n",
              "2          Urban               85.0  29.0     never smoked       0  \n",
              "3          Urban               78.0  32.0           smokes       0  \n",
              "4          Rural               57.0  21.0     never smoked       0  "
            ]
          },
          "execution_count": 2297,
          "metadata": {},
          "output_type": "execute_result"
        }
      ],
      "source": [
        "df_balanced.head()"
      ]
    },
    {
      "cell_type": "code",
      "execution_count": 2298,
      "metadata": {
        "colab": {
          "base_uri": "https://localhost:8080/",
          "height": 898
        },
        "id": "hYsZoOkATl9t",
        "outputId": "c4536f6f-e670-4a0b-c863-0b56d9acaecb"
      },
      "outputs": [
        {
          "data": {
            "text/plain": [
              "<AxesSubplot:xlabel='stroke', ylabel='count'>"
            ]
          },
          "execution_count": 2298,
          "metadata": {},
          "output_type": "execute_result"
        },
        {
          "data": {
            "image/png": "[encoded data removed]",
            "text/plain": [
              "<Figure size 640x480 with 1 Axes>"
            ]
          },
          "metadata": {},
          "output_type": "display_data"
        },
        {
          "data": {
            "image/png": "[encoded data removed]",
            "text/plain": [
              "<Figure size 640x480 with 1 Axes>"
            ]
          },
          "metadata": {},
          "output_type": "display_data"
        }
      ],
      "source": [
        "sns.countplot(x='stroke', data=df)\n",
        "plt.figure()\n",
        "sns.countplot(x='stroke', data=df_balanced)"
      ]
    },
    {
      "cell_type": "markdown",
      "metadata": {},
      "source": [
        "We can clearly see that the dataset is now balanced. The stroke and non-stroke patients are now equally represented in the train dataset."
      ]
    },
    {
      "cell_type": "code",
      "execution_count": 2299,
      "metadata": {
        "colab": {
          "base_uri": "https://localhost:8080/",
          "height": 467
        },
        "id": "ijDCoMCCVzUC",
        "outputId": "e6850e62-a123-4086-fa8c-a5ee567d4d7c"
      },
      "outputs": [
        {
          "data": {
            "text/plain": [
              "<AxesSubplot:xlabel='age_bucket', ylabel='percent'>"
            ]
          },
          "execution_count": 2299,
          "metadata": {},
          "output_type": "execute_result"
        },
        {
          "data": {
            "image/png": "[encoded data removed]",
            "text/plain": [
              "<Figure size 640x480 with 1 Axes>"
            ]
          },
          "metadata": {},
          "output_type": "display_data"
        }
      ],
      "source": [
        "plt.grid()\n",
        "age_labels = ['18-24', '25-29', '30-34', '35-39', '40-44', '45-49', '50-54', '55-59', '60-64', '65-69', '70-74', '75+']\n",
        "dataset_bal_copy = df_balanced.copy()\n",
        "dataset_bal_copy['age_bucket'] = pd.cut(dataset_bal_copy['age'], bins=[17, 24, 29, 34, 39, 44, 49, 54, 59, 64, 69, 74, 100], labels=age_labels)\n",
        "sns.countplot(x='age_bucket', hue='stroke', order=age_labels, data=dataset_bal_copy, stat='percent')"
      ]
    },
    {
      "cell_type": "markdown",
      "metadata": {},
      "source": [
        "As also observed in the paper, the number of elderly patients who had a stroke is higher than the number of young patients who had a stroke. This is a common observation in the medical field."
      ]
    },
    {
      "cell_type": "code",
      "execution_count": 2300,
      "metadata": {
        "colab": {
          "base_uri": "https://localhost:8080/",
          "height": 466
        },
        "id": "e55ZUaX5Yqgn",
        "outputId": "b429ccf5-b1eb-4456-aa1a-e0c5477d7cc8"
      },
      "outputs": [
        {
          "data": {
            "text/plain": [
              "<AxesSubplot:xlabel='hypertension', ylabel='percent'>"
            ]
          },
          "execution_count": 2300,
          "metadata": {},
          "output_type": "execute_result"
        },
        {
          "data": {
            "image/png": "[encoded data removed]",
            "text/plain": [
              "<Figure size 640x480 with 1 Axes>"
            ]
          },
          "metadata": {},
          "output_type": "display_data"
        }
      ],
      "source": [
        "sns.countplot(x='hypertension', hue='stroke', data=df_balanced, stat='percent')"
      ]
    },
    {
      "cell_type": "code",
      "execution_count": 2301,
      "metadata": {
        "colab": {
          "base_uri": "https://localhost:8080/",
          "height": 466
        },
        "id": "Fw18CXJAY_zU",
        "outputId": "7b5c26f7-8196-45e3-ddec-2490c84eca1a"
      },
      "outputs": [
        {
          "data": {
            "text/plain": [
              "<AxesSubplot:xlabel='heart-disease', ylabel='percent'>"
            ]
          },
          "execution_count": 2301,
          "metadata": {},
          "output_type": "execute_result"
        },
        {
          "data": {
            "image/png": "[encoded data removed]",
            "text/plain": [
              "<Figure size 640x480 with 1 Axes>"
            ]
          },
          "metadata": {},
          "output_type": "display_data"
        }
      ],
      "source": [
        "sns.countplot(x='heart-disease', hue='stroke', data=df_balanced, stat='percent')"
      ]
    },
    {
      "cell_type": "markdown",
      "metadata": {},
      "source": [
        "The fact that the heart disesase class seem not to contribute significantly to the model is also observed in the paper. The authors explain it as a possible consequence of the lack of screening. When hearth diseases are not found, they can not be acted on."
      ]
    },
    {
      "cell_type": "code",
      "execution_count": 2302,
      "metadata": {
        "colab": {
          "base_uri": "https://localhost:8080/",
          "height": 466
        },
        "id": "N0DUH92OZoo-",
        "outputId": "c0c31bc3-76b9-45ed-ae70-c55d2cfb066b"
      },
      "outputs": [
        {
          "data": {
            "text/plain": [
              "<AxesSubplot:xlabel='smoking-status', ylabel='percent'>"
            ]
          },
          "execution_count": 2302,
          "metadata": {},
          "output_type": "execute_result"
        },
        {
          "data": {
            "image/png": "[encoded data removed]",
            "text/plain": [
              "<Figure size 640x480 with 1 Axes>"
            ]
          },
          "metadata": {},
          "output_type": "display_data"
        }
      ],
      "source": [
        "sns.countplot(x='smoking-status', hue='stroke', data=df_balanced, stat='percent')"
      ]
    },
    {
      "cell_type": "code",
      "execution_count": 2303,
      "metadata": {
        "colab": {
          "base_uri": "https://localhost:8080/",
          "height": 467
        },
        "id": "W_9l00XaZ7dm",
        "outputId": "060d7b80-c92a-4528-b312-9b73f6011238"
      },
      "outputs": [
        {
          "data": {
            "text/plain": [
              "<AxesSubplot:xlabel='bmi_bucket', ylabel='percent'>"
            ]
          },
          "execution_count": 2303,
          "metadata": {},
          "output_type": "execute_result"
        },
        {
          "data": {
            "image/png": "[encoded data removed]",
            "text/plain": [
              "<Figure size 640x480 with 1 Axes>"
            ]
          },
          "metadata": {},
          "output_type": "display_data"
        }
      ],
      "source": [
        "bmi_labels = ['Underweight', 'Normal', 'Overweight', 'Obese I', 'Obese II', 'Obese III']\n",
        "dataset_bal_copy['bmi_bucket'] = pd.cut(dataset_bal_copy['bmi'], bins=[0, 18.5, 24.9, 29.9, 34.9, 39.9, 100], labels=bmi_labels)\n",
        "sns.countplot(x='bmi_bucket', hue='stroke',order=bmi_labels,  data=dataset_bal_copy, stat='percent')"
      ]
    },
    {
      "cell_type": "code",
      "execution_count": 2304,
      "metadata": {
        "colab": {
          "base_uri": "https://localhost:8080/",
          "height": 466
        },
        "id": "_lD7I_9Had1x",
        "outputId": "80658de1-3dd5-45c8-9408-d244ae72336b"
      },
      "outputs": [
        {
          "data": {
            "text/plain": [
              "<AxesSubplot:xlabel='Residence-type', ylabel='percent'>"
            ]
          },
          "execution_count": 2304,
          "metadata": {},
          "output_type": "execute_result"
        },
        {
          "data": {
            "image/png": "[encoded data removed]",
            "text/plain": [
              "<Figure size 640x480 with 1 Axes>"
            ]
          },
          "metadata": {},
          "output_type": "display_data"
        }
      ],
      "source": [
        "sns.countplot(x='Residence-type', hue='stroke', data=df_balanced, stat='percent')"
      ]
    },
    {
      "cell_type": "code",
      "execution_count": 2305,
      "metadata": {
        "colab": {
          "base_uri": "https://localhost:8080/",
          "height": 467
        },
        "id": "RpYPpv-IazF5",
        "outputId": "269729d6-0ef6-4078-86f9-0b2536ae5af5"
      },
      "outputs": [
        {
          "data": {
            "text/plain": [
              "<AxesSubplot:xlabel='work-type', ylabel='percent'>"
            ]
          },
          "execution_count": 2305,
          "metadata": {},
          "output_type": "execute_result"
        },
        {
          "data": {
            "image/png": "[encoded data removed]",
            "text/plain": [
              "<Figure size 640x480 with 1 Axes>"
            ]
          },
          "metadata": {},
          "output_type": "display_data"
        }
      ],
      "source": [
        "sns.countplot(x='work-type', hue='stroke', data=df_balanced, stat='percent')"
      ]
    },
    {
      "cell_type": "markdown",
      "metadata": {},
      "source": [
        "The private sector seems to have a higher number of stroke patients."
      ]
    },
    {
      "cell_type": "code",
      "execution_count": 2306,
      "metadata": {
        "colab": {
          "base_uri": "https://localhost:8080/",
          "height": 466
        },
        "id": "0eMLYbzYa8t_",
        "outputId": "9f582e4f-291a-488d-f3f4-11a7aed6c661"
      },
      "outputs": [
        {
          "data": {
            "text/plain": [
              "<AxesSubplot:xlabel='gender', ylabel='percent'>"
            ]
          },
          "execution_count": 2306,
          "metadata": {},
          "output_type": "execute_result"
        },
        {
          "data": {
            "image/png": "[encoded data removed]",
            "text/plain": [
              "<Figure size 640x480 with 1 Axes>"
            ]
          },
          "metadata": {},
          "output_type": "display_data"
        }
      ],
      "source": [
        "sns.countplot(x='gender', hue='stroke', data=df_balanced, stat='percent')"
      ]
    },
    {
      "cell_type": "markdown",
      "metadata": {},
      "source": [
        "## Feature Ranking"
      ]
    },
    {
      "cell_type": "code",
      "execution_count": 2307,
      "metadata": {},
      "outputs": [
        {
          "data": {
            "text/html": [
              "<div>\n",
              "<style scoped>\n",
              "    .dataframe tbody tr th:only-of-type {\n",
              "        vertical-align: middle;\n",
              "    }\n",
              "\n",
              "    .dataframe tbody tr th {\n",
              "        vertical-align: top;\n",
              "    }\n",
              "\n",
              "    .dataframe thead th {\n",
              "        text-align: right;\n",
              "    }\n",
              "</style>\n",
              "<table border=\"1\" class=\"dataframe\">\n",
              "  <thead>\n",
              "    <tr style=\"text-align: right;\">\n",
              "      <th></th>\n",
              "      <th>age</th>\n",
              "      <th>hypertension</th>\n",
              "      <th>heart-disease</th>\n",
              "      <th>avg-glucose-level</th>\n",
              "      <th>bmi</th>\n",
              "      <th>gender_Female</th>\n",
              "      <th>gender_Male</th>\n",
              "      <th>ever-married_No</th>\n",
              "      <th>ever-married_Yes</th>\n",
              "      <th>work-type_Govt_job</th>\n",
              "      <th>work-type_Never_worked</th>\n",
              "      <th>work-type_Private</th>\n",
              "      <th>work-type_Self-employed</th>\n",
              "      <th>Residence-type_Rural</th>\n",
              "      <th>Residence-type_Urban</th>\n",
              "      <th>smoking-status_formerly smoked</th>\n",
              "      <th>smoking-status_never smoked</th>\n",
              "      <th>smoking-status_smokes</th>\n",
              "    </tr>\n",
              "  </thead>\n",
              "  <tbody>\n",
              "    <tr>\n",
              "      <th>0</th>\n",
              "      <td>72.0</td>\n",
              "      <td>0</td>\n",
              "      <td>0</td>\n",
              "      <td>93.0</td>\n",
              "      <td>25.0</td>\n",
              "      <td>0.0</td>\n",
              "      <td>1.0</td>\n",
              "      <td>0.0</td>\n",
              "      <td>1.0</td>\n",
              "      <td>0.0</td>\n",
              "      <td>0.0</td>\n",
              "      <td>1.0</td>\n",
              "      <td>0.0</td>\n",
              "      <td>0.0</td>\n",
              "      <td>1.0</td>\n",
              "      <td>1.0</td>\n",
              "      <td>0.0</td>\n",
              "      <td>0.0</td>\n",
              "    </tr>\n",
              "    <tr>\n",
              "      <th>1</th>\n",
              "      <td>36.0</td>\n",
              "      <td>0</td>\n",
              "      <td>0</td>\n",
              "      <td>91.0</td>\n",
              "      <td>30.0</td>\n",
              "      <td>1.0</td>\n",
              "      <td>0.0</td>\n",
              "      <td>0.0</td>\n",
              "      <td>1.0</td>\n",
              "      <td>0.0</td>\n",
              "      <td>0.0</td>\n",
              "      <td>1.0</td>\n",
              "      <td>0.0</td>\n",
              "      <td>0.0</td>\n",
              "      <td>1.0</td>\n",
              "      <td>0.0</td>\n",
              "      <td>1.0</td>\n",
              "      <td>0.0</td>\n",
              "    </tr>\n",
              "    <tr>\n",
              "      <th>2</th>\n",
              "      <td>53.0</td>\n",
              "      <td>0</td>\n",
              "      <td>0</td>\n",
              "      <td>85.0</td>\n",
              "      <td>29.0</td>\n",
              "      <td>0.0</td>\n",
              "      <td>1.0</td>\n",
              "      <td>0.0</td>\n",
              "      <td>1.0</td>\n",
              "      <td>1.0</td>\n",
              "      <td>0.0</td>\n",
              "      <td>0.0</td>\n",
              "      <td>0.0</td>\n",
              "      <td>0.0</td>\n",
              "      <td>1.0</td>\n",
              "      <td>0.0</td>\n",
              "      <td>1.0</td>\n",
              "      <td>0.0</td>\n",
              "    </tr>\n",
              "    <tr>\n",
              "      <th>3</th>\n",
              "      <td>40.0</td>\n",
              "      <td>0</td>\n",
              "      <td>0</td>\n",
              "      <td>78.0</td>\n",
              "      <td>32.0</td>\n",
              "      <td>1.0</td>\n",
              "      <td>0.0</td>\n",
              "      <td>1.0</td>\n",
              "      <td>0.0</td>\n",
              "      <td>0.0</td>\n",
              "      <td>0.0</td>\n",
              "      <td>1.0</td>\n",
              "      <td>0.0</td>\n",
              "      <td>0.0</td>\n",
              "      <td>1.0</td>\n",
              "      <td>0.0</td>\n",
              "      <td>0.0</td>\n",
              "      <td>1.0</td>\n",
              "    </tr>\n",
              "    <tr>\n",
              "      <th>4</th>\n",
              "      <td>19.0</td>\n",
              "      <td>0</td>\n",
              "      <td>0</td>\n",
              "      <td>57.0</td>\n",
              "      <td>21.0</td>\n",
              "      <td>1.0</td>\n",
              "      <td>0.0</td>\n",
              "      <td>1.0</td>\n",
              "      <td>0.0</td>\n",
              "      <td>0.0</td>\n",
              "      <td>0.0</td>\n",
              "      <td>1.0</td>\n",
              "      <td>0.0</td>\n",
              "      <td>1.0</td>\n",
              "      <td>0.0</td>\n",
              "      <td>0.0</td>\n",
              "      <td>1.0</td>\n",
              "      <td>0.0</td>\n",
              "    </tr>\n",
              "  </tbody>\n",
              "</table>\n",
              "</div>"
            ],
            "text/plain": [
              "    age  hypertension  heart-disease  avg-glucose-level   bmi  gender_Female  \\\n",
              "0  72.0             0              0               93.0  25.0            0.0   \n",
              "1  36.0             0              0               91.0  30.0            1.0   \n",
              "2  53.0             0              0               85.0  29.0            0.0   \n",
              "3  40.0             0              0               78.0  32.0            1.0   \n",
              "4  19.0             0              0               57.0  21.0            1.0   \n",
              "\n",
              "   gender_Male  ever-married_No  ever-married_Yes  work-type_Govt_job  \\\n",
              "0          1.0              0.0               1.0                 0.0   \n",
              "1          0.0              0.0               1.0                 0.0   \n",
              "2          1.0              0.0               1.0                 1.0   \n",
              "3          0.0              1.0               0.0                 0.0   \n",
              "4          0.0              1.0               0.0                 0.0   \n",
              "\n",
              "   work-type_Never_worked  work-type_Private  work-type_Self-employed  \\\n",
              "0                     0.0                1.0                      0.0   \n",
              "1                     0.0                1.0                      0.0   \n",
              "2                     0.0                0.0                      0.0   \n",
              "3                     0.0                1.0                      0.0   \n",
              "4                     0.0                1.0                      0.0   \n",
              "\n",
              "   Residence-type_Rural  Residence-type_Urban  smoking-status_formerly smoked  \\\n",
              "0                   0.0                   1.0                             1.0   \n",
              "1                   0.0                   1.0                             0.0   \n",
              "2                   0.0                   1.0                             0.0   \n",
              "3                   0.0                   1.0                             0.0   \n",
              "4                   1.0                   0.0                             0.0   \n",
              "\n",
              "   smoking-status_never smoked  smoking-status_smokes  \n",
              "0                          0.0                    0.0  \n",
              "1                          1.0                    0.0  \n",
              "2                          1.0                    0.0  \n",
              "3                          0.0                    1.0  \n",
              "4                          1.0                    0.0  "
            ]
          },
          "execution_count": 2307,
          "metadata": {},
          "output_type": "execute_result"
        }
      ],
      "source": [
        "X_train.head()"
      ]
    },
    {
      "cell_type": "markdown",
      "metadata": {},
      "source": [
        "### Apply the random forest classifier to select the most important features"
      ]
    },
    {
      "cell_type": "code",
      "execution_count": 2311,
      "metadata": {},
      "outputs": [
        {
          "name": "stdout",
          "output_type": "stream",
          "text": [
            "Accuracy:  0.8755760368663594\n"
          ]
        },
        {
          "data": {
            "image/png": "[encoded data removed]",
            "text/plain": [
              "<Figure size 640x480 with 1 Axes>"
            ]
          },
          "metadata": {},
          "output_type": "display_data"
        }
      ],
      "source": [
        "from sklearn.ensemble import RandomForestClassifier\n",
        "\n",
        "features = X_train.columns\n",
        "\n",
        "rf_classifier = RandomForestClassifier(random_state=42)\n",
        "rf_classifier.fit(X_train, y_train)\n",
        "\n",
        "y_pred = rf_classifier.predict(X_test)\n",
        "\n",
        "accuracy = np.sum(y_test == y_pred)/len(y_test)\n",
        "\n",
        "feature_importance = list(zip(features, rf_classifier.feature_importances_))\n",
        "feature_importance.sort(key = lambda x : x[1])\n",
        "plt.barh([x[0] for x in feature_importance],[x[1] for x in feature_importance])\n",
        "print(\"Accuracy: \", accuracy)"
      ]
    }
  ],
  "metadata": {
    "colab": {
      "provenance": []
    },
    "kernelspec": {
      "display_name": "Python 3",
      "name": "python3"
    },
    "language_info": {
      "codemirror_mode": {
        "name": "ipython",
        "version": 3
      },
      "file_extension": ".py",
      "mimetype": "text/x-python",
      "name": "python",
      "nbconvert_exporter": "python",
      "pygments_lexer": "ipython3",
      "version": "3.10.11"
    }
  },
  "nbformat": 4,
  "nbformat_minor": 0
}
