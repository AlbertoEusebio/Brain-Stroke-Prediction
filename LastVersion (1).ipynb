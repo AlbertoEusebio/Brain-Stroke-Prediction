{
  "nbformat": 4,
  "nbformat_minor": 0,
  "metadata": {
    "colab": {
      "provenance": []
    },
    "kernelspec": {
      "name": "python3",
      "display_name": "Python 3"
    },
    "language_info": {
      "name": "python"
    }
  },
  "cells": [
    {
      "cell_type": "code",
      "execution_count": 1,
      "metadata": {
        "id": "Hv1sRCBfy1xN"
      },
      "outputs": [],
      "source": [
        "import numpy as np\n",
        "import matplotlib.pyplot as plt\n",
        "import pandas as pd\n",
        "import seaborn as sns\n",
        "from sklearn.model_selection import train_test_split # preprocessing\n",
        "from imblearn.over_sampling import SMOTE  # preprocessing\n",
        "from sklearn.preprocessing import RobustScaler"
      ]
    },
    {
      "cell_type": "code",
      "source": [
        "df = pd.read_csv('healthcare-dataset-stroke-data.csv')"
      ],
      "metadata": {
        "id": "gCkctsD-zCzv"
      },
      "execution_count": 2,
      "outputs": []
    },
    {
      "cell_type": "code",
      "source": [
        "new_cols = [\"id\", \"gender\", \"age\", \"hypertension\", \"heart-disease\", \"ever-married\", \"work-type\", \"Residence-type\", \"avg-glucose-level\", \"bmi\", \"smoking-status\", \"stroke\"]\n",
        "\n",
        "df.columns = new_cols"
      ],
      "metadata": {
        "id": "afpQgdLRH-ls"
      },
      "execution_count": 3,
      "outputs": []
    },
    {
      "cell_type": "code",
      "source": [
        "df.head()"
      ],
      "metadata": {
        "colab": {
          "base_uri": "https://localhost:8080/",
          "height": 330
        },
        "id": "5LoG-19fzEmj",
        "outputId": "b32a3307-2e7a-42e9-87f5-e13c50749db8"
      },
      "execution_count": 4,
      "outputs": [
        {
          "output_type": "execute_result",
          "data": {
            "text/plain": [
              "      id  gender   age  hypertension  heart-disease ever-married  \\\n",
              "0   9046    Male  67.0             0              1          Yes   \n",
              "1  51676  Female  61.0             0              0          Yes   \n",
              "2  31112    Male  80.0             0              1          Yes   \n",
              "3  60182  Female  49.0             0              0          Yes   \n",
              "4   1665  Female  79.0             1              0          Yes   \n",
              "\n",
              "       work-type Residence-type  avg-glucose-level   bmi   smoking-status  \\\n",
              "0        Private          Urban             228.69  36.6  formerly smoked   \n",
              "1  Self-employed          Rural             202.21   NaN     never smoked   \n",
              "2        Private          Rural             105.92  32.5     never smoked   \n",
              "3        Private          Urban             171.23  34.4           smokes   \n",
              "4  Self-employed          Rural             174.12  24.0     never smoked   \n",
              "\n",
              "   stroke  \n",
              "0       1  \n",
              "1       1  \n",
              "2       1  \n",
              "3       1  \n",
              "4       1  "
            ],
            "text/html": [
              "\n",
              "  <div id=\"df-48fdb238-41b4-4e8a-8a8c-e9e9dad5be1a\" class=\"colab-df-container\">\n",
              "    <div>\n",
              "<style scoped>\n",
              "    .dataframe tbody tr th:only-of-type {\n",
              "        vertical-align: middle;\n",
              "    }\n",
              "\n",
              "    .dataframe tbody tr th {\n",
              "        vertical-align: top;\n",
              "    }\n",
              "\n",
              "    .dataframe thead th {\n",
              "        text-align: right;\n",
              "    }\n",
              "</style>\n",
              "<table border=\"1\" class=\"dataframe\">\n",
              "  <thead>\n",
              "    <tr style=\"text-align: right;\">\n",
              "      <th></th>\n",
              "      <th>id</th>\n",
              "      <th>gender</th>\n",
              "      <th>age</th>\n",
              "      <th>hypertension</th>\n",
              "      <th>heart-disease</th>\n",
              "      <th>ever-married</th>\n",
              "      <th>work-type</th>\n",
              "      <th>Residence-type</th>\n",
              "      <th>avg-glucose-level</th>\n",
              "      <th>bmi</th>\n",
              "      <th>smoking-status</th>\n",
              "      <th>stroke</th>\n",
              "    </tr>\n",
              "  </thead>\n",
              "  <tbody>\n",
              "    <tr>\n",
              "      <th>0</th>\n",
              "      <td>9046</td>\n",
              "      <td>Male</td>\n",
              "      <td>67.0</td>\n",
              "      <td>0</td>\n",
              "      <td>1</td>\n",
              "      <td>Yes</td>\n",
              "      <td>Private</td>\n",
              "      <td>Urban</td>\n",
              "      <td>228.69</td>\n",
              "      <td>36.6</td>\n",
              "      <td>formerly smoked</td>\n",
              "      <td>1</td>\n",
              "    </tr>\n",
              "    <tr>\n",
              "      <th>1</th>\n",
              "      <td>51676</td>\n",
              "      <td>Female</td>\n",
              "      <td>61.0</td>\n",
              "      <td>0</td>\n",
              "      <td>0</td>\n",
              "      <td>Yes</td>\n",
              "      <td>Self-employed</td>\n",
              "      <td>Rural</td>\n",
              "      <td>202.21</td>\n",
              "      <td>NaN</td>\n",
              "      <td>never smoked</td>\n",
              "      <td>1</td>\n",
              "    </tr>\n",
              "    <tr>\n",
              "      <th>2</th>\n",
              "      <td>31112</td>\n",
              "      <td>Male</td>\n",
              "      <td>80.0</td>\n",
              "      <td>0</td>\n",
              "      <td>1</td>\n",
              "      <td>Yes</td>\n",
              "      <td>Private</td>\n",
              "      <td>Rural</td>\n",
              "      <td>105.92</td>\n",
              "      <td>32.5</td>\n",
              "      <td>never smoked</td>\n",
              "      <td>1</td>\n",
              "    </tr>\n",
              "    <tr>\n",
              "      <th>3</th>\n",
              "      <td>60182</td>\n",
              "      <td>Female</td>\n",
              "      <td>49.0</td>\n",
              "      <td>0</td>\n",
              "      <td>0</td>\n",
              "      <td>Yes</td>\n",
              "      <td>Private</td>\n",
              "      <td>Urban</td>\n",
              "      <td>171.23</td>\n",
              "      <td>34.4</td>\n",
              "      <td>smokes</td>\n",
              "      <td>1</td>\n",
              "    </tr>\n",
              "    <tr>\n",
              "      <th>4</th>\n",
              "      <td>1665</td>\n",
              "      <td>Female</td>\n",
              "      <td>79.0</td>\n",
              "      <td>1</td>\n",
              "      <td>0</td>\n",
              "      <td>Yes</td>\n",
              "      <td>Self-employed</td>\n",
              "      <td>Rural</td>\n",
              "      <td>174.12</td>\n",
              "      <td>24.0</td>\n",
              "      <td>never smoked</td>\n",
              "      <td>1</td>\n",
              "    </tr>\n",
              "  </tbody>\n",
              "</table>\n",
              "</div>\n",
              "    <div class=\"colab-df-buttons\">\n",
              "\n",
              "  <div class=\"colab-df-container\">\n",
              "    <button class=\"colab-df-convert\" onclick=\"convertToInteractive('df-48fdb238-41b4-4e8a-8a8c-e9e9dad5be1a')\"\n",
              "            title=\"Convert this dataframe to an interactive table.\"\n",
              "            style=\"display:none;\">\n",
              "\n",
              "  <svg xmlns=\"http://www.w3.org/2000/svg\" height=\"24px\" viewBox=\"0 -960 960 960\">\n",
              "    <path d=\"M120-120v-720h720v720H120Zm60-500h600v-160H180v160Zm220 220h160v-160H400v160Zm0 220h160v-160H400v160ZM180-400h160v-160H180v160Zm440 0h160v-160H620v160ZM180-180h160v-160H180v160Zm440 0h160v-160H620v160Z\"/>\n",
              "  </svg>\n",
              "    </button>\n",
              "\n",
              "  <style>\n",
              "    .colab-df-container {\n",
              "      display:flex;\n",
              "      gap: 12px;\n",
              "    }\n",
              "\n",
              "    .colab-df-convert {\n",
              "      background-color: #E8F0FE;\n",
              "      border: none;\n",
              "      border-radius: 50%;\n",
              "      cursor: pointer;\n",
              "      display: none;\n",
              "      fill: #1967D2;\n",
              "      height: 32px;\n",
              "      padding: 0 0 0 0;\n",
              "      width: 32px;\n",
              "    }\n",
              "\n",
              "    .colab-df-convert:hover {\n",
              "      background-color: #E2EBFA;\n",
              "      box-shadow: 0px 1px 2px rgba(60, 64, 67, 0.3), 0px 1px 3px 1px rgba(60, 64, 67, 0.15);\n",
              "      fill: #174EA6;\n",
              "    }\n",
              "\n",
              "    .colab-df-buttons div {\n",
              "      margin-bottom: 4px;\n",
              "    }\n",
              "\n",
              "    [theme=dark] .colab-df-convert {\n",
              "      background-color: #3B4455;\n",
              "      fill: #D2E3FC;\n",
              "    }\n",
              "\n",
              "    [theme=dark] .colab-df-convert:hover {\n",
              "      background-color: #434B5C;\n",
              "      box-shadow: 0px 1px 3px 1px rgba(0, 0, 0, 0.15);\n",
              "      filter: drop-shadow(0px 1px 2px rgba(0, 0, 0, 0.3));\n",
              "      fill: #FFFFFF;\n",
              "    }\n",
              "  </style>\n",
              "\n",
              "    <script>\n",
              "      const buttonEl =\n",
              "        document.querySelector('#df-48fdb238-41b4-4e8a-8a8c-e9e9dad5be1a button.colab-df-convert');\n",
              "      buttonEl.style.display =\n",
              "        google.colab.kernel.accessAllowed ? 'block' : 'none';\n",
              "\n",
              "      async function convertToInteractive(key) {\n",
              "        const element = document.querySelector('#df-48fdb238-41b4-4e8a-8a8c-e9e9dad5be1a');\n",
              "        const dataTable =\n",
              "          await google.colab.kernel.invokeFunction('convertToInteractive',\n",
              "                                                    [key], {});\n",
              "        if (!dataTable) return;\n",
              "\n",
              "        const docLinkHtml = 'Like what you see? Visit the ' +\n",
              "          '<a target=\"_blank\" href=https://colab.research.google.com/notebooks/data_table.ipynb>data table notebook</a>'\n",
              "          + ' to learn more about interactive tables.';\n",
              "        element.innerHTML = '';\n",
              "        dataTable['output_type'] = 'display_data';\n",
              "        await google.colab.output.renderOutput(dataTable, element);\n",
              "        const docLink = document.createElement('div');\n",
              "        docLink.innerHTML = docLinkHtml;\n",
              "        element.appendChild(docLink);\n",
              "      }\n",
              "    </script>\n",
              "  </div>\n",
              "\n",
              "\n",
              "<div id=\"df-9cab9fe8-e39f-4f75-b920-4fe9905bbb05\">\n",
              "  <button class=\"colab-df-quickchart\" onclick=\"quickchart('df-9cab9fe8-e39f-4f75-b920-4fe9905bbb05')\"\n",
              "            title=\"Suggest charts\"\n",
              "            style=\"display:none;\">\n",
              "\n",
              "<svg xmlns=\"http://www.w3.org/2000/svg\" height=\"24px\"viewBox=\"0 0 24 24\"\n",
              "     width=\"24px\">\n",
              "    <g>\n",
              "        <path d=\"M19 3H5c-1.1 0-2 .9-2 2v14c0 1.1.9 2 2 2h14c1.1 0 2-.9 2-2V5c0-1.1-.9-2-2-2zM9 17H7v-7h2v7zm4 0h-2V7h2v10zm4 0h-2v-4h2v4z\"/>\n",
              "    </g>\n",
              "</svg>\n",
              "  </button>\n",
              "\n",
              "<style>\n",
              "  .colab-df-quickchart {\n",
              "      --bg-color: #E8F0FE;\n",
              "      --fill-color: #1967D2;\n",
              "      --hover-bg-color: #E2EBFA;\n",
              "      --hover-fill-color: #174EA6;\n",
              "      --disabled-fill-color: #AAA;\n",
              "      --disabled-bg-color: #DDD;\n",
              "  }\n",
              "\n",
              "  [theme=dark] .colab-df-quickchart {\n",
              "      --bg-color: #3B4455;\n",
              "      --fill-color: #D2E3FC;\n",
              "      --hover-bg-color: #434B5C;\n",
              "      --hover-fill-color: #FFFFFF;\n",
              "      --disabled-bg-color: #3B4455;\n",
              "      --disabled-fill-color: #666;\n",
              "  }\n",
              "\n",
              "  .colab-df-quickchart {\n",
              "    background-color: var(--bg-color);\n",
              "    border: none;\n",
              "    border-radius: 50%;\n",
              "    cursor: pointer;\n",
              "    display: none;\n",
              "    fill: var(--fill-color);\n",
              "    height: 32px;\n",
              "    padding: 0;\n",
              "    width: 32px;\n",
              "  }\n",
              "\n",
              "  .colab-df-quickchart:hover {\n",
              "    background-color: var(--hover-bg-color);\n",
              "    box-shadow: 0 1px 2px rgba(60, 64, 67, 0.3), 0 1px 3px 1px rgba(60, 64, 67, 0.15);\n",
              "    fill: var(--button-hover-fill-color);\n",
              "  }\n",
              "\n",
              "  .colab-df-quickchart-complete:disabled,\n",
              "  .colab-df-quickchart-complete:disabled:hover {\n",
              "    background-color: var(--disabled-bg-color);\n",
              "    fill: var(--disabled-fill-color);\n",
              "    box-shadow: none;\n",
              "  }\n",
              "\n",
              "  .colab-df-spinner {\n",
              "    border: 2px solid var(--fill-color);\n",
              "    border-color: transparent;\n",
              "    border-bottom-color: var(--fill-color);\n",
              "    animation:\n",
              "      spin 1s steps(1) infinite;\n",
              "  }\n",
              "\n",
              "  @keyframes spin {\n",
              "    0% {\n",
              "      border-color: transparent;\n",
              "      border-bottom-color: var(--fill-color);\n",
              "      border-left-color: var(--fill-color);\n",
              "    }\n",
              "    20% {\n",
              "      border-color: transparent;\n",
              "      border-left-color: var(--fill-color);\n",
              "      border-top-color: var(--fill-color);\n",
              "    }\n",
              "    30% {\n",
              "      border-color: transparent;\n",
              "      border-left-color: var(--fill-color);\n",
              "      border-top-color: var(--fill-color);\n",
              "      border-right-color: var(--fill-color);\n",
              "    }\n",
              "    40% {\n",
              "      border-color: transparent;\n",
              "      border-right-color: var(--fill-color);\n",
              "      border-top-color: var(--fill-color);\n",
              "    }\n",
              "    60% {\n",
              "      border-color: transparent;\n",
              "      border-right-color: var(--fill-color);\n",
              "    }\n",
              "    80% {\n",
              "      border-color: transparent;\n",
              "      border-right-color: var(--fill-color);\n",
              "      border-bottom-color: var(--fill-color);\n",
              "    }\n",
              "    90% {\n",
              "      border-color: transparent;\n",
              "      border-bottom-color: var(--fill-color);\n",
              "    }\n",
              "  }\n",
              "</style>\n",
              "\n",
              "  <script>\n",
              "    async function quickchart(key) {\n",
              "      const quickchartButtonEl =\n",
              "        document.querySelector('#' + key + ' button');\n",
              "      quickchartButtonEl.disabled = true;  // To prevent multiple clicks.\n",
              "      quickchartButtonEl.classList.add('colab-df-spinner');\n",
              "      try {\n",
              "        const charts = await google.colab.kernel.invokeFunction(\n",
              "            'suggestCharts', [key], {});\n",
              "      } catch (error) {\n",
              "        console.error('Error during call to suggestCharts:', error);\n",
              "      }\n",
              "      quickchartButtonEl.classList.remove('colab-df-spinner');\n",
              "      quickchartButtonEl.classList.add('colab-df-quickchart-complete');\n",
              "    }\n",
              "    (() => {\n",
              "      let quickchartButtonEl =\n",
              "        document.querySelector('#df-9cab9fe8-e39f-4f75-b920-4fe9905bbb05 button');\n",
              "      quickchartButtonEl.style.display =\n",
              "        google.colab.kernel.accessAllowed ? 'block' : 'none';\n",
              "    })();\n",
              "  </script>\n",
              "</div>\n",
              "\n",
              "    </div>\n",
              "  </div>\n"
            ],
            "application/vnd.google.colaboratory.intrinsic+json": {
              "type": "dataframe",
              "variable_name": "df",
              "summary": "{\n  \"name\": \"df\",\n  \"rows\": 5110,\n  \"fields\": [\n    {\n      \"column\": \"id\",\n      \"properties\": {\n        \"dtype\": \"number\",\n        \"std\": 21161,\n        \"min\": 67,\n        \"max\": 72940,\n        \"num_unique_values\": 5110,\n        \"samples\": [\n          40041,\n          55244,\n          70992\n        ],\n        \"semantic_type\": \"\",\n        \"description\": \"\"\n      }\n    },\n    {\n      \"column\": \"gender\",\n      \"properties\": {\n        \"dtype\": \"category\",\n        \"num_unique_values\": 3,\n        \"samples\": [\n          \"Male\",\n          \"Female\",\n          \"Other\"\n        ],\n        \"semantic_type\": \"\",\n        \"description\": \"\"\n      }\n    },\n    {\n      \"column\": \"age\",\n      \"properties\": {\n        \"dtype\": \"number\",\n        \"std\": 22.61264672311349,\n        \"min\": 0.08,\n        \"max\": 82.0,\n        \"num_unique_values\": 104,\n        \"samples\": [\n          45.0,\n          24.0,\n          33.0\n        ],\n        \"semantic_type\": \"\",\n        \"description\": \"\"\n      }\n    },\n    {\n      \"column\": \"hypertension\",\n      \"properties\": {\n        \"dtype\": \"number\",\n        \"std\": 0,\n        \"min\": 0,\n        \"max\": 1,\n        \"num_unique_values\": 2,\n        \"samples\": [\n          1,\n          0\n        ],\n        \"semantic_type\": \"\",\n        \"description\": \"\"\n      }\n    },\n    {\n      \"column\": \"heart-disease\",\n      \"properties\": {\n        \"dtype\": \"number\",\n        \"std\": 0,\n        \"min\": 0,\n        \"max\": 1,\n        \"num_unique_values\": 2,\n        \"samples\": [\n          0,\n          1\n        ],\n        \"semantic_type\": \"\",\n        \"description\": \"\"\n      }\n    },\n    {\n      \"column\": \"ever-married\",\n      \"properties\": {\n        \"dtype\": \"category\",\n        \"num_unique_values\": 2,\n        \"samples\": [\n          \"No\",\n          \"Yes\"\n        ],\n        \"semantic_type\": \"\",\n        \"description\": \"\"\n      }\n    },\n    {\n      \"column\": \"work-type\",\n      \"properties\": {\n        \"dtype\": \"category\",\n        \"num_unique_values\": 5,\n        \"samples\": [\n          \"Self-employed\",\n          \"Never_worked\"\n        ],\n        \"semantic_type\": \"\",\n        \"description\": \"\"\n      }\n    },\n    {\n      \"column\": \"Residence-type\",\n      \"properties\": {\n        \"dtype\": \"category\",\n        \"num_unique_values\": 2,\n        \"samples\": [\n          \"Rural\",\n          \"Urban\"\n        ],\n        \"semantic_type\": \"\",\n        \"description\": \"\"\n      }\n    },\n    {\n      \"column\": \"avg-glucose-level\",\n      \"properties\": {\n        \"dtype\": \"number\",\n        \"std\": 45.28356015058198,\n        \"min\": 55.12,\n        \"max\": 271.74,\n        \"num_unique_values\": 3979,\n        \"samples\": [\n          178.29,\n          156.69\n        ],\n        \"semantic_type\": \"\",\n        \"description\": \"\"\n      }\n    },\n    {\n      \"column\": \"bmi\",\n      \"properties\": {\n        \"dtype\": \"number\",\n        \"std\": 7.854066729680164,\n        \"min\": 10.3,\n        \"max\": 97.6,\n        \"num_unique_values\": 418,\n        \"samples\": [\n          49.5,\n          18.5\n        ],\n        \"semantic_type\": \"\",\n        \"description\": \"\"\n      }\n    },\n    {\n      \"column\": \"smoking-status\",\n      \"properties\": {\n        \"dtype\": \"category\",\n        \"num_unique_values\": 4,\n        \"samples\": [\n          \"never smoked\",\n          \"Unknown\"\n        ],\n        \"semantic_type\": \"\",\n        \"description\": \"\"\n      }\n    },\n    {\n      \"column\": \"stroke\",\n      \"properties\": {\n        \"dtype\": \"number\",\n        \"std\": 0,\n        \"min\": 0,\n        \"max\": 1,\n        \"num_unique_values\": 2,\n        \"samples\": [\n          0,\n          1\n        ],\n        \"semantic_type\": \"\",\n        \"description\": \"\"\n      }\n    }\n  ]\n}"
            }
          },
          "metadata": {},
          "execution_count": 4
        }
      ]
    },
    {
      "cell_type": "code",
      "source": [
        "df.drop('id', axis=1, inplace=True)"
      ],
      "metadata": {
        "id": "oUJ_OP1pzJUK"
      },
      "execution_count": 5,
      "outputs": []
    },
    {
      "cell_type": "code",
      "source": [
        "df.info()"
      ],
      "metadata": {
        "colab": {
          "base_uri": "https://localhost:8080/"
        },
        "id": "K7GfXpIozNmQ",
        "outputId": "64501efe-28eb-4c90-d238-a136c142d900"
      },
      "execution_count": 6,
      "outputs": [
        {
          "output_type": "stream",
          "name": "stdout",
          "text": [
            "<class 'pandas.core.frame.DataFrame'>\n",
            "RangeIndex: 5110 entries, 0 to 5109\n",
            "Data columns (total 11 columns):\n",
            " #   Column             Non-Null Count  Dtype  \n",
            "---  ------             --------------  -----  \n",
            " 0   gender             5110 non-null   object \n",
            " 1   age                5110 non-null   float64\n",
            " 2   hypertension       5110 non-null   int64  \n",
            " 3   heart-disease      5110 non-null   int64  \n",
            " 4   ever-married       5110 non-null   object \n",
            " 5   work-type          5110 non-null   object \n",
            " 6   Residence-type     5110 non-null   object \n",
            " 7   avg-glucose-level  5110 non-null   float64\n",
            " 8   bmi                4909 non-null   float64\n",
            " 9   smoking-status     5110 non-null   object \n",
            " 10  stroke             5110 non-null   int64  \n",
            "dtypes: float64(3), int64(3), object(5)\n",
            "memory usage: 439.3+ KB\n"
          ]
        }
      ]
    },
    {
      "cell_type": "code",
      "source": [
        "df.isna().sum()"
      ],
      "metadata": {
        "colab": {
          "base_uri": "https://localhost:8080/",
          "height": 429
        },
        "id": "raw_WR4tzRsg",
        "outputId": "e7c7dd8a-cc1f-4b6d-c617-1a6962d2a86a"
      },
      "execution_count": 7,
      "outputs": [
        {
          "output_type": "execute_result",
          "data": {
            "text/plain": [
              "gender                 0\n",
              "age                    0\n",
              "hypertension           0\n",
              "heart-disease          0\n",
              "ever-married           0\n",
              "work-type              0\n",
              "Residence-type         0\n",
              "avg-glucose-level      0\n",
              "bmi                  201\n",
              "smoking-status         0\n",
              "stroke                 0\n",
              "dtype: int64"
            ],
            "text/html": [
              "<table border=\"1\" class=\"dataframe\">\n",
              "  <thead>\n",
              "    <tr style=\"text-align: right;\">\n",
              "      <th></th>\n",
              "      <th>0</th>\n",
              "    </tr>\n",
              "  </thead>\n",
              "  <tbody>\n",
              "    <tr>\n",
              "      <th>gender</th>\n",
              "      <td>0</td>\n",
              "    </tr>\n",
              "    <tr>\n",
              "      <th>age</th>\n",
              "      <td>0</td>\n",
              "    </tr>\n",
              "    <tr>\n",
              "      <th>hypertension</th>\n",
              "      <td>0</td>\n",
              "    </tr>\n",
              "    <tr>\n",
              "      <th>heart-disease</th>\n",
              "      <td>0</td>\n",
              "    </tr>\n",
              "    <tr>\n",
              "      <th>ever-married</th>\n",
              "      <td>0</td>\n",
              "    </tr>\n",
              "    <tr>\n",
              "      <th>work-type</th>\n",
              "      <td>0</td>\n",
              "    </tr>\n",
              "    <tr>\n",
              "      <th>Residence-type</th>\n",
              "      <td>0</td>\n",
              "    </tr>\n",
              "    <tr>\n",
              "      <th>avg-glucose-level</th>\n",
              "      <td>0</td>\n",
              "    </tr>\n",
              "    <tr>\n",
              "      <th>bmi</th>\n",
              "      <td>201</td>\n",
              "    </tr>\n",
              "    <tr>\n",
              "      <th>smoking-status</th>\n",
              "      <td>0</td>\n",
              "    </tr>\n",
              "    <tr>\n",
              "      <th>stroke</th>\n",
              "      <td>0</td>\n",
              "    </tr>\n",
              "  </tbody>\n",
              "</table><br><label><b>dtype:</b> int64</label>"
            ]
          },
          "metadata": {},
          "execution_count": 7
        }
      ]
    },
    {
      "cell_type": "code",
      "source": [
        "df.dropna(inplace=True)"
      ],
      "metadata": {
        "id": "7Whn1MgmzUM6"
      },
      "execution_count": 8,
      "outputs": []
    },
    {
      "cell_type": "code",
      "source": [
        "df.isnull().sum()"
      ],
      "metadata": {
        "colab": {
          "base_uri": "https://localhost:8080/",
          "height": 429
        },
        "id": "J8sfLyX1zWcK",
        "outputId": "6d756a06-671e-4863-a35b-e94d7f96591a"
      },
      "execution_count": 9,
      "outputs": [
        {
          "output_type": "execute_result",
          "data": {
            "text/plain": [
              "gender               0\n",
              "age                  0\n",
              "hypertension         0\n",
              "heart-disease        0\n",
              "ever-married         0\n",
              "work-type            0\n",
              "Residence-type       0\n",
              "avg-glucose-level    0\n",
              "bmi                  0\n",
              "smoking-status       0\n",
              "stroke               0\n",
              "dtype: int64"
            ],
            "text/html": [
              "<table border=\"1\" class=\"dataframe\">\n",
              "  <thead>\n",
              "    <tr style=\"text-align: right;\">\n",
              "      <th></th>\n",
              "      <th>0</th>\n",
              "    </tr>\n",
              "  </thead>\n",
              "  <tbody>\n",
              "    <tr>\n",
              "      <th>gender</th>\n",
              "      <td>0</td>\n",
              "    </tr>\n",
              "    <tr>\n",
              "      <th>age</th>\n",
              "      <td>0</td>\n",
              "    </tr>\n",
              "    <tr>\n",
              "      <th>hypertension</th>\n",
              "      <td>0</td>\n",
              "    </tr>\n",
              "    <tr>\n",
              "      <th>heart-disease</th>\n",
              "      <td>0</td>\n",
              "    </tr>\n",
              "    <tr>\n",
              "      <th>ever-married</th>\n",
              "      <td>0</td>\n",
              "    </tr>\n",
              "    <tr>\n",
              "      <th>work-type</th>\n",
              "      <td>0</td>\n",
              "    </tr>\n",
              "    <tr>\n",
              "      <th>Residence-type</th>\n",
              "      <td>0</td>\n",
              "    </tr>\n",
              "    <tr>\n",
              "      <th>avg-glucose-level</th>\n",
              "      <td>0</td>\n",
              "    </tr>\n",
              "    <tr>\n",
              "      <th>bmi</th>\n",
              "      <td>0</td>\n",
              "    </tr>\n",
              "    <tr>\n",
              "      <th>smoking-status</th>\n",
              "      <td>0</td>\n",
              "    </tr>\n",
              "    <tr>\n",
              "      <th>stroke</th>\n",
              "      <td>0</td>\n",
              "    </tr>\n",
              "  </tbody>\n",
              "</table><br><label><b>dtype:</b> int64</label>"
            ]
          },
          "metadata": {},
          "execution_count": 9
        }
      ]
    },
    {
      "cell_type": "code",
      "source": [
        "df = df[df['age'] >= 18]\n",
        "df.info()"
      ],
      "metadata": {
        "colab": {
          "base_uri": "https://localhost:8080/"
        },
        "id": "09tdkMnszag_",
        "outputId": "5475b5ac-c2d9-43e2-f0e3-4dcade11baa6"
      },
      "execution_count": 10,
      "outputs": [
        {
          "output_type": "stream",
          "name": "stdout",
          "text": [
            "<class 'pandas.core.frame.DataFrame'>\n",
            "Index: 4073 entries, 0 to 5109\n",
            "Data columns (total 11 columns):\n",
            " #   Column             Non-Null Count  Dtype  \n",
            "---  ------             --------------  -----  \n",
            " 0   gender             4073 non-null   object \n",
            " 1   age                4073 non-null   float64\n",
            " 2   hypertension       4073 non-null   int64  \n",
            " 3   heart-disease      4073 non-null   int64  \n",
            " 4   ever-married       4073 non-null   object \n",
            " 5   work-type          4073 non-null   object \n",
            " 6   Residence-type     4073 non-null   object \n",
            " 7   avg-glucose-level  4073 non-null   float64\n",
            " 8   bmi                4073 non-null   float64\n",
            " 9   smoking-status     4073 non-null   object \n",
            " 10  stroke             4073 non-null   int64  \n",
            "dtypes: float64(3), int64(3), object(5)\n",
            "memory usage: 381.8+ KB\n"
          ]
        }
      ]
    },
    {
      "cell_type": "code",
      "source": [
        "df = df[df['smoking-status'] != 'Unknown']\n",
        "df.info()"
      ],
      "metadata": {
        "colab": {
          "base_uri": "https://localhost:8080/"
        },
        "id": "EoBAT7BXzdGY",
        "outputId": "ffada5fa-a50c-4f96-bba0-8d10408f8fa8"
      },
      "execution_count": 11,
      "outputs": [
        {
          "output_type": "stream",
          "name": "stdout",
          "text": [
            "<class 'pandas.core.frame.DataFrame'>\n",
            "Index: 3256 entries, 0 to 5108\n",
            "Data columns (total 11 columns):\n",
            " #   Column             Non-Null Count  Dtype  \n",
            "---  ------             --------------  -----  \n",
            " 0   gender             3256 non-null   object \n",
            " 1   age                3256 non-null   float64\n",
            " 2   hypertension       3256 non-null   int64  \n",
            " 3   heart-disease      3256 non-null   int64  \n",
            " 4   ever-married       3256 non-null   object \n",
            " 5   work-type          3256 non-null   object \n",
            " 6   Residence-type     3256 non-null   object \n",
            " 7   avg-glucose-level  3256 non-null   float64\n",
            " 8   bmi                3256 non-null   float64\n",
            " 9   smoking-status     3256 non-null   object \n",
            " 10  stroke             3256 non-null   int64  \n",
            "dtypes: float64(3), int64(3), object(5)\n",
            "memory usage: 305.2+ KB\n"
          ]
        }
      ]
    },
    {
      "cell_type": "code",
      "source": [
        "df = df[df['gender'] != 'Other']\n",
        "df.info()"
      ],
      "metadata": {
        "colab": {
          "base_uri": "https://localhost:8080/"
        },
        "id": "zWG7JyxxzfXb",
        "outputId": "5d746096-9ba2-4ed4-c3e9-c09132dfd24d"
      },
      "execution_count": 12,
      "outputs": [
        {
          "output_type": "stream",
          "name": "stdout",
          "text": [
            "<class 'pandas.core.frame.DataFrame'>\n",
            "Index: 3255 entries, 0 to 5108\n",
            "Data columns (total 11 columns):\n",
            " #   Column             Non-Null Count  Dtype  \n",
            "---  ------             --------------  -----  \n",
            " 0   gender             3255 non-null   object \n",
            " 1   age                3255 non-null   float64\n",
            " 2   hypertension       3255 non-null   int64  \n",
            " 3   heart-disease      3255 non-null   int64  \n",
            " 4   ever-married       3255 non-null   object \n",
            " 5   work-type          3255 non-null   object \n",
            " 6   Residence-type     3255 non-null   object \n",
            " 7   avg-glucose-level  3255 non-null   float64\n",
            " 8   bmi                3255 non-null   float64\n",
            " 9   smoking-status     3255 non-null   object \n",
            " 10  stroke             3255 non-null   int64  \n",
            "dtypes: float64(3), int64(3), object(5)\n",
            "memory usage: 305.2+ KB\n"
          ]
        }
      ]
    },
    {
      "cell_type": "code",
      "source": [
        "df.drop_duplicates(inplace=True)\n",
        "df.info()"
      ],
      "metadata": {
        "colab": {
          "base_uri": "https://localhost:8080/"
        },
        "id": "u1AiUz3Jzhwc",
        "outputId": "40fefa27-c8e5-4299-9c92-85218d855740"
      },
      "execution_count": 13,
      "outputs": [
        {
          "output_type": "stream",
          "name": "stdout",
          "text": [
            "<class 'pandas.core.frame.DataFrame'>\n",
            "Index: 3255 entries, 0 to 5108\n",
            "Data columns (total 11 columns):\n",
            " #   Column             Non-Null Count  Dtype  \n",
            "---  ------             --------------  -----  \n",
            " 0   gender             3255 non-null   object \n",
            " 1   age                3255 non-null   float64\n",
            " 2   hypertension       3255 non-null   int64  \n",
            " 3   heart-disease      3255 non-null   int64  \n",
            " 4   ever-married       3255 non-null   object \n",
            " 5   work-type          3255 non-null   object \n",
            " 6   Residence-type     3255 non-null   object \n",
            " 7   avg-glucose-level  3255 non-null   float64\n",
            " 8   bmi                3255 non-null   float64\n",
            " 9   smoking-status     3255 non-null   object \n",
            " 10  stroke             3255 non-null   int64  \n",
            "dtypes: float64(3), int64(3), object(5)\n",
            "memory usage: 305.2+ KB\n"
          ]
        }
      ]
    },
    {
      "cell_type": "code",
      "source": [
        "num_cols = ['age','bmi','avg-glucose-level']\n",
        "\n",
        "plt.figure(figsize=(15, 5))\n",
        "for i in range(3) :\n",
        "    plt.subplot(1,3,i+1)\n",
        "\n",
        "    sns.boxplot(x=df[num_cols[i]],color='#6DA59D')\n",
        "    plt.title(num_cols[i])\n",
        "plt.show()"
      ],
      "metadata": {
        "colab": {
          "base_uri": "https://localhost:8080/",
          "height": 361
        },
        "id": "r1LGnBNmzkdd",
        "outputId": "a5d36d74-3ffa-4a0d-97a7-d90928d76261"
      },
      "execution_count": 14,
      "outputs": [
        {
          "output_type": "display_data",
          "data": {
            "text/plain": [
              "<Figure size 1500x500 with 3 Axes>"
            ],
            "image/png": "[encoded data removed]"
          },
          "metadata": {}
        }
      ]
    },
    {
      "cell_type": "code",
      "source": [
        "df = df[df['bmi'] < 90]\n",
        "df.info()"
      ],
      "metadata": {
        "colab": {
          "base_uri": "https://localhost:8080/"
        },
        "id": "CXKI6RbJznFd",
        "outputId": "288e555b-346a-40c8-e568-cfebe04cc64c"
      },
      "execution_count": 15,
      "outputs": [
        {
          "output_type": "stream",
          "name": "stdout",
          "text": [
            "<class 'pandas.core.frame.DataFrame'>\n",
            "Index: 3254 entries, 0 to 5108\n",
            "Data columns (total 11 columns):\n",
            " #   Column             Non-Null Count  Dtype  \n",
            "---  ------             --------------  -----  \n",
            " 0   gender             3254 non-null   object \n",
            " 1   age                3254 non-null   float64\n",
            " 2   hypertension       3254 non-null   int64  \n",
            " 3   heart-disease      3254 non-null   int64  \n",
            " 4   ever-married       3254 non-null   object \n",
            " 5   work-type          3254 non-null   object \n",
            " 6   Residence-type     3254 non-null   object \n",
            " 7   avg-glucose-level  3254 non-null   float64\n",
            " 8   bmi                3254 non-null   float64\n",
            " 9   smoking-status     3254 non-null   object \n",
            " 10  stroke             3254 non-null   int64  \n",
            "dtypes: float64(3), int64(3), object(5)\n",
            "memory usage: 305.1+ KB\n"
          ]
        }
      ]
    },
    {
      "cell_type": "code",
      "source": [
        "stroke_count =df['stroke'].value_counts() # pandas serie, it contains the number of '1' (stroke) and the number of '0' (no stroke)\n",
        "print(\"Stroke percentage: {:.2f}%\".format(100 * (stroke_count[1] / (stroke_count[0] + stroke_count[1]))))"
      ],
      "metadata": {
        "colab": {
          "base_uri": "https://localhost:8080/"
        },
        "id": "YJVLxuPxzuT6",
        "outputId": "5171f405-f0b7-438d-a2b2-976d5819d54b"
      },
      "execution_count": 16,
      "outputs": [
        {
          "output_type": "stream",
          "name": "stdout",
          "text": [
            "Stroke percentage: 5.53%\n"
          ]
        }
      ]
    },
    {
      "cell_type": "code",
      "source": [
        "gender_count = df['gender'].value_counts()\n",
        "print('Number of males: ', gender_count['Male'])\n",
        "print('Number of females: ', gender_count['Female'])"
      ],
      "metadata": {
        "colab": {
          "base_uri": "https://localhost:8080/"
        },
        "id": "VIe4YWAlzx2A",
        "outputId": "948118a5-4fae-4974-9173-815c9c467f09"
      },
      "execution_count": 17,
      "outputs": [
        {
          "output_type": "stream",
          "name": "stdout",
          "text": [
            "Number of males:  1260\n",
            "Number of females:  1994\n"
          ]
        }
      ]
    },
    {
      "cell_type": "code",
      "source": [
        "hypertension_count =df['hypertension'].value_counts()\n",
        "print(\"Hypertension percentage: {:.2f}%\".format(100 *( hypertension_count[1]/(hypertension_count[0]+hypertension_count[1]))))"
      ],
      "metadata": {
        "colab": {
          "base_uri": "https://localhost:8080/"
        },
        "id": "Ye7W233Cz2gI",
        "outputId": "b878dd43-8187-4681-bc78-e84d06ed5c4f"
      },
      "execution_count": 18,
      "outputs": [
        {
          "output_type": "stream",
          "name": "stdout",
          "text": [
            "Hypertension percentage: 12.51%\n"
          ]
        }
      ]
    },
    {
      "cell_type": "code",
      "source": [
        "heart_disease_count =df['heart-disease'].value_counts()\n",
        "print(\"Hearth disease percentage: {:.2f}%\".format(100 * (heart_disease_count[1]/(heart_disease_count[0]+heart_disease_count[1]))))"
      ],
      "metadata": {
        "colab": {
          "base_uri": "https://localhost:8080/"
        },
        "id": "9VAbBsXrz54V",
        "outputId": "f11e5030-b380-4180-870e-b004830521c3"
      },
      "execution_count": 19,
      "outputs": [
        {
          "output_type": "stream",
          "name": "stdout",
          "text": [
            "Hearth disease percentage: 6.33%\n"
          ]
        }
      ]
    },
    {
      "cell_type": "code",
      "source": [
        "ever_married_count =df['ever-married'].value_counts()\n",
        "print(\"Married percentage: {:.2f}%\".format(100 * (ever_married_count[0]/(ever_married_count[0]+ever_married_count[1]))))"
      ],
      "metadata": {
        "colab": {
          "base_uri": "https://localhost:8080/"
        },
        "id": "F5H4h5-lz9Xj",
        "outputId": "9c8c3a45-750e-4dee-e793-c74a704daa85"
      },
      "execution_count": 20,
      "outputs": [
        {
          "output_type": "stream",
          "name": "stdout",
          "text": [
            "Married percentage: 79.84%\n"
          ]
        },
        {
          "output_type": "stream",
          "name": "stderr",
          "text": [
            "<ipython-input-20-b4262c1a1479>:2: FutureWarning: Series.__getitem__ treating keys as positions is deprecated. In a future version, integer keys will always be treated as labels (consistent with DataFrame behavior). To access a value by position, use `ser.iloc[pos]`\n",
            "  print(\"Married percentage: {:.2f}%\".format(100 * (ever_married_count[0]/(ever_married_count[0]+ever_married_count[1]))))\n"
          ]
        }
      ]
    },
    {
      "cell_type": "code",
      "source": [
        "work_type_count =df['work-type'].value_counts()\n",
        "print(\"Private percentage: {:.2f}%\".format(100 * (work_type_count[0]/(work_type_count[0]+work_type_count[1]+work_type_count[2]+work_type_count[3]))))\n",
        "print(\"Self-employed percentage: {:.2f}%\".format(100 * (work_type_count[1]/(work_type_count[0]+work_type_count[1]+work_type_count[2]+work_type_count[3]))))\n",
        "print(\"Gov percentage: {:.2f}%\".format(100 * (work_type_count[2]/(work_type_count[0]+work_type_count[1]+work_type_count[2]+work_type_count[3]))))\n",
        "print(\"Never Worked fraction: {:.1f}%\".format(100 * (work_type_count[3]/(work_type_count[0]+work_type_count[1]+work_type_count[2]+work_type_count[3]))))"
      ],
      "metadata": {
        "colab": {
          "base_uri": "https://localhost:8080/"
        },
        "id": "NXxnndg_0Bmt",
        "outputId": "174ef72c-3ca0-4eba-aaed-f4b7ef27fd88"
      },
      "execution_count": 21,
      "outputs": [
        {
          "output_type": "stream",
          "name": "stdout",
          "text": [
            "Private percentage: 65.03%\n",
            "Self-employed percentage: 19.21%\n",
            "Gov percentage: 15.67%\n",
            "Never Worked fraction: 0.1%\n"
          ]
        },
        {
          "output_type": "stream",
          "name": "stderr",
          "text": [
            "<ipython-input-21-c5ba8f636434>:2: FutureWarning: Series.__getitem__ treating keys as positions is deprecated. In a future version, integer keys will always be treated as labels (consistent with DataFrame behavior). To access a value by position, use `ser.iloc[pos]`\n",
            "  print(\"Private percentage: {:.2f}%\".format(100 * (work_type_count[0]/(work_type_count[0]+work_type_count[1]+work_type_count[2]+work_type_count[3]))))\n",
            "<ipython-input-21-c5ba8f636434>:3: FutureWarning: Series.__getitem__ treating keys as positions is deprecated. In a future version, integer keys will always be treated as labels (consistent with DataFrame behavior). To access a value by position, use `ser.iloc[pos]`\n",
            "  print(\"Self-employed percentage: {:.2f}%\".format(100 * (work_type_count[1]/(work_type_count[0]+work_type_count[1]+work_type_count[2]+work_type_count[3]))))\n",
            "<ipython-input-21-c5ba8f636434>:4: FutureWarning: Series.__getitem__ treating keys as positions is deprecated. In a future version, integer keys will always be treated as labels (consistent with DataFrame behavior). To access a value by position, use `ser.iloc[pos]`\n",
            "  print(\"Gov percentage: {:.2f}%\".format(100 * (work_type_count[2]/(work_type_count[0]+work_type_count[1]+work_type_count[2]+work_type_count[3]))))\n",
            "<ipython-input-21-c5ba8f636434>:5: FutureWarning: Series.__getitem__ treating keys as positions is deprecated. In a future version, integer keys will always be treated as labels (consistent with DataFrame behavior). To access a value by position, use `ser.iloc[pos]`\n",
            "  print(\"Never Worked fraction: {:.1f}%\".format(100 * (work_type_count[3]/(work_type_count[0]+work_type_count[1]+work_type_count[2]+work_type_count[3]))))\n"
          ]
        }
      ]
    },
    {
      "cell_type": "code",
      "source": [
        "residence_type_count =df['Residence-type'].value_counts()\n",
        "print(\"Urban percentage: {:.2f}%\".format(100 * (residence_type_count[0]/(residence_type_count[0]+residence_type_count[1]))))\n",
        "print(\"Rural pergentage: {:.2f}%\".format(100 * (residence_type_count[1]/(residence_type_count[0]+residence_type_count[1]))))"
      ],
      "metadata": {
        "colab": {
          "base_uri": "https://localhost:8080/"
        },
        "id": "Kyvi-6GA0FN8",
        "outputId": "3a31f770-af44-4d5c-9bbc-62a58017415a"
      },
      "execution_count": 22,
      "outputs": [
        {
          "output_type": "stream",
          "name": "stdout",
          "text": [
            "Urban percentage: 51.14%\n",
            "Rural pergentage: 48.86%\n"
          ]
        },
        {
          "output_type": "stream",
          "name": "stderr",
          "text": [
            "<ipython-input-22-d7e943eef3f3>:2: FutureWarning: Series.__getitem__ treating keys as positions is deprecated. In a future version, integer keys will always be treated as labels (consistent with DataFrame behavior). To access a value by position, use `ser.iloc[pos]`\n",
            "  print(\"Urban percentage: {:.2f}%\".format(100 * (residence_type_count[0]/(residence_type_count[0]+residence_type_count[1]))))\n",
            "<ipython-input-22-d7e943eef3f3>:3: FutureWarning: Series.__getitem__ treating keys as positions is deprecated. In a future version, integer keys will always be treated as labels (consistent with DataFrame behavior). To access a value by position, use `ser.iloc[pos]`\n",
            "  print(\"Rural pergentage: {:.2f}%\".format(100 * (residence_type_count[1]/(residence_type_count[0]+residence_type_count[1]))))\n"
          ]
        }
      ]
    },
    {
      "cell_type": "code",
      "source": [
        "smoking_status_count =df['smoking-status'].value_counts()\n",
        "print(\"Never Smoked fraction: {:.2f}%\".format(100 * (smoking_status_count[0]/(smoking_status_count[0]+smoking_status_count[1]+smoking_status_count[2]))))\n",
        "print(\"Formely Smoked fraction: {:.2f}%\".format(100 * (smoking_status_count[1]/(smoking_status_count[0]+smoking_status_count[1]+smoking_status_count[2]))))\n",
        "print(\"Smokes fraction: {:.2f}%\".format(100 * (smoking_status_count[2]/(smoking_status_count[0]+smoking_status_count[1]+smoking_status_count[2]))))"
      ],
      "metadata": {
        "colab": {
          "base_uri": "https://localhost:8080/"
        },
        "id": "csXZWGum0JM3",
        "outputId": "43bd48e3-e981-47e6-c41c-018e1ad77b21"
      },
      "execution_count": 23,
      "outputs": [
        {
          "output_type": "stream",
          "name": "stdout",
          "text": [
            "Never Smoked fraction: 52.64%\n",
            "Formely Smoked fraction: 24.98%\n",
            "Smokes fraction: 22.37%\n"
          ]
        },
        {
          "output_type": "stream",
          "name": "stderr",
          "text": [
            "<ipython-input-23-e67a66ef2d7a>:2: FutureWarning: Series.__getitem__ treating keys as positions is deprecated. In a future version, integer keys will always be treated as labels (consistent with DataFrame behavior). To access a value by position, use `ser.iloc[pos]`\n",
            "  print(\"Never Smoked fraction: {:.2f}%\".format(100 * (smoking_status_count[0]/(smoking_status_count[0]+smoking_status_count[1]+smoking_status_count[2]))))\n",
            "<ipython-input-23-e67a66ef2d7a>:3: FutureWarning: Series.__getitem__ treating keys as positions is deprecated. In a future version, integer keys will always be treated as labels (consistent with DataFrame behavior). To access a value by position, use `ser.iloc[pos]`\n",
            "  print(\"Formely Smoked fraction: {:.2f}%\".format(100 * (smoking_status_count[1]/(smoking_status_count[0]+smoking_status_count[1]+smoking_status_count[2]))))\n",
            "<ipython-input-23-e67a66ef2d7a>:4: FutureWarning: Series.__getitem__ treating keys as positions is deprecated. In a future version, integer keys will always be treated as labels (consistent with DataFrame behavior). To access a value by position, use `ser.iloc[pos]`\n",
            "  print(\"Smokes fraction: {:.2f}%\".format(100 * (smoking_status_count[2]/(smoking_status_count[0]+smoking_status_count[1]+smoking_status_count[2]))))\n"
          ]
        }
      ]
    },
    {
      "cell_type": "code",
      "source": [
        "df.info()"
      ],
      "metadata": {
        "colab": {
          "base_uri": "https://localhost:8080/"
        },
        "id": "EFfrDTd00OJx",
        "outputId": "3a32f486-9c70-4ecd-f3a1-09a28f9fbf28"
      },
      "execution_count": 24,
      "outputs": [
        {
          "output_type": "stream",
          "name": "stdout",
          "text": [
            "<class 'pandas.core.frame.DataFrame'>\n",
            "Index: 3254 entries, 0 to 5108\n",
            "Data columns (total 11 columns):\n",
            " #   Column             Non-Null Count  Dtype  \n",
            "---  ------             --------------  -----  \n",
            " 0   gender             3254 non-null   object \n",
            " 1   age                3254 non-null   float64\n",
            " 2   hypertension       3254 non-null   int64  \n",
            " 3   heart-disease      3254 non-null   int64  \n",
            " 4   ever-married       3254 non-null   object \n",
            " 5   work-type          3254 non-null   object \n",
            " 6   Residence-type     3254 non-null   object \n",
            " 7   avg-glucose-level  3254 non-null   float64\n",
            " 8   bmi                3254 non-null   float64\n",
            " 9   smoking-status     3254 non-null   object \n",
            " 10  stroke             3254 non-null   int64  \n",
            "dtypes: float64(3), int64(3), object(5)\n",
            "memory usage: 305.1+ KB\n"
          ]
        }
      ]
    },
    {
      "cell_type": "code",
      "source": [
        "df.head()"
      ],
      "metadata": {
        "colab": {
          "base_uri": "https://localhost:8080/",
          "height": 310
        },
        "id": "60cwUb-A0R-h",
        "outputId": "61df0912-800a-4043-86bb-5bae20cd3e25"
      },
      "execution_count": 25,
      "outputs": [
        {
          "output_type": "execute_result",
          "data": {
            "text/plain": [
              "   gender   age  hypertension  heart-disease ever-married      work-type  \\\n",
              "0    Male  67.0             0              1          Yes        Private   \n",
              "2    Male  80.0             0              1          Yes        Private   \n",
              "3  Female  49.0             0              0          Yes        Private   \n",
              "4  Female  79.0             1              0          Yes  Self-employed   \n",
              "5    Male  81.0             0              0          Yes        Private   \n",
              "\n",
              "  Residence-type  avg-glucose-level   bmi   smoking-status  stroke  \n",
              "0          Urban             228.69  36.6  formerly smoked       1  \n",
              "2          Rural             105.92  32.5     never smoked       1  \n",
              "3          Urban             171.23  34.4           smokes       1  \n",
              "4          Rural             174.12  24.0     never smoked       1  \n",
              "5          Urban             186.21  29.0  formerly smoked       1  "
            ],
            "text/html": [
              "\n",
              "  <div id=\"df-64b44cc4-716e-42e9-be91-511972890b7d\" class=\"colab-df-container\">\n",
              "    <div>\n",
              "<style scoped>\n",
              "    .dataframe tbody tr th:only-of-type {\n",
              "        vertical-align: middle;\n",
              "    }\n",
              "\n",
              "    .dataframe tbody tr th {\n",
              "        vertical-align: top;\n",
              "    }\n",
              "\n",
              "    .dataframe thead th {\n",
              "        text-align: right;\n",
              "    }\n",
              "</style>\n",
              "<table border=\"1\" class=\"dataframe\">\n",
              "  <thead>\n",
              "    <tr style=\"text-align: right;\">\n",
              "      <th></th>\n",
              "      <th>gender</th>\n",
              "      <th>age</th>\n",
              "      <th>hypertension</th>\n",
              "      <th>heart-disease</th>\n",
              "      <th>ever-married</th>\n",
              "      <th>work-type</th>\n",
              "      <th>Residence-type</th>\n",
              "      <th>avg-glucose-level</th>\n",
              "      <th>bmi</th>\n",
              "      <th>smoking-status</th>\n",
              "      <th>stroke</th>\n",
              "    </tr>\n",
              "  </thead>\n",
              "  <tbody>\n",
              "    <tr>\n",
              "      <th>0</th>\n",
              "      <td>Male</td>\n",
              "      <td>67.0</td>\n",
              "      <td>0</td>\n",
              "      <td>1</td>\n",
              "      <td>Yes</td>\n",
              "      <td>Private</td>\n",
              "      <td>Urban</td>\n",
              "      <td>228.69</td>\n",
              "      <td>36.6</td>\n",
              "      <td>formerly smoked</td>\n",
              "      <td>1</td>\n",
              "    </tr>\n",
              "    <tr>\n",
              "      <th>2</th>\n",
              "      <td>Male</td>\n",
              "      <td>80.0</td>\n",
              "      <td>0</td>\n",
              "      <td>1</td>\n",
              "      <td>Yes</td>\n",
              "      <td>Private</td>\n",
              "      <td>Rural</td>\n",
              "      <td>105.92</td>\n",
              "      <td>32.5</td>\n",
              "      <td>never smoked</td>\n",
              "      <td>1</td>\n",
              "    </tr>\n",
              "    <tr>\n",
              "      <th>3</th>\n",
              "      <td>Female</td>\n",
              "      <td>49.0</td>\n",
              "      <td>0</td>\n",
              "      <td>0</td>\n",
              "      <td>Yes</td>\n",
              "      <td>Private</td>\n",
              "      <td>Urban</td>\n",
              "      <td>171.23</td>\n",
              "      <td>34.4</td>\n",
              "      <td>smokes</td>\n",
              "      <td>1</td>\n",
              "    </tr>\n",
              "    <tr>\n",
              "      <th>4</th>\n",
              "      <td>Female</td>\n",
              "      <td>79.0</td>\n",
              "      <td>1</td>\n",
              "      <td>0</td>\n",
              "      <td>Yes</td>\n",
              "      <td>Self-employed</td>\n",
              "      <td>Rural</td>\n",
              "      <td>174.12</td>\n",
              "      <td>24.0</td>\n",
              "      <td>never smoked</td>\n",
              "      <td>1</td>\n",
              "    </tr>\n",
              "    <tr>\n",
              "      <th>5</th>\n",
              "      <td>Male</td>\n",
              "      <td>81.0</td>\n",
              "      <td>0</td>\n",
              "      <td>0</td>\n",
              "      <td>Yes</td>\n",
              "      <td>Private</td>\n",
              "      <td>Urban</td>\n",
              "      <td>186.21</td>\n",
              "      <td>29.0</td>\n",
              "      <td>formerly smoked</td>\n",
              "      <td>1</td>\n",
              "    </tr>\n",
              "  </tbody>\n",
              "</table>\n",
              "</div>\n",
              "    <div class=\"colab-df-buttons\">\n",
              "\n",
              "  <div class=\"colab-df-container\">\n",
              "    <button class=\"colab-df-convert\" onclick=\"convertToInteractive('df-64b44cc4-716e-42e9-be91-511972890b7d')\"\n",
              "            title=\"Convert this dataframe to an interactive table.\"\n",
              "            style=\"display:none;\">\n",
              "\n",
              "  <svg xmlns=\"http://www.w3.org/2000/svg\" height=\"24px\" viewBox=\"0 -960 960 960\">\n",
              "    <path d=\"M120-120v-720h720v720H120Zm60-500h600v-160H180v160Zm220 220h160v-160H400v160Zm0 220h160v-160H400v160ZM180-400h160v-160H180v160Zm440 0h160v-160H620v160ZM180-180h160v-160H180v160Zm440 0h160v-160H620v160Z\"/>\n",
              "  </svg>\n",
              "    </button>\n",
              "\n",
              "  <style>\n",
              "    .colab-df-container {\n",
              "      display:flex;\n",
              "      gap: 12px;\n",
              "    }\n",
              "\n",
              "    .colab-df-convert {\n",
              "      background-color: #E8F0FE;\n",
              "      border: none;\n",
              "      border-radius: 50%;\n",
              "      cursor: pointer;\n",
              "      display: none;\n",
              "      fill: #1967D2;\n",
              "      height: 32px;\n",
              "      padding: 0 0 0 0;\n",
              "      width: 32px;\n",
              "    }\n",
              "\n",
              "    .colab-df-convert:hover {\n",
              "      background-color: #E2EBFA;\n",
              "      box-shadow: 0px 1px 2px rgba(60, 64, 67, 0.3), 0px 1px 3px 1px rgba(60, 64, 67, 0.15);\n",
              "      fill: #174EA6;\n",
              "    }\n",
              "\n",
              "    .colab-df-buttons div {\n",
              "      margin-bottom: 4px;\n",
              "    }\n",
              "\n",
              "    [theme=dark] .colab-df-convert {\n",
              "      background-color: #3B4455;\n",
              "      fill: #D2E3FC;\n",
              "    }\n",
              "\n",
              "    [theme=dark] .colab-df-convert:hover {\n",
              "      background-color: #434B5C;\n",
              "      box-shadow: 0px 1px 3px 1px rgba(0, 0, 0, 0.15);\n",
              "      filter: drop-shadow(0px 1px 2px rgba(0, 0, 0, 0.3));\n",
              "      fill: #FFFFFF;\n",
              "    }\n",
              "  </style>\n",
              "\n",
              "    <script>\n",
              "      const buttonEl =\n",
              "        document.querySelector('#df-64b44cc4-716e-42e9-be91-511972890b7d button.colab-df-convert');\n",
              "      buttonEl.style.display =\n",
              "        google.colab.kernel.accessAllowed ? 'block' : 'none';\n",
              "\n",
              "      async function convertToInteractive(key) {\n",
              "        const element = document.querySelector('#df-64b44cc4-716e-42e9-be91-511972890b7d');\n",
              "        const dataTable =\n",
              "          await google.colab.kernel.invokeFunction('convertToInteractive',\n",
              "                                                    [key], {});\n",
              "        if (!dataTable) return;\n",
              "\n",
              "        const docLinkHtml = 'Like what you see? Visit the ' +\n",
              "          '<a target=\"_blank\" href=https://colab.research.google.com/notebooks/data_table.ipynb>data table notebook</a>'\n",
              "          + ' to learn more about interactive tables.';\n",
              "        element.innerHTML = '';\n",
              "        dataTable['output_type'] = 'display_data';\n",
              "        await google.colab.output.renderOutput(dataTable, element);\n",
              "        const docLink = document.createElement('div');\n",
              "        docLink.innerHTML = docLinkHtml;\n",
              "        element.appendChild(docLink);\n",
              "      }\n",
              "    </script>\n",
              "  </div>\n",
              "\n",
              "\n",
              "<div id=\"df-7c46d96f-b4d0-40dc-ade6-a69f2fd9414e\">\n",
              "  <button class=\"colab-df-quickchart\" onclick=\"quickchart('df-7c46d96f-b4d0-40dc-ade6-a69f2fd9414e')\"\n",
              "            title=\"Suggest charts\"\n",
              "            style=\"display:none;\">\n",
              "\n",
              "<svg xmlns=\"http://www.w3.org/2000/svg\" height=\"24px\"viewBox=\"0 0 24 24\"\n",
              "     width=\"24px\">\n",
              "    <g>\n",
              "        <path d=\"M19 3H5c-1.1 0-2 .9-2 2v14c0 1.1.9 2 2 2h14c1.1 0 2-.9 2-2V5c0-1.1-.9-2-2-2zM9 17H7v-7h2v7zm4 0h-2V7h2v10zm4 0h-2v-4h2v4z\"/>\n",
              "    </g>\n",
              "</svg>\n",
              "  </button>\n",
              "\n",
              "<style>\n",
              "  .colab-df-quickchart {\n",
              "      --bg-color: #E8F0FE;\n",
              "      --fill-color: #1967D2;\n",
              "      --hover-bg-color: #E2EBFA;\n",
              "      --hover-fill-color: #174EA6;\n",
              "      --disabled-fill-color: #AAA;\n",
              "      --disabled-bg-color: #DDD;\n",
              "  }\n",
              "\n",
              "  [theme=dark] .colab-df-quickchart {\n",
              "      --bg-color: #3B4455;\n",
              "      --fill-color: #D2E3FC;\n",
              "      --hover-bg-color: #434B5C;\n",
              "      --hover-fill-color: #FFFFFF;\n",
              "      --disabled-bg-color: #3B4455;\n",
              "      --disabled-fill-color: #666;\n",
              "  }\n",
              "\n",
              "  .colab-df-quickchart {\n",
              "    background-color: var(--bg-color);\n",
              "    border: none;\n",
              "    border-radius: 50%;\n",
              "    cursor: pointer;\n",
              "    display: none;\n",
              "    fill: var(--fill-color);\n",
              "    height: 32px;\n",
              "    padding: 0;\n",
              "    width: 32px;\n",
              "  }\n",
              "\n",
              "  .colab-df-quickchart:hover {\n",
              "    background-color: var(--hover-bg-color);\n",
              "    box-shadow: 0 1px 2px rgba(60, 64, 67, 0.3), 0 1px 3px 1px rgba(60, 64, 67, 0.15);\n",
              "    fill: var(--button-hover-fill-color);\n",
              "  }\n",
              "\n",
              "  .colab-df-quickchart-complete:disabled,\n",
              "  .colab-df-quickchart-complete:disabled:hover {\n",
              "    background-color: var(--disabled-bg-color);\n",
              "    fill: var(--disabled-fill-color);\n",
              "    box-shadow: none;\n",
              "  }\n",
              "\n",
              "  .colab-df-spinner {\n",
              "    border: 2px solid var(--fill-color);\n",
              "    border-color: transparent;\n",
              "    border-bottom-color: var(--fill-color);\n",
              "    animation:\n",
              "      spin 1s steps(1) infinite;\n",
              "  }\n",
              "\n",
              "  @keyframes spin {\n",
              "    0% {\n",
              "      border-color: transparent;\n",
              "      border-bottom-color: var(--fill-color);\n",
              "      border-left-color: var(--fill-color);\n",
              "    }\n",
              "    20% {\n",
              "      border-color: transparent;\n",
              "      border-left-color: var(--fill-color);\n",
              "      border-top-color: var(--fill-color);\n",
              "    }\n",
              "    30% {\n",
              "      border-color: transparent;\n",
              "      border-left-color: var(--fill-color);\n",
              "      border-top-color: var(--fill-color);\n",
              "      border-right-color: var(--fill-color);\n",
              "    }\n",
              "    40% {\n",
              "      border-color: transparent;\n",
              "      border-right-color: var(--fill-color);\n",
              "      border-top-color: var(--fill-color);\n",
              "    }\n",
              "    60% {\n",
              "      border-color: transparent;\n",
              "      border-right-color: var(--fill-color);\n",
              "    }\n",
              "    80% {\n",
              "      border-color: transparent;\n",
              "      border-right-color: var(--fill-color);\n",
              "      border-bottom-color: var(--fill-color);\n",
              "    }\n",
              "    90% {\n",
              "      border-color: transparent;\n",
              "      border-bottom-color: var(--fill-color);\n",
              "    }\n",
              "  }\n",
              "</style>\n",
              "\n",
              "  <script>\n",
              "    async function quickchart(key) {\n",
              "      const quickchartButtonEl =\n",
              "        document.querySelector('#' + key + ' button');\n",
              "      quickchartButtonEl.disabled = true;  // To prevent multiple clicks.\n",
              "      quickchartButtonEl.classList.add('colab-df-spinner');\n",
              "      try {\n",
              "        const charts = await google.colab.kernel.invokeFunction(\n",
              "            'suggestCharts', [key], {});\n",
              "      } catch (error) {\n",
              "        console.error('Error during call to suggestCharts:', error);\n",
              "      }\n",
              "      quickchartButtonEl.classList.remove('colab-df-spinner');\n",
              "      quickchartButtonEl.classList.add('colab-df-quickchart-complete');\n",
              "    }\n",
              "    (() => {\n",
              "      let quickchartButtonEl =\n",
              "        document.querySelector('#df-7c46d96f-b4d0-40dc-ade6-a69f2fd9414e button');\n",
              "      quickchartButtonEl.style.display =\n",
              "        google.colab.kernel.accessAllowed ? 'block' : 'none';\n",
              "    })();\n",
              "  </script>\n",
              "</div>\n",
              "\n",
              "    </div>\n",
              "  </div>\n"
            ],
            "application/vnd.google.colaboratory.intrinsic+json": {
              "type": "dataframe",
              "variable_name": "df",
              "summary": "{\n  \"name\": \"df\",\n  \"rows\": 3254,\n  \"fields\": [\n    {\n      \"column\": \"gender\",\n      \"properties\": {\n        \"dtype\": \"category\",\n        \"num_unique_values\": 2,\n        \"samples\": [\n          \"Female\",\n          \"Male\"\n        ],\n        \"semantic_type\": \"\",\n        \"description\": \"\"\n      }\n    },\n    {\n      \"column\": \"age\",\n      \"properties\": {\n        \"dtype\": \"number\",\n        \"std\": 17.57530225788687,\n        \"min\": 18.0,\n        \"max\": 82.0,\n        \"num_unique_values\": 65,\n        \"samples\": [\n          18.0,\n          31.0\n        ],\n        \"semantic_type\": \"\",\n        \"description\": \"\"\n      }\n    },\n    {\n      \"column\": \"hypertension\",\n      \"properties\": {\n        \"dtype\": \"number\",\n        \"std\": 0,\n        \"min\": 0,\n        \"max\": 1,\n        \"num_unique_values\": 2,\n        \"samples\": [\n          1,\n          0\n        ],\n        \"semantic_type\": \"\",\n        \"description\": \"\"\n      }\n    },\n    {\n      \"column\": \"heart-disease\",\n      \"properties\": {\n        \"dtype\": \"number\",\n        \"std\": 0,\n        \"min\": 0,\n        \"max\": 1,\n        \"num_unique_values\": 2,\n        \"samples\": [\n          0,\n          1\n        ],\n        \"semantic_type\": \"\",\n        \"description\": \"\"\n      }\n    },\n    {\n      \"column\": \"ever-married\",\n      \"properties\": {\n        \"dtype\": \"category\",\n        \"num_unique_values\": 2,\n        \"samples\": [\n          \"No\",\n          \"Yes\"\n        ],\n        \"semantic_type\": \"\",\n        \"description\": \"\"\n      }\n    },\n    {\n      \"column\": \"work-type\",\n      \"properties\": {\n        \"dtype\": \"category\",\n        \"num_unique_values\": 4,\n        \"samples\": [\n          \"Self-employed\",\n          \"Never_worked\"\n        ],\n        \"semantic_type\": \"\",\n        \"description\": \"\"\n      }\n    },\n    {\n      \"column\": \"Residence-type\",\n      \"properties\": {\n        \"dtype\": \"category\",\n        \"num_unique_values\": 2,\n        \"samples\": [\n          \"Rural\",\n          \"Urban\"\n        ],\n        \"semantic_type\": \"\",\n        \"description\": \"\"\n      }\n    },\n    {\n      \"column\": \"avg-glucose-level\",\n      \"properties\": {\n        \"dtype\": \"number\",\n        \"std\": 48.32948943697734,\n        \"min\": 55.12,\n        \"max\": 271.74,\n        \"num_unique_values\": 2788,\n        \"samples\": [\n          112.79,\n          138.51\n        ],\n        \"semantic_type\": \"\",\n        \"description\": \"\"\n      }\n    },\n    {\n      \"column\": \"bmi\",\n      \"properties\": {\n        \"dtype\": \"number\",\n        \"std\": 7.143181407181635,\n        \"min\": 11.5,\n        \"max\": 78.0,\n        \"num_unique_values\": 362,\n        \"samples\": [\n          29.2,\n          38.6\n        ],\n        \"semantic_type\": \"\",\n        \"description\": \"\"\n      }\n    },\n    {\n      \"column\": \"smoking-status\",\n      \"properties\": {\n        \"dtype\": \"category\",\n        \"num_unique_values\": 3,\n        \"samples\": [\n          \"formerly smoked\",\n          \"never smoked\"\n        ],\n        \"semantic_type\": \"\",\n        \"description\": \"\"\n      }\n    },\n    {\n      \"column\": \"stroke\",\n      \"properties\": {\n        \"dtype\": \"number\",\n        \"std\": 0,\n        \"min\": 0,\n        \"max\": 1,\n        \"num_unique_values\": 2,\n        \"samples\": [\n          0,\n          1\n        ],\n        \"semantic_type\": \"\",\n        \"description\": \"\"\n      }\n    }\n  ]\n}"
            }
          },
          "metadata": {},
          "execution_count": 25
        }
      ]
    },
    {
      "cell_type": "code",
      "source": [
        "from sklearn.model_selection import train_test_split\n",
        "\n",
        "features = np.array(df.columns[:-1])\n",
        "print(features)\n",
        "X = df.drop(['stroke'], axis = 1) # Set di caratteristiche\n",
        "y = df['stroke'] # Target da prevedere"
      ],
      "metadata": {
        "colab": {
          "base_uri": "https://localhost:8080/"
        },
        "id": "56h6QHZL0gZE",
        "outputId": "13e3664f-3367-4fe4-b1ea-40aa45cfa94d"
      },
      "execution_count": 26,
      "outputs": [
        {
          "output_type": "stream",
          "name": "stdout",
          "text": [
            "['gender' 'age' 'hypertension' 'heart-disease' 'ever-married' 'work-type'\n",
            " 'Residence-type' 'avg-glucose-level' 'bmi' 'smoking-status']\n"
          ]
        }
      ]
    },
    {
      "cell_type": "code",
      "source": [
        "y.value_counts()"
      ],
      "metadata": {
        "colab": {
          "base_uri": "https://localhost:8080/",
          "height": 178
        },
        "id": "prSZVsXL0mC3",
        "outputId": "97424443-6055-4bad-91a0-55d469cf38f2"
      },
      "execution_count": 27,
      "outputs": [
        {
          "output_type": "execute_result",
          "data": {
            "text/plain": [
              "stroke\n",
              "0    3074\n",
              "1     180\n",
              "Name: count, dtype: int64"
            ],
            "text/html": [
              "<table border=\"1\" class=\"dataframe\">\n",
              "  <thead>\n",
              "    <tr style=\"text-align: right;\">\n",
              "      <th></th>\n",
              "      <th>count</th>\n",
              "    </tr>\n",
              "    <tr>\n",
              "      <th>stroke</th>\n",
              "      <th></th>\n",
              "    </tr>\n",
              "  </thead>\n",
              "  <tbody>\n",
              "    <tr>\n",
              "      <th>0</th>\n",
              "      <td>3074</td>\n",
              "    </tr>\n",
              "    <tr>\n",
              "      <th>1</th>\n",
              "      <td>180</td>\n",
              "    </tr>\n",
              "  </tbody>\n",
              "</table><br><label><b>dtype:</b> int64</label>"
            ]
          },
          "metadata": {},
          "execution_count": 27
        }
      ]
    },
    {
      "cell_type": "code",
      "source": [
        "y.value_counts().plot.pie(autopct = \"%.2f\")"
      ],
      "metadata": {
        "colab": {
          "base_uri": "https://localhost:8080/",
          "height": 424
        },
        "id": "dvxryMPo0niT",
        "outputId": "82009e3a-f042-4b50-d171-26bfe6795931"
      },
      "execution_count": 28,
      "outputs": [
        {
          "output_type": "execute_result",
          "data": {
            "text/plain": [
              "<Axes: ylabel='count'>"
            ]
          },
          "metadata": {},
          "execution_count": 28
        },
        {
          "output_type": "display_data",
          "data": {
            "text/plain": [
              "<Figure size 640x480 with 1 Axes>"
            ],
            "image/png": "[encoded data removed]"
          },
          "metadata": {}
        }
      ]
    },
    {
      "cell_type": "code",
      "source": [
        "print(X)"
      ],
      "metadata": {
        "colab": {
          "base_uri": "https://localhost:8080/"
        },
        "id": "jpMjG4xu0sCD",
        "outputId": "19d63b3d-40ab-479d-f670-d4772e3e56c2"
      },
      "execution_count": 29,
      "outputs": [
        {
          "output_type": "stream",
          "name": "stdout",
          "text": [
            "      gender   age  hypertension  heart-disease ever-married      work-type  \\\n",
            "0       Male  67.0             0              1          Yes        Private   \n",
            "2       Male  80.0             0              1          Yes        Private   \n",
            "3     Female  49.0             0              0          Yes        Private   \n",
            "4     Female  79.0             1              0          Yes  Self-employed   \n",
            "5       Male  81.0             0              0          Yes        Private   \n",
            "...      ...   ...           ...            ...          ...            ...   \n",
            "5100    Male  82.0             1              0          Yes  Self-employed   \n",
            "5102  Female  57.0             0              0          Yes        Private   \n",
            "5106  Female  81.0             0              0          Yes  Self-employed   \n",
            "5107  Female  35.0             0              0          Yes  Self-employed   \n",
            "5108    Male  51.0             0              0          Yes        Private   \n",
            "\n",
            "     Residence-type  avg-glucose-level   bmi   smoking-status  \n",
            "0             Urban             228.69  36.6  formerly smoked  \n",
            "2             Rural             105.92  32.5     never smoked  \n",
            "3             Urban             171.23  34.4           smokes  \n",
            "4             Rural             174.12  24.0     never smoked  \n",
            "5             Urban             186.21  29.0  formerly smoked  \n",
            "...             ...                ...   ...              ...  \n",
            "5100          Rural              71.97  28.3     never smoked  \n",
            "5102          Rural              77.93  21.7     never smoked  \n",
            "5106          Urban             125.20  40.0     never smoked  \n",
            "5107          Rural              82.99  30.6     never smoked  \n",
            "5108          Rural             166.29  25.6  formerly smoked  \n",
            "\n",
            "[3254 rows x 10 columns]\n"
          ]
        }
      ]
    },
    {
      "cell_type": "code",
      "source": [
        "X_train, X_test, y_train, y_test = train_test_split(X, y, test_size = 0.2)"
      ],
      "metadata": {
        "id": "UDcFJRwA2NWw"
      },
      "execution_count": 30,
      "outputs": []
    },
    {
      "cell_type": "code",
      "source": [
        "print(X_train)"
      ],
      "metadata": {
        "colab": {
          "base_uri": "https://localhost:8080/"
        },
        "id": "Ha1Nze7N2Sna",
        "outputId": "13af2f34-0ce6-4c97-eb71-af412e8a7ae6"
      },
      "execution_count": 31,
      "outputs": [
        {
          "output_type": "stream",
          "name": "stdout",
          "text": [
            "      gender   age  hypertension  heart-disease ever-married      work-type  \\\n",
            "992     Male  82.0             0              1          Yes  Self-employed   \n",
            "3740  Female  26.0             0              0          Yes        Private   \n",
            "1122    Male  19.0             0              0           No        Private   \n",
            "5030    Male  21.0             0              0          Yes        Private   \n",
            "2571    Male  49.0             0              0          Yes        Private   \n",
            "...      ...   ...           ...            ...          ...            ...   \n",
            "688   Female  52.0             1              0          Yes        Private   \n",
            "2751  Female  48.0             0              0          Yes       Govt_job   \n",
            "3649  Female  75.0             0              0          Yes  Self-employed   \n",
            "711   Female  37.0             0              0           No  Self-employed   \n",
            "1227    Male  53.0             0              0          Yes  Self-employed   \n",
            "\n",
            "     Residence-type  avg-glucose-level   bmi   smoking-status  \n",
            "992           Rural              72.93  27.1  formerly smoked  \n",
            "3740          Urban              91.35  23.8     never smoked  \n",
            "1122          Rural              96.84  30.2  formerly smoked  \n",
            "5030          Rural              77.42  24.8     never smoked  \n",
            "2571          Urban              92.02  38.1     never smoked  \n",
            "...             ...                ...   ...              ...  \n",
            "688           Rural              81.03  32.6     never smoked  \n",
            "2751          Rural             255.17  38.1  formerly smoked  \n",
            "3649          Urban              96.95  41.4     never smoked  \n",
            "711           Rural             134.39  22.7  formerly smoked  \n",
            "1227          Urban              94.89  28.5     never smoked  \n",
            "\n",
            "[2603 rows x 10 columns]\n"
          ]
        }
      ]
    },
    {
      "cell_type": "code",
      "source": [
        "print(X_test)"
      ],
      "metadata": {
        "colab": {
          "base_uri": "https://localhost:8080/"
        },
        "id": "rc-f7MyO2j7A",
        "outputId": "4797618d-12be-4ddf-9cd2-809894fb75f0"
      },
      "execution_count": 32,
      "outputs": [
        {
          "output_type": "stream",
          "name": "stdout",
          "text": [
            "      gender   age  hypertension  heart-disease ever-married      work-type  \\\n",
            "955     Male  31.0             0              0          Yes        Private   \n",
            "3060    Male  49.0             0              0          Yes  Self-employed   \n",
            "2115  Female  49.0             0              0          Yes        Private   \n",
            "923     Male  71.0             0              1          Yes  Self-employed   \n",
            "3445  Female  41.0             0              0          Yes        Private   \n",
            "...      ...   ...           ...            ...          ...            ...   \n",
            "3703    Male  43.0             0              0          Yes       Govt_job   \n",
            "2537  Female  67.0             0              0          Yes  Self-employed   \n",
            "4117  Female  36.0             0              0          Yes       Govt_job   \n",
            "123     Male  56.0             1              0          Yes        Private   \n",
            "4748  Female  28.0             0              0          Yes       Govt_job   \n",
            "\n",
            "     Residence-type  avg-glucose-level   bmi   smoking-status  \n",
            "955           Urban              85.16  30.1           smokes  \n",
            "3060          Rural             215.81  58.1     never smoked  \n",
            "2115          Rural             114.76  24.7     never smoked  \n",
            "923           Rural             207.32  32.4           smokes  \n",
            "3445          Urban             103.79  28.6     never smoked  \n",
            "...             ...                ...   ...              ...  \n",
            "3703          Rural              83.78  21.6     never smoked  \n",
            "2537          Rural              80.18  22.9  formerly smoked  \n",
            "4117          Urban              66.47  26.9     never smoked  \n",
            "123           Rural             249.31  35.8     never smoked  \n",
            "4748          Rural              86.91  21.1  formerly smoked  \n",
            "\n",
            "[651 rows x 10 columns]\n"
          ]
        }
      ]
    },
    {
      "cell_type": "code",
      "source": [
        "gender = pd.get_dummies(X_train[\"gender\"], prefix=\"gender\")\n",
        "married = pd.get_dummies(X_train[\"ever-married\"], prefix=\"ever-married\")\n",
        "work = pd.get_dummies(X_train[\"work-type\"], prefix=\"work-type\")\n",
        "residence = pd.get_dummies(X_train[\"Residence-type\"], prefix=\"Residence-type\")\n",
        "smoking = pd.get_dummies(X_train[\"smoking-status\"], prefix=\"smoking-status\")\n",
        "\n",
        "# the features that are one hot encoded\n",
        "one_hot_features = [\"gender\", \"ever-married\", \"work-type\", \"Residence-type\", \"smoking-status\"]\n",
        "X_train.drop(columns=one_hot_features, inplace=True)\n",
        "\n",
        "\n",
        "X_tmp_0 = pd.concat([gender, married, work, residence, smoking], axis=1)\n",
        "dummies_columns = X_tmp_0.columns\n",
        "\n",
        "X_train = pd.concat([X_train, X_tmp_0], axis=1)"
      ],
      "metadata": {
        "id": "fX17vM1W20Rk"
      },
      "execution_count": 33,
      "outputs": []
    },
    {
      "cell_type": "code",
      "source": [
        "from sklearn.preprocessing import OrdinalEncoder\n",
        "\n",
        "features_to_encode = [\"gender_Female\", \"gender_Male\", \"ever-married_No\", \"ever-married_Yes\", \"work-type_Govt_job\", \"work-type_Never_worked\", \"work-type_Private\", \"work-type_Self-employed\",\"Residence-type_Rural\", \"Residence-type_Urban\",\"smoking-status_formerly smoked\", \"smoking-status_never smoked\", \"smoking-status_smokes\"]\n",
        "\n",
        "encoder = OrdinalEncoder()\n",
        "\n",
        "X_train[features_to_encode] = encoder.fit_transform(X_train[features_to_encode])"
      ],
      "metadata": {
        "id": "qk1KmDnQ7Bjp"
      },
      "execution_count": 34,
      "outputs": []
    },
    {
      "cell_type": "code",
      "source": [
        "print(X_train)"
      ],
      "metadata": {
        "colab": {
          "base_uri": "https://localhost:8080/"
        },
        "id": "aPj2ZB1G-OXh",
        "outputId": "300f71f1-bb85-45be-f80a-647bfef16ea3"
      },
      "execution_count": 35,
      "outputs": [
        {
          "output_type": "stream",
          "name": "stdout",
          "text": [
            "       age  hypertension  heart-disease  avg-glucose-level   bmi  \\\n",
            "992   82.0             0              1              72.93  27.1   \n",
            "3740  26.0             0              0              91.35  23.8   \n",
            "1122  19.0             0              0              96.84  30.2   \n",
            "5030  21.0             0              0              77.42  24.8   \n",
            "2571  49.0             0              0              92.02  38.1   \n",
            "...    ...           ...            ...                ...   ...   \n",
            "688   52.0             1              0              81.03  32.6   \n",
            "2751  48.0             0              0             255.17  38.1   \n",
            "3649  75.0             0              0              96.95  41.4   \n",
            "711   37.0             0              0             134.39  22.7   \n",
            "1227  53.0             0              0              94.89  28.5   \n",
            "\n",
            "      gender_Female  gender_Male  ever-married_No  ever-married_Yes  \\\n",
            "992             0.0          1.0              0.0               1.0   \n",
            "3740            1.0          0.0              0.0               1.0   \n",
            "1122            0.0          1.0              1.0               0.0   \n",
            "5030            0.0          1.0              0.0               1.0   \n",
            "2571            0.0          1.0              0.0               1.0   \n",
            "...             ...          ...              ...               ...   \n",
            "688             1.0          0.0              0.0               1.0   \n",
            "2751            1.0          0.0              0.0               1.0   \n",
            "3649            1.0          0.0              0.0               1.0   \n",
            "711             1.0          0.0              1.0               0.0   \n",
            "1227            0.0          1.0              0.0               1.0   \n",
            "\n",
            "      work-type_Govt_job  work-type_Never_worked  work-type_Private  \\\n",
            "992                  0.0                     0.0                0.0   \n",
            "3740                 0.0                     0.0                1.0   \n",
            "1122                 0.0                     0.0                1.0   \n",
            "5030                 0.0                     0.0                1.0   \n",
            "2571                 0.0                     0.0                1.0   \n",
            "...                  ...                     ...                ...   \n",
            "688                  0.0                     0.0                1.0   \n",
            "2751                 1.0                     0.0                0.0   \n",
            "3649                 0.0                     0.0                0.0   \n",
            "711                  0.0                     0.0                0.0   \n",
            "1227                 0.0                     0.0                0.0   \n",
            "\n",
            "      work-type_Self-employed  Residence-type_Rural  Residence-type_Urban  \\\n",
            "992                       1.0                   1.0                   0.0   \n",
            "3740                      0.0                   0.0                   1.0   \n",
            "1122                      0.0                   1.0                   0.0   \n",
            "5030                      0.0                   1.0                   0.0   \n",
            "2571                      0.0                   0.0                   1.0   \n",
            "...                       ...                   ...                   ...   \n",
            "688                       0.0                   1.0                   0.0   \n",
            "2751                      0.0                   1.0                   0.0   \n",
            "3649                      1.0                   0.0                   1.0   \n",
            "711                       1.0                   1.0                   0.0   \n",
            "1227                      1.0                   0.0                   1.0   \n",
            "\n",
            "      smoking-status_formerly smoked  smoking-status_never smoked  \\\n",
            "992                              1.0                          0.0   \n",
            "3740                             0.0                          1.0   \n",
            "1122                             1.0                          0.0   \n",
            "5030                             0.0                          1.0   \n",
            "2571                             0.0                          1.0   \n",
            "...                              ...                          ...   \n",
            "688                              0.0                          1.0   \n",
            "2751                             1.0                          0.0   \n",
            "3649                             0.0                          1.0   \n",
            "711                              1.0                          0.0   \n",
            "1227                             0.0                          1.0   \n",
            "\n",
            "      smoking-status_smokes  \n",
            "992                     0.0  \n",
            "3740                    0.0  \n",
            "1122                    0.0  \n",
            "5030                    0.0  \n",
            "2571                    0.0  \n",
            "...                     ...  \n",
            "688                     0.0  \n",
            "2751                    0.0  \n",
            "3649                    0.0  \n",
            "711                     0.0  \n",
            "1227                    0.0  \n",
            "\n",
            "[2603 rows x 18 columns]\n"
          ]
        }
      ]
    },
    {
      "cell_type": "code",
      "source": [
        "tmp_features = X_train.columns\n",
        "print(tmp_features)"
      ],
      "metadata": {
        "colab": {
          "base_uri": "https://localhost:8080/"
        },
        "id": "dLsoS789-n3m",
        "outputId": "9ec1bf65-df96-45c6-a4b8-437c5108e638"
      },
      "execution_count": 36,
      "outputs": [
        {
          "output_type": "stream",
          "name": "stdout",
          "text": [
            "Index(['age', 'hypertension', 'heart-disease', 'avg-glucose-level', 'bmi',\n",
            "       'gender_Female', 'gender_Male', 'ever-married_No', 'ever-married_Yes',\n",
            "       'work-type_Govt_job', 'work-type_Never_worked', 'work-type_Private',\n",
            "       'work-type_Self-employed', 'Residence-type_Rural',\n",
            "       'Residence-type_Urban', 'smoking-status_formerly smoked',\n",
            "       'smoking-status_never smoked', 'smoking-status_smokes'],\n",
            "      dtype='object')\n"
          ]
        }
      ]
    },
    {
      "cell_type": "code",
      "source": [
        "# Apply SMOTE\n",
        "smote = SMOTE(sampling_strategy='minority')\n",
        "X_smote, y_smote = smote.fit_resample(X_train, y_train)"
      ],
      "metadata": {
        "id": "kYrhnuzX-yYD"
      },
      "execution_count": 37,
      "outputs": []
    },
    {
      "cell_type": "code",
      "source": [
        "# convert to dataframe\n",
        "X_smote = pd.DataFrame(X_smote, columns=tmp_features)\n",
        "print(X_smote)"
      ],
      "metadata": {
        "colab": {
          "base_uri": "https://localhost:8080/"
        },
        "id": "gsCzKek8_Dph",
        "outputId": "46206f28-2553-478f-f436-30580c0e0115"
      },
      "execution_count": 38,
      "outputs": [
        {
          "output_type": "stream",
          "name": "stdout",
          "text": [
            "            age  hypertension  heart-disease  avg-glucose-level        bmi  \\\n",
            "0     82.000000             0              1          72.930000  27.100000   \n",
            "1     26.000000             0              0          91.350000  23.800000   \n",
            "2     19.000000             0              0          96.840000  30.200000   \n",
            "3     21.000000             0              0          77.420000  24.800000   \n",
            "4     49.000000             0              0          92.020000  38.100000   \n",
            "...         ...           ...            ...                ...        ...   \n",
            "4915  74.415175             0              0         104.207610  29.362944   \n",
            "4916  79.201570             0              0          93.331191  23.927880   \n",
            "4917  80.411285             0              1         105.459361  30.957681   \n",
            "4918  72.819058             0              0          64.770178  24.929696   \n",
            "4919  72.687293             1              0         221.675451  29.037790   \n",
            "\n",
            "      gender_Female  gender_Male  ever-married_No  ever-married_Yes  \\\n",
            "0          0.000000     1.000000              0.0               1.0   \n",
            "1          1.000000     0.000000              0.0               1.0   \n",
            "2          0.000000     1.000000              1.0               0.0   \n",
            "3          0.000000     1.000000              0.0               1.0   \n",
            "4          0.000000     1.000000              0.0               1.0   \n",
            "...             ...          ...              ...               ...   \n",
            "4915       0.569196     0.430804              0.0               1.0   \n",
            "4916       1.000000     0.000000              0.0               1.0   \n",
            "4917       0.000000     1.000000              0.0               1.0   \n",
            "4918       1.000000     0.000000              0.0               1.0   \n",
            "4919       0.770902     0.229098              0.0               1.0   \n",
            "\n",
            "      work-type_Govt_job  work-type_Never_worked  work-type_Private  \\\n",
            "0               0.000000                     0.0           0.000000   \n",
            "1               0.000000                     0.0           1.000000   \n",
            "2               0.000000                     0.0           1.000000   \n",
            "3               0.000000                     0.0           1.000000   \n",
            "4               0.000000                     0.0           1.000000   \n",
            "...                  ...                     ...                ...   \n",
            "4915            0.000000                     0.0           1.000000   \n",
            "4916            0.000000                     0.0           0.899215   \n",
            "4917            0.205642                     0.0           0.794358   \n",
            "4918            0.000000                     0.0           0.529005   \n",
            "4919            0.000000                     0.0           1.000000   \n",
            "\n",
            "      work-type_Self-employed  Residence-type_Rural  Residence-type_Urban  \\\n",
            "0                    1.000000              1.000000              0.000000   \n",
            "1                    0.000000              0.000000              1.000000   \n",
            "2                    0.000000              1.000000              0.000000   \n",
            "3                    0.000000              1.000000              0.000000   \n",
            "4                    0.000000              0.000000              1.000000   \n",
            "...                       ...                   ...                   ...   \n",
            "4915                 0.000000              0.000000              1.000000   \n",
            "4916                 0.100785              0.899215              0.100785   \n",
            "4917                 0.000000              1.000000              0.000000   \n",
            "4918                 0.470995              0.470995              0.529005   \n",
            "4919                 0.000000              0.000000              1.000000   \n",
            "\n",
            "      smoking-status_formerly smoked  smoking-status_never smoked  \\\n",
            "0                           1.000000                     0.000000   \n",
            "1                           0.000000                     1.000000   \n",
            "2                           1.000000                     0.000000   \n",
            "3                           0.000000                     1.000000   \n",
            "4                           0.000000                     1.000000   \n",
            "...                              ...                          ...   \n",
            "4915                        0.430804                     0.569196   \n",
            "4916                        0.000000                     1.000000   \n",
            "4917                        0.000000                     1.000000   \n",
            "4918                        0.000000                     0.529005   \n",
            "4919                        0.000000                     0.770902   \n",
            "\n",
            "      smoking-status_smokes  \n",
            "0                  0.000000  \n",
            "1                  0.000000  \n",
            "2                  0.000000  \n",
            "3                  0.000000  \n",
            "4                  0.000000  \n",
            "...                     ...  \n",
            "4915               0.000000  \n",
            "4916               0.000000  \n",
            "4917               0.000000  \n",
            "4918               0.470995  \n",
            "4919               0.229098  \n",
            "\n",
            "[4920 rows x 18 columns]\n"
          ]
        }
      ]
    },
    {
      "cell_type": "code",
      "source": [
        "X_smote = np.round(X_smote)\n",
        "X_smote[features_to_encode] = encoder.inverse_transform(X_smote[features_to_encode])\n",
        "print(X_smote)"
      ],
      "metadata": {
        "colab": {
          "base_uri": "https://localhost:8080/"
        },
        "id": "cUiVKZBiDOuA",
        "outputId": "cfcdc71d-9e9a-4fb2-c44f-3ac963d328dc"
      },
      "execution_count": 39,
      "outputs": [
        {
          "output_type": "stream",
          "name": "stdout",
          "text": [
            "       age  hypertension  heart-disease  avg-glucose-level   bmi  \\\n",
            "0     82.0             0              1               73.0  27.0   \n",
            "1     26.0             0              0               91.0  24.0   \n",
            "2     19.0             0              0               97.0  30.0   \n",
            "3     21.0             0              0               77.0  25.0   \n",
            "4     49.0             0              0               92.0  38.0   \n",
            "...    ...           ...            ...                ...   ...   \n",
            "4915  74.0             0              0              104.0  29.0   \n",
            "4916  79.0             0              0               93.0  24.0   \n",
            "4917  80.0             0              1              105.0  31.0   \n",
            "4918  73.0             0              0               65.0  25.0   \n",
            "4919  73.0             1              0              222.0  29.0   \n",
            "\n",
            "      gender_Female  gender_Male  ever-married_No  ever-married_Yes  \\\n",
            "0             False         True            False              True   \n",
            "1              True        False            False              True   \n",
            "2             False         True             True             False   \n",
            "3             False         True            False              True   \n",
            "4             False         True            False              True   \n",
            "...             ...          ...              ...               ...   \n",
            "4915           True        False            False              True   \n",
            "4916           True        False            False              True   \n",
            "4917          False         True            False              True   \n",
            "4918           True        False            False              True   \n",
            "4919           True        False            False              True   \n",
            "\n",
            "      work-type_Govt_job  work-type_Never_worked  work-type_Private  \\\n",
            "0                  False                   False              False   \n",
            "1                  False                   False               True   \n",
            "2                  False                   False               True   \n",
            "3                  False                   False               True   \n",
            "4                  False                   False               True   \n",
            "...                  ...                     ...                ...   \n",
            "4915               False                   False               True   \n",
            "4916               False                   False               True   \n",
            "4917               False                   False               True   \n",
            "4918               False                   False               True   \n",
            "4919               False                   False               True   \n",
            "\n",
            "      work-type_Self-employed  Residence-type_Rural  Residence-type_Urban  \\\n",
            "0                        True                  True                 False   \n",
            "1                       False                 False                  True   \n",
            "2                       False                  True                 False   \n",
            "3                       False                  True                 False   \n",
            "4                       False                 False                  True   \n",
            "...                       ...                   ...                   ...   \n",
            "4915                    False                 False                  True   \n",
            "4916                    False                  True                 False   \n",
            "4917                    False                  True                 False   \n",
            "4918                    False                 False                  True   \n",
            "4919                    False                 False                  True   \n",
            "\n",
            "      smoking-status_formerly smoked  smoking-status_never smoked  \\\n",
            "0                               True                        False   \n",
            "1                              False                         True   \n",
            "2                               True                        False   \n",
            "3                              False                         True   \n",
            "4                              False                         True   \n",
            "...                              ...                          ...   \n",
            "4915                           False                         True   \n",
            "4916                           False                         True   \n",
            "4917                           False                         True   \n",
            "4918                           False                         True   \n",
            "4919                           False                         True   \n",
            "\n",
            "      smoking-status_smokes  \n",
            "0                     False  \n",
            "1                     False  \n",
            "2                     False  \n",
            "3                     False  \n",
            "4                     False  \n",
            "...                     ...  \n",
            "4915                  False  \n",
            "4916                  False  \n",
            "4917                  False  \n",
            "4918                  False  \n",
            "4919                  False  \n",
            "\n",
            "[4920 rows x 18 columns]\n"
          ]
        }
      ]
    },
    {
      "cell_type": "code",
      "source": [
        "dummies = pd.from_dummies(X_smote[dummies_columns], sep='_')\n",
        "print(dummies)"
      ],
      "metadata": {
        "colab": {
          "base_uri": "https://localhost:8080/"
        },
        "id": "cLSC0U7iChm4",
        "outputId": "c4942abd-f41c-493e-a714-fc3f5cb4f9df"
      },
      "execution_count": 40,
      "outputs": [
        {
          "output_type": "stream",
          "name": "stdout",
          "text": [
            "      gender ever-married      work-type Residence-type   smoking-status\n",
            "0       Male          Yes  Self-employed          Rural  formerly smoked\n",
            "1     Female          Yes        Private          Urban     never smoked\n",
            "2       Male           No        Private          Rural  formerly smoked\n",
            "3       Male          Yes        Private          Rural     never smoked\n",
            "4       Male          Yes        Private          Urban     never smoked\n",
            "...      ...          ...            ...            ...              ...\n",
            "4915  Female          Yes        Private          Urban     never smoked\n",
            "4916  Female          Yes        Private          Rural     never smoked\n",
            "4917    Male          Yes        Private          Rural     never smoked\n",
            "4918  Female          Yes        Private          Urban     never smoked\n",
            "4919  Female          Yes        Private          Urban     never smoked\n",
            "\n",
            "[4920 rows x 5 columns]\n"
          ]
        }
      ]
    },
    {
      "cell_type": "code",
      "source": [
        "print(X_smote)"
      ],
      "metadata": {
        "colab": {
          "base_uri": "https://localhost:8080/"
        },
        "id": "wj8Ltw5lLBsy",
        "outputId": "d031d2cf-d68b-41ca-e60a-01eaa5c91563"
      },
      "execution_count": 41,
      "outputs": [
        {
          "output_type": "stream",
          "name": "stdout",
          "text": [
            "       age  hypertension  heart-disease  avg-glucose-level   bmi  \\\n",
            "0     82.0             0              1               73.0  27.0   \n",
            "1     26.0             0              0               91.0  24.0   \n",
            "2     19.0             0              0               97.0  30.0   \n",
            "3     21.0             0              0               77.0  25.0   \n",
            "4     49.0             0              0               92.0  38.0   \n",
            "...    ...           ...            ...                ...   ...   \n",
            "4915  74.0             0              0              104.0  29.0   \n",
            "4916  79.0             0              0               93.0  24.0   \n",
            "4917  80.0             0              1              105.0  31.0   \n",
            "4918  73.0             0              0               65.0  25.0   \n",
            "4919  73.0             1              0              222.0  29.0   \n",
            "\n",
            "      gender_Female  gender_Male  ever-married_No  ever-married_Yes  \\\n",
            "0             False         True            False              True   \n",
            "1              True        False            False              True   \n",
            "2             False         True             True             False   \n",
            "3             False         True            False              True   \n",
            "4             False         True            False              True   \n",
            "...             ...          ...              ...               ...   \n",
            "4915           True        False            False              True   \n",
            "4916           True        False            False              True   \n",
            "4917          False         True            False              True   \n",
            "4918           True        False            False              True   \n",
            "4919           True        False            False              True   \n",
            "\n",
            "      work-type_Govt_job  work-type_Never_worked  work-type_Private  \\\n",
            "0                  False                   False              False   \n",
            "1                  False                   False               True   \n",
            "2                  False                   False               True   \n",
            "3                  False                   False               True   \n",
            "4                  False                   False               True   \n",
            "...                  ...                     ...                ...   \n",
            "4915               False                   False               True   \n",
            "4916               False                   False               True   \n",
            "4917               False                   False               True   \n",
            "4918               False                   False               True   \n",
            "4919               False                   False               True   \n",
            "\n",
            "      work-type_Self-employed  Residence-type_Rural  Residence-type_Urban  \\\n",
            "0                        True                  True                 False   \n",
            "1                       False                 False                  True   \n",
            "2                       False                  True                 False   \n",
            "3                       False                  True                 False   \n",
            "4                       False                 False                  True   \n",
            "...                       ...                   ...                   ...   \n",
            "4915                    False                 False                  True   \n",
            "4916                    False                  True                 False   \n",
            "4917                    False                  True                 False   \n",
            "4918                    False                 False                  True   \n",
            "4919                    False                 False                  True   \n",
            "\n",
            "      smoking-status_formerly smoked  smoking-status_never smoked  \\\n",
            "0                               True                        False   \n",
            "1                              False                         True   \n",
            "2                               True                        False   \n",
            "3                              False                         True   \n",
            "4                              False                         True   \n",
            "...                              ...                          ...   \n",
            "4915                           False                         True   \n",
            "4916                           False                         True   \n",
            "4917                           False                         True   \n",
            "4918                           False                         True   \n",
            "4919                           False                         True   \n",
            "\n",
            "      smoking-status_smokes  \n",
            "0                     False  \n",
            "1                     False  \n",
            "2                     False  \n",
            "3                     False  \n",
            "4                     False  \n",
            "...                     ...  \n",
            "4915                  False  \n",
            "4916                  False  \n",
            "4917                  False  \n",
            "4918                  False  \n",
            "4919                  False  \n",
            "\n",
            "[4920 rows x 18 columns]\n"
          ]
        }
      ]
    },
    {
      "cell_type": "code",
      "source": [
        "X_smote.drop(columns=dummies_columns, inplace=True)\n",
        "X_smote = pd.concat([X_smote, dummies], axis=1)\n",
        "\n",
        "print(X_smote)"
      ],
      "metadata": {
        "colab": {
          "base_uri": "https://localhost:8080/"
        },
        "id": "vlkqsL3VKxOO",
        "outputId": "329f14ad-acaf-4a16-c0c6-fa8cf6927ce4"
      },
      "execution_count": 42,
      "outputs": [
        {
          "output_type": "stream",
          "name": "stdout",
          "text": [
            "       age  hypertension  heart-disease  avg-glucose-level   bmi  gender  \\\n",
            "0     82.0             0              1               73.0  27.0    Male   \n",
            "1     26.0             0              0               91.0  24.0  Female   \n",
            "2     19.0             0              0               97.0  30.0    Male   \n",
            "3     21.0             0              0               77.0  25.0    Male   \n",
            "4     49.0             0              0               92.0  38.0    Male   \n",
            "...    ...           ...            ...                ...   ...     ...   \n",
            "4915  74.0             0              0              104.0  29.0  Female   \n",
            "4916  79.0             0              0               93.0  24.0  Female   \n",
            "4917  80.0             0              1              105.0  31.0    Male   \n",
            "4918  73.0             0              0               65.0  25.0  Female   \n",
            "4919  73.0             1              0              222.0  29.0  Female   \n",
            "\n",
            "     ever-married      work-type Residence-type   smoking-status  \n",
            "0             Yes  Self-employed          Rural  formerly smoked  \n",
            "1             Yes        Private          Urban     never smoked  \n",
            "2              No        Private          Rural  formerly smoked  \n",
            "3             Yes        Private          Rural     never smoked  \n",
            "4             Yes        Private          Urban     never smoked  \n",
            "...           ...            ...            ...              ...  \n",
            "4915          Yes        Private          Urban     never smoked  \n",
            "4916          Yes        Private          Rural     never smoked  \n",
            "4917          Yes        Private          Rural     never smoked  \n",
            "4918          Yes        Private          Urban     never smoked  \n",
            "4919          Yes        Private          Urban     never smoked  \n",
            "\n",
            "[4920 rows x 10 columns]\n"
          ]
        }
      ]
    },
    {
      "cell_type": "code",
      "source": [
        "X_train = X_smote\n",
        "y_train = y_smote"
      ],
      "metadata": {
        "id": "HH0Lcw8QTAcg"
      },
      "execution_count": 43,
      "outputs": []
    },
    {
      "cell_type": "code",
      "source": [
        "df_balanced = pd.DataFrame(X_train, columns=features)\n",
        "df_balanced['stroke'] = y_train"
      ],
      "metadata": {
        "id": "vpbjjt6TS2x_"
      },
      "execution_count": 44,
      "outputs": []
    },
    {
      "cell_type": "code",
      "source": [
        "df_balanced.shape"
      ],
      "metadata": {
        "colab": {
          "base_uri": "https://localhost:8080/"
        },
        "id": "1vt3cf-KTVLm",
        "outputId": "409b1032-152c-4ff8-d62d-e338a00522ca"
      },
      "execution_count": 45,
      "outputs": [
        {
          "output_type": "execute_result",
          "data": {
            "text/plain": [
              "(4920, 11)"
            ]
          },
          "metadata": {},
          "execution_count": 45
        }
      ]
    },
    {
      "cell_type": "code",
      "source": [
        "sns.countplot(x='stroke', data=df)\n",
        "plt.figure()\n",
        "sns.countplot(x='stroke', data=df_balanced)"
      ],
      "metadata": {
        "colab": {
          "base_uri": "https://localhost:8080/",
          "height": 899
        },
        "id": "hYsZoOkATl9t",
        "outputId": "16d6a7a5-19a1-483e-e12e-071abba3bf28"
      },
      "execution_count": 46,
      "outputs": [
        {
          "output_type": "execute_result",
          "data": {
            "text/plain": [
              "<Axes: xlabel='stroke', ylabel='count'>"
            ]
          },
          "metadata": {},
          "execution_count": 46
        },
        {
          "output_type": "display_data",
          "data": {
            "text/plain": [
              "<Figure size 640x480 with 1 Axes>"
            ],
            "image/png": "[encoded data removed]"
          },
          "metadata": {}
        },
        {
          "output_type": "display_data",
          "data": {
            "text/plain": [
              "<Figure size 640x480 with 1 Axes>"
            ],
            "image/png": "[encoded data removed]"
          },
          "metadata": {}
        }
      ]
    },
    {
      "cell_type": "code",
      "source": [
        "plt.grid()\n",
        "age_labels = ['18-24', '25-29', '30-34', '35-39', '40-44', '45-49', '50-54', '55-59', '60-64', '65-69', '70-74', '75+']\n",
        "dataset_bal_copy = df_balanced.copy()\n",
        "dataset_bal_copy['age_bucket'] = pd.cut(dataset_bal_copy['age'], bins=[17, 24, 29, 34, 39, 44, 49, 54, 59, 64, 69, 74, 100], labels=age_labels)\n",
        "sns.countplot(x='age_bucket', hue='stroke', order=age_labels, data=dataset_bal_copy, stat='percent')"
      ],
      "metadata": {
        "colab": {
          "base_uri": "https://localhost:8080/",
          "height": 468
        },
        "id": "ijDCoMCCVzUC",
        "outputId": "01ddd833-872d-4630-bbbb-024afd788ffb"
      },
      "execution_count": 47,
      "outputs": [
        {
          "output_type": "execute_result",
          "data": {
            "text/plain": [
              "<Axes: xlabel='age_bucket', ylabel='percent'>"
            ]
          },
          "metadata": {},
          "execution_count": 47
        },
        {
          "output_type": "display_data",
          "data": {
            "text/plain": [
              "<Figure size 640x480 with 1 Axes>"
            ],
            "image/png": "[encoded data removed]"
          },
          "metadata": {}
        }
      ]
    },
    {
      "cell_type": "code",
      "source": [
        "sns.countplot(x='hypertension', hue='stroke', data=df_balanced, stat='percent')"
      ],
      "metadata": {
        "colab": {
          "base_uri": "https://localhost:8080/",
          "height": 467
        },
        "id": "e55ZUaX5Yqgn",
        "outputId": "f697d050-dd22-4909-bd8a-ad43d66e05e9"
      },
      "execution_count": 48,
      "outputs": [
        {
          "output_type": "execute_result",
          "data": {
            "text/plain": [
              "<Axes: xlabel='hypertension', ylabel='percent'>"
            ]
          },
          "metadata": {},
          "execution_count": 48
        },
        {
          "output_type": "display_data",
          "data": {
            "text/plain": [
              "<Figure size 640x480 with 1 Axes>"
            ],
            "image/png": "[encoded data removed]"
          },
          "metadata": {}
        }
      ]
    },
    {
      "cell_type": "code",
      "source": [
        "sns.countplot(x='heart-disease', hue='stroke', data=df_balanced, stat='percent')"
      ],
      "metadata": {
        "colab": {
          "base_uri": "https://localhost:8080/",
          "height": 467
        },
        "id": "Fw18CXJAY_zU",
        "outputId": "72bcc8b4-e1b3-49eb-d94a-57de77e74213"
      },
      "execution_count": 49,
      "outputs": [
        {
          "output_type": "execute_result",
          "data": {
            "text/plain": [
              "<Axes: xlabel='heart-disease', ylabel='percent'>"
            ]
          },
          "metadata": {},
          "execution_count": 49
        },
        {
          "output_type": "display_data",
          "data": {
            "text/plain": [
              "<Figure size 640x480 with 1 Axes>"
            ],
            "image/png": "[encoded data removed]"
          },
          "metadata": {}
        }
      ]
    },
    {
      "cell_type": "code",
      "source": [
        "sns.countplot(x='smoking-status', hue='stroke', data=df_balanced, stat='percent')"
      ],
      "metadata": {
        "colab": {
          "base_uri": "https://localhost:8080/",
          "height": 467
        },
        "id": "N0DUH92OZoo-",
        "outputId": "1759d7a3-e477-4a3e-c675-f0cb875ec686"
      },
      "execution_count": 50,
      "outputs": [
        {
          "output_type": "execute_result",
          "data": {
            "text/plain": [
              "<Axes: xlabel='smoking-status', ylabel='percent'>"
            ]
          },
          "metadata": {},
          "execution_count": 50
        },
        {
          "output_type": "display_data",
          "data": {
            "text/plain": [
              "<Figure size 640x480 with 1 Axes>"
            ],
            "image/png": "[encoded data removed]"
          },
          "metadata": {}
        }
      ]
    },
    {
      "cell_type": "code",
      "source": [
        "bmi_labels = ['Underweight', 'Normal', 'Overweight', 'Obese I', 'Obese II', 'Obese III']\n",
        "dataset_bal_copy['bmi_bucket'] = pd.cut(dataset_bal_copy['bmi'], bins=[0, 18.5, 24.9, 29.9, 34.9, 39.9, 100], labels=bmi_labels)\n",
        "sns.countplot(x='bmi_bucket', hue='stroke',order=bmi_labels,  data=dataset_bal_copy, stat='percent')"
      ],
      "metadata": {
        "colab": {
          "base_uri": "https://localhost:8080/",
          "height": 468
        },
        "id": "W_9l00XaZ7dm",
        "outputId": "f5c691eb-f0e1-40a2-9643-96363280afea"
      },
      "execution_count": 51,
      "outputs": [
        {
          "output_type": "execute_result",
          "data": {
            "text/plain": [
              "<Axes: xlabel='bmi_bucket', ylabel='percent'>"
            ]
          },
          "metadata": {},
          "execution_count": 51
        },
        {
          "output_type": "display_data",
          "data": {
            "text/plain": [
              "<Figure size 640x480 with 1 Axes>"
            ],
            "image/png": "[encoded data removed]"
          },
          "metadata": {}
        }
      ]
    },
    {
      "cell_type": "code",
      "source": [
        "sns.countplot(x='Residence-type', hue='stroke', data=df_balanced, stat='percent')"
      ],
      "metadata": {
        "colab": {
          "base_uri": "https://localhost:8080/",
          "height": 467
        },
        "id": "_lD7I_9Had1x",
        "outputId": "5952549b-9d6f-40e2-df94-b27ba10161a7"
      },
      "execution_count": 52,
      "outputs": [
        {
          "output_type": "execute_result",
          "data": {
            "text/plain": [
              "<Axes: xlabel='Residence-type', ylabel='percent'>"
            ]
          },
          "metadata": {},
          "execution_count": 52
        },
        {
          "output_type": "display_data",
          "data": {
            "text/plain": [
              "<Figure size 640x480 with 1 Axes>"
            ],
            "image/png": "[encoded data removed]"
          },
          "metadata": {}
        }
      ]
    },
    {
      "cell_type": "code",
      "source": [
        "sns.countplot(x='work-type', hue='stroke', data=df_balanced, stat='percent')"
      ],
      "metadata": {
        "colab": {
          "base_uri": "https://localhost:8080/",
          "height": 468
        },
        "id": "RpYPpv-IazF5",
        "outputId": "d5bbaebc-ba10-47c7-ba48-37ae7ce55607"
      },
      "execution_count": 53,
      "outputs": [
        {
          "output_type": "execute_result",
          "data": {
            "text/plain": [
              "<Axes: xlabel='work-type', ylabel='percent'>"
            ]
          },
          "metadata": {},
          "execution_count": 53
        },
        {
          "output_type": "display_data",
          "data": {
            "text/plain": [
              "<Figure size 640x480 with 1 Axes>"
            ],
            "image/png": "[encoded data removed]"
          },
          "metadata": {}
        }
      ]
    },
    {
      "cell_type": "code",
      "source": [
        "sns.countplot(x='gender', hue='stroke', data=df_balanced, stat='percent')"
      ],
      "metadata": {
        "colab": {
          "base_uri": "https://localhost:8080/",
          "height": 467
        },
        "id": "0eMLYbzYa8t_",
        "outputId": "1a7ecf3a-37a2-4a7d-904b-1709a846821e"
      },
      "execution_count": 54,
      "outputs": [
        {
          "output_type": "execute_result",
          "data": {
            "text/plain": [
              "<Axes: xlabel='gender', ylabel='percent'>"
            ]
          },
          "metadata": {},
          "execution_count": 54
        },
        {
          "output_type": "display_data",
          "data": {
            "text/plain": [
              "<Figure size 640x480 with 1 Axes>"
            ],
            "image/png": "[encoded data removed]"
          },
          "metadata": {}
        }
      ]
    },
    {
      "cell_type": "code",
      "source": [
        "from sklearn.ensemble import RandomForestClassifier\n",
        "# Combinazione di X e y in un nuovo DataFrame\n",
        "df_copy = pd.concat([X_train, y_train], axis=1)\n",
        "\n",
        "print(\"Nuovo dataset combinato (X + y):\")\n",
        "print(df_copy)"
      ],
      "metadata": {
        "colab": {
          "base_uri": "https://localhost:8080/"
        },
        "id": "zJXprUBm6aek",
        "outputId": "6f7c4ae6-4394-465b-c89e-6ed1bdfb3586"
      },
      "execution_count": 55,
      "outputs": [
        {
          "output_type": "stream",
          "name": "stdout",
          "text": [
            "Nuovo dataset combinato (X + y):\n",
            "       age  hypertension  heart-disease  avg-glucose-level   bmi  gender  \\\n",
            "0     82.0             0              1               73.0  27.0    Male   \n",
            "1     26.0             0              0               91.0  24.0  Female   \n",
            "2     19.0             0              0               97.0  30.0    Male   \n",
            "3     21.0             0              0               77.0  25.0    Male   \n",
            "4     49.0             0              0               92.0  38.0    Male   \n",
            "...    ...           ...            ...                ...   ...     ...   \n",
            "4915  74.0             0              0              104.0  29.0  Female   \n",
            "4916  79.0             0              0               93.0  24.0  Female   \n",
            "4917  80.0             0              1              105.0  31.0    Male   \n",
            "4918  73.0             0              0               65.0  25.0  Female   \n",
            "4919  73.0             1              0              222.0  29.0  Female   \n",
            "\n",
            "     ever-married      work-type Residence-type   smoking-status  stroke  \n",
            "0             Yes  Self-employed          Rural  formerly smoked       0  \n",
            "1             Yes        Private          Urban     never smoked       0  \n",
            "2              No        Private          Rural  formerly smoked       0  \n",
            "3             Yes        Private          Rural     never smoked       0  \n",
            "4             Yes        Private          Urban     never smoked       0  \n",
            "...           ...            ...            ...              ...     ...  \n",
            "4915          Yes        Private          Urban     never smoked       1  \n",
            "4916          Yes        Private          Rural     never smoked       1  \n",
            "4917          Yes        Private          Rural     never smoked       1  \n",
            "4918          Yes        Private          Urban     never smoked       1  \n",
            "4919          Yes        Private          Urban     never smoked       1  \n",
            "\n",
            "[4920 rows x 11 columns]\n"
          ]
        }
      ]
    },
    {
      "cell_type": "code",
      "source": [
        "from sklearn.preprocessing import LabelEncoder\n",
        "# Separare le caratteristiche (X) e la variabile target (y)\n",
        "X_train_copy = df_copy.drop('stroke', axis=1)\n",
        "y_train_copy = df_copy['stroke']\n",
        "\n",
        "# Esegui il Label Encoding per le caratteristiche categoriali\n",
        "label_encoders = {}\n",
        "for column in X_train_copy.select_dtypes(include=['object']).columns:\n",
        "    le = LabelEncoder()\n",
        "    X_train_copy[column] = le.fit_transform(X_train_copy[column])\n",
        "    label_encoders[column] = le"
      ],
      "metadata": {
        "id": "33A6NNlw7EeY"
      },
      "execution_count": 56,
      "outputs": []
    },
    {
      "cell_type": "code",
      "source": [
        "print(X_train_copy)"
      ],
      "metadata": {
        "colab": {
          "base_uri": "https://localhost:8080/"
        },
        "id": "4sqywIoF7Pei",
        "outputId": "5090b0aa-7200-4576-cb4f-9e61c25e7732"
      },
      "execution_count": 57,
      "outputs": [
        {
          "output_type": "stream",
          "name": "stdout",
          "text": [
            "       age  hypertension  heart-disease  avg-glucose-level   bmi  gender  \\\n",
            "0     82.0             0              1               73.0  27.0       1   \n",
            "1     26.0             0              0               91.0  24.0       0   \n",
            "2     19.0             0              0               97.0  30.0       1   \n",
            "3     21.0             0              0               77.0  25.0       1   \n",
            "4     49.0             0              0               92.0  38.0       1   \n",
            "...    ...           ...            ...                ...   ...     ...   \n",
            "4915  74.0             0              0              104.0  29.0       0   \n",
            "4916  79.0             0              0               93.0  24.0       0   \n",
            "4917  80.0             0              1              105.0  31.0       1   \n",
            "4918  73.0             0              0               65.0  25.0       0   \n",
            "4919  73.0             1              0              222.0  29.0       0   \n",
            "\n",
            "      ever-married  work-type  Residence-type  smoking-status  \n",
            "0                1          3               0               0  \n",
            "1                1          2               1               1  \n",
            "2                0          2               0               0  \n",
            "3                1          2               0               1  \n",
            "4                1          2               1               1  \n",
            "...            ...        ...             ...             ...  \n",
            "4915             1          2               1               1  \n",
            "4916             1          2               0               1  \n",
            "4917             1          2               0               1  \n",
            "4918             1          2               1               1  \n",
            "4919             1          2               1               1  \n",
            "\n",
            "[4920 rows x 10 columns]\n"
          ]
        }
      ]
    },
    {
      "cell_type": "code",
      "source": [
        "print(X_train)"
      ],
      "metadata": {
        "colab": {
          "base_uri": "https://localhost:8080/"
        },
        "id": "jZY5f4k_7T5O",
        "outputId": "599c5bee-7559-4033-a178-a6014f50f80f"
      },
      "execution_count": 58,
      "outputs": [
        {
          "output_type": "stream",
          "name": "stdout",
          "text": [
            "       age  hypertension  heart-disease  avg-glucose-level   bmi  gender  \\\n",
            "0     82.0             0              1               73.0  27.0    Male   \n",
            "1     26.0             0              0               91.0  24.0  Female   \n",
            "2     19.0             0              0               97.0  30.0    Male   \n",
            "3     21.0             0              0               77.0  25.0    Male   \n",
            "4     49.0             0              0               92.0  38.0    Male   \n",
            "...    ...           ...            ...                ...   ...     ...   \n",
            "4915  74.0             0              0              104.0  29.0  Female   \n",
            "4916  79.0             0              0               93.0  24.0  Female   \n",
            "4917  80.0             0              1              105.0  31.0    Male   \n",
            "4918  73.0             0              0               65.0  25.0  Female   \n",
            "4919  73.0             1              0              222.0  29.0  Female   \n",
            "\n",
            "     ever-married      work-type Residence-type   smoking-status  \n",
            "0             Yes  Self-employed          Rural  formerly smoked  \n",
            "1             Yes        Private          Urban     never smoked  \n",
            "2              No        Private          Rural  formerly smoked  \n",
            "3             Yes        Private          Rural     never smoked  \n",
            "4             Yes        Private          Urban     never smoked  \n",
            "...           ...            ...            ...              ...  \n",
            "4915          Yes        Private          Urban     never smoked  \n",
            "4916          Yes        Private          Rural     never smoked  \n",
            "4917          Yes        Private          Rural     never smoked  \n",
            "4918          Yes        Private          Urban     never smoked  \n",
            "4919          Yes        Private          Urban     never smoked  \n",
            "\n",
            "[4920 rows x 10 columns]\n"
          ]
        }
      ]
    },
    {
      "cell_type": "code",
      "source": [
        "# Creare e allenare il modello di Random Forest\n",
        "rf = RandomForestClassifier(n_estimators=100, random_state=42)\n",
        "rf.fit(X_train_copy, y_train_copy)\n",
        "\n",
        "# Ottenere l'importanza delle caratteristiche\n",
        "feature_importances = rf.feature_importances_\n",
        "\n",
        "# Creare un DataFrame per visualizzare le importanze\n",
        "feature_importances_df = pd.DataFrame({\n",
        "    'Feature': X_train_copy.columns,\n",
        "    'Importance': feature_importances\n",
        "})\n",
        "\n",
        "# Ordinare le caratteristiche per importanza decrescente\n",
        "feature_importances_df = feature_importances_df.sort_values(by='Importance', ascending=False)\n",
        "\n",
        "# Visualizzare le prime 10 caratteristiche più importanti\n",
        "print(feature_importances_df.head(10))\n",
        "\n",
        "# visualizzare l'importanza delle caratteristiche con un grafico\n",
        "plt.figure(figsize=(12, 8))\n",
        "sns.barplot(x='Importance', y='Feature', data=feature_importances_df.head(10))\n",
        "plt.title('Top 10 Feature Importances Using Random Forest')\n",
        "plt.show()"
      ],
      "metadata": {
        "colab": {
          "base_uri": "https://localhost:8080/",
          "height": 767
        },
        "id": "xuN6gJxv7de-",
        "outputId": "6e410a8e-78af-4bfa-e43a-e3faf85a2d88"
      },
      "execution_count": 59,
      "outputs": [
        {
          "output_type": "stream",
          "name": "stdout",
          "text": [
            "             Feature  Importance\n",
            "0                age    0.402643\n",
            "3  avg-glucose-level    0.242257\n",
            "4                bmi    0.145299\n",
            "9     smoking-status    0.055632\n",
            "7          work-type    0.044592\n",
            "8     Residence-type    0.030903\n",
            "5             gender    0.027649\n",
            "6       ever-married    0.019285\n",
            "1       hypertension    0.016460\n",
            "2      heart-disease    0.015280\n"
          ]
        },
        {
          "output_type": "display_data",
          "data": {
            "text/plain": [
              "<Figure size 1200x800 with 1 Axes>"
            ],
            "image/png": "[encoded data removed]"
          },
          "metadata": {}
        }
      ]
    },
    {
      "cell_type": "code",
      "source": [
        "from sklearn.tree import DecisionTreeClassifier\n",
        "# Creare e allenare il modello di Decision Tree\n",
        "dt = DecisionTreeClassifier(criterion='entropy', random_state=42)\n",
        "dt.fit(X_train_copy, y_train_copy)\n",
        "\n",
        "# Ottenere l'importanza delle caratteristiche (Information Gain)\n",
        "feature_importances = dt.feature_importances_\n",
        "\n",
        "# Creare un DataFrame per visualizzare le importanze\n",
        "feature_importances_df = pd.DataFrame({\n",
        "    'Feature': X_train_copy.columns,\n",
        "    'Information Gain': feature_importances\n",
        "})\n",
        "\n",
        "# Ordinare le caratteristiche per importanza decrescente\n",
        "feature_importances_df = feature_importances_df.sort_values(by='Information Gain', ascending=False)\n",
        "\n",
        "# Visualizzare le caratteristiche ordinate per Information Gain\n",
        "print(\"Importanza delle caratteristiche (Information Gain):\")\n",
        "print(feature_importances_df)"
      ],
      "metadata": {
        "colab": {
          "base_uri": "https://localhost:8080/"
        },
        "id": "QrLphoEh7o5R",
        "outputId": "7b425f90-f341-401c-bdd5-4fa2f855fb49"
      },
      "execution_count": 60,
      "outputs": [
        {
          "output_type": "stream",
          "name": "stdout",
          "text": [
            "Importanza delle caratteristiche (Information Gain):\n",
            "             Feature  Information Gain\n",
            "0                age          0.382550\n",
            "3  avg-glucose-level          0.222506\n",
            "4                bmi          0.158783\n",
            "9     smoking-status          0.061710\n",
            "7          work-type          0.055380\n",
            "8     Residence-type          0.036933\n",
            "5             gender          0.026578\n",
            "1       hypertension          0.021784\n",
            "2      heart-disease          0.019623\n",
            "6       ever-married          0.014154\n"
          ]
        }
      ]
    },
    {
      "cell_type": "code",
      "source": [
        "# Combinazione di X e y in un nuovo DataFrame\n",
        "df_test_copy = pd.concat([X_test, y_test], axis=1)\n",
        "\n",
        "print(\"Nuovo dataset combinato (X + y):\")\n",
        "print(df_copy)"
      ],
      "metadata": {
        "colab": {
          "base_uri": "https://localhost:8080/"
        },
        "id": "jWG-mwkk79uf",
        "outputId": "e483e1ad-0846-46e1-a140-8f1d4d9abeda"
      },
      "execution_count": 61,
      "outputs": [
        {
          "output_type": "stream",
          "name": "stdout",
          "text": [
            "Nuovo dataset combinato (X + y):\n",
            "       age  hypertension  heart-disease  avg-glucose-level   bmi  gender  \\\n",
            "0     82.0             0              1               73.0  27.0    Male   \n",
            "1     26.0             0              0               91.0  24.0  Female   \n",
            "2     19.0             0              0               97.0  30.0    Male   \n",
            "3     21.0             0              0               77.0  25.0    Male   \n",
            "4     49.0             0              0               92.0  38.0    Male   \n",
            "...    ...           ...            ...                ...   ...     ...   \n",
            "4915  74.0             0              0              104.0  29.0  Female   \n",
            "4916  79.0             0              0               93.0  24.0  Female   \n",
            "4917  80.0             0              1              105.0  31.0    Male   \n",
            "4918  73.0             0              0               65.0  25.0  Female   \n",
            "4919  73.0             1              0              222.0  29.0  Female   \n",
            "\n",
            "     ever-married      work-type Residence-type   smoking-status  stroke  \n",
            "0             Yes  Self-employed          Rural  formerly smoked       0  \n",
            "1             Yes        Private          Urban     never smoked       0  \n",
            "2              No        Private          Rural  formerly smoked       0  \n",
            "3             Yes        Private          Rural     never smoked       0  \n",
            "4             Yes        Private          Urban     never smoked       0  \n",
            "...           ...            ...            ...              ...     ...  \n",
            "4915          Yes        Private          Urban     never smoked       1  \n",
            "4916          Yes        Private          Rural     never smoked       1  \n",
            "4917          Yes        Private          Rural     never smoked       1  \n",
            "4918          Yes        Private          Urban     never smoked       1  \n",
            "4919          Yes        Private          Urban     never smoked       1  \n",
            "\n",
            "[4920 rows x 11 columns]\n"
          ]
        }
      ]
    },
    {
      "cell_type": "code",
      "source": [
        "# Separare le caratteristiche (X) e la variabile target (y)\n",
        "X_test_copy = df_test_copy.drop('stroke', axis=1)\n",
        "y_test_copy = df_test_copy['stroke']\n",
        "\n",
        "# Esegui il Label Encoding per le caratteristiche categoriali\n",
        "label_encoders = {}\n",
        "for column in X_test_copy.select_dtypes(include=['object']).columns:\n",
        "    le = LabelEncoder()\n",
        "    X_test_copy[column] = le.fit_transform(X_test_copy[column])\n",
        "    label_encoders[column] = le"
      ],
      "metadata": {
        "id": "KmM8z2GZ8D9J"
      },
      "execution_count": 62,
      "outputs": []
    },
    {
      "cell_type": "code",
      "source": [
        "print(len(y_test))\n",
        "print(len(y_test_copy))"
      ],
      "metadata": {
        "colab": {
          "base_uri": "https://localhost:8080/"
        },
        "id": "hS5ThBol8HnR",
        "outputId": "96d95aaf-2409-43c6-c93d-389475f85130"
      },
      "execution_count": 63,
      "outputs": [
        {
          "output_type": "stream",
          "name": "stdout",
          "text": [
            "651\n",
            "651\n"
          ]
        }
      ]
    },
    {
      "cell_type": "code",
      "source": [
        "print(X_train_copy)\n",
        "print(X_test_copy)"
      ],
      "metadata": {
        "colab": {
          "base_uri": "https://localhost:8080/"
        },
        "id": "XcE7_DmX8Iy0",
        "outputId": "854525c0-bb39-4e35-b43a-b3dfe20f0f3f"
      },
      "execution_count": 64,
      "outputs": [
        {
          "output_type": "stream",
          "name": "stdout",
          "text": [
            "       age  hypertension  heart-disease  avg-glucose-level   bmi  gender  \\\n",
            "0     82.0             0              1               73.0  27.0       1   \n",
            "1     26.0             0              0               91.0  24.0       0   \n",
            "2     19.0             0              0               97.0  30.0       1   \n",
            "3     21.0             0              0               77.0  25.0       1   \n",
            "4     49.0             0              0               92.0  38.0       1   \n",
            "...    ...           ...            ...                ...   ...     ...   \n",
            "4915  74.0             0              0              104.0  29.0       0   \n",
            "4916  79.0             0              0               93.0  24.0       0   \n",
            "4917  80.0             0              1              105.0  31.0       1   \n",
            "4918  73.0             0              0               65.0  25.0       0   \n",
            "4919  73.0             1              0              222.0  29.0       0   \n",
            "\n",
            "      ever-married  work-type  Residence-type  smoking-status  \n",
            "0                1          3               0               0  \n",
            "1                1          2               1               1  \n",
            "2                0          2               0               0  \n",
            "3                1          2               0               1  \n",
            "4                1          2               1               1  \n",
            "...            ...        ...             ...             ...  \n",
            "4915             1          2               1               1  \n",
            "4916             1          2               0               1  \n",
            "4917             1          2               0               1  \n",
            "4918             1          2               1               1  \n",
            "4919             1          2               1               1  \n",
            "\n",
            "[4920 rows x 10 columns]\n",
            "      gender   age  hypertension  heart-disease  ever-married  work-type  \\\n",
            "955        1  31.0             0              0             1          1   \n",
            "3060       1  49.0             0              0             1          2   \n",
            "2115       0  49.0             0              0             1          1   \n",
            "923        1  71.0             0              1             1          2   \n",
            "3445       0  41.0             0              0             1          1   \n",
            "...      ...   ...           ...            ...           ...        ...   \n",
            "3703       1  43.0             0              0             1          0   \n",
            "2537       0  67.0             0              0             1          2   \n",
            "4117       0  36.0             0              0             1          0   \n",
            "123        1  56.0             1              0             1          1   \n",
            "4748       0  28.0             0              0             1          0   \n",
            "\n",
            "      Residence-type  avg-glucose-level   bmi  smoking-status  \n",
            "955                1              85.16  30.1               2  \n",
            "3060               0             215.81  58.1               1  \n",
            "2115               0             114.76  24.7               1  \n",
            "923                0             207.32  32.4               2  \n",
            "3445               1             103.79  28.6               1  \n",
            "...              ...                ...   ...             ...  \n",
            "3703               0              83.78  21.6               1  \n",
            "2537               0              80.18  22.9               0  \n",
            "4117               1              66.47  26.9               1  \n",
            "123                0             249.31  35.8               1  \n",
            "4748               0              86.91  21.1               0  \n",
            "\n",
            "[651 rows x 10 columns]\n"
          ]
        }
      ]
    },
    {
      "cell_type": "code",
      "source": [
        "# Cambiare l'ordine delle caratteristiche in X_test_copy per corrispondere a X_train_copy\n",
        "X_test_copy = X_test_copy[X_train_copy.columns]\n",
        "print(len(X_train_copy))\n",
        "print(len(X_test_copy))"
      ],
      "metadata": {
        "colab": {
          "base_uri": "https://localhost:8080/"
        },
        "id": "PebjLyjp8RMu",
        "outputId": "b85f291b-71eb-4e16-efd6-25465c0f0231"
      },
      "execution_count": 65,
      "outputs": [
        {
          "output_type": "stream",
          "name": "stdout",
          "text": [
            "4920\n",
            "651\n"
          ]
        }
      ]
    },
    {
      "cell_type": "code",
      "source": [
        "# Naive Bayes\n",
        "from sklearn.naive_bayes import GaussianNB\n",
        "from sklearn.metrics import accuracy_score, classification_report\n",
        "nb = GaussianNB()\n",
        "nb.fit(X_train_copy, y_train_copy);\n",
        "# Fare previsioni sul test set\n",
        "y_pred = nb.predict(X_test_copy)\n",
        "\n",
        "#print(y_pred)\n",
        "# Creare un DataFrame per confrontare le previsioni con i valori reali\n",
        "comparison_df = pd.DataFrame({\n",
        "    'Real': y_test,\n",
        "    'Previsione': y_pred\n",
        "})\n",
        "\n",
        "print(\"Confronto tra valori reali e previsioni:\")\n",
        "print(comparison_df)"
      ],
      "metadata": {
        "colab": {
          "base_uri": "https://localhost:8080/"
        },
        "id": "FsHCSaJ_8Zhw",
        "outputId": "e70261df-2251-4546-ed00-02ac01fd0bf6"
      },
      "execution_count": 66,
      "outputs": [
        {
          "output_type": "stream",
          "name": "stdout",
          "text": [
            "Confronto tra valori reali e previsioni:\n",
            "      Real  Previsione\n",
            "955      0           0\n",
            "3060     0           0\n",
            "2115     0           0\n",
            "923      0           1\n",
            "3445     0           0\n",
            "...    ...         ...\n",
            "3703     0           0\n",
            "2537     0           1\n",
            "4117     0           0\n",
            "123      1           1\n",
            "4748     0           0\n",
            "\n",
            "[651 rows x 2 columns]\n"
          ]
        }
      ]
    },
    {
      "cell_type": "code",
      "source": [
        "# Creare e allenare il modello di Random Forest\n",
        "rf = RandomForestClassifier(n_estimators=100, random_state=42)\n",
        "rf.fit(X_train_copy, y_train_copy)\n",
        "\n",
        "# Fare previsioni sul test set\n",
        "y_pred = rf.predict(X_test_copy)\n",
        "comparison_df = pd.DataFrame({\n",
        "    'Real': y_test,\n",
        "    'Previsione': y_pred\n",
        "})\n",
        "\n",
        "print(\"Confronto tra valori reali e previsioni:\")\n",
        "print(comparison_df)"
      ],
      "metadata": {
        "colab": {
          "base_uri": "https://localhost:8080/"
        },
        "id": "OOo8u2pRLkNn",
        "outputId": "d3e915bc-a230-4902-98c3-73276397065c"
      },
      "execution_count": 67,
      "outputs": [
        {
          "output_type": "stream",
          "name": "stdout",
          "text": [
            "Confronto tra valori reali e previsioni:\n",
            "      Real  Previsione\n",
            "955      0           0\n",
            "3060     0           1\n",
            "2115     0           0\n",
            "923      0           0\n",
            "3445     0           0\n",
            "...    ...         ...\n",
            "3703     0           0\n",
            "2537     0           0\n",
            "4117     0           0\n",
            "123      1           0\n",
            "4748     0           0\n",
            "\n",
            "[651 rows x 2 columns]\n"
          ]
        }
      ]
    },
    {
      "cell_type": "code",
      "source": [
        "# Creare e allenare il modello di Regressione Logistica\n",
        "from sklearn.linear_model import LogisticRegression\n",
        "lr = LogisticRegression()\n",
        "lr.fit(X_train_copy, y_train_copy)\n",
        "\n",
        "# Fare previsioni sul test set\n",
        "y_pred = lr.predict(X_test_copy)\n",
        "comparison_df = pd.DataFrame({\n",
        "    'Real': y_test,\n",
        "    'Previsione': y_pred\n",
        "})\n",
        "\n",
        "print(\"Confronto tra valori reali e previsioni:\")\n",
        "print(comparison_df)"
      ],
      "metadata": {
        "colab": {
          "base_uri": "https://localhost:8080/"
        },
        "id": "20HunFNJPj5Q",
        "outputId": "bc3e78f0-9972-47c0-97f8-ab989bd3fd2b"
      },
      "execution_count": 68,
      "outputs": [
        {
          "output_type": "stream",
          "name": "stdout",
          "text": [
            "Confronto tra valori reali e previsioni:\n",
            "      Real  Previsione\n",
            "955      0           0\n",
            "3060     0           1\n",
            "2115     0           0\n",
            "923      0           1\n",
            "3445     0           0\n",
            "...    ...         ...\n",
            "3703     0           0\n",
            "2537     0           1\n",
            "4117     0           0\n",
            "123      1           1\n",
            "4748     0           0\n",
            "\n",
            "[651 rows x 2 columns]\n"
          ]
        },
        {
          "output_type": "stream",
          "name": "stderr",
          "text": [
            "/usr/local/lib/python3.10/dist-packages/sklearn/linear_model/_logistic.py:460: ConvergenceWarning: lbfgs failed to converge (status=1):\n",
            "STOP: TOTAL NO. of ITERATIONS REACHED LIMIT.\n",
            "\n",
            "Increase the number of iterations (max_iter) or scale the data as shown in:\n",
            "    https://scikit-learn.org/stable/modules/preprocessing.html\n",
            "Please also refer to the documentation for alternative solver options:\n",
            "    https://scikit-learn.org/stable/modules/linear_model.html#logistic-regression\n",
            "  n_iter_i = _check_optimize_result(\n"
          ]
        }
      ]
    },
    {
      "cell_type": "code",
      "source": [
        "# Normalizzare le caratteristiche, KNN è sensibile alla scala, quindi normalizziamo le caratteristiche assicurandoci\n",
        "# che abbiano la stessa scala\n",
        "from sklearn.preprocessing import StandardScaler\n",
        "from sklearn.neighbors import KNeighborsClassifier\n",
        "scaler = StandardScaler()\n",
        "X_train_copy = scaler.fit_transform(X_train_copy)\n",
        "X_test_copy = scaler.transform(X_test_copy)\n",
        "\n",
        "# Creare e allenare il modello k-NN\n",
        "k = 3\n",
        "knn = KNeighborsClassifier(n_neighbors=k)\n",
        "knn.fit(X_train_copy, y_train_copy)\n",
        "\n",
        "# Fare previsioni sul test set\n",
        "y_pred = knn.predict(X_test_copy)\n",
        "comparison_df = pd.DataFrame({\n",
        "    'Real': y_test,\n",
        "    'Previsione': y_pred\n",
        "})\n",
        "\n",
        "print(\"Confronto tra valori reali e previsioni:\")\n",
        "print(comparison_df)"
      ],
      "metadata": {
        "colab": {
          "base_uri": "https://localhost:8080/"
        },
        "id": "gZnwRodXQaXY",
        "outputId": "c785d85d-be13-4e04-acac-ee720ea187af"
      },
      "execution_count": 70,
      "outputs": [
        {
          "output_type": "stream",
          "name": "stdout",
          "text": [
            "Confronto tra valori reali e previsioni:\n",
            "      Real  Previsione\n",
            "955      0           0\n",
            "3060     0           1\n",
            "2115     0           0\n",
            "923      0           1\n",
            "3445     0           0\n",
            "...    ...         ...\n",
            "3703     0           0\n",
            "2537     0           0\n",
            "4117     0           0\n",
            "123      1           1\n",
            "4748     0           0\n",
            "\n",
            "[651 rows x 2 columns]\n"
          ]
        }
      ]
    }
  ]
}