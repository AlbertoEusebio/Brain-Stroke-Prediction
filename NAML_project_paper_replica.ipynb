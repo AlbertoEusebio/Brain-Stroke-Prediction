{
  "cells": [
    {
      "cell_type": "markdown",
      "metadata": {},
      "source": [
        "# NAML project - Stroke prediction\n",
        "###  Cavallini - Eusebio"
      ]
    },
    {
      "cell_type": "code",
      "execution_count": 37,
      "metadata": {
        "id": "Hv1sRCBfy1xN"
      },
      "outputs": [],
      "source": [
        "import numpy as np\n",
        "import matplotlib.pyplot as plt\n",
        "import pandas as pd\n",
        "import seaborn as sns"
      ]
    },
    {
      "cell_type": "code",
      "execution_count": 38,
      "metadata": {
        "id": "gCkctsD-zCzv"
      },
      "outputs": [],
      "source": [
        "df = pd.read_csv('healthcare-dataset-stroke-data.csv')"
      ]
    },
    {
      "cell_type": "code",
      "execution_count": 39,
      "metadata": {
        "id": "afpQgdLRH-ls"
      },
      "outputs": [],
      "source": [
        "new_cols = [\"id\", \"gender\", \"age\", \"hypertension\", \"heart-disease\", \"ever-married\", \"work-type\", \"Residence-type\", \"avg-glucose-level\", \"bmi\", \"smoking-status\", \"stroke\"]\n",
        "\n",
        "cathegorical_features = ['work-type', 'smoking-status']\n",
        "binary_features = ['hypertension', 'heart-disease', 'gender', 'ever-married', 'Residence-type']\n",
        "numerical_features = ['age', 'avg-glucose-level', 'bmi']\n",
        "\n",
        "df.columns = new_cols"
      ]
    },
    {
      "cell_type": "code",
      "execution_count": 40,
      "metadata": {
        "colab": {
          "base_uri": "https://localhost:8080/",
          "height": 275
        },
        "id": "5LoG-19fzEmj",
        "outputId": "8870ecf9-5741-4f4c-c179-201310a26c43"
      },
      "outputs": [
        {
          "data": {
            "text/html": [
              "<div>\n",
              "<style scoped>\n",
              "    .dataframe tbody tr th:only-of-type {\n",
              "        vertical-align: middle;\n",
              "    }\n",
              "\n",
              "    .dataframe tbody tr th {\n",
              "        vertical-align: top;\n",
              "    }\n",
              "\n",
              "    .dataframe thead th {\n",
              "        text-align: right;\n",
              "    }\n",
              "</style>\n",
              "<table border=\"1\" class=\"dataframe\">\n",
              "  <thead>\n",
              "    <tr style=\"text-align: right;\">\n",
              "      <th></th>\n",
              "      <th>id</th>\n",
              "      <th>gender</th>\n",
              "      <th>age</th>\n",
              "      <th>hypertension</th>\n",
              "      <th>heart-disease</th>\n",
              "      <th>ever-married</th>\n",
              "      <th>work-type</th>\n",
              "      <th>Residence-type</th>\n",
              "      <th>avg-glucose-level</th>\n",
              "      <th>bmi</th>\n",
              "      <th>smoking-status</th>\n",
              "      <th>stroke</th>\n",
              "    </tr>\n",
              "  </thead>\n",
              "  <tbody>\n",
              "    <tr>\n",
              "      <th>0</th>\n",
              "      <td>9046</td>\n",
              "      <td>Male</td>\n",
              "      <td>67.0</td>\n",
              "      <td>0</td>\n",
              "      <td>1</td>\n",
              "      <td>Yes</td>\n",
              "      <td>Private</td>\n",
              "      <td>Urban</td>\n",
              "      <td>228.69</td>\n",
              "      <td>36.6</td>\n",
              "      <td>formerly smoked</td>\n",
              "      <td>1</td>\n",
              "    </tr>\n",
              "    <tr>\n",
              "      <th>1</th>\n",
              "      <td>51676</td>\n",
              "      <td>Female</td>\n",
              "      <td>61.0</td>\n",
              "      <td>0</td>\n",
              "      <td>0</td>\n",
              "      <td>Yes</td>\n",
              "      <td>Self-employed</td>\n",
              "      <td>Rural</td>\n",
              "      <td>202.21</td>\n",
              "      <td>NaN</td>\n",
              "      <td>never smoked</td>\n",
              "      <td>1</td>\n",
              "    </tr>\n",
              "    <tr>\n",
              "      <th>2</th>\n",
              "      <td>31112</td>\n",
              "      <td>Male</td>\n",
              "      <td>80.0</td>\n",
              "      <td>0</td>\n",
              "      <td>1</td>\n",
              "      <td>Yes</td>\n",
              "      <td>Private</td>\n",
              "      <td>Rural</td>\n",
              "      <td>105.92</td>\n",
              "      <td>32.5</td>\n",
              "      <td>never smoked</td>\n",
              "      <td>1</td>\n",
              "    </tr>\n",
              "    <tr>\n",
              "      <th>3</th>\n",
              "      <td>60182</td>\n",
              "      <td>Female</td>\n",
              "      <td>49.0</td>\n",
              "      <td>0</td>\n",
              "      <td>0</td>\n",
              "      <td>Yes</td>\n",
              "      <td>Private</td>\n",
              "      <td>Urban</td>\n",
              "      <td>171.23</td>\n",
              "      <td>34.4</td>\n",
              "      <td>smokes</td>\n",
              "      <td>1</td>\n",
              "    </tr>\n",
              "    <tr>\n",
              "      <th>4</th>\n",
              "      <td>1665</td>\n",
              "      <td>Female</td>\n",
              "      <td>79.0</td>\n",
              "      <td>1</td>\n",
              "      <td>0</td>\n",
              "      <td>Yes</td>\n",
              "      <td>Self-employed</td>\n",
              "      <td>Rural</td>\n",
              "      <td>174.12</td>\n",
              "      <td>24.0</td>\n",
              "      <td>never smoked</td>\n",
              "      <td>1</td>\n",
              "    </tr>\n",
              "  </tbody>\n",
              "</table>\n",
              "</div>"
            ],
            "text/plain": [
              "      id  gender   age  hypertension  heart-disease ever-married  \\\n",
              "0   9046    Male  67.0             0              1          Yes   \n",
              "1  51676  Female  61.0             0              0          Yes   \n",
              "2  31112    Male  80.0             0              1          Yes   \n",
              "3  60182  Female  49.0             0              0          Yes   \n",
              "4   1665  Female  79.0             1              0          Yes   \n",
              "\n",
              "       work-type Residence-type  avg-glucose-level   bmi   smoking-status  \\\n",
              "0        Private          Urban             228.69  36.6  formerly smoked   \n",
              "1  Self-employed          Rural             202.21   NaN     never smoked   \n",
              "2        Private          Rural             105.92  32.5     never smoked   \n",
              "3        Private          Urban             171.23  34.4           smokes   \n",
              "4  Self-employed          Rural             174.12  24.0     never smoked   \n",
              "\n",
              "   stroke  \n",
              "0       1  \n",
              "1       1  \n",
              "2       1  \n",
              "3       1  \n",
              "4       1  "
            ]
          },
          "execution_count": 40,
          "metadata": {},
          "output_type": "execute_result"
        }
      ],
      "source": [
        "df.head()"
      ]
    },
    {
      "cell_type": "code",
      "execution_count": 41,
      "metadata": {
        "id": "oUJ_OP1pzJUK"
      },
      "outputs": [],
      "source": [
        "df.drop('id', axis=1, inplace=True) # drop id column because it is not useful"
      ]
    },
    {
      "cell_type": "code",
      "execution_count": 42,
      "metadata": {
        "colab": {
          "base_uri": "https://localhost:8080/"
        },
        "id": "K7GfXpIozNmQ",
        "outputId": "97547163-783e-4377-c720-f0fb35a38ac7"
      },
      "outputs": [
        {
          "name": "stdout",
          "output_type": "stream",
          "text": [
            "<class 'pandas.core.frame.DataFrame'>\n",
            "RangeIndex: 5110 entries, 0 to 5109\n",
            "Data columns (total 11 columns):\n",
            " #   Column             Non-Null Count  Dtype  \n",
            "---  ------             --------------  -----  \n",
            " 0   gender             5110 non-null   object \n",
            " 1   age                5110 non-null   float64\n",
            " 2   hypertension       5110 non-null   int64  \n",
            " 3   heart-disease      5110 non-null   int64  \n",
            " 4   ever-married       5110 non-null   object \n",
            " 5   work-type          5110 non-null   object \n",
            " 6   Residence-type     5110 non-null   object \n",
            " 7   avg-glucose-level  5110 non-null   float64\n",
            " 8   bmi                4909 non-null   float64\n",
            " 9   smoking-status     5110 non-null   object \n",
            " 10  stroke             5110 non-null   int64  \n",
            "dtypes: float64(3), int64(3), object(5)\n",
            "memory usage: 439.3+ KB\n"
          ]
        }
      ],
      "source": [
        "df.info()"
      ]
    },
    {
      "cell_type": "markdown",
      "metadata": {},
      "source": [
        "## Data Pre-processing"
      ]
    },
    {
      "cell_type": "code",
      "execution_count": 43,
      "metadata": {
        "colab": {
          "base_uri": "https://localhost:8080/"
        },
        "id": "raw_WR4tzRsg",
        "outputId": "82bc93f4-292e-4ca4-df33-6d7da7bc6c95"
      },
      "outputs": [
        {
          "data": {
            "text/plain": [
              "gender                 0\n",
              "age                    0\n",
              "hypertension           0\n",
              "heart-disease          0\n",
              "ever-married           0\n",
              "work-type              0\n",
              "Residence-type         0\n",
              "avg-glucose-level      0\n",
              "bmi                  201\n",
              "smoking-status         0\n",
              "stroke                 0\n",
              "dtype: int64"
            ]
          },
          "execution_count": 43,
          "metadata": {},
          "output_type": "execute_result"
        }
      ],
      "source": [
        "df.isna().sum()"
      ]
    },
    {
      "cell_type": "code",
      "execution_count": 44,
      "metadata": {
        "id": "7Whn1MgmzUM6"
      },
      "outputs": [],
      "source": [
        "df.dropna(inplace=True)"
      ]
    },
    {
      "cell_type": "code",
      "execution_count": 45,
      "metadata": {
        "colab": {
          "base_uri": "https://localhost:8080/"
        },
        "id": "J8sfLyX1zWcK",
        "outputId": "88c642cd-3c4a-4705-c0c7-599aadc5ad96"
      },
      "outputs": [
        {
          "data": {
            "text/plain": [
              "gender               0\n",
              "age                  0\n",
              "hypertension         0\n",
              "heart-disease        0\n",
              "ever-married         0\n",
              "work-type            0\n",
              "Residence-type       0\n",
              "avg-glucose-level    0\n",
              "bmi                  0\n",
              "smoking-status       0\n",
              "stroke               0\n",
              "dtype: int64"
            ]
          },
          "execution_count": 45,
          "metadata": {},
          "output_type": "execute_result"
        }
      ],
      "source": [
        "df.isnull().sum()"
      ]
    },
    {
      "cell_type": "markdown",
      "metadata": {},
      "source": [
        "As we can clearly see the BMI column presents some N/A values that we have removed. "
      ]
    },
    {
      "cell_type": "code",
      "execution_count": 46,
      "metadata": {
        "colab": {
          "base_uri": "https://localhost:8080/"
        },
        "id": "09tdkMnszag_",
        "outputId": "18dec795-acf9-4008-8275-dbdc58c22d0e"
      },
      "outputs": [
        {
          "name": "stdout",
          "output_type": "stream",
          "text": [
            "<class 'pandas.core.frame.DataFrame'>\n",
            "Index: 4073 entries, 0 to 5109\n",
            "Data columns (total 11 columns):\n",
            " #   Column             Non-Null Count  Dtype  \n",
            "---  ------             --------------  -----  \n",
            " 0   gender             4073 non-null   object \n",
            " 1   age                4073 non-null   float64\n",
            " 2   hypertension       4073 non-null   int64  \n",
            " 3   heart-disease      4073 non-null   int64  \n",
            " 4   ever-married       4073 non-null   object \n",
            " 5   work-type          4073 non-null   object \n",
            " 6   Residence-type     4073 non-null   object \n",
            " 7   avg-glucose-level  4073 non-null   float64\n",
            " 8   bmi                4073 non-null   float64\n",
            " 9   smoking-status     4073 non-null   object \n",
            " 10  stroke             4073 non-null   int64  \n",
            "dtypes: float64(3), int64(3), object(5)\n",
            "memory usage: 381.8+ KB\n"
          ]
        }
      ],
      "source": [
        "df = df[df['age'] >= 18]\n",
        "df.info()"
      ]
    },
    {
      "cell_type": "markdown",
      "metadata": {},
      "source": [
        "In the paper is clearly stated that only the patients above 18 years old were considered. We have removed the patients below 18 years old."
      ]
    },
    {
      "cell_type": "code",
      "execution_count": 47,
      "metadata": {
        "colab": {
          "base_uri": "https://localhost:8080/"
        },
        "id": "EoBAT7BXzdGY",
        "outputId": "94cd9525-7e0c-4158-e3d8-acaa0a0119ff"
      },
      "outputs": [
        {
          "name": "stdout",
          "output_type": "stream",
          "text": [
            "<class 'pandas.core.frame.DataFrame'>\n",
            "Index: 3256 entries, 0 to 5108\n",
            "Data columns (total 11 columns):\n",
            " #   Column             Non-Null Count  Dtype  \n",
            "---  ------             --------------  -----  \n",
            " 0   gender             3256 non-null   object \n",
            " 1   age                3256 non-null   float64\n",
            " 2   hypertension       3256 non-null   int64  \n",
            " 3   heart-disease      3256 non-null   int64  \n",
            " 4   ever-married       3256 non-null   object \n",
            " 5   work-type          3256 non-null   object \n",
            " 6   Residence-type     3256 non-null   object \n",
            " 7   avg-glucose-level  3256 non-null   float64\n",
            " 8   bmi                3256 non-null   float64\n",
            " 9   smoking-status     3256 non-null   object \n",
            " 10  stroke             3256 non-null   int64  \n",
            "dtypes: float64(3), int64(3), object(5)\n",
            "memory usage: 305.2+ KB\n"
          ]
        }
      ],
      "source": [
        "df = df[df['smoking-status'] != 'Unknown']\n",
        "df.info()"
      ]
    },
    {
      "cell_type": "code",
      "execution_count": 48,
      "metadata": {
        "colab": {
          "base_uri": "https://localhost:8080/"
        },
        "id": "zWG7JyxxzfXb",
        "outputId": "d420f0d4-f159-4d1b-d151-ad2962560394"
      },
      "outputs": [
        {
          "name": "stdout",
          "output_type": "stream",
          "text": [
            "<class 'pandas.core.frame.DataFrame'>\n",
            "Index: 3255 entries, 0 to 5108\n",
            "Data columns (total 11 columns):\n",
            " #   Column             Non-Null Count  Dtype  \n",
            "---  ------             --------------  -----  \n",
            " 0   gender             3255 non-null   object \n",
            " 1   age                3255 non-null   float64\n",
            " 2   hypertension       3255 non-null   int64  \n",
            " 3   heart-disease      3255 non-null   int64  \n",
            " 4   ever-married       3255 non-null   object \n",
            " 5   work-type          3255 non-null   object \n",
            " 6   Residence-type     3255 non-null   object \n",
            " 7   avg-glucose-level  3255 non-null   float64\n",
            " 8   bmi                3255 non-null   float64\n",
            " 9   smoking-status     3255 non-null   object \n",
            " 10  stroke             3255 non-null   int64  \n",
            "dtypes: float64(3), int64(3), object(5)\n",
            "memory usage: 305.2+ KB\n"
          ]
        }
      ],
      "source": [
        "df = df[df['gender'] != 'Other']\n",
        "df.info()"
      ]
    },
    {
      "cell_type": "code",
      "execution_count": 49,
      "metadata": {
        "colab": {
          "base_uri": "https://localhost:8080/"
        },
        "id": "u1AiUz3Jzhwc",
        "outputId": "2d6d220f-f377-40e7-d827-e902c7b4730f"
      },
      "outputs": [
        {
          "name": "stdout",
          "output_type": "stream",
          "text": [
            "<class 'pandas.core.frame.DataFrame'>\n",
            "Index: 3255 entries, 0 to 5108\n",
            "Data columns (total 11 columns):\n",
            " #   Column             Non-Null Count  Dtype  \n",
            "---  ------             --------------  -----  \n",
            " 0   gender             3255 non-null   object \n",
            " 1   age                3255 non-null   float64\n",
            " 2   hypertension       3255 non-null   int64  \n",
            " 3   heart-disease      3255 non-null   int64  \n",
            " 4   ever-married       3255 non-null   object \n",
            " 5   work-type          3255 non-null   object \n",
            " 6   Residence-type     3255 non-null   object \n",
            " 7   avg-glucose-level  3255 non-null   float64\n",
            " 8   bmi                3255 non-null   float64\n",
            " 9   smoking-status     3255 non-null   object \n",
            " 10  stroke             3255 non-null   int64  \n",
            "dtypes: float64(3), int64(3), object(5)\n",
            "memory usage: 305.2+ KB\n"
          ]
        }
      ],
      "source": [
        "df.drop_duplicates(inplace=True)\n",
        "df.info()"
      ]
    },
    {
      "cell_type": "markdown",
      "metadata": {},
      "source": [
        "We filter out also the patients whose gender and smoking status are unknown. This to reducce the uncertainty in the data."
      ]
    },
    {
      "cell_type": "code",
      "execution_count": 50,
      "metadata": {
        "colab": {
          "base_uri": "https://localhost:8080/",
          "height": 458
        },
        "id": "r1LGnBNmzkdd",
        "outputId": "1fbc303c-b896-444d-8ec0-7732ce00b8e7"
      },
      "outputs": [
        {
          "data": {
            "image/png": "[encoded data removed]",
            "text/plain": [
              "<Figure size 1500x500 with 3 Axes>"
            ]
          },
          "metadata": {},
          "output_type": "display_data"
        }
      ],
      "source": [
        "num_cols = ['age','bmi','avg-glucose-level']\n",
        "\n",
        "plt.figure(figsize=(15, 5))\n",
        "for i in range(3) :\n",
        "    plt.subplot(1,3,i+1)\n",
        "\n",
        "    sns.boxplot(x=df[num_cols[i]],color='#6DA59D')\n",
        "    plt.title(num_cols[i])\n",
        "plt.show()"
      ]
    },
    {
      "cell_type": "code",
      "execution_count": 51,
      "metadata": {},
      "outputs": [
        {
          "name": "stdout",
          "output_type": "stream",
          "text": [
            "     gender   age  hypertension  heart-disease ever-married work-type  \\\n",
            "2187   Male  40.0             0              0          Yes   Private   \n",
            "\n",
            "     Residence-type  avg-glucose-level   bmi smoking-status  stroke  \n",
            "2187          Rural              60.96  11.5   never smoked       0  \n"
          ]
        }
      ],
      "source": [
        "print(df[df['bmi'] < 12])"
      ]
    },
    {
      "cell_type": "markdown",
      "metadata": {},
      "source": [
        "In the paper, the autors have removed the single lowest bmi value. We have done the same."
      ]
    },
    {
      "cell_type": "code",
      "execution_count": 52,
      "metadata": {
        "colab": {
          "base_uri": "https://localhost:8080/"
        },
        "id": "CXKI6RbJznFd",
        "outputId": "88e2fa39-05ab-476d-8d6f-541de625281d"
      },
      "outputs": [
        {
          "name": "stdout",
          "output_type": "stream",
          "text": [
            "<class 'pandas.core.frame.DataFrame'>\n",
            "Index: 3254 entries, 0 to 5108\n",
            "Data columns (total 11 columns):\n",
            " #   Column             Non-Null Count  Dtype  \n",
            "---  ------             --------------  -----  \n",
            " 0   gender             3254 non-null   object \n",
            " 1   age                3254 non-null   float64\n",
            " 2   hypertension       3254 non-null   int64  \n",
            " 3   heart-disease      3254 non-null   int64  \n",
            " 4   ever-married       3254 non-null   object \n",
            " 5   work-type          3254 non-null   object \n",
            " 6   Residence-type     3254 non-null   object \n",
            " 7   avg-glucose-level  3254 non-null   float64\n",
            " 8   bmi                3254 non-null   float64\n",
            " 9   smoking-status     3254 non-null   object \n",
            " 10  stroke             3254 non-null   int64  \n",
            "dtypes: float64(3), int64(3), object(5)\n",
            "memory usage: 305.1+ KB\n"
          ]
        }
      ],
      "source": [
        "df = df[df['bmi'] > 12]\n",
        "df.info()"
      ]
    },
    {
      "cell_type": "markdown",
      "metadata": {},
      "source": [
        "## Exploratory Data Analysis"
      ]
    },
    {
      "cell_type": "code",
      "execution_count": 53,
      "metadata": {
        "colab": {
          "base_uri": "https://localhost:8080/"
        },
        "id": "YJVLxuPxzuT6",
        "outputId": "9accc335-fad6-4494-df8f-02e62ffceb2a"
      },
      "outputs": [
        {
          "name": "stdout",
          "output_type": "stream",
          "text": [
            "Stroke percentage: 5.53%\n"
          ]
        }
      ],
      "source": [
        "stroke_count =df['stroke'].value_counts() # pandas serie, it contains the number of '1' (stroke) and the number of '0' (no stroke)\n",
        "print(\"Stroke percentage: {:.2f}%\".format(100 * (stroke_count[1] / (stroke_count[0] + stroke_count[1]))))"
      ]
    },
    {
      "cell_type": "code",
      "execution_count": 54,
      "metadata": {
        "colab": {
          "base_uri": "https://localhost:8080/"
        },
        "id": "VIe4YWAlzx2A",
        "outputId": "2443f8e4-ad7c-43f2-a289-5e9bcde8497b"
      },
      "outputs": [
        {
          "name": "stdout",
          "output_type": "stream",
          "text": [
            "Number of males:  1260\n",
            "Number of females:  1994\n"
          ]
        }
      ],
      "source": [
        "gender_count = df['gender'].value_counts()\n",
        "print('Number of males: ', gender_count['Male'])\n",
        "print('Number of females: ', gender_count['Female'])"
      ]
    },
    {
      "cell_type": "code",
      "execution_count": 55,
      "metadata": {
        "colab": {
          "base_uri": "https://localhost:8080/"
        },
        "id": "Ye7W233Cz2gI",
        "outputId": "98ae7f57-31b6-4bd4-8208-bc242398c061"
      },
      "outputs": [
        {
          "name": "stdout",
          "output_type": "stream",
          "text": [
            "Hypertension percentage: 12.54%\n"
          ]
        }
      ],
      "source": [
        "hypertension_count =df['hypertension'].value_counts()\n",
        "print(\"Hypertension percentage: {:.2f}%\".format(100 *( hypertension_count[1]/(hypertension_count[0]+hypertension_count[1]))))"
      ]
    },
    {
      "cell_type": "code",
      "execution_count": 56,
      "metadata": {
        "colab": {
          "base_uri": "https://localhost:8080/"
        },
        "id": "9VAbBsXrz54V",
        "outputId": "ef30e897-8bf8-4b30-d0f4-22bce71f27a4"
      },
      "outputs": [
        {
          "name": "stdout",
          "output_type": "stream",
          "text": [
            "Hearth disease percentage: 6.33%\n"
          ]
        }
      ],
      "source": [
        "heart_disease_count =df['heart-disease'].value_counts()\n",
        "print(\"Hearth disease percentage: {:.2f}%\".format(100 * (heart_disease_count[1]/(heart_disease_count[0]+heart_disease_count[1]))))"
      ]
    },
    {
      "cell_type": "code",
      "execution_count": 57,
      "metadata": {
        "colab": {
          "base_uri": "https://localhost:8080/"
        },
        "id": "F5H4h5-lz9Xj",
        "outputId": "c64475d3-d971-421d-a2ca-94a8b4b87eca"
      },
      "outputs": [
        {
          "name": "stdout",
          "output_type": "stream",
          "text": [
            "Married percentage: 79.84%\n"
          ]
        },
        {
          "name": "stderr",
          "output_type": "stream",
          "text": [
            "C:\\Users\\hp\\AppData\\Local\\Temp\\ipykernel_19244\\140164340.py:2: FutureWarning: Series.__getitem__ treating keys as positions is deprecated. In a future version, integer keys will always be treated as labels (consistent with DataFrame behavior). To access a value by position, use `ser.iloc[pos]`\n",
            "  print(\"Married percentage: {:.2f}%\".format(100 * (ever_married_count[0]/(ever_married_count[0]+ever_married_count[1]))))\n"
          ]
        }
      ],
      "source": [
        "ever_married_count =df['ever-married'].value_counts()\n",
        "print(\"Married percentage: {:.2f}%\".format(100 * (ever_married_count[0]/(ever_married_count[0]+ever_married_count[1]))))"
      ]
    },
    {
      "cell_type": "code",
      "execution_count": 58,
      "metadata": {
        "colab": {
          "base_uri": "https://localhost:8080/"
        },
        "id": "NXxnndg_0Bmt",
        "outputId": "c0361cb7-a97c-4b19-f848-4f5e5969af20"
      },
      "outputs": [
        {
          "name": "stdout",
          "output_type": "stream",
          "text": [
            "Private percentage: 65.03%\n",
            "Self-employed percentage: 19.21%\n",
            "Gov percentage: 15.67%\n",
            "Never Worked fraction: 0.1%\n"
          ]
        },
        {
          "name": "stderr",
          "output_type": "stream",
          "text": [
            "C:\\Users\\hp\\AppData\\Local\\Temp\\ipykernel_19244\\2819490883.py:2: FutureWarning: Series.__getitem__ treating keys as positions is deprecated. In a future version, integer keys will always be treated as labels (consistent with DataFrame behavior). To access a value by position, use `ser.iloc[pos]`\n",
            "  print(\"Private percentage: {:.2f}%\".format(100 * (work_type_count[0]/(work_type_count[0]+work_type_count[1]+work_type_count[2]+work_type_count[3]))))\n",
            "C:\\Users\\hp\\AppData\\Local\\Temp\\ipykernel_19244\\2819490883.py:3: FutureWarning: Series.__getitem__ treating keys as positions is deprecated. In a future version, integer keys will always be treated as labels (consistent with DataFrame behavior). To access a value by position, use `ser.iloc[pos]`\n",
            "  print(\"Self-employed percentage: {:.2f}%\".format(100 * (work_type_count[1]/(work_type_count[0]+work_type_count[1]+work_type_count[2]+work_type_count[3]))))\n",
            "C:\\Users\\hp\\AppData\\Local\\Temp\\ipykernel_19244\\2819490883.py:4: FutureWarning: Series.__getitem__ treating keys as positions is deprecated. In a future version, integer keys will always be treated as labels (consistent with DataFrame behavior). To access a value by position, use `ser.iloc[pos]`\n",
            "  print(\"Gov percentage: {:.2f}%\".format(100 * (work_type_count[2]/(work_type_count[0]+work_type_count[1]+work_type_count[2]+work_type_count[3]))))\n",
            "C:\\Users\\hp\\AppData\\Local\\Temp\\ipykernel_19244\\2819490883.py:5: FutureWarning: Series.__getitem__ treating keys as positions is deprecated. In a future version, integer keys will always be treated as labels (consistent with DataFrame behavior). To access a value by position, use `ser.iloc[pos]`\n",
            "  print(\"Never Worked fraction: {:.1f}%\".format(100 * (work_type_count[3]/(work_type_count[0]+work_type_count[1]+work_type_count[2]+work_type_count[3]))))\n"
          ]
        }
      ],
      "source": [
        "work_type_count =df['work-type'].value_counts()\n",
        "print(\"Private percentage: {:.2f}%\".format(100 * (work_type_count[0]/(work_type_count[0]+work_type_count[1]+work_type_count[2]+work_type_count[3]))))\n",
        "print(\"Self-employed percentage: {:.2f}%\".format(100 * (work_type_count[1]/(work_type_count[0]+work_type_count[1]+work_type_count[2]+work_type_count[3]))))\n",
        "print(\"Gov percentage: {:.2f}%\".format(100 * (work_type_count[2]/(work_type_count[0]+work_type_count[1]+work_type_count[2]+work_type_count[3]))))\n",
        "print(\"Never Worked fraction: {:.1f}%\".format(100 * (work_type_count[3]/(work_type_count[0]+work_type_count[1]+work_type_count[2]+work_type_count[3]))))"
      ]
    },
    {
      "cell_type": "code",
      "execution_count": 59,
      "metadata": {
        "colab": {
          "base_uri": "https://localhost:8080/"
        },
        "id": "Kyvi-6GA0FN8",
        "outputId": "427322d7-a2cb-45ef-8222-a997af0b4fcd"
      },
      "outputs": [
        {
          "name": "stdout",
          "output_type": "stream",
          "text": [
            "Urban percentage: 51.14%\n",
            "Rural pergentage: 48.86%\n"
          ]
        },
        {
          "name": "stderr",
          "output_type": "stream",
          "text": [
            "C:\\Users\\hp\\AppData\\Local\\Temp\\ipykernel_19244\\159459921.py:2: FutureWarning: Series.__getitem__ treating keys as positions is deprecated. In a future version, integer keys will always be treated as labels (consistent with DataFrame behavior). To access a value by position, use `ser.iloc[pos]`\n",
            "  print(\"Urban percentage: {:.2f}%\".format(100 * (residence_type_count[0]/(residence_type_count[0]+residence_type_count[1]))))\n",
            "C:\\Users\\hp\\AppData\\Local\\Temp\\ipykernel_19244\\159459921.py:3: FutureWarning: Series.__getitem__ treating keys as positions is deprecated. In a future version, integer keys will always be treated as labels (consistent with DataFrame behavior). To access a value by position, use `ser.iloc[pos]`\n",
            "  print(\"Rural pergentage: {:.2f}%\".format(100 * (residence_type_count[1]/(residence_type_count[0]+residence_type_count[1]))))\n"
          ]
        }
      ],
      "source": [
        "residence_type_count =df['Residence-type'].value_counts()\n",
        "print(\"Urban percentage: {:.2f}%\".format(100 * (residence_type_count[0]/(residence_type_count[0]+residence_type_count[1]))))\n",
        "print(\"Rural pergentage: {:.2f}%\".format(100 * (residence_type_count[1]/(residence_type_count[0]+residence_type_count[1]))))"
      ]
    },
    {
      "cell_type": "code",
      "execution_count": 60,
      "metadata": {
        "colab": {
          "base_uri": "https://localhost:8080/"
        },
        "id": "csXZWGum0JM3",
        "outputId": "bd674f8b-70c8-48e4-8a84-5624fb6e0560"
      },
      "outputs": [
        {
          "name": "stdout",
          "output_type": "stream",
          "text": [
            "Never Smoked fraction: 52.64%\n",
            "Formely Smoked fraction: 24.98%\n",
            "Smokes fraction: 22.37%\n"
          ]
        },
        {
          "name": "stderr",
          "output_type": "stream",
          "text": [
            "C:\\Users\\hp\\AppData\\Local\\Temp\\ipykernel_19244\\4037653718.py:2: FutureWarning: Series.__getitem__ treating keys as positions is deprecated. In a future version, integer keys will always be treated as labels (consistent with DataFrame behavior). To access a value by position, use `ser.iloc[pos]`\n",
            "  print(\"Never Smoked fraction: {:.2f}%\".format(100 * (smoking_status_count[0]/(smoking_status_count[0]+smoking_status_count[1]+smoking_status_count[2]))))\n",
            "C:\\Users\\hp\\AppData\\Local\\Temp\\ipykernel_19244\\4037653718.py:3: FutureWarning: Series.__getitem__ treating keys as positions is deprecated. In a future version, integer keys will always be treated as labels (consistent with DataFrame behavior). To access a value by position, use `ser.iloc[pos]`\n",
            "  print(\"Formely Smoked fraction: {:.2f}%\".format(100 * (smoking_status_count[1]/(smoking_status_count[0]+smoking_status_count[1]+smoking_status_count[2]))))\n",
            "C:\\Users\\hp\\AppData\\Local\\Temp\\ipykernel_19244\\4037653718.py:4: FutureWarning: Series.__getitem__ treating keys as positions is deprecated. In a future version, integer keys will always be treated as labels (consistent with DataFrame behavior). To access a value by position, use `ser.iloc[pos]`\n",
            "  print(\"Smokes fraction: {:.2f}%\".format(100 * (smoking_status_count[2]/(smoking_status_count[0]+smoking_status_count[1]+smoking_status_count[2]))))\n"
          ]
        }
      ],
      "source": [
        "smoking_status_count =df['smoking-status'].value_counts()\n",
        "print(\"Never Smoked fraction: {:.2f}%\".format(100 * (smoking_status_count[0]/(smoking_status_count[0]+smoking_status_count[1]+smoking_status_count[2]))))\n",
        "print(\"Formely Smoked fraction: {:.2f}%\".format(100 * (smoking_status_count[1]/(smoking_status_count[0]+smoking_status_count[1]+smoking_status_count[2]))))\n",
        "print(\"Smokes fraction: {:.2f}%\".format(100 * (smoking_status_count[2]/(smoking_status_count[0]+smoking_status_count[1]+smoking_status_count[2]))))"
      ]
    },
    {
      "cell_type": "markdown",
      "metadata": {},
      "source": [
        "The percentages showed above are exactly the same as the ones in the paper."
      ]
    },
    {
      "cell_type": "code",
      "execution_count": 61,
      "metadata": {
        "colab": {
          "base_uri": "https://localhost:8080/"
        },
        "id": "EFfrDTd00OJx",
        "outputId": "cae25ec7-b313-43b6-c6e6-f3a9680b3fb8"
      },
      "outputs": [
        {
          "name": "stdout",
          "output_type": "stream",
          "text": [
            "<class 'pandas.core.frame.DataFrame'>\n",
            "Index: 3254 entries, 0 to 5108\n",
            "Data columns (total 11 columns):\n",
            " #   Column             Non-Null Count  Dtype  \n",
            "---  ------             --------------  -----  \n",
            " 0   gender             3254 non-null   object \n",
            " 1   age                3254 non-null   float64\n",
            " 2   hypertension       3254 non-null   int64  \n",
            " 3   heart-disease      3254 non-null   int64  \n",
            " 4   ever-married       3254 non-null   object \n",
            " 5   work-type          3254 non-null   object \n",
            " 6   Residence-type     3254 non-null   object \n",
            " 7   avg-glucose-level  3254 non-null   float64\n",
            " 8   bmi                3254 non-null   float64\n",
            " 9   smoking-status     3254 non-null   object \n",
            " 10  stroke             3254 non-null   int64  \n",
            "dtypes: float64(3), int64(3), object(5)\n",
            "memory usage: 305.1+ KB\n"
          ]
        }
      ],
      "source": [
        "df.info()"
      ]
    },
    {
      "cell_type": "code",
      "execution_count": 62,
      "metadata": {
        "colab": {
          "base_uri": "https://localhost:8080/",
          "height": 206
        },
        "id": "60cwUb-A0R-h",
        "outputId": "2e4ff968-2f09-44a2-bc44-3b5d32f28123"
      },
      "outputs": [
        {
          "data": {
            "text/html": [
              "<div>\n",
              "<style scoped>\n",
              "    .dataframe tbody tr th:only-of-type {\n",
              "        vertical-align: middle;\n",
              "    }\n",
              "\n",
              "    .dataframe tbody tr th {\n",
              "        vertical-align: top;\n",
              "    }\n",
              "\n",
              "    .dataframe thead th {\n",
              "        text-align: right;\n",
              "    }\n",
              "</style>\n",
              "<table border=\"1\" class=\"dataframe\">\n",
              "  <thead>\n",
              "    <tr style=\"text-align: right;\">\n",
              "      <th></th>\n",
              "      <th>gender</th>\n",
              "      <th>age</th>\n",
              "      <th>hypertension</th>\n",
              "      <th>heart-disease</th>\n",
              "      <th>ever-married</th>\n",
              "      <th>work-type</th>\n",
              "      <th>Residence-type</th>\n",
              "      <th>avg-glucose-level</th>\n",
              "      <th>bmi</th>\n",
              "      <th>smoking-status</th>\n",
              "      <th>stroke</th>\n",
              "    </tr>\n",
              "  </thead>\n",
              "  <tbody>\n",
              "    <tr>\n",
              "      <th>0</th>\n",
              "      <td>Male</td>\n",
              "      <td>67.0</td>\n",
              "      <td>0</td>\n",
              "      <td>1</td>\n",
              "      <td>Yes</td>\n",
              "      <td>Private</td>\n",
              "      <td>Urban</td>\n",
              "      <td>228.69</td>\n",
              "      <td>36.6</td>\n",
              "      <td>formerly smoked</td>\n",
              "      <td>1</td>\n",
              "    </tr>\n",
              "    <tr>\n",
              "      <th>2</th>\n",
              "      <td>Male</td>\n",
              "      <td>80.0</td>\n",
              "      <td>0</td>\n",
              "      <td>1</td>\n",
              "      <td>Yes</td>\n",
              "      <td>Private</td>\n",
              "      <td>Rural</td>\n",
              "      <td>105.92</td>\n",
              "      <td>32.5</td>\n",
              "      <td>never smoked</td>\n",
              "      <td>1</td>\n",
              "    </tr>\n",
              "    <tr>\n",
              "      <th>3</th>\n",
              "      <td>Female</td>\n",
              "      <td>49.0</td>\n",
              "      <td>0</td>\n",
              "      <td>0</td>\n",
              "      <td>Yes</td>\n",
              "      <td>Private</td>\n",
              "      <td>Urban</td>\n",
              "      <td>171.23</td>\n",
              "      <td>34.4</td>\n",
              "      <td>smokes</td>\n",
              "      <td>1</td>\n",
              "    </tr>\n",
              "    <tr>\n",
              "      <th>4</th>\n",
              "      <td>Female</td>\n",
              "      <td>79.0</td>\n",
              "      <td>1</td>\n",
              "      <td>0</td>\n",
              "      <td>Yes</td>\n",
              "      <td>Self-employed</td>\n",
              "      <td>Rural</td>\n",
              "      <td>174.12</td>\n",
              "      <td>24.0</td>\n",
              "      <td>never smoked</td>\n",
              "      <td>1</td>\n",
              "    </tr>\n",
              "    <tr>\n",
              "      <th>5</th>\n",
              "      <td>Male</td>\n",
              "      <td>81.0</td>\n",
              "      <td>0</td>\n",
              "      <td>0</td>\n",
              "      <td>Yes</td>\n",
              "      <td>Private</td>\n",
              "      <td>Urban</td>\n",
              "      <td>186.21</td>\n",
              "      <td>29.0</td>\n",
              "      <td>formerly smoked</td>\n",
              "      <td>1</td>\n",
              "    </tr>\n",
              "  </tbody>\n",
              "</table>\n",
              "</div>"
            ],
            "text/plain": [
              "   gender   age  hypertension  heart-disease ever-married      work-type  \\\n",
              "0    Male  67.0             0              1          Yes        Private   \n",
              "2    Male  80.0             0              1          Yes        Private   \n",
              "3  Female  49.0             0              0          Yes        Private   \n",
              "4  Female  79.0             1              0          Yes  Self-employed   \n",
              "5    Male  81.0             0              0          Yes        Private   \n",
              "\n",
              "  Residence-type  avg-glucose-level   bmi   smoking-status  stroke  \n",
              "0          Urban             228.69  36.6  formerly smoked       1  \n",
              "2          Rural             105.92  32.5     never smoked       1  \n",
              "3          Urban             171.23  34.4           smokes       1  \n",
              "4          Rural             174.12  24.0     never smoked       1  \n",
              "5          Urban             186.21  29.0  formerly smoked       1  "
            ]
          },
          "execution_count": 62,
          "metadata": {},
          "output_type": "execute_result"
        }
      ],
      "source": [
        "df.head()"
      ]
    },
    {
      "cell_type": "code",
      "execution_count": 63,
      "metadata": {},
      "outputs": [
        {
          "data": {
            "text/plain": [
              "<seaborn.axisgrid.FacetGrid at 0x1c8971204f0>"
            ]
          },
          "execution_count": 63,
          "metadata": {},
          "output_type": "execute_result"
        },
        {
          "data": {
            "image/png": "[encoded data removed]",
            "text/plain": [
              "<Figure size 500x500 with 1 Axes>"
            ]
          },
          "metadata": {},
          "output_type": "display_data"
        }
      ],
      "source": [
        "sns.displot(df['age'], bins=20, kde=False, color='blue')"
      ]
    },
    {
      "cell_type": "code",
      "execution_count": 64,
      "metadata": {},
      "outputs": [
        {
          "data": {
            "text/plain": [
              "<seaborn.axisgrid.FacetGrid at 0x1c8971b0640>"
            ]
          },
          "execution_count": 64,
          "metadata": {},
          "output_type": "execute_result"
        },
        {
          "data": {
            "image/png": "[encoded data removed]",
            "text/plain": [
              "<Figure size 500x500 with 1 Axes>"
            ]
          },
          "metadata": {},
          "output_type": "display_data"
        }
      ],
      "source": [
        "sns.displot(df['avg-glucose-level'], bins=40, kde=False, color='blue')"
      ]
    },
    {
      "cell_type": "code",
      "execution_count": 65,
      "metadata": {},
      "outputs": [
        {
          "data": {
            "text/plain": [
              "<seaborn.axisgrid.FacetGrid at 0x1c89167b2e0>"
            ]
          },
          "execution_count": 65,
          "metadata": {},
          "output_type": "execute_result"
        },
        {
          "data": {
            "image/png": "[encoded data removed]",
            "text/plain": [
              "<Figure size 500x500 with 1 Axes>"
            ]
          },
          "metadata": {},
          "output_type": "display_data"
        }
      ],
      "source": [
        "sns.displot(df['bmi'], bins=20, kde=False, color='blue')"
      ]
    },
    {
      "cell_type": "markdown",
      "metadata": {},
      "source": [
        "### Oversampling"
      ]
    },
    {
      "cell_type": "code",
      "execution_count": 66,
      "metadata": {
        "colab": {
          "base_uri": "https://localhost:8080/"
        },
        "id": "56h6QHZL0gZE",
        "outputId": "84bc41e2-c5b4-44e0-c327-dac928978394"
      },
      "outputs": [
        {
          "name": "stdout",
          "output_type": "stream",
          "text": [
            "['gender' 'age' 'hypertension' 'heart-disease' 'ever-married' 'work-type'\n",
            " 'Residence-type' 'avg-glucose-level' 'bmi' 'smoking-status']\n"
          ]
        }
      ],
      "source": [
        "features = np.array(df.columns[:-1])\n",
        "print(features)\n",
        "\n",
        "X = df.drop(['stroke'], axis = 1) # Data\n",
        "y = df['stroke'] # Target"
      ]
    },
    {
      "cell_type": "code",
      "execution_count": 67,
      "metadata": {
        "colab": {
          "base_uri": "https://localhost:8080/"
        },
        "id": "prSZVsXL0mC3",
        "outputId": "317ba341-26f2-40f4-9dd8-e0640c6a08ac"
      },
      "outputs": [
        {
          "data": {
            "text/plain": [
              "stroke\n",
              "0    3074\n",
              "1     180\n",
              "Name: count, dtype: int64"
            ]
          },
          "execution_count": 67,
          "metadata": {},
          "output_type": "execute_result"
        }
      ],
      "source": [
        "y.value_counts()"
      ]
    },
    {
      "cell_type": "code",
      "execution_count": 68,
      "metadata": {
        "colab": {
          "base_uri": "https://localhost:8080/",
          "height": 423
        },
        "id": "dvxryMPo0niT",
        "outputId": "510b0f2c-1eba-4516-d51c-e5288ea7c97d"
      },
      "outputs": [
        {
          "data": {
            "text/plain": [
              "<AxesSubplot:ylabel='count'>"
            ]
          },
          "execution_count": 68,
          "metadata": {},
          "output_type": "execute_result"
        },
        {
          "data": {
            "image/png": "[encoded data removed]",
            "text/plain": [
              "<Figure size 640x480 with 1 Axes>"
            ]
          },
          "metadata": {},
          "output_type": "display_data"
        }
      ],
      "source": [
        "y.value_counts().plot.pie(autopct = \"%.2f\")"
      ]
    },
    {
      "cell_type": "markdown",
      "metadata": {},
      "source": [
        "We can clearly see that there is a disproportion between the number of smokers and non-smokers. This is a problem because the model could be biased towards the non-smokers. We will try to balance the dataset by oversampling the smokers."
      ]
    },
    {
      "cell_type": "code",
      "execution_count": 69,
      "metadata": {},
      "outputs": [
        {
          "data": {
            "text/html": [
              "<div>\n",
              "<style scoped>\n",
              "    .dataframe tbody tr th:only-of-type {\n",
              "        vertical-align: middle;\n",
              "    }\n",
              "\n",
              "    .dataframe tbody tr th {\n",
              "        vertical-align: top;\n",
              "    }\n",
              "\n",
              "    .dataframe thead th {\n",
              "        text-align: right;\n",
              "    }\n",
              "</style>\n",
              "<table border=\"1\" class=\"dataframe\">\n",
              "  <thead>\n",
              "    <tr style=\"text-align: right;\">\n",
              "      <th></th>\n",
              "      <th>gender</th>\n",
              "      <th>age</th>\n",
              "      <th>hypertension</th>\n",
              "      <th>heart-disease</th>\n",
              "      <th>ever-married</th>\n",
              "      <th>work-type</th>\n",
              "      <th>Residence-type</th>\n",
              "      <th>avg-glucose-level</th>\n",
              "      <th>bmi</th>\n",
              "      <th>smoking-status</th>\n",
              "    </tr>\n",
              "  </thead>\n",
              "  <tbody>\n",
              "    <tr>\n",
              "      <th>0</th>\n",
              "      <td>Male</td>\n",
              "      <td>67.0</td>\n",
              "      <td>0</td>\n",
              "      <td>1</td>\n",
              "      <td>Yes</td>\n",
              "      <td>Private</td>\n",
              "      <td>Urban</td>\n",
              "      <td>228.69</td>\n",
              "      <td>36.6</td>\n",
              "      <td>formerly smoked</td>\n",
              "    </tr>\n",
              "    <tr>\n",
              "      <th>2</th>\n",
              "      <td>Male</td>\n",
              "      <td>80.0</td>\n",
              "      <td>0</td>\n",
              "      <td>1</td>\n",
              "      <td>Yes</td>\n",
              "      <td>Private</td>\n",
              "      <td>Rural</td>\n",
              "      <td>105.92</td>\n",
              "      <td>32.5</td>\n",
              "      <td>never smoked</td>\n",
              "    </tr>\n",
              "    <tr>\n",
              "      <th>3</th>\n",
              "      <td>Female</td>\n",
              "      <td>49.0</td>\n",
              "      <td>0</td>\n",
              "      <td>0</td>\n",
              "      <td>Yes</td>\n",
              "      <td>Private</td>\n",
              "      <td>Urban</td>\n",
              "      <td>171.23</td>\n",
              "      <td>34.4</td>\n",
              "      <td>smokes</td>\n",
              "    </tr>\n",
              "    <tr>\n",
              "      <th>4</th>\n",
              "      <td>Female</td>\n",
              "      <td>79.0</td>\n",
              "      <td>1</td>\n",
              "      <td>0</td>\n",
              "      <td>Yes</td>\n",
              "      <td>Self-employed</td>\n",
              "      <td>Rural</td>\n",
              "      <td>174.12</td>\n",
              "      <td>24.0</td>\n",
              "      <td>never smoked</td>\n",
              "    </tr>\n",
              "    <tr>\n",
              "      <th>5</th>\n",
              "      <td>Male</td>\n",
              "      <td>81.0</td>\n",
              "      <td>0</td>\n",
              "      <td>0</td>\n",
              "      <td>Yes</td>\n",
              "      <td>Private</td>\n",
              "      <td>Urban</td>\n",
              "      <td>186.21</td>\n",
              "      <td>29.0</td>\n",
              "      <td>formerly smoked</td>\n",
              "    </tr>\n",
              "  </tbody>\n",
              "</table>\n",
              "</div>"
            ],
            "text/plain": [
              "   gender   age  hypertension  heart-disease ever-married      work-type  \\\n",
              "0    Male  67.0             0              1          Yes        Private   \n",
              "2    Male  80.0             0              1          Yes        Private   \n",
              "3  Female  49.0             0              0          Yes        Private   \n",
              "4  Female  79.0             1              0          Yes  Self-employed   \n",
              "5    Male  81.0             0              0          Yes        Private   \n",
              "\n",
              "  Residence-type  avg-glucose-level   bmi   smoking-status  \n",
              "0          Urban             228.69  36.6  formerly smoked  \n",
              "2          Rural             105.92  32.5     never smoked  \n",
              "3          Urban             171.23  34.4           smokes  \n",
              "4          Rural             174.12  24.0     never smoked  \n",
              "5          Urban             186.21  29.0  formerly smoked  "
            ]
          },
          "execution_count": 69,
          "metadata": {},
          "output_type": "execute_result"
        }
      ],
      "source": [
        "X.head()"
      ]
    },
    {
      "cell_type": "markdown",
      "metadata": {},
      "source": [
        "Train-Test Split\n",
        "\n",
        "It is usually recommended to perform the oversampling only on the train dataset, therefore we will split the dataset into train and test and then oversample the train dataset."
      ]
    },
    {
      "cell_type": "code",
      "execution_count": 70,
      "metadata": {
        "id": "UDcFJRwA2NWw"
      },
      "outputs": [],
      "source": [
        "from sklearn.model_selection import train_test_split\n",
        "\n",
        "X_train, X_test, y_train, y_test = train_test_split(X, y, test_size = 0.2) # the data is split into 80% training and 20% testing randomly"
      ]
    },
    {
      "cell_type": "code",
      "execution_count": 71,
      "metadata": {},
      "outputs": [
        {
          "data": {
            "text/html": [
              "<div>\n",
              "<style scoped>\n",
              "    .dataframe tbody tr th:only-of-type {\n",
              "        vertical-align: middle;\n",
              "    }\n",
              "\n",
              "    .dataframe tbody tr th {\n",
              "        vertical-align: top;\n",
              "    }\n",
              "\n",
              "    .dataframe thead th {\n",
              "        text-align: right;\n",
              "    }\n",
              "</style>\n",
              "<table border=\"1\" class=\"dataframe\">\n",
              "  <thead>\n",
              "    <tr style=\"text-align: right;\">\n",
              "      <th></th>\n",
              "      <th>gender</th>\n",
              "      <th>age</th>\n",
              "      <th>hypertension</th>\n",
              "      <th>heart-disease</th>\n",
              "      <th>ever-married</th>\n",
              "      <th>work-type</th>\n",
              "      <th>Residence-type</th>\n",
              "      <th>avg-glucose-level</th>\n",
              "      <th>bmi</th>\n",
              "      <th>smoking-status</th>\n",
              "    </tr>\n",
              "  </thead>\n",
              "  <tbody>\n",
              "    <tr>\n",
              "      <th>3035</th>\n",
              "      <td>Male</td>\n",
              "      <td>33.0</td>\n",
              "      <td>0</td>\n",
              "      <td>0</td>\n",
              "      <td>Yes</td>\n",
              "      <td>Self-employed</td>\n",
              "      <td>Urban</td>\n",
              "      <td>90.68</td>\n",
              "      <td>31.7</td>\n",
              "      <td>smokes</td>\n",
              "    </tr>\n",
              "    <tr>\n",
              "      <th>1664</th>\n",
              "      <td>Female</td>\n",
              "      <td>68.0</td>\n",
              "      <td>0</td>\n",
              "      <td>0</td>\n",
              "      <td>Yes</td>\n",
              "      <td>Private</td>\n",
              "      <td>Urban</td>\n",
              "      <td>103.46</td>\n",
              "      <td>35.9</td>\n",
              "      <td>never smoked</td>\n",
              "    </tr>\n",
              "    <tr>\n",
              "      <th>3451</th>\n",
              "      <td>Female</td>\n",
              "      <td>42.0</td>\n",
              "      <td>0</td>\n",
              "      <td>0</td>\n",
              "      <td>Yes</td>\n",
              "      <td>Private</td>\n",
              "      <td>Rural</td>\n",
              "      <td>80.00</td>\n",
              "      <td>27.5</td>\n",
              "      <td>never smoked</td>\n",
              "    </tr>\n",
              "    <tr>\n",
              "      <th>2462</th>\n",
              "      <td>Female</td>\n",
              "      <td>60.0</td>\n",
              "      <td>0</td>\n",
              "      <td>0</td>\n",
              "      <td>No</td>\n",
              "      <td>Govt_job</td>\n",
              "      <td>Rural</td>\n",
              "      <td>266.59</td>\n",
              "      <td>25.5</td>\n",
              "      <td>never smoked</td>\n",
              "    </tr>\n",
              "    <tr>\n",
              "      <th>3330</th>\n",
              "      <td>Female</td>\n",
              "      <td>56.0</td>\n",
              "      <td>0</td>\n",
              "      <td>0</td>\n",
              "      <td>Yes</td>\n",
              "      <td>Private</td>\n",
              "      <td>Urban</td>\n",
              "      <td>80.08</td>\n",
              "      <td>25.6</td>\n",
              "      <td>never smoked</td>\n",
              "    </tr>\n",
              "  </tbody>\n",
              "</table>\n",
              "</div>"
            ],
            "text/plain": [
              "      gender   age  hypertension  heart-disease ever-married      work-type  \\\n",
              "3035    Male  33.0             0              0          Yes  Self-employed   \n",
              "1664  Female  68.0             0              0          Yes        Private   \n",
              "3451  Female  42.0             0              0          Yes        Private   \n",
              "2462  Female  60.0             0              0           No       Govt_job   \n",
              "3330  Female  56.0             0              0          Yes        Private   \n",
              "\n",
              "     Residence-type  avg-glucose-level   bmi smoking-status  \n",
              "3035          Urban              90.68  31.7         smokes  \n",
              "1664          Urban             103.46  35.9   never smoked  \n",
              "3451          Rural              80.00  27.5   never smoked  \n",
              "2462          Rural             266.59  25.5   never smoked  \n",
              "3330          Urban              80.08  25.6   never smoked  "
            ]
          },
          "execution_count": 71,
          "metadata": {},
          "output_type": "execute_result"
        }
      ],
      "source": [
        "X_train.head()"
      ]
    },
    {
      "cell_type": "markdown",
      "metadata": {},
      "source": [
        "Applying the oversampling SMOTE technique"
      ]
    },
    {
      "cell_type": "code",
      "execution_count": 72,
      "metadata": {
        "id": "kYrhnuzX-yYD"
      },
      "outputs": [
        {
          "ename": "ValueError",
          "evalue": "Dummy DataFrame contains multi-assignment(s); First instance in row: 2603",
          "output_type": "error",
          "traceback": [
            "\u001b[1;31m---------------------------------------------------------------------------\u001b[0m",
            "\u001b[1;31mValueError\u001b[0m                                Traceback (most recent call last)",
            "Cell \u001b[1;32mIn[72], line 42\u001b[0m\n\u001b[0;32m     39\u001b[0m \u001b[38;5;66;03m# inverse the ordinal encoding\u001b[39;00m\n\u001b[0;32m     40\u001b[0m X_smote[binary_features] \u001b[38;5;241m=\u001b[39m oe\u001b[38;5;241m.\u001b[39minverse_transform(X_smote[binary_features])\n\u001b[1;32m---> 42\u001b[0m dummies \u001b[38;5;241m=\u001b[39m \u001b[43mpd\u001b[49m\u001b[38;5;241;43m.\u001b[39;49m\u001b[43mfrom_dummies\u001b[49m\u001b[43m(\u001b[49m\u001b[43mX_smote\u001b[49m\u001b[43m[\u001b[49m\u001b[43mdummies_columns\u001b[49m\u001b[43m]\u001b[49m\u001b[43m,\u001b[49m\u001b[43m \u001b[49m\u001b[43msep\u001b[49m\u001b[38;5;241;43m=\u001b[39;49m\u001b[38;5;124;43m'\u001b[39;49m\u001b[38;5;124;43m_\u001b[39;49m\u001b[38;5;124;43m'\u001b[39;49m\u001b[43m)\u001b[49m\n\u001b[0;32m     43\u001b[0m X_smote\u001b[38;5;241m.\u001b[39mdrop(columns\u001b[38;5;241m=\u001b[39mdummies_columns, inplace\u001b[38;5;241m=\u001b[39m\u001b[38;5;28;01mTrue\u001b[39;00m)\n\u001b[0;32m     45\u001b[0m X_smote \u001b[38;5;241m=\u001b[39m pd\u001b[38;5;241m.\u001b[39mconcat([X_smote, dummies], axis\u001b[38;5;241m=\u001b[39m\u001b[38;5;241m1\u001b[39m)\n",
            "File \u001b[1;32m~\\AppData\\Local\\Packages\\PythonSoftwareFoundation.Python.3.10_qbz5n2kfra8p0\\LocalCache\\local-packages\\Python310\\site-packages\\pandas\\core\\reshape\\encoding.py:544\u001b[0m, in \u001b[0;36mfrom_dummies\u001b[1;34m(data, sep, default_category)\u001b[0m\n\u001b[0;32m    542\u001b[0m assigned \u001b[38;5;241m=\u001b[39m data_to_decode\u001b[38;5;241m.\u001b[39mloc[:, prefix_slice]\u001b[38;5;241m.\u001b[39msum(axis\u001b[38;5;241m=\u001b[39m\u001b[38;5;241m1\u001b[39m)\n\u001b[0;32m    543\u001b[0m \u001b[38;5;28;01mif\u001b[39;00m \u001b[38;5;28many\u001b[39m(assigned \u001b[38;5;241m>\u001b[39m \u001b[38;5;241m1\u001b[39m):\n\u001b[1;32m--> 544\u001b[0m     \u001b[38;5;28;01mraise\u001b[39;00m \u001b[38;5;167;01mValueError\u001b[39;00m(\n\u001b[0;32m    545\u001b[0m         \u001b[38;5;124m\"\u001b[39m\u001b[38;5;124mDummy DataFrame contains multi-assignment(s); \u001b[39m\u001b[38;5;124m\"\u001b[39m\n\u001b[0;32m    546\u001b[0m         \u001b[38;5;124mf\u001b[39m\u001b[38;5;124m\"\u001b[39m\u001b[38;5;124mFirst instance in row: \u001b[39m\u001b[38;5;132;01m{\u001b[39;00massigned\u001b[38;5;241m.\u001b[39midxmax()\u001b[38;5;132;01m}\u001b[39;00m\u001b[38;5;124m\"\u001b[39m\n\u001b[0;32m    547\u001b[0m     )\n\u001b[0;32m    548\u001b[0m \u001b[38;5;28;01mif\u001b[39;00m \u001b[38;5;28many\u001b[39m(assigned \u001b[38;5;241m==\u001b[39m \u001b[38;5;241m0\u001b[39m):\n\u001b[0;32m    549\u001b[0m     \u001b[38;5;28;01mif\u001b[39;00m \u001b[38;5;28misinstance\u001b[39m(default_category, \u001b[38;5;28mdict\u001b[39m):\n",
            "\u001b[1;31mValueError\u001b[0m: Dummy DataFrame contains multi-assignment(s); First instance in row: 2603"
          ]
        }
      ],
      "source": [
        "from imblearn.over_sampling import SMOTE\n",
        "from sklearn.preprocessing import OrdinalEncoder, RobustScaler\n",
        "\n",
        "\n",
        "X_tmp = X_train.copy()\n",
        "y_tmp = y_train.copy()\n",
        "\n",
        "# Apply one hot encoding to cathegorical features\n",
        "dummies = pd.get_dummies(X_tmp[cathegorical_features])\n",
        "dummies_columns = dummies.columns\n",
        "\n",
        "X_tmp = X_tmp.drop(cathegorical_features, axis=1)\n",
        "X_tmp = pd.concat([X_tmp, dummies], axis=1)\n",
        "\n",
        "tmp_features = X_tmp.columns\n",
        "\n",
        "# Apply ordinal encoding to binary features\n",
        "oe = OrdinalEncoder()\n",
        "X_tmp[binary_features] = oe.fit_transform(X_tmp[binary_features])\n",
        "\n",
        "# Normalize the data\n",
        "scaler = RobustScaler()\n",
        "X_tmp[numerical_features] = scaler.fit_transform(X_tmp[numerical_features], y_tmp)\n",
        "\n",
        "# Apply SMOTE\n",
        "smote = SMOTE(sampling_strategy='minority')\n",
        "X_smote, y_smote = smote.fit_resample(X_tmp, y_tmp)\n",
        "\n",
        "# Reconstructing the dataframe\n",
        "X_smote = pd.DataFrame(X_smote, columns=tmp_features)\n",
        "\n",
        "# Inverse the normalization\n",
        "X_smote[numerical_features] = scaler.inverse_transform(X_smote[numerical_features])\n",
        "\n",
        "# Averaging out the data that came from the SMOTE\n",
        "X_smote[dummies_columns] = np.round(X_smote[dummies_columns])\n",
        "X_smote[binary_features] = np.round(X_smote[binary_features]).astype(int)\n",
        "\n",
        "# inverse the ordinal encoding\n",
        "X_smote[binary_features] = oe.inverse_transform(X_smote[binary_features])\n",
        "\n",
        "dummies = pd.from_dummies(X_smote[dummies_columns], sep='_')\n",
        "X_smote.drop(columns=dummies_columns, inplace=True)\n",
        "\n",
        "X_smote = pd.concat([X_smote, dummies], axis=1)\n",
        "X_smote.describe()"
      ]
    },
    {
      "cell_type": "code",
      "execution_count": null,
      "metadata": {},
      "outputs": [
        {
          "data": {
            "text/plain": [
              "work-type\n",
              "Private          3131\n",
              "Self-employed    1174\n",
              "Govt_job          607\n",
              "Never_worked        2\n",
              "Name: count, dtype: int64"
            ]
          },
          "execution_count": 67,
          "metadata": {},
          "output_type": "execute_result"
        }
      ],
      "source": [
        "X_smote['work-type'].value_counts()"
      ]
    },
    {
      "cell_type": "code",
      "execution_count": null,
      "metadata": {
        "colab": {
          "base_uri": "https://localhost:8080/"
        },
        "id": "cUiVKZBiDOuA",
        "outputId": "e26c1e0e-1d90-4721-9683-e44e527a8fb6"
      },
      "outputs": [],
      "source": [
        "X_balanced = X_smote.copy()\n",
        "y_balanced = y_smote.copy()\n",
        "\n",
        "X_train = X_smote.copy()\n",
        "y_train = y_smote.copy()\n",
        "\n",
        "# after oversampling the hypertension and heart-disease cathegory have become of type 'object'\n",
        "X_train['hypertension'] = X_train['hypertension'].astype(int)\n",
        "X_train['heart-disease'] = X_train['heart-disease'].astype(int)"
      ]
    },
    {
      "cell_type": "code",
      "execution_count": null,
      "metadata": {
        "id": "vpbjjt6TS2x_"
      },
      "outputs": [
        {
          "data": {
            "text/html": [
              "<div>\n",
              "<style scoped>\n",
              "    .dataframe tbody tr th:only-of-type {\n",
              "        vertical-align: middle;\n",
              "    }\n",
              "\n",
              "    .dataframe tbody tr th {\n",
              "        vertical-align: top;\n",
              "    }\n",
              "\n",
              "    .dataframe thead th {\n",
              "        text-align: right;\n",
              "    }\n",
              "</style>\n",
              "<table border=\"1\" class=\"dataframe\">\n",
              "  <thead>\n",
              "    <tr style=\"text-align: right;\">\n",
              "      <th></th>\n",
              "      <th>gender</th>\n",
              "      <th>age</th>\n",
              "      <th>hypertension</th>\n",
              "      <th>heart-disease</th>\n",
              "      <th>ever-married</th>\n",
              "      <th>Residence-type</th>\n",
              "      <th>avg-glucose-level</th>\n",
              "      <th>bmi</th>\n",
              "      <th>work-type</th>\n",
              "      <th>smoking-status</th>\n",
              "      <th>stroke</th>\n",
              "    </tr>\n",
              "  </thead>\n",
              "  <tbody>\n",
              "    <tr>\n",
              "      <th>0</th>\n",
              "      <td>Male</td>\n",
              "      <td>61.0</td>\n",
              "      <td>0</td>\n",
              "      <td>0</td>\n",
              "      <td>Yes</td>\n",
              "      <td>Urban</td>\n",
              "      <td>61.32</td>\n",
              "      <td>23.7</td>\n",
              "      <td>Private</td>\n",
              "      <td>smokes</td>\n",
              "      <td>0</td>\n",
              "    </tr>\n",
              "    <tr>\n",
              "      <th>1</th>\n",
              "      <td>Male</td>\n",
              "      <td>45.0</td>\n",
              "      <td>1</td>\n",
              "      <td>0</td>\n",
              "      <td>Yes</td>\n",
              "      <td>Urban</td>\n",
              "      <td>90.43</td>\n",
              "      <td>39.7</td>\n",
              "      <td>Self-employed</td>\n",
              "      <td>smokes</td>\n",
              "      <td>0</td>\n",
              "    </tr>\n",
              "    <tr>\n",
              "      <th>2</th>\n",
              "      <td>Female</td>\n",
              "      <td>65.0</td>\n",
              "      <td>0</td>\n",
              "      <td>0</td>\n",
              "      <td>Yes</td>\n",
              "      <td>Rural</td>\n",
              "      <td>185.28</td>\n",
              "      <td>32.0</td>\n",
              "      <td>Private</td>\n",
              "      <td>smokes</td>\n",
              "      <td>0</td>\n",
              "    </tr>\n",
              "    <tr>\n",
              "      <th>3</th>\n",
              "      <td>Female</td>\n",
              "      <td>44.0</td>\n",
              "      <td>0</td>\n",
              "      <td>0</td>\n",
              "      <td>Yes</td>\n",
              "      <td>Urban</td>\n",
              "      <td>57.33</td>\n",
              "      <td>24.6</td>\n",
              "      <td>Govt_job</td>\n",
              "      <td>smokes</td>\n",
              "      <td>0</td>\n",
              "    </tr>\n",
              "    <tr>\n",
              "      <th>4</th>\n",
              "      <td>Male</td>\n",
              "      <td>59.0</td>\n",
              "      <td>0</td>\n",
              "      <td>0</td>\n",
              "      <td>Yes</td>\n",
              "      <td>Urban</td>\n",
              "      <td>70.04</td>\n",
              "      <td>31.4</td>\n",
              "      <td>Govt_job</td>\n",
              "      <td>never smoked</td>\n",
              "      <td>0</td>\n",
              "    </tr>\n",
              "  </tbody>\n",
              "</table>\n",
              "</div>"
            ],
            "text/plain": [
              "   gender   age hypertension heart-disease ever-married Residence-type  \\\n",
              "0    Male  61.0            0             0          Yes          Urban   \n",
              "1    Male  45.0            1             0          Yes          Urban   \n",
              "2  Female  65.0            0             0          Yes          Rural   \n",
              "3  Female  44.0            0             0          Yes          Urban   \n",
              "4    Male  59.0            0             0          Yes          Urban   \n",
              "\n",
              "   avg-glucose-level   bmi      work-type smoking-status  stroke  \n",
              "0              61.32  23.7        Private         smokes       0  \n",
              "1              90.43  39.7  Self-employed         smokes       0  \n",
              "2             185.28  32.0        Private         smokes       0  \n",
              "3              57.33  24.6       Govt_job         smokes       0  \n",
              "4              70.04  31.4       Govt_job   never smoked       0  "
            ]
          },
          "execution_count": 38,
          "metadata": {},
          "output_type": "execute_result"
        }
      ],
      "source": [
        "df_balanced = X_balanced\n",
        "df_balanced['stroke'] = y_balanced\n",
        "df_balanced.head()"
      ]
    },
    {
      "cell_type": "code",
      "execution_count": null,
      "metadata": {},
      "outputs": [
        {
          "data": {
            "text/html": [
              "<div>\n",
              "<style scoped>\n",
              "    .dataframe tbody tr th:only-of-type {\n",
              "        vertical-align: middle;\n",
              "    }\n",
              "\n",
              "    .dataframe tbody tr th {\n",
              "        vertical-align: top;\n",
              "    }\n",
              "\n",
              "    .dataframe thead th {\n",
              "        text-align: right;\n",
              "    }\n",
              "</style>\n",
              "<table border=\"1\" class=\"dataframe\">\n",
              "  <thead>\n",
              "    <tr style=\"text-align: right;\">\n",
              "      <th></th>\n",
              "      <th>age</th>\n",
              "      <th>avg-glucose-level</th>\n",
              "      <th>bmi</th>\n",
              "      <th>stroke</th>\n",
              "    </tr>\n",
              "  </thead>\n",
              "  <tbody>\n",
              "    <tr>\n",
              "      <th>count</th>\n",
              "      <td>4914.000000</td>\n",
              "      <td>4914.000000</td>\n",
              "      <td>4914.000000</td>\n",
              "      <td>4914.000000</td>\n",
              "    </tr>\n",
              "    <tr>\n",
              "      <th>mean</th>\n",
              "      <td>58.825740</td>\n",
              "      <td>122.936344</td>\n",
              "      <td>30.726551</td>\n",
              "      <td>0.500000</td>\n",
              "    </tr>\n",
              "    <tr>\n",
              "      <th>std</th>\n",
              "      <td>17.095839</td>\n",
              "      <td>57.029951</td>\n",
              "      <td>6.602600</td>\n",
              "      <td>0.500051</td>\n",
              "    </tr>\n",
              "    <tr>\n",
              "      <th>min</th>\n",
              "      <td>18.000000</td>\n",
              "      <td>55.120000</td>\n",
              "      <td>14.100000</td>\n",
              "      <td>0.000000</td>\n",
              "    </tr>\n",
              "    <tr>\n",
              "      <th>25%</th>\n",
              "      <td>48.000000</td>\n",
              "      <td>80.049286</td>\n",
              "      <td>26.405523</td>\n",
              "      <td>0.000000</td>\n",
              "    </tr>\n",
              "    <tr>\n",
              "      <th>50%</th>\n",
              "      <td>61.000000</td>\n",
              "      <td>99.408365</td>\n",
              "      <td>29.740569</td>\n",
              "      <td>0.500000</td>\n",
              "    </tr>\n",
              "    <tr>\n",
              "      <th>75%</th>\n",
              "      <td>73.595609</td>\n",
              "      <td>174.992759</td>\n",
              "      <td>33.992038</td>\n",
              "      <td>1.000000</td>\n",
              "    </tr>\n",
              "    <tr>\n",
              "      <th>max</th>\n",
              "      <td>82.000000</td>\n",
              "      <td>271.740000</td>\n",
              "      <td>92.000000</td>\n",
              "      <td>1.000000</td>\n",
              "    </tr>\n",
              "  </tbody>\n",
              "</table>\n",
              "</div>"
            ],
            "text/plain": [
              "               age  avg-glucose-level          bmi       stroke\n",
              "count  4914.000000        4914.000000  4914.000000  4914.000000\n",
              "mean     58.825740         122.936344    30.726551     0.500000\n",
              "std      17.095839          57.029951     6.602600     0.500051\n",
              "min      18.000000          55.120000    14.100000     0.000000\n",
              "25%      48.000000          80.049286    26.405523     0.000000\n",
              "50%      61.000000          99.408365    29.740569     0.500000\n",
              "75%      73.595609         174.992759    33.992038     1.000000\n",
              "max      82.000000         271.740000    92.000000     1.000000"
            ]
          },
          "execution_count": 39,
          "metadata": {},
          "output_type": "execute_result"
        }
      ],
      "source": [
        "df_balanced.describe()"
      ]
    },
    {
      "cell_type": "markdown",
      "metadata": {},
      "source": [
        "### Graphs"
      ]
    },
    {
      "cell_type": "code",
      "execution_count": null,
      "metadata": {
        "colab": {
          "base_uri": "https://localhost:8080/",
          "height": 898
        },
        "id": "hYsZoOkATl9t",
        "outputId": "c4536f6f-e670-4a0b-c863-0b56d9acaecb"
      },
      "outputs": [
        {
          "data": {
            "text/plain": [
              "<AxesSubplot:xlabel='stroke', ylabel='count'>"
            ]
          },
          "execution_count": 40,
          "metadata": {},
          "output_type": "execute_result"
        },
        {
          "data": {
            "image/png": "[encoded data removed]",
            "text/plain": [
              "<Figure size 640x480 with 1 Axes>"
            ]
          },
          "metadata": {},
          "output_type": "display_data"
        },
        {
          "data": {
            "image/png": "[encoded data removed]",
            "text/plain": [
              "<Figure size 640x480 with 1 Axes>"
            ]
          },
          "metadata": {},
          "output_type": "display_data"
        }
      ],
      "source": [
        "sns.countplot(x='stroke', data=df)\n",
        "plt.figure()\n",
        "sns.countplot(x='stroke', data=df_balanced)"
      ]
    },
    {
      "cell_type": "markdown",
      "metadata": {},
      "source": [
        "We can clearly see that the dataset is now balanced. The stroke and non-stroke patients are now equally represented in the train dataset."
      ]
    },
    {
      "cell_type": "code",
      "execution_count": null,
      "metadata": {
        "colab": {
          "base_uri": "https://localhost:8080/",
          "height": 467
        },
        "id": "ijDCoMCCVzUC",
        "outputId": "e6850e62-a123-4086-fa8c-a5ee567d4d7c"
      },
      "outputs": [
        {
          "data": {
            "text/plain": [
              "<AxesSubplot:xlabel='age_bucket', ylabel='percent'>"
            ]
          },
          "execution_count": 41,
          "metadata": {},
          "output_type": "execute_result"
        },
        {
          "data": {
            "image/png": "[encoded data removed]",
            "text/plain": [
              "<Figure size 640x480 with 1 Axes>"
            ]
          },
          "metadata": {},
          "output_type": "display_data"
        }
      ],
      "source": [
        "plt.grid()\n",
        "age_labels = ['18-24', '25-29', '30-34', '35-39', '40-44', '45-49', '50-54', '55-59', '60-64', '65-69', '70-74', '75+']\n",
        "dataset_bal_copy = df_balanced.copy()\n",
        "dataset_bal_copy['age_bucket'] = pd.cut(dataset_bal_copy['age'], bins=[17, 24, 29, 34, 39, 44, 49, 54, 59, 64, 69, 74, 100], labels=age_labels)\n",
        "sns.countplot(x='age_bucket', hue='stroke', order=age_labels, data=dataset_bal_copy, stat='percent')"
      ]
    },
    {
      "cell_type": "markdown",
      "metadata": {},
      "source": [
        "As also observed in the paper, the number of elderly patients who had a stroke is higher than the number of young patients who had a stroke. This is a common observation in the medical field."
      ]
    },
    {
      "cell_type": "code",
      "execution_count": null,
      "metadata": {
        "colab": {
          "base_uri": "https://localhost:8080/",
          "height": 466
        },
        "id": "e55ZUaX5Yqgn",
        "outputId": "b429ccf5-b1eb-4456-aa1a-e0c5477d7cc8"
      },
      "outputs": [
        {
          "data": {
            "text/plain": [
              "<AxesSubplot:xlabel='hypertension', ylabel='percent'>"
            ]
          },
          "execution_count": 42,
          "metadata": {},
          "output_type": "execute_result"
        },
        {
          "data": {
            "image/png": "[encoded data removed]",
            "text/plain": [
              "<Figure size 640x480 with 1 Axes>"
            ]
          },
          "metadata": {},
          "output_type": "display_data"
        }
      ],
      "source": [
        "sns.countplot(x='hypertension', hue='stroke', data=df_balanced, stat='percent')"
      ]
    },
    {
      "cell_type": "code",
      "execution_count": null,
      "metadata": {
        "colab": {
          "base_uri": "https://localhost:8080/",
          "height": 466
        },
        "id": "Fw18CXJAY_zU",
        "outputId": "7b5c26f7-8196-45e3-ddec-2490c84eca1a"
      },
      "outputs": [
        {
          "data": {
            "text/plain": [
              "<AxesSubplot:xlabel='heart-disease', ylabel='percent'>"
            ]
          },
          "execution_count": 43,
          "metadata": {},
          "output_type": "execute_result"
        },
        {
          "data": {
            "image/png": "[encoded data removed]",
            "text/plain": [
              "<Figure size 640x480 with 1 Axes>"
            ]
          },
          "metadata": {},
          "output_type": "display_data"
        }
      ],
      "source": [
        "sns.countplot(x='heart-disease', hue='stroke', data=df_balanced, stat='percent')"
      ]
    },
    {
      "cell_type": "markdown",
      "metadata": {},
      "source": [
        "The fact that the heart disesase class seem not to contribute significantly to the model is also observed in the paper. The authors explain it as a possible consequence of the lack of screening. When hearth diseases are not found, they can not be acted on."
      ]
    },
    {
      "cell_type": "code",
      "execution_count": null,
      "metadata": {
        "colab": {
          "base_uri": "https://localhost:8080/",
          "height": 466
        },
        "id": "N0DUH92OZoo-",
        "outputId": "c0c31bc3-76b9-45ed-ae70-c55d2cfb066b"
      },
      "outputs": [
        {
          "data": {
            "text/plain": [
              "<AxesSubplot:xlabel='smoking-status', ylabel='percent'>"
            ]
          },
          "execution_count": 44,
          "metadata": {},
          "output_type": "execute_result"
        },
        {
          "data": {
            "image/png": "[encoded data removed]",
            "text/plain": [
              "<Figure size 640x480 with 1 Axes>"
            ]
          },
          "metadata": {},
          "output_type": "display_data"
        }
      ],
      "source": [
        "sns.countplot(x='smoking-status', hue='stroke', data=df_balanced, stat='percent')"
      ]
    },
    {
      "cell_type": "code",
      "execution_count": null,
      "metadata": {
        "colab": {
          "base_uri": "https://localhost:8080/",
          "height": 467
        },
        "id": "W_9l00XaZ7dm",
        "outputId": "060d7b80-c92a-4528-b312-9b73f6011238"
      },
      "outputs": [
        {
          "data": {
            "text/plain": [
              "<AxesSubplot:xlabel='bmi_bucket', ylabel='percent'>"
            ]
          },
          "execution_count": 45,
          "metadata": {},
          "output_type": "execute_result"
        },
        {
          "data": {
            "image/png": "[encoded data removed]",
            "text/plain": [
              "<Figure size 640x480 with 1 Axes>"
            ]
          },
          "metadata": {},
          "output_type": "display_data"
        }
      ],
      "source": [
        "bmi_labels = ['Underweight', 'Normal', 'Overweight', 'Obese I', 'Obese II', 'Obese III']\n",
        "dataset_bal_copy['bmi_bucket'] = pd.cut(dataset_bal_copy['bmi'], bins=[0, 18.5, 24.9, 29.9, 34.9, 39.9, 100], labels=bmi_labels)\n",
        "sns.countplot(x='bmi_bucket', hue='stroke',order=bmi_labels,  data=dataset_bal_copy, stat='percent')"
      ]
    },
    {
      "cell_type": "code",
      "execution_count": null,
      "metadata": {
        "colab": {
          "base_uri": "https://localhost:8080/",
          "height": 466
        },
        "id": "_lD7I_9Had1x",
        "outputId": "80658de1-3dd5-45c8-9408-d244ae72336b"
      },
      "outputs": [
        {
          "data": {
            "text/plain": [
              "<AxesSubplot:xlabel='Residence-type', ylabel='percent'>"
            ]
          },
          "execution_count": 46,
          "metadata": {},
          "output_type": "execute_result"
        },
        {
          "data": {
            "image/png": "[encoded data removed]",
            "text/plain": [
              "<Figure size 640x480 with 1 Axes>"
            ]
          },
          "metadata": {},
          "output_type": "display_data"
        }
      ],
      "source": [
        "sns.countplot(x='Residence-type', hue='stroke', data=df_balanced, stat='percent')"
      ]
    },
    {
      "cell_type": "code",
      "execution_count": null,
      "metadata": {
        "colab": {
          "base_uri": "https://localhost:8080/",
          "height": 467
        },
        "id": "RpYPpv-IazF5",
        "outputId": "269729d6-0ef6-4078-86f9-0b2536ae5af5"
      },
      "outputs": [
        {
          "data": {
            "text/plain": [
              "<AxesSubplot:xlabel='work-type', ylabel='percent'>"
            ]
          },
          "execution_count": 47,
          "metadata": {},
          "output_type": "execute_result"
        },
        {
          "data": {
            "image/png": "[encoded data removed]",
            "text/plain": [
              "<Figure size 640x480 with 1 Axes>"
            ]
          },
          "metadata": {},
          "output_type": "display_data"
        }
      ],
      "source": [
        "sns.countplot(x='work-type', hue='stroke', data=df_balanced, stat='percent')"
      ]
    },
    {
      "cell_type": "markdown",
      "metadata": {},
      "source": [
        "The private sector seems to have a higher number of stroke patients."
      ]
    },
    {
      "cell_type": "code",
      "execution_count": null,
      "metadata": {
        "colab": {
          "base_uri": "https://localhost:8080/",
          "height": 466
        },
        "id": "0eMLYbzYa8t_",
        "outputId": "9f582e4f-291a-488d-f3f4-11a7aed6c661"
      },
      "outputs": [
        {
          "data": {
            "text/plain": [
              "<AxesSubplot:xlabel='gender', ylabel='percent'>"
            ]
          },
          "execution_count": 48,
          "metadata": {},
          "output_type": "execute_result"
        },
        {
          "data": {
            "image/png": "[encoded data removed]",
            "text/plain": [
              "<Figure size 640x480 with 1 Axes>"
            ]
          },
          "metadata": {},
          "output_type": "display_data"
        }
      ],
      "source": [
        "sns.countplot(x='gender', hue='stroke', data=df_balanced, stat='percent')"
      ]
    },
    {
      "cell_type": "markdown",
      "metadata": {},
      "source": [
        "Before proceding, we may also visualize the features correlation with a heatmap"
      ]
    },
    {
      "cell_type": "code",
      "execution_count": null,
      "metadata": {},
      "outputs": [
        {
          "data": {
            "text/html": [
              "<div>\n",
              "<style scoped>\n",
              "    .dataframe tbody tr th:only-of-type {\n",
              "        vertical-align: middle;\n",
              "    }\n",
              "\n",
              "    .dataframe tbody tr th {\n",
              "        vertical-align: top;\n",
              "    }\n",
              "\n",
              "    .dataframe thead th {\n",
              "        text-align: right;\n",
              "    }\n",
              "</style>\n",
              "<table border=\"1\" class=\"dataframe\">\n",
              "  <thead>\n",
              "    <tr style=\"text-align: right;\">\n",
              "      <th></th>\n",
              "      <th>gender</th>\n",
              "      <th>age</th>\n",
              "      <th>hypertension</th>\n",
              "      <th>heart-disease</th>\n",
              "      <th>ever-married</th>\n",
              "      <th>Residence-type</th>\n",
              "      <th>avg-glucose-level</th>\n",
              "      <th>bmi</th>\n",
              "      <th>work-type</th>\n",
              "      <th>smoking-status</th>\n",
              "      <th>stroke</th>\n",
              "    </tr>\n",
              "  </thead>\n",
              "  <tbody>\n",
              "    <tr>\n",
              "      <th>0</th>\n",
              "      <td>Male</td>\n",
              "      <td>61.0</td>\n",
              "      <td>0</td>\n",
              "      <td>0</td>\n",
              "      <td>Yes</td>\n",
              "      <td>Urban</td>\n",
              "      <td>61.32</td>\n",
              "      <td>23.7</td>\n",
              "      <td>Private</td>\n",
              "      <td>smokes</td>\n",
              "      <td>0</td>\n",
              "    </tr>\n",
              "    <tr>\n",
              "      <th>1</th>\n",
              "      <td>Male</td>\n",
              "      <td>45.0</td>\n",
              "      <td>1</td>\n",
              "      <td>0</td>\n",
              "      <td>Yes</td>\n",
              "      <td>Urban</td>\n",
              "      <td>90.43</td>\n",
              "      <td>39.7</td>\n",
              "      <td>Self-employed</td>\n",
              "      <td>smokes</td>\n",
              "      <td>0</td>\n",
              "    </tr>\n",
              "    <tr>\n",
              "      <th>2</th>\n",
              "      <td>Female</td>\n",
              "      <td>65.0</td>\n",
              "      <td>0</td>\n",
              "      <td>0</td>\n",
              "      <td>Yes</td>\n",
              "      <td>Rural</td>\n",
              "      <td>185.28</td>\n",
              "      <td>32.0</td>\n",
              "      <td>Private</td>\n",
              "      <td>smokes</td>\n",
              "      <td>0</td>\n",
              "    </tr>\n",
              "    <tr>\n",
              "      <th>3</th>\n",
              "      <td>Female</td>\n",
              "      <td>44.0</td>\n",
              "      <td>0</td>\n",
              "      <td>0</td>\n",
              "      <td>Yes</td>\n",
              "      <td>Urban</td>\n",
              "      <td>57.33</td>\n",
              "      <td>24.6</td>\n",
              "      <td>Govt_job</td>\n",
              "      <td>smokes</td>\n",
              "      <td>0</td>\n",
              "    </tr>\n",
              "    <tr>\n",
              "      <th>4</th>\n",
              "      <td>Male</td>\n",
              "      <td>59.0</td>\n",
              "      <td>0</td>\n",
              "      <td>0</td>\n",
              "      <td>Yes</td>\n",
              "      <td>Urban</td>\n",
              "      <td>70.04</td>\n",
              "      <td>31.4</td>\n",
              "      <td>Govt_job</td>\n",
              "      <td>never smoked</td>\n",
              "      <td>0</td>\n",
              "    </tr>\n",
              "  </tbody>\n",
              "</table>\n",
              "</div>"
            ],
            "text/plain": [
              "   gender   age hypertension heart-disease ever-married Residence-type  \\\n",
              "0    Male  61.0            0             0          Yes          Urban   \n",
              "1    Male  45.0            1             0          Yes          Urban   \n",
              "2  Female  65.0            0             0          Yes          Rural   \n",
              "3  Female  44.0            0             0          Yes          Urban   \n",
              "4    Male  59.0            0             0          Yes          Urban   \n",
              "\n",
              "   avg-glucose-level   bmi      work-type smoking-status  stroke  \n",
              "0              61.32  23.7        Private         smokes       0  \n",
              "1              90.43  39.7  Self-employed         smokes       0  \n",
              "2             185.28  32.0        Private         smokes       0  \n",
              "3              57.33  24.6       Govt_job         smokes       0  \n",
              "4              70.04  31.4       Govt_job   never smoked       0  "
            ]
          },
          "execution_count": 49,
          "metadata": {},
          "output_type": "execute_result"
        }
      ],
      "source": [
        "df_balanced.head()"
      ]
    },
    {
      "cell_type": "markdown",
      "metadata": {},
      "source": [
        "By plotting the correlation between the features, we can see that there is no strong correlation between the features. This is good because it means that the features are independent of each other."
      ]
    },
    {
      "cell_type": "markdown",
      "metadata": {},
      "source": [
        "## Feature Ranking"
      ]
    },
    {
      "cell_type": "code",
      "execution_count": null,
      "metadata": {},
      "outputs": [
        {
          "data": {
            "text/html": [
              "<div>\n",
              "<style scoped>\n",
              "    .dataframe tbody tr th:only-of-type {\n",
              "        vertical-align: middle;\n",
              "    }\n",
              "\n",
              "    .dataframe tbody tr th {\n",
              "        vertical-align: top;\n",
              "    }\n",
              "\n",
              "    .dataframe thead th {\n",
              "        text-align: right;\n",
              "    }\n",
              "</style>\n",
              "<table border=\"1\" class=\"dataframe\">\n",
              "  <thead>\n",
              "    <tr style=\"text-align: right;\">\n",
              "      <th></th>\n",
              "      <th>gender</th>\n",
              "      <th>age</th>\n",
              "      <th>hypertension</th>\n",
              "      <th>heart-disease</th>\n",
              "      <th>ever-married</th>\n",
              "      <th>Residence-type</th>\n",
              "      <th>avg-glucose-level</th>\n",
              "      <th>bmi</th>\n",
              "      <th>work-type</th>\n",
              "      <th>smoking-status</th>\n",
              "    </tr>\n",
              "  </thead>\n",
              "  <tbody>\n",
              "    <tr>\n",
              "      <th>0</th>\n",
              "      <td>Male</td>\n",
              "      <td>61.0</td>\n",
              "      <td>0</td>\n",
              "      <td>0</td>\n",
              "      <td>Yes</td>\n",
              "      <td>Urban</td>\n",
              "      <td>61.32</td>\n",
              "      <td>23.7</td>\n",
              "      <td>Private</td>\n",
              "      <td>smokes</td>\n",
              "    </tr>\n",
              "    <tr>\n",
              "      <th>1</th>\n",
              "      <td>Male</td>\n",
              "      <td>45.0</td>\n",
              "      <td>1</td>\n",
              "      <td>0</td>\n",
              "      <td>Yes</td>\n",
              "      <td>Urban</td>\n",
              "      <td>90.43</td>\n",
              "      <td>39.7</td>\n",
              "      <td>Self-employed</td>\n",
              "      <td>smokes</td>\n",
              "    </tr>\n",
              "    <tr>\n",
              "      <th>2</th>\n",
              "      <td>Female</td>\n",
              "      <td>65.0</td>\n",
              "      <td>0</td>\n",
              "      <td>0</td>\n",
              "      <td>Yes</td>\n",
              "      <td>Rural</td>\n",
              "      <td>185.28</td>\n",
              "      <td>32.0</td>\n",
              "      <td>Private</td>\n",
              "      <td>smokes</td>\n",
              "    </tr>\n",
              "    <tr>\n",
              "      <th>3</th>\n",
              "      <td>Female</td>\n",
              "      <td>44.0</td>\n",
              "      <td>0</td>\n",
              "      <td>0</td>\n",
              "      <td>Yes</td>\n",
              "      <td>Urban</td>\n",
              "      <td>57.33</td>\n",
              "      <td>24.6</td>\n",
              "      <td>Govt_job</td>\n",
              "      <td>smokes</td>\n",
              "    </tr>\n",
              "    <tr>\n",
              "      <th>4</th>\n",
              "      <td>Male</td>\n",
              "      <td>59.0</td>\n",
              "      <td>0</td>\n",
              "      <td>0</td>\n",
              "      <td>Yes</td>\n",
              "      <td>Urban</td>\n",
              "      <td>70.04</td>\n",
              "      <td>31.4</td>\n",
              "      <td>Govt_job</td>\n",
              "      <td>never smoked</td>\n",
              "    </tr>\n",
              "  </tbody>\n",
              "</table>\n",
              "</div>"
            ],
            "text/plain": [
              "   gender   age  hypertension  heart-disease ever-married Residence-type  \\\n",
              "0    Male  61.0             0              0          Yes          Urban   \n",
              "1    Male  45.0             1              0          Yes          Urban   \n",
              "2  Female  65.0             0              0          Yes          Rural   \n",
              "3  Female  44.0             0              0          Yes          Urban   \n",
              "4    Male  59.0             0              0          Yes          Urban   \n",
              "\n",
              "   avg-glucose-level   bmi      work-type smoking-status  \n",
              "0              61.32  23.7        Private         smokes  \n",
              "1              90.43  39.7  Self-employed         smokes  \n",
              "2             185.28  32.0        Private         smokes  \n",
              "3              57.33  24.6       Govt_job         smokes  \n",
              "4              70.04  31.4       Govt_job   never smoked  "
            ]
          },
          "execution_count": 50,
          "metadata": {},
          "output_type": "execute_result"
        }
      ],
      "source": [
        "X_train.head()"
      ]
    },
    {
      "cell_type": "code",
      "execution_count": null,
      "metadata": {},
      "outputs": [
        {
          "data": {
            "text/plain": [
              "<AxesSubplot:xlabel='stroke', ylabel='count'>"
            ]
          },
          "execution_count": 51,
          "metadata": {},
          "output_type": "execute_result"
        },
        {
          "data": {
            "image/png": "[encoded data removed]",
            "text/plain": [
              "<Figure size 640x480 with 1 Axes>"
            ]
          },
          "metadata": {},
          "output_type": "display_data"
        }
      ],
      "source": [
        "df_train = X_train.copy()\n",
        "df_train['stroke'] = y_train\n",
        "\n",
        "sns.countplot(x='stroke', data=df_train)"
      ]
    },
    {
      "cell_type": "markdown",
      "metadata": {},
      "source": [
        "### Apply the random forest classifier to select the most important features"
      ]
    },
    {
      "cell_type": "markdown",
      "metadata": {},
      "source": [
        "We start with the preprocessing part"
      ]
    },
    {
      "cell_type": "code",
      "execution_count": null,
      "metadata": {},
      "outputs": [],
      "source": [
        "X_tmp = X_train.copy()\n",
        "y_tmp = y_train.copy()\n",
        "\n",
        "# Apply one hot encoding to cathegorical features\n",
        "dummies = pd.get_dummies(X_tmp[cathegorical_features]) \n",
        "X_tmp = X_tmp.drop(cathegorical_features, axis=1)\n",
        "X_tmp = pd.concat([X_tmp, dummies], axis=1)\n",
        "\n",
        "tmp_features = X_tmp.columns\n",
        "\n",
        "# Apply ordinal encoding to binary features\n",
        "oe = OrdinalEncoder()\n",
        "X_tmp[binary_features] = oe.fit_transform(X_tmp[binary_features])\n",
        "\n",
        "# Normalize the data\n",
        "scaler = RobustScaler()\n",
        "X_tmp = scaler.fit_transform(X_tmp)"
      ]
    },
    {
      "cell_type": "markdown",
      "metadata": {},
      "source": [
        "We procede training the random forest classifier"
      ]
    },
    {
      "cell_type": "code",
      "execution_count": null,
      "metadata": {},
      "outputs": [
        {
          "name": "stdout",
          "output_type": "stream",
          "text": [
            "{'ever-married': 0.02124135856496327, 'heart-disease': 0.02178026209897993, 'gender': 0.02932543149986694, 'hypertension': 0.03337663786490782, 'Residence-type': 0.03432051499046417, 'work-type': 0.04377322825017469, 'smoking-status': 0.05304907171263509, 'bmi': 0.1709190609711344, 'avg-glucose-level': 0.2250913737376433, 'age': 0.3671230603092304}\n"
          ]
        },
        {
          "data": {
            "text/plain": [
              "<BarContainer object of 10 artists>"
            ]
          },
          "execution_count": 53,
          "metadata": {},
          "output_type": "execute_result"
        },
        {
          "data": {
            "image/png": "[encoded data removed]",
            "text/plain": [
              "<Figure size 640x480 with 1 Axes>"
            ]
          },
          "metadata": {},
          "output_type": "display_data"
        }
      ],
      "source": [
        "from sklearn.ensemble import RandomForestClassifier\n",
        "\n",
        "dataset_features = df.columns[:-1]\n",
        "\n",
        "rf_classifier = RandomForestClassifier(random_state=42)\n",
        "\n",
        "importances = dict()\n",
        "for f in dataset_features:\n",
        "    importances[f] = 0\n",
        "\n",
        "rf_classifier.fit(X_tmp, y_train)\n",
        "\n",
        "feature_importance = list(zip(tmp_features, rf_classifier.feature_importances_))\n",
        "\n",
        "for f in dataset_features:\n",
        "    for f2, imp in feature_importance:\n",
        "        if f in f2:\n",
        "            importances[f] += imp\n",
        "    \n",
        "\n",
        "importances = dict(sorted(importances.items(), key=lambda item: item[1]))\n",
        "print(importances)    \n",
        "plt.barh([k for k, _ in importances.items()],[v for _, v in importances.items()])"
      ]
    },
    {
      "cell_type": "markdown",
      "metadata": {},
      "source": [
        "We continue with the feature ranking"
      ]
    },
    {
      "cell_type": "code",
      "execution_count": null,
      "metadata": {},
      "outputs": [
        {
          "name": "stdout",
          "output_type": "stream",
          "text": [
            "{'Residence-type': 0.0, 'gender': 0.0029672879229367677, 'smoking-status': 0.006371363407240871, 'heart-disease': 0.008976049569578759, 'ever-married': 0.018646239184167968, 'hypertension': 0.032995416175009895, 'work-type': 0.034268653817880024, 'avg-glucose-level': 0.06839910216592693, 'bmi': 0.3787492030546349, 'age': 0.5154010876833546}\n"
          ]
        },
        {
          "data": {
            "image/png": "[encoded data removed]",
            "text/plain": [
              "<Figure size 640x480 with 1 Axes>"
            ]
          },
          "metadata": {},
          "output_type": "display_data"
        }
      ],
      "source": [
        "from sklearn.feature_selection import mutual_info_classif\n",
        "\n",
        "mi = mutual_info_classif(X_tmp, y_tmp, random_state=42)\n",
        "\n",
        "feature_importance = list(zip(tmp_features, mi))\n",
        "importances = dict()\n",
        "for f in dataset_features:\n",
        "    importances[f] = 0\n",
        "\n",
        "for f in dataset_features:\n",
        "    for f2, imp in feature_importance:\n",
        "        if f in f2:\n",
        "            importances[f] += imp\n",
        "\n",
        "\n",
        "importances = dict(sorted(importances.items(), key=lambda item: item[1]))            \n",
        "plt.barh([k for k, _ in importances.items()],[v for _, v in importances.items()])\n",
        "print(importances)"
      ]
    },
    {
      "cell_type": "markdown",
      "metadata": {},
      "source": [
        "Both models predict Age to be the the most influent feature in the prediction of stroke. This is consistent with the paper. Also hypertension is among the least important features in both models. This is also consistent with the paper."
      ]
    },
    {
      "cell_type": "markdown",
      "metadata": {},
      "source": [
        "## Model training\n",
        "\n",
        "In this section we will train each model, as specified by the paper and we will compute the specified metrics."
      ]
    },
    {
      "cell_type": "code",
      "execution_count": null,
      "metadata": {},
      "outputs": [],
      "source": [
        "from sklearn.metrics import accuracy_score, precision_score, recall_score, f1_score, roc_auc_score\n",
        "\n",
        "# metrics list\n",
        "cross_val_scores_mean = dict()\n",
        "accuracy = dict()\n",
        "precision = dict()\n",
        "recall = dict()\n",
        "\n",
        "F_metric = dict()\n",
        "auc_score = dict()"
      ]
    },
    {
      "cell_type": "markdown",
      "metadata": {},
      "source": [
        "### Naive Bayes\n",
        "Firstly, the naive Bayes (NB) classifier was considered, which ensures probability\n",
        "maximization if the features are highly independent. In the Exploratory part, we have seen that the features do not have a strong correlation between them. This is a good sign for the NB classifier.\n",
        "\n",
        "We are going to use a Gaussian Naive Bayes classifier, which is suitable for continuous data."
      ]
    },
    {
      "cell_type": "code",
      "execution_count": null,
      "metadata": {},
      "outputs": [
        {
          "name": "stdout",
          "output_type": "stream",
          "text": [
            "(4914, 10)\n"
          ]
        },
        {
          "data": {
            "text/html": [
              "<div>\n",
              "<style scoped>\n",
              "    .dataframe tbody tr th:only-of-type {\n",
              "        vertical-align: middle;\n",
              "    }\n",
              "\n",
              "    .dataframe tbody tr th {\n",
              "        vertical-align: top;\n",
              "    }\n",
              "\n",
              "    .dataframe thead th {\n",
              "        text-align: right;\n",
              "    }\n",
              "</style>\n",
              "<table border=\"1\" class=\"dataframe\">\n",
              "  <thead>\n",
              "    <tr style=\"text-align: right;\">\n",
              "      <th></th>\n",
              "      <th>gender</th>\n",
              "      <th>age</th>\n",
              "      <th>hypertension</th>\n",
              "      <th>heart-disease</th>\n",
              "      <th>ever-married</th>\n",
              "      <th>Residence-type</th>\n",
              "      <th>avg-glucose-level</th>\n",
              "      <th>bmi</th>\n",
              "      <th>work-type</th>\n",
              "      <th>smoking-status</th>\n",
              "    </tr>\n",
              "  </thead>\n",
              "  <tbody>\n",
              "    <tr>\n",
              "      <th>0</th>\n",
              "      <td>Male</td>\n",
              "      <td>61.0</td>\n",
              "      <td>0</td>\n",
              "      <td>0</td>\n",
              "      <td>Yes</td>\n",
              "      <td>Urban</td>\n",
              "      <td>61.32</td>\n",
              "      <td>23.7</td>\n",
              "      <td>Private</td>\n",
              "      <td>smokes</td>\n",
              "    </tr>\n",
              "    <tr>\n",
              "      <th>1</th>\n",
              "      <td>Male</td>\n",
              "      <td>45.0</td>\n",
              "      <td>1</td>\n",
              "      <td>0</td>\n",
              "      <td>Yes</td>\n",
              "      <td>Urban</td>\n",
              "      <td>90.43</td>\n",
              "      <td>39.7</td>\n",
              "      <td>Self-employed</td>\n",
              "      <td>smokes</td>\n",
              "    </tr>\n",
              "    <tr>\n",
              "      <th>2</th>\n",
              "      <td>Female</td>\n",
              "      <td>65.0</td>\n",
              "      <td>0</td>\n",
              "      <td>0</td>\n",
              "      <td>Yes</td>\n",
              "      <td>Rural</td>\n",
              "      <td>185.28</td>\n",
              "      <td>32.0</td>\n",
              "      <td>Private</td>\n",
              "      <td>smokes</td>\n",
              "    </tr>\n",
              "    <tr>\n",
              "      <th>3</th>\n",
              "      <td>Female</td>\n",
              "      <td>44.0</td>\n",
              "      <td>0</td>\n",
              "      <td>0</td>\n",
              "      <td>Yes</td>\n",
              "      <td>Urban</td>\n",
              "      <td>57.33</td>\n",
              "      <td>24.6</td>\n",
              "      <td>Govt_job</td>\n",
              "      <td>smokes</td>\n",
              "    </tr>\n",
              "    <tr>\n",
              "      <th>4</th>\n",
              "      <td>Male</td>\n",
              "      <td>59.0</td>\n",
              "      <td>0</td>\n",
              "      <td>0</td>\n",
              "      <td>Yes</td>\n",
              "      <td>Urban</td>\n",
              "      <td>70.04</td>\n",
              "      <td>31.4</td>\n",
              "      <td>Govt_job</td>\n",
              "      <td>never smoked</td>\n",
              "    </tr>\n",
              "  </tbody>\n",
              "</table>\n",
              "</div>"
            ],
            "text/plain": [
              "   gender   age  hypertension  heart-disease ever-married Residence-type  \\\n",
              "0    Male  61.0             0              0          Yes          Urban   \n",
              "1    Male  45.0             1              0          Yes          Urban   \n",
              "2  Female  65.0             0              0          Yes          Rural   \n",
              "3  Female  44.0             0              0          Yes          Urban   \n",
              "4    Male  59.0             0              0          Yes          Urban   \n",
              "\n",
              "   avg-glucose-level   bmi      work-type smoking-status  \n",
              "0              61.32  23.7        Private         smokes  \n",
              "1              90.43  39.7  Self-employed         smokes  \n",
              "2             185.28  32.0        Private         smokes  \n",
              "3              57.33  24.6       Govt_job         smokes  \n",
              "4              70.04  31.4       Govt_job   never smoked  "
            ]
          },
          "execution_count": 56,
          "metadata": {},
          "output_type": "execute_result"
        }
      ],
      "source": [
        "print(X_train.shape)\n",
        "X_train.head()"
      ]
    },
    {
      "cell_type": "code",
      "execution_count": null,
      "metadata": {},
      "outputs": [
        {
          "name": "stdout",
          "output_type": "stream",
          "text": [
            "(651, 10)\n"
          ]
        },
        {
          "data": {
            "text/html": [
              "<div>\n",
              "<style scoped>\n",
              "    .dataframe tbody tr th:only-of-type {\n",
              "        vertical-align: middle;\n",
              "    }\n",
              "\n",
              "    .dataframe tbody tr th {\n",
              "        vertical-align: top;\n",
              "    }\n",
              "\n",
              "    .dataframe thead th {\n",
              "        text-align: right;\n",
              "    }\n",
              "</style>\n",
              "<table border=\"1\" class=\"dataframe\">\n",
              "  <thead>\n",
              "    <tr style=\"text-align: right;\">\n",
              "      <th></th>\n",
              "      <th>gender</th>\n",
              "      <th>age</th>\n",
              "      <th>hypertension</th>\n",
              "      <th>heart-disease</th>\n",
              "      <th>ever-married</th>\n",
              "      <th>work-type</th>\n",
              "      <th>Residence-type</th>\n",
              "      <th>avg-glucose-level</th>\n",
              "      <th>bmi</th>\n",
              "      <th>smoking-status</th>\n",
              "    </tr>\n",
              "  </thead>\n",
              "  <tbody>\n",
              "    <tr>\n",
              "      <th>4681</th>\n",
              "      <td>Female</td>\n",
              "      <td>65.0</td>\n",
              "      <td>0</td>\n",
              "      <td>0</td>\n",
              "      <td>Yes</td>\n",
              "      <td>Self-employed</td>\n",
              "      <td>Rural</td>\n",
              "      <td>80.42</td>\n",
              "      <td>29.4</td>\n",
              "      <td>formerly smoked</td>\n",
              "    </tr>\n",
              "    <tr>\n",
              "      <th>467</th>\n",
              "      <td>Female</td>\n",
              "      <td>43.0</td>\n",
              "      <td>1</td>\n",
              "      <td>0</td>\n",
              "      <td>No</td>\n",
              "      <td>Self-employed</td>\n",
              "      <td>Rural</td>\n",
              "      <td>217.30</td>\n",
              "      <td>27.5</td>\n",
              "      <td>never smoked</td>\n",
              "    </tr>\n",
              "    <tr>\n",
              "      <th>4357</th>\n",
              "      <td>Male</td>\n",
              "      <td>61.0</td>\n",
              "      <td>0</td>\n",
              "      <td>0</td>\n",
              "      <td>Yes</td>\n",
              "      <td>Govt_job</td>\n",
              "      <td>Urban</td>\n",
              "      <td>107.33</td>\n",
              "      <td>26.4</td>\n",
              "      <td>formerly smoked</td>\n",
              "    </tr>\n",
              "    <tr>\n",
              "      <th>2428</th>\n",
              "      <td>Male</td>\n",
              "      <td>62.0</td>\n",
              "      <td>0</td>\n",
              "      <td>0</td>\n",
              "      <td>No</td>\n",
              "      <td>Govt_job</td>\n",
              "      <td>Urban</td>\n",
              "      <td>93.55</td>\n",
              "      <td>31.7</td>\n",
              "      <td>never smoked</td>\n",
              "    </tr>\n",
              "    <tr>\n",
              "      <th>4446</th>\n",
              "      <td>Female</td>\n",
              "      <td>42.0</td>\n",
              "      <td>0</td>\n",
              "      <td>0</td>\n",
              "      <td>Yes</td>\n",
              "      <td>Private</td>\n",
              "      <td>Urban</td>\n",
              "      <td>191.94</td>\n",
              "      <td>27.9</td>\n",
              "      <td>never smoked</td>\n",
              "    </tr>\n",
              "  </tbody>\n",
              "</table>\n",
              "</div>"
            ],
            "text/plain": [
              "      gender   age  hypertension  heart-disease ever-married      work-type  \\\n",
              "4681  Female  65.0             0              0          Yes  Self-employed   \n",
              "467   Female  43.0             1              0           No  Self-employed   \n",
              "4357    Male  61.0             0              0          Yes       Govt_job   \n",
              "2428    Male  62.0             0              0           No       Govt_job   \n",
              "4446  Female  42.0             0              0          Yes        Private   \n",
              "\n",
              "     Residence-type  avg-glucose-level   bmi   smoking-status  \n",
              "4681          Rural              80.42  29.4  formerly smoked  \n",
              "467           Rural             217.30  27.5     never smoked  \n",
              "4357          Urban             107.33  26.4  formerly smoked  \n",
              "2428          Urban              93.55  31.7     never smoked  \n",
              "4446          Urban             191.94  27.9     never smoked  "
            ]
          },
          "execution_count": 57,
          "metadata": {},
          "output_type": "execute_result"
        }
      ],
      "source": [
        "print(X_test.shape)\n",
        "X_test.head()"
      ]
    },
    {
      "cell_type": "code",
      "execution_count": null,
      "metadata": {},
      "outputs": [
        {
          "name": "stdout",
          "output_type": "stream",
          "text": [
            "Model  Naive Bayes\n",
            "10-fold cross validation score:  0.5388654314241716\n",
            "Accuracy:  0.1443932411674347\n",
            "Precision:  0.05752961082910321\n",
            "Recall:  1.0\n",
            "F1 score:  0.1088\n",
            "AUC:  0.5486223662884927\n",
            "-------------------------\n",
            "Model  Logistic Regression\n",
            "10-fold cross validation score:  0.7511226466643486\n",
            "Accuracy:  0.738863287250384\n",
            "Precision:  0.14583333333333334\n",
            "Recall:  0.8235294117647058\n",
            "F1 score:  0.24778761061946902\n",
            "AUC:  0.7788635713604728\n",
            "-------------------------\n",
            "Model  SGD\n",
            "10-fold cross validation score:  0.7523392611726525\n",
            "Accuracy:  0.7142857142857143\n",
            "Precision:  0.1346153846153846\n",
            "Recall:  0.8235294117647058\n",
            "F1 score:  0.23140495867768596\n",
            "AUC:  0.7658976070168748\n",
            "-------------------------\n",
            "Model  KNN\n",
            "10-fold cross validation score:  0.9112765552299107\n",
            "Accuracy:  0.8202764976958525\n",
            "Precision:  0.0891089108910891\n",
            "Recall:  0.2647058823529412\n",
            "F1 score:  0.13333333333333333\n",
            "AUC:  0.5577986462007818\n",
            "-------------------------\n",
            "Model  Decision Tree\n",
            "10-fold cross validation score:  0.8758701339559221\n",
            "Accuracy:  0.8617511520737328\n",
            "Precision:  0.13157894736842105\n",
            "Recall:  0.29411764705882354\n",
            "F1 score:  0.18181818181818182\n",
            "AUC:  0.5935742206120699\n",
            "-------------------------\n",
            "Model  Random Forest\n",
            "10-fold cross validation score:  0.9497367244548209\n",
            "Accuracy:  0.9032258064516129\n",
            "Precision:  0.1282051282051282\n",
            "Recall:  0.14705882352941177\n",
            "F1 score:  0.136986301369863\n",
            "AUC:  0.54597673753456\n",
            "-------------------------\n",
            "Model  MLP\n",
            "10-fold cross validation score:  0.7967049161326644\n",
            "Accuracy:  0.6344086021505376\n",
            "Precision:  0.1076923076923077\n",
            "Recall:  0.8235294117647058\n",
            "F1 score:  0.19047619047619047\n",
            "AUC:  0.7237582229001811\n",
            "-------------------------\n"
          ]
        }
      ],
      "source": [
        "from sklearn.metrics import accuracy_score, precision_score, recall_score, f1_score, roc_auc_score\n",
        "from sklearn.model_selection import cross_val_score\n",
        "from sklearn.linear_model import LogisticRegression, SGDClassifier\n",
        "from sklearn.naive_bayes import GaussianNB\n",
        "from sklearn.neighbors import KNeighborsClassifier\n",
        "from sklearn.neural_network import MLPClassifier\n",
        "from sklearn.pipeline import Pipeline\n",
        "from sklearn.preprocessing import StandardScaler, OneHotEncoder, OrdinalEncoder\n",
        "from sklearn.compose import ColumnTransformer\n",
        "from sklearn.tree import DecisionTreeClassifier\n",
        "\n",
        "processor = ColumnTransformer(\n",
        "    transformers=[\n",
        "        ('num', 'passthrough', numerical_features),\n",
        "        ('bool', OrdinalEncoder(), binary_features),\n",
        "        ('cat', OneHotEncoder(), cathegorical_features)])\n",
        "\n",
        "scaler = ColumnTransformer(\n",
        "    transformers=[\n",
        "        ('all', StandardScaler(), slice(0, -1))\n",
        "    ])\n",
        "\n",
        "# Model definitions\n",
        "models = {\n",
        "    'Naive Bayes': GaussianNB(),\n",
        "    'Logistic Regression': LogisticRegression(),\n",
        "    'SGD': SGDClassifier(),\n",
        "    'KNN': KNeighborsClassifier(n_neighbors=3),\n",
        "    'Decision Tree': DecisionTreeClassifier(),\n",
        "    'Random Forest': RandomForestClassifier(),\n",
        "    'MLP': MLPClassifier(hidden_layer_sizes=(10,), max_iter=500, learning_rate='constant', learning_rate_init=0.3, momentum=0.2)\n",
        "}\n",
        "\n",
        "for k, m in models.items():\n",
        "    pipeline = Pipeline([\n",
        "        ('processor', processor),\n",
        "        ('scaler', scaler),\n",
        "        ('model', m)\n",
        "    ])\n",
        "\n",
        "    pipeline.fit(X_train, y_train)\n",
        "    y_pred = pipeline.predict(X_test)\n",
        "\n",
        "\n",
        "    cross_val_scores_mean[k] = cross_val_score(pipeline, X_train, y_train, cv=10).mean()\n",
        "    accuracy[k] = accuracy_score(y_test, y_pred)\n",
        "    precision[k] = precision_score(y_test, y_pred)\n",
        "    recall[k] = recall_score(y_test, y_pred)\n",
        "    F_metric[k] = f1_score(y_test, y_pred)\n",
        "    auc_score[k] = roc_auc_score(y_test, y_pred)\n",
        "\n",
        "    print(\"Model \", k)\n",
        "    print(\"10-fold cross validation score: \", cross_val_scores_mean[k])\n",
        "    print(\"Accuracy: \", accuracy[k])\n",
        "    print(\"Precision: \", precision[k])\n",
        "    print(\"Recall: \", recall[k])\n",
        "    print(\"F1 score: \", F_metric[k])\n",
        "    print(\"AUC: \", auc_score[k])\n",
        "    print(\"-------------------------\")"
      ]
    },
    {
      "cell_type": "code",
      "execution_count": null,
      "metadata": {},
      "outputs": [
        {
          "data": {
            "text/plain": [
              "Text(0.5, 1.0, 'AUC')"
            ]
          },
          "execution_count": 59,
          "metadata": {},
          "output_type": "execute_result"
        },
        {
          "data": {
            "image/png": "[encoded data removed]",
            "text/plain": [
              "<Figure size 640x480 with 1 Axes>"
            ]
          },
          "metadata": {},
          "output_type": "display_data"
        },
        {
          "data": {
            "image/png": "[encoded data removed]",
            "text/plain": [
              "<Figure size 640x480 with 1 Axes>"
            ]
          },
          "metadata": {},
          "output_type": "display_data"
        },
        {
          "data": {
            "image/png": "[encoded data removed]",
            "text/plain": [
              "<Figure size 640x480 with 1 Axes>"
            ]
          },
          "metadata": {},
          "output_type": "display_data"
        },
        {
          "data": {
            "image/png": "[encoded data removed]",
            "text/plain": [
              "<Figure size 640x480 with 1 Axes>"
            ]
          },
          "metadata": {},
          "output_type": "display_data"
        },
        {
          "data": {
            "image/png": "[encoded data removed]",
            "text/plain": [
              "<Figure size 640x480 with 1 Axes>"
            ]
          },
          "metadata": {},
          "output_type": "display_data"
        }
      ],
      "source": [
        "## Accuracy\n",
        "plt.figure()\n",
        "i=1\n",
        "for k, v in accuracy.items():\n",
        "    plt.bar(i, v, label = k)\n",
        "    i+=1\n",
        "\n",
        "plt.legend()\n",
        "plt.title(\"Accuracy\")\n",
        "\n",
        "## Recall\n",
        "plt.figure()\n",
        "i=1\n",
        "for k, v in recall.items():\n",
        "    plt.bar(i, v, label = k)\n",
        "    i+=1\n",
        "\n",
        "plt.legend()\n",
        "plt.title(\"Recall\")\n",
        "\n",
        "## Precision\n",
        "plt.figure()\n",
        "i=1\n",
        "for k, v in precision.items():\n",
        "    plt.bar(i, v, label = k)\n",
        "    i+=1\n",
        "\n",
        "plt.legend()\n",
        "plt.title(\"Precision\")\n",
        "\n",
        "## F score\n",
        "plt.figure()\n",
        "i=1\n",
        "for k, v in F_metric.items():\n",
        "    plt.bar(i, v, label = k)\n",
        "    i+=1\n",
        "\n",
        "plt.legend()\n",
        "plt.title(\"F score\")\n",
        "\n",
        "## AUC\n",
        "plt.figure()\n",
        "i=1\n",
        "for k, v in auc_score.items():\n",
        "    plt.bar(i, v, label = k)\n",
        "    i+=1\n",
        "\n",
        "plt.legend()\n",
        "plt.title(\"AUC\")"
      ]
    },
    {
      "cell_type": "markdown",
      "metadata": {},
      "source": [
        "The obtained results are very poor, we then procede to tune the hyperparameters of the models. Theoretically, this should improve our results."
      ]
    },
    {
      "cell_type": "code",
      "execution_count": null,
      "metadata": {},
      "outputs": [
        {
          "name": "stdout",
          "output_type": "stream",
          "text": [
            "Naive Bayes:\n",
            "Best Accuracy : 68.49%\n",
            "Best Parameters :  {'var_smoothing': 1e-09}\n",
            "              precision    recall  f1-score   support\n",
            "\n",
            "           0       1.00      0.10      0.18       617\n",
            "           1       0.06      1.00      0.11        34\n",
            "\n",
            "    accuracy                           0.14       651\n",
            "   macro avg       0.53      0.55      0.14       651\n",
            "weighted avg       0.95      0.14      0.17       651\n",
            "\n",
            "----------------\n",
            "\n",
            "Logistic Regression:\n",
            "Best Accuracy : 76.12%\n",
            "Best Parameters :  {'C': 1, 'random_state': 0, 'solver': 'liblinear'}\n",
            "              precision    recall  f1-score   support\n",
            "\n",
            "           0       0.99      0.73      0.84       617\n",
            "           1       0.15      0.82      0.25        34\n",
            "\n",
            "    accuracy                           0.74       651\n",
            "   macro avg       0.57      0.78      0.54       651\n",
            "weighted avg       0.94      0.74      0.81       651\n",
            "\n",
            "----------------\n",
            "\n",
            "SGD:\n",
            "Best Accuracy : 77.34%\n",
            "Best Parameters :  {'alpha': 0.01, 'loss': 'hinge', 'penalty': 'elasticnet'}\n",
            "              precision    recall  f1-score   support\n",
            "\n",
            "           0       0.99      0.71      0.83       617\n",
            "           1       0.14      0.82      0.23        34\n",
            "\n",
            "    accuracy                           0.72       651\n",
            "   macro avg       0.56      0.77      0.53       651\n",
            "weighted avg       0.94      0.72      0.80       651\n",
            "\n",
            "----------------\n",
            "\n",
            "KNN:\n",
            "Best Accuracy : 92.66%\n",
            "Best Parameters :  {'metric': 'chebyshev', 'n_neighbors': 3, 'weights': 'distance'}\n",
            "              precision    recall  f1-score   support\n",
            "\n",
            "           0       0.95      0.87      0.91       617\n",
            "           1       0.08      0.21      0.11        34\n",
            "\n",
            "    accuracy                           0.83       651\n",
            "   macro avg       0.52      0.54      0.51       651\n",
            "weighted avg       0.91      0.83      0.87       651\n",
            "\n",
            "----------------\n",
            "\n",
            "Decision Tree:\n",
            "Best Accuracy : 87.97%\n",
            "Best Parameters :  {'criterion': 'gini', 'random_state': 0}\n",
            "              precision    recall  f1-score   support\n",
            "\n",
            "           0       0.96      0.89      0.93       617\n",
            "           1       0.14      0.32      0.20        34\n",
            "\n",
            "    accuracy                           0.86       651\n",
            "   macro avg       0.55      0.61      0.56       651\n",
            "weighted avg       0.92      0.86      0.89       651\n",
            "\n",
            "----------------\n",
            "\n",
            "Random Forest:\n",
            "Best Accuracy : 94.95%\n",
            "Best Parameters :  {'criterion': 'gini', 'n_estimators': 150, 'random_state': 0}\n",
            "              precision    recall  f1-score   support\n",
            "\n",
            "           0       0.95      0.94      0.95       617\n",
            "           1       0.14      0.18      0.15        34\n",
            "\n",
            "    accuracy                           0.90       651\n",
            "   macro avg       0.55      0.56      0.55       651\n",
            "weighted avg       0.91      0.90      0.90       651\n",
            "\n",
            "----------------\n",
            "\n",
            "MLP:\n",
            "Best Accuracy : 86.58%\n",
            "Best Parameters :  {'activation': 'tanh', 'hidden_layer_sizes': (25,), 'learning_rate': 'constant', 'learning_rate_init': 0.3, 'max_iter': 500, 'momentum': 0.4}\n",
            "              precision    recall  f1-score   support\n",
            "\n",
            "           0       0.95      0.85      0.90       617\n",
            "           1       0.09      0.26      0.14        34\n",
            "\n",
            "    accuracy                           0.82       651\n",
            "   macro avg       0.52      0.56      0.52       651\n",
            "weighted avg       0.91      0.82      0.86       651\n",
            "\n",
            "----------------\n",
            "\n"
          ]
        }
      ],
      "source": [
        "from sklearn.model_selection import GridSearchCV\n",
        "from sklearn.metrics import classification_report\n",
        "\n",
        "grid_models = [\n",
        "               ('Naive Bayes', GaussianNB(),[{'var_smoothing': [1e-09]}]),\n",
        "               ('Logistic Regression', LogisticRegression(),[{'C':[0.25,0.5,0.75,1],'random_state':[0], 'solver': ['newton-cg', 'lbfgs', 'liblinear']}]),\n",
        "               ('SGD', SGDClassifier(), [{'loss': ['hinge', 'log_loss', 'modified_huber'],'penalty': ['l2', 'l1', 'elasticnet'],'alpha': [0.0001, 0.001, 0.01, 0.1]}]),\n",
        "               ('KNN', KNeighborsClassifier(),[{'n_neighbors':[3,5,7,8,10], 'metric': ['euclidean', 'manhattan', 'chebyshev', 'minkowski'], 'weights': ['uniform', 'distance']}]), \n",
        "               ('Decision Tree', DecisionTreeClassifier(),[{'criterion':['gini','entropy'],'random_state':[0]}]), \n",
        "               ('Random Forest', RandomForestClassifier(),[{'n_estimators':[100,150,200],'criterion':['gini','entropy'],'random_state':[0]}]),\n",
        "               ('MLP', MLPClassifier(),[{'hidden_layer_sizes':[(10,),(20,), (25,)],'max_iter':[500],'learning_rate':['constant'], 'learning_rate_init':[0.3,0.5,0.7], 'momentum':[0.2,0.4,0.6], 'activation': ['relu', 'tanh']}])\n",
        "               ]\n",
        "\n",
        "for k, m, param_grid in grid_models:\n",
        "    grid = GridSearchCV(estimator=m, param_grid = param_grid, scoring = 'f1', cv = 10)\n",
        "\n",
        "    pipeline = Pipeline([\n",
        "        ('processor', processor),\n",
        "        ('scaler', scaler),\n",
        "        ('model', grid)\n",
        "    ])\n",
        "\n",
        "    pipeline.fit(X_train, y_train)\n",
        "    y_pred = pipeline.predict(X_test)\n",
        "\n",
        "    best_accuracy = grid.best_score_\n",
        "    best_param = grid.best_params_\n",
        "\n",
        "    accuracy[k] = accuracy_score(y_test, y_pred)\n",
        "    precision[k] = precision_score(y_test, y_pred)\n",
        "    recall[k] = recall_score(y_test, y_pred)\n",
        "    F_metric[k] = f1_score(y_test, y_pred)\n",
        "    auc_score[k] = roc_auc_score(y_test, y_pred)\n",
        "\n",
        "    print('{}:\\nBest Accuracy : {:.2f}%'.format(k,best_accuracy*100))\n",
        "    print('Best Parameters : ',best_param)\n",
        "    print(classification_report(y_test, y_pred))\n",
        "    print('----------------')\n",
        "    print('')"
      ]
    },
    {
      "cell_type": "markdown",
      "metadata": {},
      "source": [
        "Now we consider the models using the newly found hyperparameters."
      ]
    },
    {
      "cell_type": "code",
      "execution_count": null,
      "metadata": {},
      "outputs": [],
      "source": [
        "processor = ColumnTransformer(\n",
        "    transformers=[\n",
        "        ('num', 'passthrough', numerical_features),\n",
        "        ('bool', OrdinalEncoder(), binary_features),\n",
        "        ('cat', OneHotEncoder(), cathegorical_features)])\n",
        "\n",
        "scaler = ColumnTransformer(\n",
        "    transformers=[\n",
        "        ('all', StandardScaler(), slice(0, -1))\n",
        "    ])\n",
        "\n",
        "# Model definitions\n",
        "models = {\n",
        "    'Naive Bayes': GaussianNB(var_smoothing=1e-09),\n",
        "    'Logistic Regression': LogisticRegression(C=0.75, random_state=0, solver='lbfgs'),\n",
        "    'SGD': SGDClassifier(alpha=0.01, loss='log_loss', penalty='l2'),\n",
        "    'KNN': KNeighborsClassifier(metric='chebyshev', n_neighbors=3, weights='distance'),\n",
        "    'Decision Tree': DecisionTreeClassifier(criterion='entropy', random_state=0),\n",
        "    'Random Forest': RandomForestClassifier(criterion='gini', n_estimators=200, random_state=0),\n",
        "    'MLP': MLPClassifier(activation ='tanh', hidden_layer_sizes=(25,), learning_rate='constant', learning_rate_init=0.3, max_iter=500, momentum=0.2)\n",
        "}"
      ]
    },
    {
      "cell_type": "code",
      "execution_count": null,
      "metadata": {},
      "outputs": [
        {
          "data": {
            "text/plain": [
              "Text(0.5, 1.0, 'AUC')"
            ]
          },
          "execution_count": 63,
          "metadata": {},
          "output_type": "execute_result"
        },
        {
          "data": {
            "image/png": "[encoded data removed]",
            "text/plain": [
              "<Figure size 640x480 with 1 Axes>"
            ]
          },
          "metadata": {},
          "output_type": "display_data"
        },
        {
          "data": {
            "image/png": "[encoded data removed]",
            "text/plain": [
              "<Figure size 640x480 with 1 Axes>"
            ]
          },
          "metadata": {},
          "output_type": "display_data"
        },
        {
          "data": {
            "image/png": "[encoded data removed]",
            "text/plain": [
              "<Figure size 640x480 with 1 Axes>"
            ]
          },
          "metadata": {},
          "output_type": "display_data"
        },
        {
          "data": {
            "image/png": "[encoded data removed]",
            "text/plain": [
              "<Figure size 640x480 with 1 Axes>"
            ]
          },
          "metadata": {},
          "output_type": "display_data"
        },
        {
          "data": {
            "image/png": "[encoded data removed]",
            "text/plain": [
              "<Figure size 640x480 with 1 Axes>"
            ]
          },
          "metadata": {},
          "output_type": "display_data"
        }
      ],
      "source": [
        "## Accuracy\n",
        "plt.figure()\n",
        "i=1\n",
        "for k, v in accuracy.items():\n",
        "    plt.bar(i, v, label = k)\n",
        "    i+=1\n",
        "\n",
        "plt.legend()\n",
        "plt.title(\"Accuracy\")\n",
        "\n",
        "## Recall\n",
        "plt.figure()\n",
        "i=1\n",
        "for k, v in recall.items():\n",
        "    plt.bar(i, v, label = k)\n",
        "    i+=1\n",
        "\n",
        "plt.legend()\n",
        "plt.title(\"Recall\")\n",
        "\n",
        "## Precision\n",
        "plt.figure()\n",
        "i=1\n",
        "for k, v in precision.items():\n",
        "    plt.bar(i, v, label = k)\n",
        "    i+=1\n",
        "\n",
        "plt.legend()\n",
        "plt.title(\"Precision\")\n",
        "\n",
        "## F score\n",
        "plt.figure()\n",
        "i=1\n",
        "for k, v in F_metric.items():\n",
        "    plt.bar(i, v, label = k)\n",
        "    i+=1\n",
        "\n",
        "plt.legend()\n",
        "plt.title(\"F score\")\n",
        "\n",
        "## AUC\n",
        "plt.figure()\n",
        "i=1\n",
        "for k, v in auc_score.items():\n",
        "    plt.bar(i, v, label = k)\n",
        "    i+=1\n",
        "\n",
        "plt.legend()\n",
        "plt.title(\"AUC\")"
      ]
    }
  ],
  "metadata": {
    "colab": {
      "provenance": []
    },
    "kernelspec": {
      "display_name": "Python 3",
      "name": "python3"
    },
    "language_info": {
      "codemirror_mode": {
        "name": "ipython",
        "version": 3
      },
      "file_extension": ".py",
      "mimetype": "text/x-python",
      "name": "python",
      "nbconvert_exporter": "python",
      "pygments_lexer": "ipython3",
      "version": "3.10.11"
    }
  },
  "nbformat": 4,
  "nbformat_minor": 0
}
